{
 "cells": [
  {
   "cell_type": "markdown",
   "id": "4f295960-9d2e-4112-ba12-49ef6b2054b5",
   "metadata": {},
   "source": [
    "# Problem #1"
   ]
  },
  {
   "cell_type": "code",
   "execution_count": 1,
   "id": "01c7a3e4-ffb1-46c6-b06a-8697822c3598",
   "metadata": {},
   "outputs": [],
   "source": [
    "import re\n",
    "import csv\n",
    "import math\n",
    "import numpy as np\n",
    "import nltk\n",
    "from nltk.corpus import gutenberg, stopwords"
   ]
  },
  {
   "cell_type": "code",
   "execution_count": 2,
   "id": "6ad02b72-7dec-43ac-9d85-ae9830c174da",
   "metadata": {},
   "outputs": [
    {
     "name": "stderr",
     "output_type": "stream",
     "text": [
      "[nltk_data] Downloading package stopwords to\n",
      "[nltk_data]     /home/alphard/nltk_data...\n",
      "[nltk_data]   Package stopwords is already up-to-date!\n",
      "[nltk_data] Downloading package gutenberg to\n",
      "[nltk_data]     /home/alphard/nltk_data...\n",
      "[nltk_data]   Package gutenberg is already up-to-date!\n",
      "[nltk_data] Downloading package punkt to /home/alphard/nltk_data...\n",
      "[nltk_data]   Package punkt is already up-to-date!\n"
     ]
    },
    {
     "data": {
      "text/plain": [
       "True"
      ]
     },
     "execution_count": 2,
     "metadata": {},
     "output_type": "execute_result"
    }
   ],
   "source": [
    "nltk.download('stopwords')\n",
    "nltk.download('gutenberg')\n",
    "nltk.download('punkt')"
   ]
  },
  {
   "cell_type": "markdown",
   "id": "207bdae1-4a94-498f-8c08-35f3a1ee8508",
   "metadata": {},
   "source": [
    "## Preprocessing"
   ]
  },
  {
   "cell_type": "code",
   "execution_count": 3,
   "id": "9cfca4d9-cc0e-46a5-b3db-6d3ed8c910e6",
   "metadata": {},
   "outputs": [
    {
     "name": "stdout",
     "output_type": "stream",
     "text": [
      "179 stop words\n",
      "['i', 'me', 'my', 'myself', 'we']\n"
     ]
    }
   ],
   "source": [
    "# get stop words\n",
    "Stop_words = stopwords.words('english') \n",
    "\n",
    "print(f'{len(Stop_words)} stop words')\n",
    "print(Stop_words[:5])"
   ]
  },
  {
   "cell_type": "code",
   "execution_count": 4,
   "id": "c468cf5f-f9be-4e15-8a13-29d0e78e3e3e",
   "metadata": {},
   "outputs": [
    {
     "name": "stdout",
     "output_type": "stream",
     "text": [
      "1703 sentences\n",
      "['Alice', 'was', 'beginning', 'to', 'get', 'very', 'tired', 'of', 'sitting', 'by', 'her', 'sister', 'on', 'the', 'bank', ',', 'and', 'of', 'having', 'nothing', 'to', 'do', ':', 'once', 'or', 'twice', 'she', 'had', 'peeped', 'into', 'the', 'book', 'her', 'sister', 'was', 'reading', ',', 'but', 'it', 'had', 'no', 'pictures', 'or', 'conversations', 'in', 'it', ',', \"'\", 'and', 'what', 'is', 'the', 'use', 'of', 'a', 'book', \",'\", 'thought', 'Alice', \"'\", 'without', 'pictures', 'or', 'conversation', \"?'\"]\n"
     ]
    }
   ],
   "source": [
    "# get 'Alice In Wonderland' text\n",
    "Sentences = gutenberg.sents('carroll-alice.txt')\n",
    "print(f'{len(Sentences)} sentences')\n",
    "print(Sentences[3])"
   ]
  },
  {
   "cell_type": "code",
   "execution_count": 5,
   "id": "26d39d57-f657-4413-b217-ea4761fd7f84",
   "metadata": {},
   "outputs": [],
   "source": [
    "# filter sentences\n",
    "TermsSentences = []\n",
    "for terms in Sentences: \n",
    "    terms = [w for w in terms if w not in Stop_words] \n",
    "    terms = [w for w in terms if re.search(r'^[a-zA-Z]{2}', w) is not None]\n",
    "    \n",
    "    # remove punctuation\n",
    "    terms = [w for w in terms if re.search(r'[.?!:\\\\-]', w) is None]\n",
    "    \n",
    "    # lower case words for consistency\n",
    "    terms = [w.lower() for w in terms]\n",
    "    \n",
    "    # some sentences are blank i.e. TermsSentences[70]; remove blanks\n",
    "    if len(terms) > 0:\n",
    "        TermsSentences.append(terms)"
   ]
  },
  {
   "cell_type": "code",
   "execution_count": 6,
   "id": "357a6b34-267d-4062-a1d9-1570d60744b4",
   "metadata": {},
   "outputs": [
    {
     "name": "stdout",
     "output_type": "stream",
     "text": [
      "1690 sentences\n",
      "['alice', 'beginning', 'get', 'tired', 'sitting', 'sister', 'bank', 'nothing', 'twice', 'peeped', 'book', 'sister', 'reading', 'pictures', 'conversations', 'use', 'book', 'thought', 'alice', 'without', 'pictures', 'conversation']\n"
     ]
    }
   ],
   "source": [
    "# sanity check\n",
    "print(f'{len(TermsSentences)} sentences')\n",
    "print(TermsSentences[3])"
   ]
  },
  {
   "cell_type": "code",
   "execution_count": 7,
   "id": "a6b22fbd-e78f-4fa1-9ba6-6937d11dc90d",
   "metadata": {},
   "outputs": [],
   "source": [
    "# remove word 'said'; this is explained in the results\n",
    "new = []\n",
    "for i in TermsSentences:\n",
    "    temp = []\n",
    "    for j in i:\n",
    "        if j != 'said':\n",
    "            temp.append(j)\n",
    "    new.append(temp)\n",
    "\n",
    "TermsSentences = new"
   ]
  },
  {
   "cell_type": "code",
   "execution_count": 8,
   "id": "36b011d0-9b00-4493-8610-2e4ed273f794",
   "metadata": {},
   "outputs": [
    {
     "name": "stdout",
     "output_type": "stream",
     "text": [
      "M=2511 items, N=1690 transactions\n"
     ]
    }
   ],
   "source": [
    "# denormalize the data\n",
    "transaction_list = []\n",
    "Item_names = {}\n",
    "Item_ids = {}\n",
    "\n",
    "item_id = 0\n",
    "\n",
    "for sentence in TermsSentences:\n",
    "    transaction = []\n",
    "    for term in sentence:\n",
    "        if term not in Item_ids:\n",
    "            Item_ids[term] = item_id\n",
    "            Item_names[item_id] = term\n",
    "            item_id += 1\n",
    "            \n",
    "        transaction += [Item_ids[term]]\n",
    "        \n",
    "    transaction_list += [transaction]\n",
    "\n",
    "M, N = len(Item_ids), len(transaction_list)\n",
    "Items = np.arange(0,M)\n",
    "\n",
    "# Information\n",
    "print(f'M={M} items, N={N} transactions')"
   ]
  },
  {
   "cell_type": "code",
   "execution_count": 9,
   "id": "0fcae5bc-446f-4e4a-8eba-fe4a6c1f41b2",
   "metadata": {},
   "outputs": [
    {
     "name": "stdout",
     "output_type": "stream",
     "text": [
      "[26, 27, 28, 29, 30, 31, 32, 33, 34, 35, 36, 37, 38, 39, 40, 41, 42, 43, 44, 45, 46, 47, 48, 49, 7, 50, 51, 52, 53]\n"
     ]
    }
   ],
   "source": [
    "# check a transaction\n",
    "print(transaction_list[4])"
   ]
  },
  {
   "cell_type": "code",
   "execution_count": 10,
   "id": "4df51d81-0d23-4ffa-af24-2ac950b2c895",
   "metadata": {},
   "outputs": [],
   "source": [
    "# convert transactions to numpy arrays\n",
    "Transactions = np.full((N,M), False, dtype=bool)\n",
    "\n",
    "for i, t in enumerate(transaction_list):\n",
    "    for term in t:\n",
    "        Transactions[i][term] = True"
   ]
  },
  {
   "cell_type": "code",
   "execution_count": 11,
   "id": "c45e84c2-486b-47c4-9a7c-1a30b5a748bd",
   "metadata": {},
   "outputs": [
    {
     "name": "stdout",
     "output_type": "stream",
     "text": [
      "[0 0 0 ... 0 0 0]\n"
     ]
    }
   ],
   "source": [
    "# sanity check\n",
    "print(f'{Transactions[4].astype(int)}')"
   ]
  },
  {
   "cell_type": "code",
   "execution_count": 12,
   "id": "c56c6932-c595-4cfa-8087-c31dfbe40f43",
   "metadata": {},
   "outputs": [],
   "source": [
    "# create Weka csv\n",
    "with open('AliceInWonderland.csv', 'w', newline='') as f:\n",
    "    writer = csv.writer(f, delimiter=',', quoting=csv.QUOTE_ALL, quotechar=\"'\", lineterminator='\\n')\n",
    "    writer.writerow([Item_names[i] for i in range(M)])\n",
    "    for i in range(N):\n",
    "        writer.writerow(list(map(lambda x: '' if x == False else 'True', Transactions[i])))"
   ]
  },
  {
   "cell_type": "code",
   "execution_count": 13,
   "id": "edca10a6-344a-4e3f-867b-8c038edafe13",
   "metadata": {},
   "outputs": [
    {
     "name": "stdout",
     "output_type": "stream",
     "text": [
      "Minimum Support Threshold: 0.000591715976331361\n"
     ]
    }
   ],
   "source": [
    "# calculate MINIMUM SUPPORT threshold\n",
    "minSupp = 1 / N\n",
    "print(f'Minimum Support Threshold: {minSupp}')"
   ]
  },
  {
   "cell_type": "markdown",
   "id": "d6c890a2-208b-4721-9648-f941dd66bdb4",
   "metadata": {},
   "source": [
    "Therefore, to capture any terms with a single support value, the minimum support threshold is set to 0.0005"
   ]
  },
  {
   "cell_type": "code",
   "execution_count": 14,
   "id": "fa4b8b89-3451-4c11-bcde-5052b9f685d8",
   "metadata": {},
   "outputs": [],
   "source": [
    "# RESULTS"
   ]
  },
  {
   "cell_type": "markdown",
   "id": "03a082a7-3ef3-4543-bb39-63d0396ad504",
   "metadata": {},
   "source": [
    "**minSupp = 0.001**\n",
    "\n",
    "**'said'** was not classified as a stop word and is still included in the sentences. The results below show that 'said' is highly associated with other words. Given that this text is from a novel, it makes sense that 'said' has high association. Therefore, I edited the code to remove 'said'.\n",
    "\n",
    "FPGrowth found 522170 rules (displaying top 10)\n",
    "\n",
    " 1. [interesting=True]: 5 ==> [said=True]: 5   <conf:(1)> lift:(3.74) lev:(0) conv:(3.66) \n",
    " 2. [case=True]: 5 ==> [said=True]: 5   <conf:(1)> lift:(3.74) lev:(0) conv:(3.66) \n",
    " 3. [sigh=True]: 4 ==> [said=True]: 4   <conf:(1)> lift:(3.74) lev:(0) conv:(2.93) \n",
    " 4. [indignantly=True]: 4 ==> [said=True]: 4   <conf:(1)> lift:(3.74) lev:(0) conv:(2.93) \n",
    " 5. [consider=True]: 4 ==> [said=True]: 4   <conf:(1)> lift:(3.74) lev:(0) conv:(2.93) \n",
    " 6. [sulky=True]: 3 ==> [said=True]: 3   <conf:(1)> lift:(3.74) lev:(0) conv:(2.2) \n",
    " 7. [pray=True]: 3 ==> [said=True]: 3   <conf:(1)> lift:(3.74) lev:(0) conv:(2.2) \n",
    " 8. [list=True]: 3 ==> [said=True]: 3   <conf:(1)> lift:(3.74) lev:(0) conv:(2.2) \n",
    " 9. [care=True]: 3 ==> [said=True]: 3   <conf:(1)> lift:(3.74) lev:(0) conv:(2.2) \n",
    "10. [allow=True]: 3 ==> [said=True]: 3   <conf:(1)> lift:(3.74) lev:(0) conv:(2.2) "
   ]
  },
  {
   "cell_type": "code",
   "execution_count": null,
   "id": "51ba6e77-c285-40e3-8fda-d4b16c8a0f6d",
   "metadata": {},
   "outputs": [],
   "source": []
  },
  {
   "cell_type": "markdown",
   "id": "546b440b-193c-412b-bae4-702ae47e3277",
   "metadata": {},
   "source": [
    "**minSupp = 0.001**\n",
    "\n",
    "**'said'** is removed in this dataset\n",
    "\n",
    "Furthermore, using the calculated minSupp value of 1/N = 0.0005 is too low and yields insignificant results such as 'alice', the name of the main character. However, we could use this result to see what words are associated with 'alice' to perhaps gain a better understanding of her charactrization.\n",
    "\n",
    "FPGrowth found 517569 rules (displaying top 10)\n",
    "\n",
    " 1. [curiosity=True]: 5 ==> [alice=True]: 5   <conf:(1)> lift:(4.34) lev:(0) conv:(3.85) \n",
    " 2. [ventured=True]: 4 ==> [alice=True]: 4   <conf:(1)> lift:(4.34) lev:(0) conv:(3.08) \n",
    " 3. [thank=True]: 4 ==> [alice=True]: 4   <conf:(1)> lift:(4.34) lev:(0) conv:(3.08) \n",
    " 4. [natural=True]: 4 ==> [alice=True]: 4   <conf:(1)> lift:(4.34) lev:(0) conv:(3.08) \n",
    " 5. [pleaded=True]: 3 ==> [alice=True]: 3   <conf:(1)> lift:(4.34) lev:(0) conv:(2.31) \n",
    " 6. [only=True]: 3 ==> [alice=True]: 3   <conf:(1)> lift:(4.34) lev:(0) conv:(2.31) \n",
    " 7. [knowledge=True]: 3 ==> [alice=True]: 3   <conf:(1)> lift:(4.34) lev:(0) conv:(2.31) \n",
    " 8. [hungry=True]: 3 ==> [alice=True]: 3   <conf:(1)> lift:(4.34) lev:(0) conv:(2.31) \n",
    " 9. [forgetting=True]: 3 ==> [alice=True]: 3   <conf:(1)> lift:(4.34) lev:(0) conv:(2.31) \n",
    "10. [expecting=True]: 3 ==> [alice=True]: 3   <conf:(1)> lift:(4.34) lev:(0) conv:(2.31) "
   ]
  },
  {
   "cell_type": "code",
   "execution_count": null,
   "id": "34dd8b0d-9be5-4bd9-a13e-cf55d336b19d",
   "metadata": {},
   "outputs": [],
   "source": []
  },
  {
   "cell_type": "code",
   "execution_count": 15,
   "id": "d711c856-ce52-4d85-ae56-fbe46e7f6a3a",
   "metadata": {},
   "outputs": [
    {
     "data": {
      "text/html": [
       "<img src=\"/home/alphard/Pictures/61084fd1af3b2.jpg\" width=\"400\" height=\"400\"/>"
      ],
      "text/plain": [
       "<IPython.core.display.Image object>"
      ]
     },
     "metadata": {},
     "output_type": "display_data"
    }
   ],
   "source": [
    "from IPython.display import display, Image\n",
    "i = Image(url= \"/home/alphard/Pictures/61084fd1af3b2.jpg\", width=400, height=400)\n",
    "display(i)"
   ]
  },
  {
   "cell_type": "markdown",
   "id": "134a7e74-a3c6-4dbf-8169-89404bb3d8b3",
   "metadata": {},
   "source": [
    "**minSupp = 0.0003**\n",
    "\n",
    "After testing many values of minSupp, it appears that with *minSupp = 1/M = 0.00039 --> 0.0003* was able to yield the desired rules. We observe 'white rabbit' and 'mock turtle' in **rules 2 & 17**.\n",
    "\n",
    "We see that the world little is associated with the items table, key, thing. This makes sense as the adjective little can be used to describe the size of these objects. I am not too familiar with *Alice In Wonderland*, but I suppose that a table / key changes in size? Alice also appears quite a few times in the top rules. As mentioned before, it is the main characters name, so perhaps it is best to treat 'alice' as a stop word.\n",
    "\n",
    "FPGrowth found 30 rules (displaying top 20)\n",
    "\n",
    " 1. [golden=True]: 7 ==> [little=True]: 7   <conf:(1)> lift:(14.57) lev:(0) conv:(6.52) \n",
    " 2. **[mock=True]: 56 ==> [turtle=True]: 56   <conf:(1)> lift:(29.14) lev:(0.03) conv:(54.08)** \n",
    " 3. [hare=True]: 30 ==> [march=True]: 30   <conf:(1)> lift:(54.52) lev:(0.02) conv:(29.45) \n",
    " 4. [gardeners=True]: 7 ==> [three=True]: 7   <conf:(1)> lift:(62.59) lev:(0) conv:(6.89) \n",
    " 5. [join=True]: 9 ==> [dance=True]: 9   <conf:(1)> lift:(130) lev:(0.01) conv:(8.93) \n",
    " 6. [pardon=True]: 6 ==> [beg=True]: 6   <conf:(1)> lift:(211.25) lev:(0) conv:(5.97) \n",
    " 7. [soo=True]: 7 ==> [oop=True]: 7   <conf:(1)> lift:(241.43) lev:(0) conv:(6.97) \n",
    " 8. [oop=True]: 7 ==> [soo=True]: 7   <conf:(1)> lift:(241.43) lev:(0) conv:(6.97) \n",
    " 9. [thought=True, get=True]: 6 ==> [alice=True]: 6   <conf:(1)> lift:(4.34) lev:(0) conv:(4.62) \n",
    "10. [thought=True, might=True]: 6 ==> [alice=True]: 6   <conf:(1)> lift:(4.34) lev:(0) conv:(4.62) \n",
    "11. [alice=True, turtle=True]: 6 ==> [mock=True]: 6   <conf:(1)> lift:(30.18) lev:(0) conv:(5.8) \n",
    "12. [alice=True, mock=True]: 6 ==> [turtle=True]: 6   <conf:(1)> lift:(29.14) lev:(0) conv:(5.79) \n",
    "13. [thing=True, poor=True]: 6 ==> [little=True]: 6   <conf:(1)> lift:(14.57) lev:(0) conv:(5.59) \n",
    "14. [table=True, glass=True]: 7 ==> [little=True]: 7   <conf:(1)> lift:(14.57) lev:(0) conv:(6.52) \n",
    "15. [key=True, golden=True]: 6 ==> [little=True]: 6   <conf:(1)> lift:(14.57) lev:(0) conv:(5.59) \n",
    "16. [the=True, mock=True]: 6 ==> [turtle=True]: 6   <conf:(1)> lift:(29.14) lev:(0) conv:(5.79) \n",
    "17. **[the=True, white=True]: 6 ==> [rabbit=True]: 6   <conf:(1)> lift:(35.96) lev:(0) conv:(5.83)** \n",
    "18. [went=True, turtle=True]: 6 ==> [mock=True]: 6   <conf:(1)> lift:(30.18) lev:(0) conv:(5.8) \n",
    "19. [went=True, mock=True]: 6 ==> [turtle=True]: 6   <conf:(1)> lift:(29.14) lev:(0) conv:(5.79) \n",
    "20. [would=True, turtle=True]: 6 ==> [mock=True]: 6   <conf:(1)> lift:(30.18) lev:(0) conv:(5.8)"
   ]
  },
  {
   "cell_type": "markdown",
   "id": "2a6a3fa5-8923-472f-9d07-7649b4a74751",
   "metadata": {},
   "source": [
    "**NOTE**: For some reason the image of my Weka settings cannot be displayed. I will attach the image along with the notebook upon submission."
   ]
  },
  {
   "cell_type": "markdown",
   "id": "a4706f0a-5298-42c4-9aac-6c3f80d889a7",
   "metadata": {
    "tags": []
   },
   "source": [
    "# Problem #2"
   ]
  },
  {
   "cell_type": "code",
   "execution_count": 16,
   "id": "144c6b98-19f6-4788-8fe1-5eb3cb1cad65",
   "metadata": {},
   "outputs": [],
   "source": [
    "import matplotlib.pyplot as plt"
   ]
  },
  {
   "cell_type": "code",
   "execution_count": 17,
   "id": "94fff84b-71f4-41ff-8597-029be266c4a8",
   "metadata": {},
   "outputs": [
    {
     "name": "stdout",
     "output_type": "stream",
     "text": [
      "Rows= 60000, columns= 784\n",
      "Rows= 10000, columns= 784\n"
     ]
    }
   ],
   "source": [
    "# load data\n",
    "def load_mnist(path, kind='train'):\n",
    "    from numpy import fromfile, uint8\n",
    "    import os\n",
    "    import struct\n",
    "    \n",
    "    labels_path = os.path.join(path, '%s-labels-idx1-ubyte' % kind)\n",
    "    images_path = os.path.join(path, '%s-images-idx3-ubyte' % kind)\n",
    "    with open(labels_path, 'rb') as lbpath:\n",
    "        magic, n = struct.unpack('>II', lbpath.read(8))\n",
    "        labels = fromfile(lbpath, dtype=uint8)\n",
    "        with open(images_path, 'rb') as imgpath:\n",
    "            magic, num, rows, cols = struct.unpack(\">IIII\",imgpath.read(16))\n",
    "            images = fromfile(imgpath, dtype=uint8).reshape(len(labels), 784)\n",
    "            images = ((images / 255.) - .5) * 2\n",
    "    return images, labels\n",
    "\n",
    "X_train, y_train = load_mnist('.', kind='train')\n",
    "print(f'Rows= {X_train.shape[0]}, columns= {X_train.shape[1]}')\n",
    "\n",
    "X_test, y_test = load_mnist('.', kind='t10k')\n",
    "print(f'Rows= {X_test.shape[0]}, columns= {X_test.shape[1]}')"
   ]
  },
  {
   "cell_type": "code",
   "execution_count": 18,
   "id": "80debcca-645b-4594-bbe3-7c2861e2ca9d",
   "metadata": {},
   "outputs": [
    {
     "data": {
      "image/png": "[encoded data removed]",
      "text/plain": [
       "<Figure size 432x288 with 10 Axes>"
      ]
     },
     "metadata": {},
     "output_type": "display_data"
    }
   ],
   "source": [
    "fig, ax = plt.subplots(nrows=2, ncols=5, sharex=True, sharey=True)\n",
    "ax = ax.flatten()\n",
    "for i in range(10):\n",
    "    img = X_train[y_train == i][0].reshape(28, 28)\n",
    "    ax[i].imshow(img, cmap='Greys')\n",
    "    ax[0].set_xticks([])\n",
    "    ax[0].set_yticks([])\n",
    "    plt.tight_layout()\n",
    "plt.show()"
   ]
  },
  {
   "cell_type": "code",
   "execution_count": 19,
   "id": "b21ea57e-c0dc-4e1c-89c3-6e85de73faef",
   "metadata": {},
   "outputs": [
    {
     "name": "stderr",
     "output_type": "stream",
     "text": [
      "/tmp/ipykernel_234366/3900453948.py:1: DeprecationWarning: `np.float` is a deprecated alias for the builtin `float`. To silence this warning, use `float` by itself. Doing this will not modify any behavior and is safe. If you specifically wanted the numpy scalar type, use `np.float64` here.\n",
      "Deprecated in NumPy 1.20; for more details and guidance: https://numpy.org/devdocs/release/1.20.0-notes.html#deprecations\n",
      "  from numpy import random, zeros, exp, clip, dot, log, sum, argmax, unique, arange, float\n"
     ]
    }
   ],
   "source": [
    "from numpy import random, zeros, exp, clip, dot, log, sum, argmax, unique, arange, float\n",
    "    \n",
    "class NeuralNetMLP_2HL(object):\n",
    "    def __init__(self, n_hidden=30, epochs=100, eta=0.001, minibatch_size=1, seed=None):\n",
    "        self.random = random.RandomState(seed)  # used to randomize weights\n",
    "        self.n_hidden = n_hidden  # size of the hidden layer\n",
    "        self.epochs = epochs  # number of iterations\n",
    "        self.eta = eta  # learning rate\n",
    "        self.minibatch_size = minibatch_size  # size of training batch - 1 would not work\n",
    "    \n",
    "    @staticmethod\n",
    "    def onehot(y, n_classes):  # one hot encode the input class y\n",
    "        onehot = zeros((n_classes, y.shape[0]))\n",
    "        for idx, val in enumerate(y.astype(int)):\n",
    "            onehot[val, idx] = 1.0\n",
    "        return onehot.T\n",
    "    \n",
    "    @staticmethod\n",
    "    def sigmoid(z):  # Eq 1\n",
    "        return 1.0 / (1.0 + exp(-clip(z, -250, 250)))\n",
    "\n",
    "    def _forward(self, X):  # Eq 2\n",
    "        z_h1 = dot(X, self.w_h1)\n",
    "        a_h1 = self.sigmoid(z_h1)\n",
    "        \n",
    "        z_h2 = dot(a_h1, self.w_h2)\n",
    "        a_h2 = self.sigmoid(z_h2)\n",
    "        \n",
    "        z_out = dot(a_h2, self.w_out)\n",
    "        a_out = self.sigmoid(z_out)\n",
    "        return z_h1, a_h1, z_h2, a_h2, z_out, a_out\n",
    "\n",
    "    @staticmethod\n",
    "    def compute_cost(y_enc, output):  # Eq 4\n",
    "        term1 = -y_enc * (log(output))\n",
    "        term2 = (1.0-y_enc) * log(1.0-output)\n",
    "        cost = sum(term1 - term2)\n",
    "        return cost\n",
    "\n",
    "    def predict(self, X):\n",
    "        z_h1, a_h1, z_h2, a_h2, z_out, a_out = self._forward(X)\n",
    "        y_pred = argmax(z_out, axis=1)\n",
    "        return y_pred\n",
    "\n",
    "    def fit(self, X_train, y_train, X_valid, y_valid):\n",
    "        import sys\n",
    "        n_output = unique(y_train).shape[0]  # number of class labels\n",
    "        n_features = X_train.shape[1]\n",
    "        \n",
    "        self.w_h1 = self.random.normal(loc=0.0, scale=0.1, size=(n_features, self.n_hidden))\n",
    "        self.w_h2 = self.random.normal(loc=0.0, scale=0.1, size=(self.n_hidden, self.n_hidden))\n",
    "        self.w_out = self.random.normal(loc=0.0, scale=0.1, size=(self.n_hidden, n_output))\n",
    "        \n",
    "        y_train_enc = self.onehot(y_train, n_output)  # one-hot encode original y\n",
    "        \n",
    "        for i in range(self.epochs):\n",
    "            indices = arange(X_train.shape[0])\n",
    "            for start_idx in range(0, indices.shape[0] - self.minibatch_size + 1, self.minibatch_size):\n",
    "                batch_idx = indices[start_idx:start_idx + self.minibatch_size]\n",
    "                z_h1, a_h1, z_h2, a_h2, z_out, a_out = self._forward(X_train[batch_idx])\n",
    "                \n",
    "                sigmoid_derivative_h1 = a_h1 * (1.0-a_h1)  # Eq 3\n",
    "                sigmoid_derivative_h2 = a_h2 * (1.0-a_h2)\n",
    "                \n",
    "                delta_out = a_out - y_train_enc[batch_idx]  # Eq 5\n",
    "                \n",
    "                delta_h2 = (dot(delta_out, self.w_out.T) * sigmoid_derivative_h2)  # Eq 6\n",
    "                delta_h1 = (dot(delta_h2, self.w_h2.T) * sigmoid_derivative_h1)\n",
    "                \n",
    "                grad_w_out = dot(a_h2.T, delta_out)  # Eq 7\n",
    "                grad_w_h2 = dot(a_h1.T, delta_h2)  # Eq 8\n",
    "                grad_w_h1 = dot(X_train[batch_idx].T, delta_h1)\n",
    "                \n",
    "                self.w_out -= self.eta*grad_w_out  # Eq 9\n",
    "                self.w_h2 -= self.eta*grad_w_h2  # Eq 9\n",
    "                self.w_h1 -= self.eta*grad_w_h1\n",
    "                \n",
    "            # Evaluation after each epoch during training\n",
    "            z_h1, a_h1, z_h2, a_h2, z_out, a_out = self._forward(X_train)\n",
    "            cost = self.compute_cost(y_enc=y_train_enc, output=a_out)\n",
    "            y_train_pred = self.predict(X_train)  # monitoring training progress through reclassification\n",
    "            y_valid_pred = self.predict(X_valid)  # monitoring training progress through validation\n",
    "            train_acc = ((sum(y_train == y_train_pred)).astype(float) / X_train.shape[0])\n",
    "            valid_acc = ((sum(y_valid == y_valid_pred)).astype(float) / X_valid.shape[0])\n",
    "        \n",
    "            sys.stderr.write('\\r%d/%d | Cost: %.2f ' '| Train/Valid Acc.: %.2f%%/%.2f%% '%\n",
    "                (i+1, self.epochs, cost, train_acc*100, valid_acc*100))\n",
    "            sys.stderr.flush()\n",
    "\n",
    "        return self"
   ]
  },
  {
   "cell_type": "code",
   "execution_count": 20,
   "id": "eafce75b-6ccb-449e-a638-7bb1b8c52215",
   "metadata": {},
   "outputs": [
    {
     "name": "stderr",
     "output_type": "stream",
     "text": [
      "300/300 | Cost: 7923.15 | Train/Valid Acc.: 98.07%/95.78%  "
     ]
    }
   ],
   "source": [
    "# Define and fit the neural network\n",
    "nn = NeuralNetMLP_2HL(n_hidden=20, epochs=300, eta=0.0005, minibatch_size=100, seed=1)\n",
    "\n",
    "nn.fit(X_train=X_train[:55000], y_train=y_train[:55000], X_valid=X_train[55000:], y_valid=y_train[55000:]) ;"
   ]
  },
  {
   "cell_type": "markdown",
   "id": "d62ea36b-fc7d-4464-9b7c-d9bc1a031e53",
   "metadata": {},
   "source": [
    "From the module notebook, 1 hidden layer (20 neurons) resulted in the following:\n",
    "\n",
    ">300/300 | Cost: 15436.03 | **Train/Valid Acc.: 96.21%/95.50%** \n",
    "\n",
    "Using the same number of neurons for a hidden layer, but just adding an extra layer, we get:\n",
    "\n",
    ">300/300 | Cost: 7923.15 | **Train/Valid Acc.: 98.07%/95.78%**  \n",
    "\n",
    "Here, we see that with an additional layer, cost has been reduced by about 50%. Both the training and validation accuracy increased slightly, with the increase in training accuracy higher than that for validation. This suggests that with an extra hidden layer, the model is able to better memorize the training dataset. However, we see that this only resulted in a 0.28% increase of validation accuracy."
   ]
  },
  {
   "cell_type": "code",
   "execution_count": null,
   "id": "1258fc4c-cfb6-444c-8285-a4fbb44a3d27",
   "metadata": {},
   "outputs": [],
   "source": []
  }
 ],
 "metadata": {
  "kernelspec": {
   "display_name": "Python 3 (ipykernel)",
   "language": "python",
   "name": "python3"
  },
  "language_info": {
   "codemirror_mode": {
    "name": "ipython",
    "version": 3
   },
   "file_extension": ".py",
   "mimetype": "text/x-python",
   "name": "python",
   "nbconvert_exporter": "python",
   "pygments_lexer": "ipython3",
   "version": "3.8.9"
  }
 },
 "nbformat": 4,
 "nbformat_minor": 5
}
