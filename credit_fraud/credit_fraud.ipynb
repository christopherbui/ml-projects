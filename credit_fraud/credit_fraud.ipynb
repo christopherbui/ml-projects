{
 "cells": [
  {
   "cell_type": "code",
   "execution_count": 1,
   "id": "eb060824-22ba-4d51-87f7-6c5fce28224a",
   "metadata": {},
   "outputs": [],
   "source": [
    "import numpy as np\n",
    "import pandas as pd\n",
    "import matplotlib.pyplot as plt\n",
    "import seaborn as sns"
   ]
  },
  {
   "cell_type": "markdown",
   "id": "3415d913-7cda-4346-89ab-35601f92c4a7",
   "metadata": {},
   "source": [
    "# Problem #1"
   ]
  },
  {
   "cell_type": "code",
   "execution_count": 2,
   "id": "60afe504-b40c-4671-8dfd-7b6a31931098",
   "metadata": {},
   "outputs": [],
   "source": [
    "# read in data\n",
    "df = pd.read_csv('creditcard.csv')"
   ]
  },
  {
   "cell_type": "code",
   "execution_count": 3,
   "id": "823dba51-fd97-4e23-bbbe-78964e9e025e",
   "metadata": {},
   "outputs": [
    {
     "name": "stdout",
     "output_type": "stream",
     "text": [
      "Shape: (284807, 31)\n",
      "Columns: Index(['Time', 'V1', 'V2', 'V3', 'V4', 'V5', 'V6', 'V7', 'V8', 'V9', 'V10',\n",
      "       'V11', 'V12', 'V13', 'V14', 'V15', 'V16', 'V17', 'V18', 'V19', 'V20',\n",
      "       'V21', 'V22', 'V23', 'V24', 'V25', 'V26', 'V27', 'V28', 'Amount',\n",
      "       'Class'],\n",
      "      dtype='object')\n"
     ]
    }
   ],
   "source": [
    "print(f'Shape: {df.shape}')\n",
    "print(f'Columns: {df.columns}')"
   ]
  },
  {
   "cell_type": "code",
   "execution_count": 4,
   "id": "b0db4e47-dcdb-45bb-b4ae-7a24737f1aa7",
   "metadata": {},
   "outputs": [
    {
     "data": {
      "text/plain": [
       "Time      0\n",
       "V1        0\n",
       "V2        0\n",
       "V3        0\n",
       "V4        0\n",
       "V5        0\n",
       "V6        0\n",
       "V7        0\n",
       "V8        0\n",
       "V9        0\n",
       "V10       0\n",
       "V11       0\n",
       "V12       0\n",
       "V13       0\n",
       "V14       0\n",
       "V15       0\n",
       "V16       0\n",
       "V17       0\n",
       "V18       0\n",
       "V19       0\n",
       "V20       0\n",
       "V21       0\n",
       "V22       0\n",
       "V23       0\n",
       "V24       0\n",
       "V25       0\n",
       "V26       0\n",
       "V27       0\n",
       "V28       0\n",
       "Amount    0\n",
       "Class     0\n",
       "dtype: int64"
      ]
     },
     "execution_count": 4,
     "metadata": {},
     "output_type": "execute_result"
    }
   ],
   "source": [
    "# check null values\n",
    "df.isnull().sum()"
   ]
  },
  {
   "cell_type": "code",
   "execution_count": 5,
   "id": "18ad851d-4332-4cbf-aa4f-2899c2927926",
   "metadata": {},
   "outputs": [
    {
     "data": {
      "text/html": [
       "<div>\n",
       "<style scoped>\n",
       "    .dataframe tbody tr th:only-of-type {\n",
       "        vertical-align: middle;\n",
       "    }\n",
       "\n",
       "    .dataframe tbody tr th {\n",
       "        vertical-align: top;\n",
       "    }\n",
       "\n",
       "    .dataframe thead th {\n",
       "        text-align: right;\n",
       "    }\n",
       "</style>\n",
       "<table border=\"1\" class=\"dataframe\">\n",
       "  <thead>\n",
       "    <tr style=\"text-align: right;\">\n",
       "      <th></th>\n",
       "      <th>Time</th>\n",
       "      <th>V1</th>\n",
       "      <th>V2</th>\n",
       "      <th>V3</th>\n",
       "      <th>V4</th>\n",
       "      <th>V5</th>\n",
       "      <th>V6</th>\n",
       "      <th>V7</th>\n",
       "      <th>V8</th>\n",
       "      <th>V9</th>\n",
       "      <th>...</th>\n",
       "      <th>V21</th>\n",
       "      <th>V22</th>\n",
       "      <th>V23</th>\n",
       "      <th>V24</th>\n",
       "      <th>V25</th>\n",
       "      <th>V26</th>\n",
       "      <th>V27</th>\n",
       "      <th>V28</th>\n",
       "      <th>Amount</th>\n",
       "      <th>Class</th>\n",
       "    </tr>\n",
       "  </thead>\n",
       "  <tbody>\n",
       "    <tr>\n",
       "      <th>0</th>\n",
       "      <td>0.0</td>\n",
       "      <td>-1.359807</td>\n",
       "      <td>-0.072781</td>\n",
       "      <td>2.536347</td>\n",
       "      <td>1.378155</td>\n",
       "      <td>-0.338321</td>\n",
       "      <td>0.462388</td>\n",
       "      <td>0.239599</td>\n",
       "      <td>0.098698</td>\n",
       "      <td>0.363787</td>\n",
       "      <td>...</td>\n",
       "      <td>-0.018307</td>\n",
       "      <td>0.277838</td>\n",
       "      <td>-0.110474</td>\n",
       "      <td>0.066928</td>\n",
       "      <td>0.128539</td>\n",
       "      <td>-0.189115</td>\n",
       "      <td>0.133558</td>\n",
       "      <td>-0.021053</td>\n",
       "      <td>149.62</td>\n",
       "      <td>0</td>\n",
       "    </tr>\n",
       "    <tr>\n",
       "      <th>1</th>\n",
       "      <td>0.0</td>\n",
       "      <td>1.191857</td>\n",
       "      <td>0.266151</td>\n",
       "      <td>0.166480</td>\n",
       "      <td>0.448154</td>\n",
       "      <td>0.060018</td>\n",
       "      <td>-0.082361</td>\n",
       "      <td>-0.078803</td>\n",
       "      <td>0.085102</td>\n",
       "      <td>-0.255425</td>\n",
       "      <td>...</td>\n",
       "      <td>-0.225775</td>\n",
       "      <td>-0.638672</td>\n",
       "      <td>0.101288</td>\n",
       "      <td>-0.339846</td>\n",
       "      <td>0.167170</td>\n",
       "      <td>0.125895</td>\n",
       "      <td>-0.008983</td>\n",
       "      <td>0.014724</td>\n",
       "      <td>2.69</td>\n",
       "      <td>0</td>\n",
       "    </tr>\n",
       "    <tr>\n",
       "      <th>2</th>\n",
       "      <td>1.0</td>\n",
       "      <td>-1.358354</td>\n",
       "      <td>-1.340163</td>\n",
       "      <td>1.773209</td>\n",
       "      <td>0.379780</td>\n",
       "      <td>-0.503198</td>\n",
       "      <td>1.800499</td>\n",
       "      <td>0.791461</td>\n",
       "      <td>0.247676</td>\n",
       "      <td>-1.514654</td>\n",
       "      <td>...</td>\n",
       "      <td>0.247998</td>\n",
       "      <td>0.771679</td>\n",
       "      <td>0.909412</td>\n",
       "      <td>-0.689281</td>\n",
       "      <td>-0.327642</td>\n",
       "      <td>-0.139097</td>\n",
       "      <td>-0.055353</td>\n",
       "      <td>-0.059752</td>\n",
       "      <td>378.66</td>\n",
       "      <td>0</td>\n",
       "    </tr>\n",
       "    <tr>\n",
       "      <th>3</th>\n",
       "      <td>1.0</td>\n",
       "      <td>-0.966272</td>\n",
       "      <td>-0.185226</td>\n",
       "      <td>1.792993</td>\n",
       "      <td>-0.863291</td>\n",
       "      <td>-0.010309</td>\n",
       "      <td>1.247203</td>\n",
       "      <td>0.237609</td>\n",
       "      <td>0.377436</td>\n",
       "      <td>-1.387024</td>\n",
       "      <td>...</td>\n",
       "      <td>-0.108300</td>\n",
       "      <td>0.005274</td>\n",
       "      <td>-0.190321</td>\n",
       "      <td>-1.175575</td>\n",
       "      <td>0.647376</td>\n",
       "      <td>-0.221929</td>\n",
       "      <td>0.062723</td>\n",
       "      <td>0.061458</td>\n",
       "      <td>123.50</td>\n",
       "      <td>0</td>\n",
       "    </tr>\n",
       "    <tr>\n",
       "      <th>4</th>\n",
       "      <td>2.0</td>\n",
       "      <td>-1.158233</td>\n",
       "      <td>0.877737</td>\n",
       "      <td>1.548718</td>\n",
       "      <td>0.403034</td>\n",
       "      <td>-0.407193</td>\n",
       "      <td>0.095921</td>\n",
       "      <td>0.592941</td>\n",
       "      <td>-0.270533</td>\n",
       "      <td>0.817739</td>\n",
       "      <td>...</td>\n",
       "      <td>-0.009431</td>\n",
       "      <td>0.798278</td>\n",
       "      <td>-0.137458</td>\n",
       "      <td>0.141267</td>\n",
       "      <td>-0.206010</td>\n",
       "      <td>0.502292</td>\n",
       "      <td>0.219422</td>\n",
       "      <td>0.215153</td>\n",
       "      <td>69.99</td>\n",
       "      <td>0</td>\n",
       "    </tr>\n",
       "  </tbody>\n",
       "</table>\n",
       "<p>5 rows × 31 columns</p>\n",
       "</div>"
      ],
      "text/plain": [
       "   Time        V1        V2        V3        V4        V5        V6        V7  \\\n",
       "0   0.0 -1.359807 -0.072781  2.536347  1.378155 -0.338321  0.462388  0.239599   \n",
       "1   0.0  1.191857  0.266151  0.166480  0.448154  0.060018 -0.082361 -0.078803   \n",
       "2   1.0 -1.358354 -1.340163  1.773209  0.379780 -0.503198  1.800499  0.791461   \n",
       "3   1.0 -0.966272 -0.185226  1.792993 -0.863291 -0.010309  1.247203  0.237609   \n",
       "4   2.0 -1.158233  0.877737  1.548718  0.403034 -0.407193  0.095921  0.592941   \n",
       "\n",
       "         V8        V9  ...       V21       V22       V23       V24       V25  \\\n",
       "0  0.098698  0.363787  ... -0.018307  0.277838 -0.110474  0.066928  0.128539   \n",
       "1  0.085102 -0.255425  ... -0.225775 -0.638672  0.101288 -0.339846  0.167170   \n",
       "2  0.247676 -1.514654  ...  0.247998  0.771679  0.909412 -0.689281 -0.327642   \n",
       "3  0.377436 -1.387024  ... -0.108300  0.005274 -0.190321 -1.175575  0.647376   \n",
       "4 -0.270533  0.817739  ... -0.009431  0.798278 -0.137458  0.141267 -0.206010   \n",
       "\n",
       "        V26       V27       V28  Amount  Class  \n",
       "0 -0.189115  0.133558 -0.021053  149.62      0  \n",
       "1  0.125895 -0.008983  0.014724    2.69      0  \n",
       "2 -0.139097 -0.055353 -0.059752  378.66      0  \n",
       "3 -0.221929  0.062723  0.061458  123.50      0  \n",
       "4  0.502292  0.219422  0.215153   69.99      0  \n",
       "\n",
       "[5 rows x 31 columns]"
      ]
     },
     "execution_count": 5,
     "metadata": {},
     "output_type": "execute_result"
    }
   ],
   "source": [
    "# observe\n",
    "df.head()"
   ]
  },
  {
   "cell_type": "code",
   "execution_count": 6,
   "id": "398df0d0-d63b-4181-9ede-ea44a7cc557f",
   "metadata": {},
   "outputs": [
    {
     "data": {
      "image/png": "[encoded data removed]",
      "text/plain": [
       "<Figure size 432x288 with 1 Axes>"
      ]
     },
     "metadata": {
      "needs_background": "light"
     },
     "output_type": "display_data"
    }
   ],
   "source": [
    "# observe 'Amount' histogram\n",
    "plt.hist(df['Amount'], bins=20, range=(0,500), color='purple')\n",
    "plt.title('Amount - Histogram')\n",
    "plt.xlabel('Amount ($)', labelpad=10)\n",
    "plt.ylabel('Counts', rotation='horizontal', labelpad=30)\n",
    "plt.show()"
   ]
  },
  {
   "cell_type": "code",
   "execution_count": 7,
   "id": "a3ace600-09ce-445b-98fe-89c73e908269",
   "metadata": {},
   "outputs": [
    {
     "data": {
      "image/png": "[encoded data removed]",
      "text/plain": [
       "<Figure size 432x288 with 1 Axes>"
      ]
     },
     "metadata": {
      "needs_background": "light"
     },
     "output_type": "display_data"
    }
   ],
   "source": [
    "# observe 'Amount' vs 'Time'\n",
    "plt.scatter(df['Time'].values, df['Amount'].values, color='purple', facecolors='none')\n",
    "plt.title('Amount vs Time')\n",
    "plt.xlabel('Time', labelpad=10)\n",
    "plt.ylabel('Amount', rotation='horizontal', labelpad=30)\n",
    "plt.show()"
   ]
  },
  {
   "cell_type": "markdown",
   "id": "d2149610-dd98-45e8-9979-4831bec3a4e9",
   "metadata": {},
   "source": [
    "We see that a very few number of transactions occur above ~ $5000. Normally we might consider these extreme and remove them, but perhaps these outliers are highly correlated to fraudlent cases. Therefore, we will keep these points in the dataset.\n",
    "\n",
    "Furthermore, considering that this data deals with transactions, people can buy the same things, leading to duplicate transactions. We can remove check and remove the duplicates."
   ]
  },
  {
   "cell_type": "markdown",
   "id": "ca578eb4-71e5-4263-8d3c-f7ee75fb92c9",
   "metadata": {},
   "source": [
    "# Problem #2"
   ]
  },
  {
   "cell_type": "code",
   "execution_count": 8,
   "id": "b9123221-e642-4004-b1f3-bf70d1ae31e9",
   "metadata": {},
   "outputs": [
    {
     "name": "stdout",
     "output_type": "stream",
     "text": [
      "Normal: 99.83 %\n",
      "Fraudulent: 0.17 %\n"
     ]
    }
   ],
   "source": [
    "# check class balance\n",
    "df['Class'].value_counts()\n",
    "print(f'Normal: {284315/(284315+492)*100:.2f} %')\n",
    "print(f'Fraudulent: {100 - (284315/(284315+492)*100):.2f} %')"
   ]
  },
  {
   "cell_type": "markdown",
   "id": "34b3e91c-89ee-4a49-a5aa-296301d849f3",
   "metadata": {},
   "source": [
    "This dataset is unbalanced. Above we see that an overwhelming majority of cases in this dataset is 'Normal'."
   ]
  },
  {
   "cell_type": "markdown",
   "id": "0dff2aec-020e-47c6-9148-1667dec0d7ff",
   "metadata": {},
   "source": [
    "Since we are dealing with binary class labels, we can utilize accuracy. Furthermore, this dataset seems apt for a classification model. Since this dataset deals with detecting fraudulent transactions, knowing False Positives and False Negatives is crucial. As a result, we can calculate precision and recall values over the entire dataset. To evaluate the model as a whole, we can utilize **F1 Score** = 2 * p * r / (p + r). The higher the F1 score, the better the performance of the model. F1 Score is more justified in this case as the dataset is highly unbalanced."
   ]
  },
  {
   "cell_type": "markdown",
   "id": "66056d58-86aa-46f9-a1b0-c5a88b59b14f",
   "metadata": {
    "tags": []
   },
   "source": [
    "# Problem #3"
   ]
  },
  {
   "cell_type": "code",
   "execution_count": 9,
   "id": "3308db3e-007c-4f12-b6b9-52b85f571982",
   "metadata": {},
   "outputs": [],
   "source": [
    "from sklearn.preprocessing import StandardScaler"
   ]
  },
  {
   "cell_type": "markdown",
   "id": "b5aad2fa-c4e2-430e-a89d-6b32577106ad",
   "metadata": {},
   "source": [
    "The Kaggle website states that the features are a result of PCA and have been standardized. As a result, we do not need to standardize these values. The *'Time'* feature is a derived feature and we thus can exclude it as it is just a monotonically increasing value based on the occurance of the transaction.\n",
    "\n",
    "*'Amount'* values variable, and ranges widely as seen in the histogram. As such, we will need to standardize this feature as the few outlier values highly skew the dataset from the majority of low amount values."
   ]
  },
  {
   "cell_type": "code",
   "execution_count": 10,
   "id": "97705619-5218-469e-92e9-951cad8973f7",
   "metadata": {},
   "outputs": [],
   "source": [
    "# drop 'Time'\n",
    "df.drop(['Time'], axis=1, inplace=True)"
   ]
  },
  {
   "cell_type": "code",
   "execution_count": 11,
   "id": "1cca26b0-448f-4bf8-ba89-44df2437a741",
   "metadata": {},
   "outputs": [],
   "source": [
    "# standardize 'Amount'\n",
    "scaler= StandardScaler()\n",
    "\n",
    "df['Amount'] = scaler.fit_transform(df['Amount'].values.reshape(len(df), 1))"
   ]
  },
  {
   "cell_type": "code",
   "execution_count": 12,
   "id": "0163b943-e894-4df8-8b00-33f582f86f2c",
   "metadata": {},
   "outputs": [],
   "source": [
    "# drop duplicates\n",
    "df.drop_duplicates(inplace=True)"
   ]
  },
  {
   "cell_type": "code",
   "execution_count": 13,
   "id": "499fc712-0656-4343-8782-751b0c70b3a2",
   "metadata": {},
   "outputs": [
    {
     "data": {
      "text/html": [
       "<div>\n",
       "<style scoped>\n",
       "    .dataframe tbody tr th:only-of-type {\n",
       "        vertical-align: middle;\n",
       "    }\n",
       "\n",
       "    .dataframe tbody tr th {\n",
       "        vertical-align: top;\n",
       "    }\n",
       "\n",
       "    .dataframe thead th {\n",
       "        text-align: right;\n",
       "    }\n",
       "</style>\n",
       "<table border=\"1\" class=\"dataframe\">\n",
       "  <thead>\n",
       "    <tr style=\"text-align: right;\">\n",
       "      <th></th>\n",
       "      <th>V1</th>\n",
       "      <th>V2</th>\n",
       "      <th>V3</th>\n",
       "      <th>V4</th>\n",
       "      <th>V5</th>\n",
       "      <th>V6</th>\n",
       "      <th>V7</th>\n",
       "      <th>V8</th>\n",
       "      <th>V9</th>\n",
       "      <th>V10</th>\n",
       "      <th>...</th>\n",
       "      <th>V21</th>\n",
       "      <th>V22</th>\n",
       "      <th>V23</th>\n",
       "      <th>V24</th>\n",
       "      <th>V25</th>\n",
       "      <th>V26</th>\n",
       "      <th>V27</th>\n",
       "      <th>V28</th>\n",
       "      <th>Amount</th>\n",
       "      <th>Class</th>\n",
       "    </tr>\n",
       "  </thead>\n",
       "  <tbody>\n",
       "    <tr>\n",
       "      <th>0</th>\n",
       "      <td>-1.359807</td>\n",
       "      <td>-0.072781</td>\n",
       "      <td>2.536347</td>\n",
       "      <td>1.378155</td>\n",
       "      <td>-0.338321</td>\n",
       "      <td>0.462388</td>\n",
       "      <td>0.239599</td>\n",
       "      <td>0.098698</td>\n",
       "      <td>0.363787</td>\n",
       "      <td>0.090794</td>\n",
       "      <td>...</td>\n",
       "      <td>-0.018307</td>\n",
       "      <td>0.277838</td>\n",
       "      <td>-0.110474</td>\n",
       "      <td>0.066928</td>\n",
       "      <td>0.128539</td>\n",
       "      <td>-0.189115</td>\n",
       "      <td>0.133558</td>\n",
       "      <td>-0.021053</td>\n",
       "      <td>0.244964</td>\n",
       "      <td>0</td>\n",
       "    </tr>\n",
       "    <tr>\n",
       "      <th>1</th>\n",
       "      <td>1.191857</td>\n",
       "      <td>0.266151</td>\n",
       "      <td>0.166480</td>\n",
       "      <td>0.448154</td>\n",
       "      <td>0.060018</td>\n",
       "      <td>-0.082361</td>\n",
       "      <td>-0.078803</td>\n",
       "      <td>0.085102</td>\n",
       "      <td>-0.255425</td>\n",
       "      <td>-0.166974</td>\n",
       "      <td>...</td>\n",
       "      <td>-0.225775</td>\n",
       "      <td>-0.638672</td>\n",
       "      <td>0.101288</td>\n",
       "      <td>-0.339846</td>\n",
       "      <td>0.167170</td>\n",
       "      <td>0.125895</td>\n",
       "      <td>-0.008983</td>\n",
       "      <td>0.014724</td>\n",
       "      <td>-0.342475</td>\n",
       "      <td>0</td>\n",
       "    </tr>\n",
       "    <tr>\n",
       "      <th>2</th>\n",
       "      <td>-1.358354</td>\n",
       "      <td>-1.340163</td>\n",
       "      <td>1.773209</td>\n",
       "      <td>0.379780</td>\n",
       "      <td>-0.503198</td>\n",
       "      <td>1.800499</td>\n",
       "      <td>0.791461</td>\n",
       "      <td>0.247676</td>\n",
       "      <td>-1.514654</td>\n",
       "      <td>0.207643</td>\n",
       "      <td>...</td>\n",
       "      <td>0.247998</td>\n",
       "      <td>0.771679</td>\n",
       "      <td>0.909412</td>\n",
       "      <td>-0.689281</td>\n",
       "      <td>-0.327642</td>\n",
       "      <td>-0.139097</td>\n",
       "      <td>-0.055353</td>\n",
       "      <td>-0.059752</td>\n",
       "      <td>1.160686</td>\n",
       "      <td>0</td>\n",
       "    </tr>\n",
       "    <tr>\n",
       "      <th>3</th>\n",
       "      <td>-0.966272</td>\n",
       "      <td>-0.185226</td>\n",
       "      <td>1.792993</td>\n",
       "      <td>-0.863291</td>\n",
       "      <td>-0.010309</td>\n",
       "      <td>1.247203</td>\n",
       "      <td>0.237609</td>\n",
       "      <td>0.377436</td>\n",
       "      <td>-1.387024</td>\n",
       "      <td>-0.054952</td>\n",
       "      <td>...</td>\n",
       "      <td>-0.108300</td>\n",
       "      <td>0.005274</td>\n",
       "      <td>-0.190321</td>\n",
       "      <td>-1.175575</td>\n",
       "      <td>0.647376</td>\n",
       "      <td>-0.221929</td>\n",
       "      <td>0.062723</td>\n",
       "      <td>0.061458</td>\n",
       "      <td>0.140534</td>\n",
       "      <td>0</td>\n",
       "    </tr>\n",
       "    <tr>\n",
       "      <th>4</th>\n",
       "      <td>-1.158233</td>\n",
       "      <td>0.877737</td>\n",
       "      <td>1.548718</td>\n",
       "      <td>0.403034</td>\n",
       "      <td>-0.407193</td>\n",
       "      <td>0.095921</td>\n",
       "      <td>0.592941</td>\n",
       "      <td>-0.270533</td>\n",
       "      <td>0.817739</td>\n",
       "      <td>0.753074</td>\n",
       "      <td>...</td>\n",
       "      <td>-0.009431</td>\n",
       "      <td>0.798278</td>\n",
       "      <td>-0.137458</td>\n",
       "      <td>0.141267</td>\n",
       "      <td>-0.206010</td>\n",
       "      <td>0.502292</td>\n",
       "      <td>0.219422</td>\n",
       "      <td>0.215153</td>\n",
       "      <td>-0.073403</td>\n",
       "      <td>0</td>\n",
       "    </tr>\n",
       "  </tbody>\n",
       "</table>\n",
       "<p>5 rows × 30 columns</p>\n",
       "</div>"
      ],
      "text/plain": [
       "         V1        V2        V3        V4        V5        V6        V7  \\\n",
       "0 -1.359807 -0.072781  2.536347  1.378155 -0.338321  0.462388  0.239599   \n",
       "1  1.191857  0.266151  0.166480  0.448154  0.060018 -0.082361 -0.078803   \n",
       "2 -1.358354 -1.340163  1.773209  0.379780 -0.503198  1.800499  0.791461   \n",
       "3 -0.966272 -0.185226  1.792993 -0.863291 -0.010309  1.247203  0.237609   \n",
       "4 -1.158233  0.877737  1.548718  0.403034 -0.407193  0.095921  0.592941   \n",
       "\n",
       "         V8        V9       V10  ...       V21       V22       V23       V24  \\\n",
       "0  0.098698  0.363787  0.090794  ... -0.018307  0.277838 -0.110474  0.066928   \n",
       "1  0.085102 -0.255425 -0.166974  ... -0.225775 -0.638672  0.101288 -0.339846   \n",
       "2  0.247676 -1.514654  0.207643  ...  0.247998  0.771679  0.909412 -0.689281   \n",
       "3  0.377436 -1.387024 -0.054952  ... -0.108300  0.005274 -0.190321 -1.175575   \n",
       "4 -0.270533  0.817739  0.753074  ... -0.009431  0.798278 -0.137458  0.141267   \n",
       "\n",
       "        V25       V26       V27       V28    Amount  Class  \n",
       "0  0.128539 -0.189115  0.133558 -0.021053  0.244964      0  \n",
       "1  0.167170  0.125895 -0.008983  0.014724 -0.342475      0  \n",
       "2 -0.327642 -0.139097 -0.055353 -0.059752  1.160686      0  \n",
       "3  0.647376 -0.221929  0.062723  0.061458  0.140534      0  \n",
       "4 -0.206010  0.502292  0.219422  0.215153 -0.073403      0  \n",
       "\n",
       "[5 rows x 30 columns]"
      ]
     },
     "metadata": {},
     "output_type": "display_data"
    },
    {
     "name": "stdout",
     "output_type": "stream",
     "text": [
      "\n",
      "Shape: (275663, 30)\n",
      "Removed 9144 Duplicates\n"
     ]
    }
   ],
   "source": [
    "# sanity check\n",
    "display(df.head())\n",
    "print(f'\\nShape: {df.shape}')\n",
    "\n",
    "print(f'Removed {284807-275663} Duplicates')"
   ]
  },
  {
   "cell_type": "markdown",
   "id": "c07973ec-609c-44d9-b361-35b47942a879",
   "metadata": {},
   "source": [
    "# Problem #4"
   ]
  },
  {
   "cell_type": "code",
   "execution_count": 14,
   "id": "7823728e-0136-4c9a-80f6-f33baac4dccc",
   "metadata": {},
   "outputs": [],
   "source": [
    "from sklearn.svm import SVC\n",
    "from sklearn.tree import DecisionTreeClassifier\n",
    "from sklearn.neural_network import MLPClassifier\n",
    "from sklearn.ensemble import RandomForestClassifier\n",
    "from sklearn.model_selection import train_test_split, GridSearchCV\n",
    "from sklearn.metrics import accuracy_score, f1_score"
   ]
  },
  {
   "cell_type": "code",
   "execution_count": 15,
   "id": "58a43637-708a-4127-ae6c-0810480a6885",
   "metadata": {},
   "outputs": [],
   "source": [
    "# get features & label columns\n",
    "X = df.iloc[:,:-1]\n",
    "y = df.iloc[:,-1]"
   ]
  },
  {
   "cell_type": "code",
   "execution_count": 16,
   "id": "1dba01ef-4243-4765-9152-d60e4306e0cc",
   "metadata": {},
   "outputs": [],
   "source": [
    "# split data\n",
    "x_train, x_test, y_train, y_test = train_test_split(X, y, stratify=y, test_size=0.5, random_state=7)"
   ]
  },
  {
   "cell_type": "code",
   "execution_count": 17,
   "id": "42190fdb-2f86-4daa-aa1a-0937979b5d6d",
   "metadata": {},
   "outputs": [
    {
     "name": "stdout",
     "output_type": "stream",
     "text": [
      "----- Shapes -----\n",
      "x_train: (137831, 29)\n",
      "x_test: (137832, 29)\n",
      "y_train: (137831,)\n",
      "y_test: (137832,)\n"
     ]
    }
   ],
   "source": [
    "# sanity check\n",
    "print('----- Shapes -----')\n",
    "print(f'x_train: {x_train.shape}')\n",
    "print(f'x_test: {x_test.shape}')\n",
    "print(f'y_train: {y_train.shape}')\n",
    "print(f'y_test: {y_test.shape}')"
   ]
  },
  {
   "cell_type": "code",
   "execution_count": 18,
   "id": "0e8ea848-e853-4ee6-a2c6-c7e1970f25eb",
   "metadata": {},
   "outputs": [],
   "source": [
    "# function to run various models\n",
    "def run_models(models, x_train, x_test, y_train, y_test):\n",
    "    scores = {}\n",
    "    \n",
    "    # iterate through various models\n",
    "    for m in models:\n",
    "        # train\n",
    "        model = m.fit(x_train, y_train)\n",
    "        \n",
    "        # predict\n",
    "        y_pred = model.predict(x_test)\n",
    "        \n",
    "        # evaluate model performance (F1 Score)\n",
    "        f1 = f1_score(y_test, y_pred)\n",
    "        scores[m] = f1\n",
    "        \n",
    "    return scores"
   ]
  },
  {
   "cell_type": "code",
   "execution_count": 19,
   "id": "5ed5a968-5707-4da4-8412-27d48c81a2dc",
   "metadata": {},
   "outputs": [],
   "source": [
    "# runs models with regularization & grid search\n",
    "def run_models2(model, parameters, x_train, x_test, y_train, y_test):\n",
    "    clf = GridSearchCV(model, parameters, scoring='f1', n_jobs=-2)\n",
    "    clf.fit(x_train, y_train)\n",
    "    \n",
    "    # score using model with best parameter\n",
    "    score = clf.score(x_test, y_test)\n",
    "    \n",
    "    print(f'{model}\\nBest Parameters: {clf.best_params_}')\n",
    "    \n",
    "    print(f'F1 Score: {score:.3f}\\n')"
   ]
  },
  {
   "cell_type": "markdown",
   "id": "d60c797e-e29a-4e7a-b5f3-75350b514392",
   "metadata": {
    "tags": []
   },
   "source": [
    "## Without Regularization"
   ]
  },
  {
   "cell_type": "code",
   "execution_count": 62,
   "id": "a9e985aa-e38a-4732-a1f9-15dc855888ed",
   "metadata": {},
   "outputs": [],
   "source": [
    "# create models\n",
    "models = [SVC(C=1e5), DecisionTreeClassifier(), MLPClassifier(alpha=0), RandomForestClassifier()]"
   ]
  },
  {
   "cell_type": "code",
   "execution_count": 63,
   "id": "6e3ee01c-ed74-4162-a1d2-7187653b07a5",
   "metadata": {},
   "outputs": [],
   "source": [
    "# run models (NO REGULARIZATION)\n",
    "scores = run_models(models, x_train, x_test, y_train, y_test)"
   ]
  },
  {
   "cell_type": "code",
   "execution_count": 64,
   "id": "c702e081-3c0d-4a54-8765-ebf8c8199f06",
   "metadata": {},
   "outputs": [
    {
     "name": "stdout",
     "output_type": "stream",
     "text": [
      "F1 Scores\n",
      "\n",
      "SVC(C=100000.0): 0.620\n",
      "\n",
      "DecisionTreeClassifier(): 0.715\n",
      "\n",
      "MLPClassifier(alpha=0): 0.853\n",
      "\n",
      "RandomForestClassifier(): 0.856\n",
      "\n"
     ]
    }
   ],
   "source": [
    "# show results\n",
    "print('F1 Scores\\n')\n",
    "for i in range(len(scores)):\n",
    "    print(f'{models[i]}: {list(scores.values())[i]:.3f}\\n')"
   ]
  },
  {
   "cell_type": "markdown",
   "id": "b4641e82-5709-47e1-8b9d-5b6274f458cb",
   "metadata": {
    "tags": []
   },
   "source": [
    "## With Regularization"
   ]
  },
  {
   "cell_type": "code",
   "execution_count": 24,
   "id": "aa1f866d-1763-488a-943e-3663c8724849",
   "metadata": {},
   "outputs": [
    {
     "name": "stdout",
     "output_type": "stream",
     "text": [
      "SVC()\n",
      "Best Parameters: {'C': 6}\n",
      "F1 Score: 0.796\n",
      "\n"
     ]
    }
   ],
   "source": [
    "svc_params = {'C': [1,2,4,6,12]}\n",
    "run_models2(SVC(), svc_params, x_train, x_test, y_train, y_test)"
   ]
  },
  {
   "cell_type": "code",
   "execution_count": 25,
   "id": "89ce1e48-b6c3-4b50-bbc4-66fc7ac15673",
   "metadata": {},
   "outputs": [
    {
     "name": "stdout",
     "output_type": "stream",
     "text": [
      "DecisionTreeClassifier()\n",
      "Best Parameters: {'ccp_alpha': 1e-05}\n",
      "F1 Score: 0.801\n",
      "\n"
     ]
    }
   ],
   "source": [
    "tree_params = {'ccp_alpha': [1e3**-1, 1e4**-1, 1e5**-1, 1e6**-1]}\n",
    "run_models2(DecisionTreeClassifier(), tree_params, x_train, x_test, y_train, y_test)"
   ]
  },
  {
   "cell_type": "code",
   "execution_count": 26,
   "id": "fb092582-0024-4743-a9fa-7243a497df79",
   "metadata": {},
   "outputs": [
    {
     "name": "stdout",
     "output_type": "stream",
     "text": [
      "MLPClassifier()\n",
      "Best Parameters: {'alpha': 0.001}\n",
      "F1 Score: 0.864\n",
      "\n"
     ]
    }
   ],
   "source": [
    "MLP_params = {'alpha': [1e2**-1, 1e3**-1, 1e4**-1, 1e5**-1]}\n",
    "run_models2(MLPClassifier(), MLP_params, x_train, x_test, y_train, y_test)"
   ]
  },
  {
   "cell_type": "code",
   "execution_count": 34,
   "id": "906535f6-083d-43d8-a551-1a131cd4ffdd",
   "metadata": {},
   "outputs": [
    {
     "name": "stdout",
     "output_type": "stream",
     "text": [
      "RandomForestClassifier()\n",
      "Best Parameters: {'ccp_alpha': 0}\n",
      "F1 Score: 0.857\n",
      "\n"
     ]
    }
   ],
   "source": [
    "rf_params = {'ccp_alpha': [0, 1e3**-1, 1e5**-1, 1e7**-1, 1e9**-1]}\n",
    "run_models2(RandomForestClassifier(), rf_params, x_train, x_test, y_train, y_test)"
   ]
  },
  {
   "cell_type": "markdown",
   "id": "0f046d84-151b-4f43-9ec8-c2ed8593c7a0",
   "metadata": {},
   "source": [
    "Above, we see that with regularization and pruning, the performance of all models increased, except for the RandomForestClassifier which actually saw a slight decrease. This could be attributed difference in random state when selecting samples and features during training. Note that the reported F1 score is the result of all models in both cases predicting on the same out of sample x_test dataset. Nevertheless, we can see that regularization and pruning aids in the generalizability of the models on out of sample datasets."
   ]
  },
  {
   "cell_type": "markdown",
   "id": "db361ec1-0798-4656-86ed-83624b2069de",
   "metadata": {
    "tags": []
   },
   "source": [
    "# Problem #5"
   ]
  },
  {
   "cell_type": "code",
   "execution_count": 20,
   "id": "198bf05d-9306-4334-8c77-0948fb26add7",
   "metadata": {},
   "outputs": [],
   "source": [
    "import torch\n",
    "import torch.nn as nn\n",
    "import torch.nn.functional as F\n",
    "import torch.optim as optim"
   ]
  },
  {
   "cell_type": "code",
   "execution_count": 21,
   "id": "cf625d24-f7bc-4e6f-980b-26cce1367367",
   "metadata": {},
   "outputs": [],
   "source": [
    "# convert data arrays to tensors\n",
    "x_train_, y_train_ = torch.tensor(x_train.values), torch.tensor(y_train.values)\n",
    "x_test_, y_test_ = torch.tensor(x_test.values), torch.tensor(y_test.values)"
   ]
  },
  {
   "cell_type": "code",
   "execution_count": 22,
   "id": "a9250ac7-a3b4-411b-bdd8-7d13c2cdd1e8",
   "metadata": {},
   "outputs": [],
   "source": [
    "# create neural network\n",
    "class MyNN(nn.Module):\n",
    "\n",
    "    def __init__(self, n_hidden=30, epochs=100, eta=0.05, minibatch_size=50):\n",
    "        super(MyNN, self).__init__()\n",
    "        self.n_hidden = n_hidden\n",
    "        self.epochs = epochs\n",
    "        self.eta = eta\n",
    "        self.minibatch_size = minibatch_size\n",
    "        self.fc1, self.fc2, self.fc3 = None, None, None\n",
    "\n",
    "        \n",
    "    def _forward(self, X, apply_softmax=False):\n",
    "        assert self.fc1 != None\n",
    "        \n",
    "        X = F.relu(self.fc1(X.float()))\n",
    "        X = F.relu(self.fc2(X.float()))\n",
    "        X = F.relu(self.fc3(X.float()))\n",
    "        X = self.fc4(X)\n",
    "        \n",
    "        if apply_softmax:\n",
    "            X = F.softmax(X, dim=1)\n",
    "        return X\n",
    "\n",
    "    \n",
    "    def _reset(self):\n",
    "        for m in self.modules():\n",
    "            if isinstance(m, nn.Linear):\n",
    "                 m.reset_parameters()\n",
    "\n",
    "                    \n",
    "    def predict(self, X):\n",
    "        assert self.fc1 != None\n",
    "        \n",
    "        net_out = self._forward(X, apply_softmax=True)\n",
    "        p_values, indices = net_out.max(dim=1)\n",
    "        return indices\n",
    "\n",
    "    \n",
    "    def fit(self, X_train, y_train):\n",
    "        self._reset()  # Reset the neural network weights\n",
    "        n_output= np.unique(y_train).shape[0]  # number of class labels\n",
    "        n_features= X_train.shape[1]\n",
    "\n",
    "        self.fc1 = nn.Linear(n_features, self.n_hidden)     # input layer\n",
    "        self.fc2 = nn.Linear(self.n_hidden, self.n_hidden)  # hidden layer\n",
    "        self.fc3 = nn.Linear(self.n_hidden, self.n_hidden)  # hidden\n",
    "        self.fc4 = nn.Linear(self.n_hidden, n_output)       # output layer\n",
    "        \n",
    "        optimizer = optim.SGD(self.parameters(), lr=self.eta, momentum=0.9)\n",
    "        loss_func = nn.CrossEntropyLoss()\n",
    "\n",
    "        for i in range(self.epochs):\n",
    "            indices = np.arange(X_train.shape[0])\n",
    "            \n",
    "            for start_idx in range(0, indices.shape[0] - self.minibatch_size + 1, self.minibatch_size):\n",
    "                batch_idx = indices[start_idx:start_idx + self.minibatch_size]\n",
    "                optimizer.zero_grad()\n",
    "                \n",
    "                net_out = self._forward(X_train[batch_idx])\n",
    "                \n",
    "                loss = loss_func(net_out, y_train[batch_idx])\n",
    "                loss.backward()\n",
    "                optimizer.step()"
   ]
  },
  {
   "cell_type": "code",
   "execution_count": 173,
   "id": "6b1c82b1-2309-4829-85f3-5200de27c243",
   "metadata": {},
   "outputs": [
    {
     "name": "stdout",
     "output_type": "stream",
     "text": [
      "CPU times: user 12min 56s, sys: 2.48 s, total: 12min 59s\n",
      "Wall time: 2min 10s\n"
     ]
    }
   ],
   "source": [
    "%%time\n",
    "# train 2 hidden layers neural network\n",
    "Net1 = MyNN(n_hidden=30)\n",
    "\n",
    "Net1.fit(x_train_, y_train_)"
   ]
  },
  {
   "cell_type": "code",
   "execution_count": 174,
   "id": "6c4d4ee2-74e3-43ca-a04a-1d533a08b5f8",
   "metadata": {},
   "outputs": [],
   "source": [
    "# predict\n",
    "y_pred = Net2.predict(x_test_)"
   ]
  },
  {
   "cell_type": "code",
   "execution_count": 175,
   "id": "fb2fd09f-8c70-4b60-ab85-b9138b7fd717",
   "metadata": {},
   "outputs": [
    {
     "name": "stdout",
     "output_type": "stream",
     "text": [
      "F1 Score: 0.822\n"
     ]
    }
   ],
   "source": [
    "# get f1 score\n",
    "print(f'F1 Score: {f1_score(y_pred, y_test_):.3f}')"
   ]
  },
  {
   "cell_type": "markdown",
   "id": "4467cb13-1a41-4fd5-b33c-04820ddef401",
   "metadata": {},
   "source": [
    "Using a 2 layer neural network, each with 30 neurons along with Stochastic Gradient Descent optimizer and Categorical Cross Entropy loss, we were able to get an F1 score of 0.822. This is comprable to the F2 score of the regularized MLP F1 score of 0.864."
   ]
  },
  {
   "cell_type": "markdown",
   "id": "fe093e37-7c13-41f5-95ec-c86f92c84ead",
   "metadata": {},
   "source": [
    "# Problem #6"
   ]
  },
  {
   "cell_type": "code",
   "execution_count": 23,
   "id": "0b7598f1-8046-4279-95d2-1e17c3c3e466",
   "metadata": {},
   "outputs": [],
   "source": [
    "# create neural network\n",
    "class MyNNDropout(nn.Module):\n",
    "\n",
    "    def __init__(self, n_hidden=30, epochs=100, eta=0.05, minibatch_size=50, p_drop=0.2):\n",
    "        super(MyNNDropout, self).__init__()\n",
    "        self.n_hidden = n_hidden\n",
    "        self.epochs = epochs\n",
    "        self.eta = eta\n",
    "        self.minibatch_size = minibatch_size\n",
    "        self.p_drop = p_drop\n",
    "        self.fc1, self.fc2, self.fc3, self.drop = None, None, None, None\n",
    "\n",
    "        \n",
    "    def _forward(self, X, apply_softmax=False):\n",
    "        assert self.fc1 != None\n",
    "        \n",
    "        X = F.relu(self.fc1(X.float()))\n",
    "        X = F.relu(self.fc2(X.float()))\n",
    "        \n",
    "        # dropout layer\n",
    "        self.drop = nn.Dropout(p=self.p_drop)\n",
    "        X = self.drop(X)\n",
    "        \n",
    "        X = F.relu(self.fc3(X.float()))\n",
    "        \n",
    "        # dropout layer\n",
    "        self.drop = nn.Dropout(p=self.p_drop)\n",
    "        X = self.drop(X)\n",
    "        \n",
    "        X = self.fc4(X)\n",
    "        \n",
    "        if apply_softmax:\n",
    "            X = F.softmax(X, dim=1)\n",
    "        return X\n",
    "\n",
    "    \n",
    "    def _reset(self):\n",
    "        for m in self.modules():\n",
    "            if isinstance(m, nn.Linear):\n",
    "                 m.reset_parameters()\n",
    "\n",
    "                    \n",
    "    def predict(self, X):\n",
    "        assert self.fc1 != None\n",
    "        \n",
    "        net_out = self._forward(X, apply_softmax=True)\n",
    "        p_values, indices = net_out.max(dim=1)\n",
    "        return indices\n",
    "\n",
    "    \n",
    "    def fit(self, X_train, y_train):\n",
    "        self._reset()  # Reset the neural network weights\n",
    "        n_output= np.unique(y_train).shape[0]  # number of class labels\n",
    "        n_features= X_train.shape[1]\n",
    "\n",
    "        self.fc1 = nn.Linear(n_features, self.n_hidden)     # input layer\n",
    "        self.fc2 = nn.Linear(self.n_hidden, self.n_hidden)  # hidden layer\n",
    "        self.fc3 = nn.Linear(self.n_hidden, self.n_hidden)  # hidden layer\n",
    "        self.fc4 = nn.Linear(self.n_hidden, n_output)       # output layer\n",
    "        \n",
    "        optimizer = optim.SGD(self.parameters(), lr=self.eta, momentum=0.9)\n",
    "        loss_func = nn.CrossEntropyLoss()\n",
    "\n",
    "        for i in range(self.epochs):\n",
    "            indices = np.arange(X_train.shape[0])\n",
    "            \n",
    "            for start_idx in range(0, indices.shape[0] - self.minibatch_size + 1, self.minibatch_size):\n",
    "                batch_idx = indices[start_idx:start_idx + self.minibatch_size]\n",
    "                optimizer.zero_grad()\n",
    "                \n",
    "                net_out = self._forward(X_train[batch_idx])\n",
    "                \n",
    "                loss = loss_func(net_out, y_train[batch_idx])\n",
    "                loss.backward()\n",
    "                optimizer.step()"
   ]
  },
  {
   "cell_type": "code",
   "execution_count": 211,
   "id": "72f91515-91c5-4c13-9efa-5a4b237c9a59",
   "metadata": {},
   "outputs": [
    {
     "name": "stdout",
     "output_type": "stream",
     "text": [
      "CPU times: user 16min 45s, sys: 2.29 s, total: 16min 47s\n",
      "Wall time: 2min 48s\n"
     ]
    }
   ],
   "source": [
    "%%time\n",
    "# train 2 hidden layers neural network\n",
    "NetDrop = MyNNDropout(n_hidden=30, p_drop=0.5)\n",
    "\n",
    "NetDrop.fit(x_train_, y_train_)"
   ]
  },
  {
   "cell_type": "code",
   "execution_count": 212,
   "id": "92955860-15fd-41ff-837f-de4932dc56a7",
   "metadata": {},
   "outputs": [],
   "source": [
    "# predict\n",
    "y_pred = NetDrop.predict(x_test_)"
   ]
  },
  {
   "cell_type": "code",
   "execution_count": 213,
   "id": "c8b6cc42-0f86-4c8d-9124-abc0d8a20c5a",
   "metadata": {},
   "outputs": [
    {
     "name": "stdout",
     "output_type": "stream",
     "text": [
      "Dropout F1 Score: 0.806\n"
     ]
    }
   ],
   "source": [
    "# get f1 score\n",
    "print(f'Dropout F1 Score: {f1_score(y_pred, y_test_):.3f}')"
   ]
  },
  {
   "cell_type": "markdown",
   "id": "b31232d4-269f-42e4-97a5-b8ed33baba39",
   "metadata": {},
   "source": [
    "# Problem #7"
   ]
  },
  {
   "cell_type": "code",
   "execution_count": 25,
   "id": "2f033851-9950-4050-b690-98ee5d14fdaa",
   "metadata": {},
   "outputs": [],
   "source": [
    "from tqdm import tqdm\n",
    "from sklearn.model_selection import StratifiedKFold"
   ]
  },
  {
   "cell_type": "code",
   "execution_count": 28,
   "id": "164e0c0b-a934-48b0-be5f-3dc6e7ffef6a",
   "metadata": {},
   "outputs": [],
   "source": [
    "# function to implement kfold CV for Random Forest\n",
    "def eval_kfold(model, X, y):\n",
    "    f1 = []\n",
    "    \n",
    "    kf = StratifiedKFold(n_splits=10, shuffle=True, random_state=7)\n",
    "    \n",
    "    for train_index, test_index in kf.split(X, y):\n",
    "        model.fit(X[train_index], y[train_index])\n",
    "        y_pred = model.predict(X[test_index])\n",
    "        \n",
    "        score = f1_score(y[test_index], y_pred)\n",
    "        \n",
    "        f1.append(score)\n",
    "    \n",
    "    return np.mean(f1)"
   ]
  },
  {
   "cell_type": "code",
   "execution_count": 77,
   "id": "2bc95f51-ef8e-43e8-8500-8b8572d2c9c2",
   "metadata": {},
   "outputs": [],
   "source": [
    "# function to implement kfold CV for Neural Networks\n",
    "def eval_kfoldNN(model, X, y):\n",
    "    f1 = []\n",
    "    \n",
    "    kf = StratifiedKFold(n_splits=10, shuffle=True, random_state=7)\n",
    "    \n",
    "    indices = list(kf.split(X,y))\n",
    "    \n",
    "    for i in tqdm(range(10)):\n",
    "        train_index, test_index = indices[i]\n",
    "        \n",
    "        # partition data\n",
    "        x_train, y_train = X[train_index], y[train_index]\n",
    "        x_test, y_test = X[test_index], y[test_index]\n",
    "        \n",
    "        # convert to tensors\n",
    "        x_train, y_train = torch.tensor(x_train), torch.tensor(y_train)\n",
    "        x_test, y_test = torch.tensor(x_test), torch.tensor(y_test)\n",
    "        \n",
    "        \n",
    "        model.fit(x_train, y_train)\n",
    "        y_pred = model.predict(x_test)\n",
    "        \n",
    "        score = f1_score(y_test, y_pred)\n",
    "        \n",
    "        f1.append(score)\n",
    "    \n",
    "    return np.mean(f1)"
   ]
  },
  {
   "cell_type": "code",
   "execution_count": 80,
   "id": "e24e8c5f-af21-4792-8387-094f89b10e32",
   "metadata": {},
   "outputs": [
    {
     "name": "stdout",
     "output_type": "stream",
     "text": [
      "Random Forest 10-Fold CV\n",
      "Average F1 Score: 0.849\n"
     ]
    }
   ],
   "source": [
    "# Random Forest 10-Fold CV\n",
    "RF_score = eval_kfold(RandomForestClassifier(n_jobs=-2), X.values, y.values)\n",
    "\n",
    "print(f'Random Forest 10-Fold CV\\nAverage F1 Score: {RF_score:.3f}')"
   ]
  },
  {
   "cell_type": "code",
   "execution_count": 78,
   "id": "b1c0d222-0eef-451f-8843-7929d12401c7",
   "metadata": {},
   "outputs": [
    {
     "name": "stderr",
     "output_type": "stream",
     "text": [
      "100%|███████████████████████████████████████████████████████████████████████████████████████████████████████████████████████████████████████████████████████████████████████████████████████| 10/10 [36:41<00:00, 220.19s/it]"
     ]
    },
    {
     "name": "stdout",
     "output_type": "stream",
     "text": [
      "Neural Network 10-Fold CV\n",
      "Average F1 Score: 0.791\n"
     ]
    },
    {
     "name": "stderr",
     "output_type": "stream",
     "text": [
      "\n"
     ]
    }
   ],
   "source": [
    "# Neural Network 2 Hidden Layers - No Dropout\n",
    "Net1_score = eval_kfoldNN(MyNN(n_hidden=30), X.values, y.values)\n",
    "\n",
    "print(f'Neural Network 10-Fold CV\\nAverage F1 Score: {Net1_score:.3f}')"
   ]
  },
  {
   "cell_type": "code",
   "execution_count": 79,
   "id": "f8bc728e-3b6d-4ba3-8800-bf63b57b0877",
   "metadata": {},
   "outputs": [
    {
     "name": "stderr",
     "output_type": "stream",
     "text": [
      "100%|███████████████████████████████████████████████████████████████████████████████████████████████████████████████████████████████████████████████████████████████████████████████████████| 10/10 [50:54<00:00, 305.41s/it]"
     ]
    },
    {
     "name": "stdout",
     "output_type": "stream",
     "text": [
      "Neural Network w/ Dropout 10-Fold CV\n",
      "Average F1 Score: 0.771\n"
     ]
    },
    {
     "name": "stderr",
     "output_type": "stream",
     "text": [
      "\n"
     ]
    }
   ],
   "source": [
    "# Neural Network 2 Hidden Layers - With Dropout\n",
    "Net2_score = eval_kfoldNN(MyNNDropout(n_hidden=30, p_drop=0.5), X.values, y.values)\n",
    "\n",
    "print(f'Neural Network w/ Dropout 10-Fold CV\\nAverage F1 Score: {Net2_score:.3f}')"
   ]
  },
  {
   "cell_type": "markdown",
   "id": "e02b7294-830f-4790-ae77-5de8c38b7986",
   "metadata": {},
   "source": [
    "The Random Forest 10-fold CV had a slightly lower F1 score of 0.849 compared to the 50-50 dataset split Random Forest F1 score of 0.857. Since the 50-50 model was only able to predict on a single partition of the dataset, the result is not as informative on how it would perform on unknown data. Thus, the 10-fold CV Random Forest offers a better insight in the actual model's performance.\n",
    "\n",
    "Both neural networks utilized 2 hidden layers. For the 10-fold CV, the Dropout model had a slightly lower score than the non-Dropout model. This is consistent with both networks performing on the 50-50 split dataset in part #6. The difference is about 0.02 between the F1 scores, so the difference is minimal. We should expect that dropout model to generalize better as this is a method of regularization. A possible explaination for this is that the dropout ratio p=0.5 is not optimal. We could perform a grid search to see whether we need to retain more or less weights in order for the Dropout model to generalize better than the non-dropout model. As I do not have CUDA available on my AMD GPU, the compute time is too long to test a grid search."
   ]
  },
  {
   "cell_type": "code",
   "execution_count": null,
   "id": "7ef91b44-d1a1-47db-9229-a78b6073d2ad",
   "metadata": {},
   "outputs": [],
   "source": []
  }
 ],
 "metadata": {
  "kernelspec": {
   "display_name": "Python 3 (ipykernel)",
   "language": "python",
   "name": "python3"
  },
  "language_info": {
   "codemirror_mode": {
    "name": "ipython",
    "version": 3
   },
   "file_extension": ".py",
   "mimetype": "text/x-python",
   "name": "python",
   "nbconvert_exporter": "python",
   "pygments_lexer": "ipython3",
   "version": "3.8.9"
  }
 },
 "nbformat": 4,
 "nbformat_minor": 5
}
