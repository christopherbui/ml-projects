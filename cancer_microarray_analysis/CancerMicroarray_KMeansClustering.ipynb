{
 "cells": [
  {
   "cell_type": "code",
   "execution_count": 1,
   "id": "caf5e956-deff-4f4b-9adf-a9a5f0b87ab9",
   "metadata": {},
   "outputs": [],
   "source": [
    "#%matplotlib qt\n",
    "import numpy as np\n",
    "import pandas as pd\n",
    "import matplotlib.pyplot as plt\n",
    "import seaborn as sns\n",
    "from scipy.io import arff\n",
    "from sklearn.metrics import accuracy_score"
   ]
  },
  {
   "cell_type": "markdown",
   "id": "f2b3c2af-8771-4f9e-8d17-ade6d833a53a",
   "metadata": {},
   "source": [
    "# Load Data"
   ]
  },
  {
   "cell_type": "code",
   "execution_count": 2,
   "id": "681210e4-c3a3-4204-8311-d02184b53a35",
   "metadata": {},
   "outputs": [],
   "source": [
    "arff_train0 = arff.loadarff(\"lymphoma_10fold_arff/dlbcl_pls_train2.arff\")\n",
    "arff_test0 = arff.loadarff(\"lymphoma_10fold_arff/dlbcl_pls_test2.arff\")"
   ]
  },
  {
   "cell_type": "code",
   "execution_count": 3,
   "id": "6191a53b-f3c0-4527-9efc-07ae1bbd6d24",
   "metadata": {},
   "outputs": [],
   "source": [
    "# load data to pandas dataframe\n",
    "df_train0 = pd.DataFrame(arff_train0[0])\n",
    "df_test0 = pd.DataFrame(arff_test0[0])"
   ]
  },
  {
   "cell_type": "markdown",
   "id": "41cfb9dc-332c-4b18-b48e-7bf770602259",
   "metadata": {},
   "source": [
    "# Data Preprocessing"
   ]
  },
  {
   "cell_type": "code",
   "execution_count": 4,
   "id": "dbdf6433-21bd-40c3-a380-707c6cf90599",
   "metadata": {},
   "outputs": [],
   "source": [
    "# tidy up the microarray data\n",
    "def preprocess(train, test):\n",
    "    # rename class column title (last column) for consistency\n",
    "    train.rename(columns={\"'y'\":\"class\"}, inplace=True)\n",
    "    test.rename(columns={\"'y'\":\"class\"}, inplace=True)\n",
    "    \n",
    "    # rename class binary labels for convenience\n",
    "    train['class'] = train['class'].map({b'2':\"diffuse\",\n",
    "                                             b'1':\"follicular\"})\n",
    "    test['class'] = test['class'].map({b'2':\"diffuse\",\n",
    "                                             b'1':\"follicular\"})\n",
    "    \n",
    "    return train, test"
   ]
  },
  {
   "cell_type": "code",
   "execution_count": 5,
   "id": "c55e4f1b-0dd0-4bc1-8345-27ed6fae6789",
   "metadata": {},
   "outputs": [],
   "source": [
    "df_train0, df_test0 = preprocess(df_train0, df_test0)"
   ]
  },
  {
   "cell_type": "markdown",
   "id": "52f11a40-c2ec-4d73-b071-c2500b645edd",
   "metadata": {},
   "source": [
    "# Observe Microarray Data"
   ]
  },
  {
   "cell_type": "code",
   "execution_count": 6,
   "id": "ebc4c27f-7b72-429e-80be-cf4583530e47",
   "metadata": {},
   "outputs": [
    {
     "name": "stdout",
     "output_type": "stream",
     "text": [
      "training dataset shape: (69, 31)\n"
     ]
    },
    {
     "data": {
      "text/html": [
       "<div>\n",
       "<style scoped>\n",
       "    .dataframe tbody tr th:only-of-type {\n",
       "        vertical-align: middle;\n",
       "    }\n",
       "\n",
       "    .dataframe tbody tr th {\n",
       "        vertical-align: top;\n",
       "    }\n",
       "\n",
       "    .dataframe thead th {\n",
       "        text-align: right;\n",
       "    }\n",
       "</style>\n",
       "<table border=\"1\" class=\"dataframe\">\n",
       "  <thead>\n",
       "    <tr style=\"text-align: right;\">\n",
       "      <th></th>\n",
       "      <th>V00594_s_at</th>\n",
       "      <th>X02152_at</th>\n",
       "      <th>HG1980-HT2023_at</th>\n",
       "      <th>HG417-HT417_s_at</th>\n",
       "      <th>L19686_rna1_at</th>\n",
       "      <th>L17131_rna1_at</th>\n",
       "      <th>M14328_s_at</th>\n",
       "      <th>M12529_at</th>\n",
       "      <th>M63138_at</th>\n",
       "      <th>X67951_at</th>\n",
       "      <th>...</th>\n",
       "      <th>X12447_at</th>\n",
       "      <th>M22382_at</th>\n",
       "      <th>S73591_at</th>\n",
       "      <th>X03689_s_at</th>\n",
       "      <th>X17567_s_at</th>\n",
       "      <th>X72755_at</th>\n",
       "      <th>S82297_at</th>\n",
       "      <th>D45248_at</th>\n",
       "      <th>M20471_at</th>\n",
       "      <th>class</th>\n",
       "    </tr>\n",
       "  </thead>\n",
       "  <tbody>\n",
       "    <tr>\n",
       "      <th>0</th>\n",
       "      <td>16000.000000</td>\n",
       "      <td>16000.000000</td>\n",
       "      <td>13727.135861</td>\n",
       "      <td>12290.682516</td>\n",
       "      <td>16000.000000</td>\n",
       "      <td>15885.697314</td>\n",
       "      <td>16000.000000</td>\n",
       "      <td>16000.000000</td>\n",
       "      <td>15972.845869</td>\n",
       "      <td>11895.791105</td>\n",
       "      <td>...</td>\n",
       "      <td>16000.000000</td>\n",
       "      <td>6319.770279</td>\n",
       "      <td>8214.517143</td>\n",
       "      <td>13555.393053</td>\n",
       "      <td>16000.000000</td>\n",
       "      <td>1596.868774</td>\n",
       "      <td>16000.000000</td>\n",
       "      <td>13416.977647</td>\n",
       "      <td>11442.761354</td>\n",
       "      <td>diffuse</td>\n",
       "    </tr>\n",
       "    <tr>\n",
       "      <th>1</th>\n",
       "      <td>16000.000000</td>\n",
       "      <td>16000.000000</td>\n",
       "      <td>16000.000000</td>\n",
       "      <td>5334.721952</td>\n",
       "      <td>16000.000000</td>\n",
       "      <td>16000.000000</td>\n",
       "      <td>11433.682753</td>\n",
       "      <td>16000.000000</td>\n",
       "      <td>9510.267575</td>\n",
       "      <td>13189.982072</td>\n",
       "      <td>...</td>\n",
       "      <td>12379.715825</td>\n",
       "      <td>7302.751421</td>\n",
       "      <td>3549.595362</td>\n",
       "      <td>782.584334</td>\n",
       "      <td>13083.308408</td>\n",
       "      <td>1488.987573</td>\n",
       "      <td>2848.661691</td>\n",
       "      <td>8394.834193</td>\n",
       "      <td>16000.000000</td>\n",
       "      <td>diffuse</td>\n",
       "    </tr>\n",
       "    <tr>\n",
       "      <th>2</th>\n",
       "      <td>3148.910577</td>\n",
       "      <td>1552.538287</td>\n",
       "      <td>3341.481750</td>\n",
       "      <td>1931.826603</td>\n",
       "      <td>2807.609136</td>\n",
       "      <td>3048.722791</td>\n",
       "      <td>3525.922832</td>\n",
       "      <td>4288.799432</td>\n",
       "      <td>3582.921655</td>\n",
       "      <td>1835.577884</td>\n",
       "      <td>...</td>\n",
       "      <td>4583.830619</td>\n",
       "      <td>1369.320209</td>\n",
       "      <td>6475.183311</td>\n",
       "      <td>12559.715716</td>\n",
       "      <td>3079.474374</td>\n",
       "      <td>3361.878230</td>\n",
       "      <td>12032.847295</td>\n",
       "      <td>2163.465458</td>\n",
       "      <td>2085.930811</td>\n",
       "      <td>follicular</td>\n",
       "    </tr>\n",
       "    <tr>\n",
       "      <th>3</th>\n",
       "      <td>5310.230063</td>\n",
       "      <td>5363.214567</td>\n",
       "      <td>13721.973520</td>\n",
       "      <td>2312.085803</td>\n",
       "      <td>8279.081781</td>\n",
       "      <td>9148.318949</td>\n",
       "      <td>7520.624058</td>\n",
       "      <td>4843.364597</td>\n",
       "      <td>6456.584042</td>\n",
       "      <td>4922.956465</td>\n",
       "      <td>...</td>\n",
       "      <td>5689.213714</td>\n",
       "      <td>6602.971669</td>\n",
       "      <td>3060.688177</td>\n",
       "      <td>3280.483191</td>\n",
       "      <td>4862.694119</td>\n",
       "      <td>2115.205609</td>\n",
       "      <td>1515.801997</td>\n",
       "      <td>4350.477881</td>\n",
       "      <td>5670.288572</td>\n",
       "      <td>diffuse</td>\n",
       "    </tr>\n",
       "    <tr>\n",
       "      <th>4</th>\n",
       "      <td>16000.000000</td>\n",
       "      <td>2003.093180</td>\n",
       "      <td>7070.490610</td>\n",
       "      <td>3749.013607</td>\n",
       "      <td>12229.265543</td>\n",
       "      <td>16000.000000</td>\n",
       "      <td>11632.326078</td>\n",
       "      <td>8566.270764</td>\n",
       "      <td>5854.311742</td>\n",
       "      <td>7398.221861</td>\n",
       "      <td>...</td>\n",
       "      <td>8993.729433</td>\n",
       "      <td>7779.116570</td>\n",
       "      <td>9053.829674</td>\n",
       "      <td>4488.379473</td>\n",
       "      <td>6477.185090</td>\n",
       "      <td>2927.034554</td>\n",
       "      <td>3759.347896</td>\n",
       "      <td>5808.536974</td>\n",
       "      <td>6873.514878</td>\n",
       "      <td>diffuse</td>\n",
       "    </tr>\n",
       "  </tbody>\n",
       "</table>\n",
       "<p>5 rows × 31 columns</p>\n",
       "</div>"
      ],
      "text/plain": [
       "    V00594_s_at     X02152_at  HG1980-HT2023_at  HG417-HT417_s_at  \\\n",
       "0  16000.000000  16000.000000      13727.135861      12290.682516   \n",
       "1  16000.000000  16000.000000      16000.000000       5334.721952   \n",
       "2   3148.910577   1552.538287       3341.481750       1931.826603   \n",
       "3   5310.230063   5363.214567      13721.973520       2312.085803   \n",
       "4  16000.000000   2003.093180       7070.490610       3749.013607   \n",
       "\n",
       "   L19686_rna1_at  L17131_rna1_at   M14328_s_at     M12529_at     M63138_at  \\\n",
       "0    16000.000000    15885.697314  16000.000000  16000.000000  15972.845869   \n",
       "1    16000.000000    16000.000000  11433.682753  16000.000000   9510.267575   \n",
       "2     2807.609136     3048.722791   3525.922832   4288.799432   3582.921655   \n",
       "3     8279.081781     9148.318949   7520.624058   4843.364597   6456.584042   \n",
       "4    12229.265543    16000.000000  11632.326078   8566.270764   5854.311742   \n",
       "\n",
       "      X67951_at  ...     X12447_at    M22382_at    S73591_at   X03689_s_at  \\\n",
       "0  11895.791105  ...  16000.000000  6319.770279  8214.517143  13555.393053   \n",
       "1  13189.982072  ...  12379.715825  7302.751421  3549.595362    782.584334   \n",
       "2   1835.577884  ...   4583.830619  1369.320209  6475.183311  12559.715716   \n",
       "3   4922.956465  ...   5689.213714  6602.971669  3060.688177   3280.483191   \n",
       "4   7398.221861  ...   8993.729433  7779.116570  9053.829674   4488.379473   \n",
       "\n",
       "    X17567_s_at    X72755_at     S82297_at     D45248_at     M20471_at  \\\n",
       "0  16000.000000  1596.868774  16000.000000  13416.977647  11442.761354   \n",
       "1  13083.308408  1488.987573   2848.661691   8394.834193  16000.000000   \n",
       "2   3079.474374  3361.878230  12032.847295   2163.465458   2085.930811   \n",
       "3   4862.694119  2115.205609   1515.801997   4350.477881   5670.288572   \n",
       "4   6477.185090  2927.034554   3759.347896   5808.536974   6873.514878   \n",
       "\n",
       "        class  \n",
       "0     diffuse  \n",
       "1     diffuse  \n",
       "2  follicular  \n",
       "3     diffuse  \n",
       "4     diffuse  \n",
       "\n",
       "[5 rows x 31 columns]"
      ]
     },
     "metadata": {},
     "output_type": "display_data"
    },
    {
     "name": "stdout",
     "output_type": "stream",
     "text": [
      "testing dataset shape: (8, 31)\n"
     ]
    },
    {
     "data": {
      "text/html": [
       "<div>\n",
       "<style scoped>\n",
       "    .dataframe tbody tr th:only-of-type {\n",
       "        vertical-align: middle;\n",
       "    }\n",
       "\n",
       "    .dataframe tbody tr th {\n",
       "        vertical-align: top;\n",
       "    }\n",
       "\n",
       "    .dataframe thead th {\n",
       "        text-align: right;\n",
       "    }\n",
       "</style>\n",
       "<table border=\"1\" class=\"dataframe\">\n",
       "  <thead>\n",
       "    <tr style=\"text-align: right;\">\n",
       "      <th></th>\n",
       "      <th>V00594_s_at</th>\n",
       "      <th>X02152_at</th>\n",
       "      <th>HG1980-HT2023_at</th>\n",
       "      <th>HG417-HT417_s_at</th>\n",
       "      <th>L19686_rna1_at</th>\n",
       "      <th>L17131_rna1_at</th>\n",
       "      <th>M14328_s_at</th>\n",
       "      <th>M12529_at</th>\n",
       "      <th>M63138_at</th>\n",
       "      <th>X67951_at</th>\n",
       "      <th>...</th>\n",
       "      <th>X12447_at</th>\n",
       "      <th>M22382_at</th>\n",
       "      <th>S73591_at</th>\n",
       "      <th>X03689_s_at</th>\n",
       "      <th>X17567_s_at</th>\n",
       "      <th>X72755_at</th>\n",
       "      <th>S82297_at</th>\n",
       "      <th>D45248_at</th>\n",
       "      <th>M20471_at</th>\n",
       "      <th>class</th>\n",
       "    </tr>\n",
       "  </thead>\n",
       "  <tbody>\n",
       "    <tr>\n",
       "      <th>0</th>\n",
       "      <td>4107.325326</td>\n",
       "      <td>5009.422570</td>\n",
       "      <td>3951.012471</td>\n",
       "      <td>3947.534218</td>\n",
       "      <td>6830.643311</td>\n",
       "      <td>5308.891191</td>\n",
       "      <td>3664.253134</td>\n",
       "      <td>6522.607758</td>\n",
       "      <td>3979.192151</td>\n",
       "      <td>4330.078806</td>\n",
       "      <td>...</td>\n",
       "      <td>5173.942864</td>\n",
       "      <td>2395.656245</td>\n",
       "      <td>3582.848018</td>\n",
       "      <td>16000.000000</td>\n",
       "      <td>4563.830202</td>\n",
       "      <td>5830.058368</td>\n",
       "      <td>16000.000000</td>\n",
       "      <td>4427.151483</td>\n",
       "      <td>4369.001035</td>\n",
       "      <td>diffuse</td>\n",
       "    </tr>\n",
       "    <tr>\n",
       "      <th>1</th>\n",
       "      <td>12006.018700</td>\n",
       "      <td>16000.000000</td>\n",
       "      <td>16000.000000</td>\n",
       "      <td>8996.877752</td>\n",
       "      <td>16000.000000</td>\n",
       "      <td>16000.000000</td>\n",
       "      <td>16000.000000</td>\n",
       "      <td>11012.140339</td>\n",
       "      <td>9572.447795</td>\n",
       "      <td>13015.301871</td>\n",
       "      <td>...</td>\n",
       "      <td>14072.793664</td>\n",
       "      <td>14562.893855</td>\n",
       "      <td>6614.329229</td>\n",
       "      <td>6761.093022</td>\n",
       "      <td>10277.297516</td>\n",
       "      <td>16000.000000</td>\n",
       "      <td>6450.450655</td>\n",
       "      <td>14306.015726</td>\n",
       "      <td>11531.329122</td>\n",
       "      <td>diffuse</td>\n",
       "    </tr>\n",
       "    <tr>\n",
       "      <th>2</th>\n",
       "      <td>8234.799241</td>\n",
       "      <td>11424.026167</td>\n",
       "      <td>14816.256957</td>\n",
       "      <td>3116.076056</td>\n",
       "      <td>14903.986432</td>\n",
       "      <td>14874.340808</td>\n",
       "      <td>9795.549038</td>\n",
       "      <td>5323.401722</td>\n",
       "      <td>7617.810680</td>\n",
       "      <td>5822.779166</td>\n",
       "      <td>...</td>\n",
       "      <td>10028.825839</td>\n",
       "      <td>2096.858163</td>\n",
       "      <td>3765.789330</td>\n",
       "      <td>14374.783185</td>\n",
       "      <td>5958.664640</td>\n",
       "      <td>1067.091371</td>\n",
       "      <td>8937.919824</td>\n",
       "      <td>3737.406231</td>\n",
       "      <td>7909.725932</td>\n",
       "      <td>diffuse</td>\n",
       "    </tr>\n",
       "    <tr>\n",
       "      <th>3</th>\n",
       "      <td>16000.000000</td>\n",
       "      <td>8488.275629</td>\n",
       "      <td>7316.483791</td>\n",
       "      <td>7156.371079</td>\n",
       "      <td>8742.631622</td>\n",
       "      <td>7867.792790</td>\n",
       "      <td>8935.456445</td>\n",
       "      <td>14138.405219</td>\n",
       "      <td>8992.298886</td>\n",
       "      <td>8263.478235</td>\n",
       "      <td>...</td>\n",
       "      <td>8304.331507</td>\n",
       "      <td>5284.953119</td>\n",
       "      <td>5859.194944</td>\n",
       "      <td>16000.000000</td>\n",
       "      <td>4808.998734</td>\n",
       "      <td>9775.466598</td>\n",
       "      <td>16000.000000</td>\n",
       "      <td>6267.843203</td>\n",
       "      <td>7838.822634</td>\n",
       "      <td>diffuse</td>\n",
       "    </tr>\n",
       "    <tr>\n",
       "      <th>4</th>\n",
       "      <td>16000.000000</td>\n",
       "      <td>10701.122814</td>\n",
       "      <td>4928.506544</td>\n",
       "      <td>10000.931084</td>\n",
       "      <td>8451.543288</td>\n",
       "      <td>9284.602960</td>\n",
       "      <td>10327.215825</td>\n",
       "      <td>7815.758726</td>\n",
       "      <td>6882.218121</td>\n",
       "      <td>6187.808378</td>\n",
       "      <td>...</td>\n",
       "      <td>6802.248566</td>\n",
       "      <td>2954.484811</td>\n",
       "      <td>3413.679853</td>\n",
       "      <td>13252.842489</td>\n",
       "      <td>5011.314778</td>\n",
       "      <td>13701.225454</td>\n",
       "      <td>16000.000000</td>\n",
       "      <td>4641.490068</td>\n",
       "      <td>3888.791691</td>\n",
       "      <td>diffuse</td>\n",
       "    </tr>\n",
       "  </tbody>\n",
       "</table>\n",
       "<p>5 rows × 31 columns</p>\n",
       "</div>"
      ],
      "text/plain": [
       "    V00594_s_at     X02152_at  HG1980-HT2023_at  HG417-HT417_s_at  \\\n",
       "0   4107.325326   5009.422570       3951.012471       3947.534218   \n",
       "1  12006.018700  16000.000000      16000.000000       8996.877752   \n",
       "2   8234.799241  11424.026167      14816.256957       3116.076056   \n",
       "3  16000.000000   8488.275629       7316.483791       7156.371079   \n",
       "4  16000.000000  10701.122814       4928.506544      10000.931084   \n",
       "\n",
       "   L19686_rna1_at  L17131_rna1_at   M14328_s_at     M12529_at    M63138_at  \\\n",
       "0     6830.643311     5308.891191   3664.253134   6522.607758  3979.192151   \n",
       "1    16000.000000    16000.000000  16000.000000  11012.140339  9572.447795   \n",
       "2    14903.986432    14874.340808   9795.549038   5323.401722  7617.810680   \n",
       "3     8742.631622     7867.792790   8935.456445  14138.405219  8992.298886   \n",
       "4     8451.543288     9284.602960  10327.215825   7815.758726  6882.218121   \n",
       "\n",
       "      X67951_at  ...     X12447_at     M22382_at    S73591_at   X03689_s_at  \\\n",
       "0   4330.078806  ...   5173.942864   2395.656245  3582.848018  16000.000000   \n",
       "1  13015.301871  ...  14072.793664  14562.893855  6614.329229   6761.093022   \n",
       "2   5822.779166  ...  10028.825839   2096.858163  3765.789330  14374.783185   \n",
       "3   8263.478235  ...   8304.331507   5284.953119  5859.194944  16000.000000   \n",
       "4   6187.808378  ...   6802.248566   2954.484811  3413.679853  13252.842489   \n",
       "\n",
       "    X17567_s_at     X72755_at     S82297_at     D45248_at     M20471_at  \\\n",
       "0   4563.830202   5830.058368  16000.000000   4427.151483   4369.001035   \n",
       "1  10277.297516  16000.000000   6450.450655  14306.015726  11531.329122   \n",
       "2   5958.664640   1067.091371   8937.919824   3737.406231   7909.725932   \n",
       "3   4808.998734   9775.466598  16000.000000   6267.843203   7838.822634   \n",
       "4   5011.314778  13701.225454  16000.000000   4641.490068   3888.791691   \n",
       "\n",
       "     class  \n",
       "0  diffuse  \n",
       "1  diffuse  \n",
       "2  diffuse  \n",
       "3  diffuse  \n",
       "4  diffuse  \n",
       "\n",
       "[5 rows x 31 columns]"
      ]
     },
     "metadata": {},
     "output_type": "display_data"
    }
   ],
   "source": [
    "print('training dataset shape:', df_train0.shape)\n",
    "display(df_train0.head())\n",
    "\n",
    "print('testing dataset shape:', df_test0.shape)\n",
    "display(df_test0.head())"
   ]
  },
  {
   "cell_type": "markdown",
   "id": "27c3dcc2-576f-440f-bb61-d04c071e19fb",
   "metadata": {},
   "source": [
    "# Observe Class Balance"
   ]
  },
  {
   "cell_type": "code",
   "execution_count": 7,
   "id": "edb22fcb-0a8f-4bba-ae26-decb12fe135e",
   "metadata": {},
   "outputs": [
    {
     "data": {
      "text/plain": [
       "diffuse       50\n",
       "follicular    19\n",
       "Name: class, dtype: int64"
      ]
     },
     "execution_count": 7,
     "metadata": {},
     "output_type": "execute_result"
    }
   ],
   "source": [
    "# train data\n",
    "df_train0['class'].value_counts()"
   ]
  },
  {
   "cell_type": "code",
   "execution_count": 8,
   "id": "e8466065-8af1-4376-b52c-ec28e14bab73",
   "metadata": {},
   "outputs": [
    {
     "data": {
      "text/plain": [
       "diffuse    8\n",
       "Name: class, dtype: int64"
      ]
     },
     "execution_count": 8,
     "metadata": {},
     "output_type": "execute_result"
    }
   ],
   "source": [
    "# test data\n",
    "df_test0['class'].value_counts()"
   ]
  },
  {
   "cell_type": "markdown",
   "id": "b2d9ef1c-b51d-4cfc-88e8-c4de0d939cd1",
   "metadata": {},
   "source": [
    "# Dimensionality Reduction: Principle Component Analysis"
   ]
  },
  {
   "cell_type": "code",
   "execution_count": 6,
   "id": "df4f9950-f80d-4bf2-a540-711eafd0bd8f",
   "metadata": {},
   "outputs": [],
   "source": [
    "# normalize values for each feature (column) in microarray table\n",
    "def normalize(data_):\n",
    "    data = data_.copy()\n",
    "    \n",
    "    # for each column\n",
    "    for i in range(0, data.shape[1]):\n",
    "        min_ = data[:,i].min()    # get min value in column\n",
    "        max_ = data[:,i].max()   # get max value in column\n",
    "        \n",
    "        temp = (data[:,i] - min_) / (max_ - min_)   # normalize column values\n",
    "        data[:,i] = temp\n",
    "    \n",
    "    return data"
   ]
  },
  {
   "cell_type": "code",
   "execution_count": 7,
   "id": "bd6a18d3-21a5-4ed7-b0cc-427e282ddfee",
   "metadata": {},
   "outputs": [],
   "source": [
    "# calculate covariance\n",
    "def covariance(col1, col2):\n",
    "    avg1 = col1.mean()\n",
    "    avg2 = col2.mean()\n",
    "    \n",
    "    cov = 0\n",
    "    \n",
    "    for i in range(len(col1)):\n",
    "        cov = cov + ((col1[i] - avg1) * (col2[i] - avg2))\n",
    "    \n",
    "    cov = cov / (len(col1) - 1)\n",
    "    \n",
    "    return cov"
   ]
  },
  {
   "cell_type": "code",
   "execution_count": 8,
   "id": "cb23cf40-fca2-4017-a3cf-6fc3bc385b42",
   "metadata": {},
   "outputs": [],
   "source": [
    "# calculate covariance matrix\n",
    "def covariance_matrix(data_):\n",
    "    data = data_.copy()\n",
    "    \n",
    "    # number of features (columns) in microarray\n",
    "    dim = data.shape[1]\n",
    "    \n",
    "    # initiate matrix\n",
    "    cov_matrix = np.zeros((dim, dim))\n",
    "    \n",
    "    # create covariance matrix\n",
    "    for i in range(dim):\n",
    "        for j in range(dim):\n",
    "            cov = covariance(data[:,i], data[:,j])\n",
    "            \n",
    "            cov_matrix[i,j] = cov\n",
    "    \n",
    "    return cov_matrix"
   ]
  },
  {
   "cell_type": "code",
   "execution_count": 9,
   "id": "675d3810-b3eb-4bcb-8e9e-e9123420a8a2",
   "metadata": {},
   "outputs": [],
   "source": [
    "# Principle Component Analysis: Dimensionality Reduction\n",
    "def PCA(data_, N_components):\n",
    "    data = data_.copy()\n",
    "    \n",
    "    # subtract mean of samples within each feature\n",
    "    data = data - np.mean(data, axis=0)\n",
    "    \n",
    "    # covariance matrix\n",
    "    cov_matrix = covariance_matrix(data)\n",
    "    \n",
    "    # calculate eigenvalues & eigen vectors\n",
    "    eigen_values, eigen_vectors = np.linalg.eigh(cov_matrix)\n",
    "    \n",
    "    # sort eigenvalues in descending order\n",
    "    sorted_index = np.argsort(eigen_values)[::-1]\n",
    "    sorted_eigen_values = eigen_values[sorted_index]\n",
    "    \n",
    "    # sort eigenvectors in descending order\n",
    "    sorted_eigen_vectors = eigen_vectors[:,sorted_index]\n",
    "    \n",
    "    # get the first N components\n",
    "    # PCA 1 captures the most variance\n",
    "    eigen_vector_subset = sorted_eigen_vectors[:, 0:N_components]\n",
    "    \n",
    "    # reduce microarray data to fit onto N components\n",
    "    data_reduced = np.dot(eigen_vector_subset.transpose(), data.transpose()).transpose()\n",
    "    \n",
    "    return data_reduced, sorted_eigen_values, sorted_eigen_vectors"
   ]
  },
  {
   "cell_type": "markdown",
   "id": "1356c9cf-0ce0-4f5d-864b-acc2cee7ebbc",
   "metadata": {},
   "source": [
    "## Perform PCA"
   ]
  },
  {
   "cell_type": "code",
   "execution_count": 10,
   "id": "dadd61b6-ca1f-4c81-8f69-b65e2aebb052",
   "metadata": {},
   "outputs": [],
   "source": [
    "# separate data & class labels\n",
    "train0 = df_train0.iloc[:,:-1].values\n",
    "train0_class = df_train0.iloc[:,-1]"
   ]
  },
  {
   "cell_type": "code",
   "execution_count": 11,
   "id": "eeb4225e-0a55-470a-be4c-e2ccee5f89ae",
   "metadata": {},
   "outputs": [],
   "source": [
    "# normalize microarray data\n",
    "train0 = normalize(train0)"
   ]
  },
  {
   "cell_type": "code",
   "execution_count": 50,
   "id": "68acb399-b9e1-44b6-a43c-14b42a1d74e7",
   "metadata": {},
   "outputs": [],
   "source": [
    "train0_norm = pd.DataFrame(train0, columns=df_train0.columns[:-1])"
   ]
  },
  {
   "cell_type": "code",
   "execution_count": 51,
   "id": "27260ce3-5ea8-432d-82d5-0644da7283ba",
   "metadata": {},
   "outputs": [
    {
     "data": {
      "text/html": [
       "<div>\n",
       "<style scoped>\n",
       "    .dataframe tbody tr th:only-of-type {\n",
       "        vertical-align: middle;\n",
       "    }\n",
       "\n",
       "    .dataframe tbody tr th {\n",
       "        vertical-align: top;\n",
       "    }\n",
       "\n",
       "    .dataframe thead th {\n",
       "        text-align: right;\n",
       "    }\n",
       "</style>\n",
       "<table border=\"1\" class=\"dataframe\">\n",
       "  <thead>\n",
       "    <tr style=\"text-align: right;\">\n",
       "      <th></th>\n",
       "      <th>V00594_s_at</th>\n",
       "      <th>X02152_at</th>\n",
       "      <th>HG1980-HT2023_at</th>\n",
       "      <th>HG417-HT417_s_at</th>\n",
       "      <th>L19686_rna1_at</th>\n",
       "      <th>L17131_rna1_at</th>\n",
       "      <th>M14328_s_at</th>\n",
       "      <th>M12529_at</th>\n",
       "      <th>M63138_at</th>\n",
       "      <th>X67951_at</th>\n",
       "      <th>...</th>\n",
       "      <th>J03077_s_at</th>\n",
       "      <th>X12447_at</th>\n",
       "      <th>M22382_at</th>\n",
       "      <th>S73591_at</th>\n",
       "      <th>X03689_s_at</th>\n",
       "      <th>X17567_s_at</th>\n",
       "      <th>X72755_at</th>\n",
       "      <th>S82297_at</th>\n",
       "      <th>D45248_at</th>\n",
       "      <th>M20471_at</th>\n",
       "    </tr>\n",
       "  </thead>\n",
       "  <tbody>\n",
       "    <tr>\n",
       "      <th>0</th>\n",
       "      <td>1.000000</td>\n",
       "      <td>1.000000</td>\n",
       "      <td>0.828061</td>\n",
       "      <td>0.752406</td>\n",
       "      <td>1.000000</td>\n",
       "      <td>0.991763</td>\n",
       "      <td>1.000000</td>\n",
       "      <td>1.000000</td>\n",
       "      <td>0.998112</td>\n",
       "      <td>0.718530</td>\n",
       "      <td>...</td>\n",
       "      <td>1.000000</td>\n",
       "      <td>1.000000</td>\n",
       "      <td>0.363660</td>\n",
       "      <td>0.455596</td>\n",
       "      <td>0.840345</td>\n",
       "      <td>1.000000</td>\n",
       "      <td>0.042301</td>\n",
       "      <td>1.000000</td>\n",
       "      <td>0.825777</td>\n",
       "      <td>0.672473</td>\n",
       "    </tr>\n",
       "    <tr>\n",
       "      <th>1</th>\n",
       "      <td>1.000000</td>\n",
       "      <td>1.000000</td>\n",
       "      <td>1.000000</td>\n",
       "      <td>0.288101</td>\n",
       "      <td>1.000000</td>\n",
       "      <td>1.000000</td>\n",
       "      <td>0.683400</td>\n",
       "      <td>1.000000</td>\n",
       "      <td>0.548810</td>\n",
       "      <td>0.807287</td>\n",
       "      <td>...</td>\n",
       "      <td>1.000000</td>\n",
       "      <td>0.709532</td>\n",
       "      <td>0.428277</td>\n",
       "      <td>0.129399</td>\n",
       "      <td>0.006165</td>\n",
       "      <td>0.794603</td>\n",
       "      <td>0.035128</td>\n",
       "      <td>0.110198</td>\n",
       "      <td>0.487037</td>\n",
       "      <td>1.000000</td>\n",
       "    </tr>\n",
       "    <tr>\n",
       "      <th>2</th>\n",
       "      <td>0.058685</td>\n",
       "      <td>0.019089</td>\n",
       "      <td>0.042403</td>\n",
       "      <td>0.060960</td>\n",
       "      <td>0.026697</td>\n",
       "      <td>0.066679</td>\n",
       "      <td>0.135126</td>\n",
       "      <td>0.158123</td>\n",
       "      <td>0.136720</td>\n",
       "      <td>0.028592</td>\n",
       "      <td>...</td>\n",
       "      <td>0.284656</td>\n",
       "      <td>0.084042</td>\n",
       "      <td>0.038237</td>\n",
       "      <td>0.333973</td>\n",
       "      <td>0.775318</td>\n",
       "      <td>0.090121</td>\n",
       "      <td>0.159661</td>\n",
       "      <td>0.731588</td>\n",
       "      <td>0.066735</td>\n",
       "      <td>0.000000</td>\n",
       "    </tr>\n",
       "    <tr>\n",
       "      <th>3</th>\n",
       "      <td>0.216997</td>\n",
       "      <td>0.277815</td>\n",
       "      <td>0.827671</td>\n",
       "      <td>0.086342</td>\n",
       "      <td>0.430369</td>\n",
       "      <td>0.506240</td>\n",
       "      <td>0.412093</td>\n",
       "      <td>0.197989</td>\n",
       "      <td>0.336507</td>\n",
       "      <td>0.240327</td>\n",
       "      <td>...</td>\n",
       "      <td>0.276247</td>\n",
       "      <td>0.172731</td>\n",
       "      <td>0.382276</td>\n",
       "      <td>0.095212</td>\n",
       "      <td>0.169300</td>\n",
       "      <td>0.215698</td>\n",
       "      <td>0.076766</td>\n",
       "      <td>0.020018</td>\n",
       "      <td>0.214247</td>\n",
       "      <td>0.257607</td>\n",
       "    </tr>\n",
       "    <tr>\n",
       "      <th>4</th>\n",
       "      <td>1.000000</td>\n",
       "      <td>0.049680</td>\n",
       "      <td>0.324496</td>\n",
       "      <td>0.182256</td>\n",
       "      <td>0.721804</td>\n",
       "      <td>1.000000</td>\n",
       "      <td>0.697173</td>\n",
       "      <td>0.465615</td>\n",
       "      <td>0.294635</td>\n",
       "      <td>0.410083</td>\n",
       "      <td>...</td>\n",
       "      <td>0.725839</td>\n",
       "      <td>0.437863</td>\n",
       "      <td>0.459592</td>\n",
       "      <td>0.514286</td>\n",
       "      <td>0.248187</td>\n",
       "      <td>0.329392</td>\n",
       "      <td>0.130747</td>\n",
       "      <td>0.171814</td>\n",
       "      <td>0.312593</td>\n",
       "      <td>0.344082</td>\n",
       "    </tr>\n",
       "    <tr>\n",
       "      <th>...</th>\n",
       "      <td>...</td>\n",
       "      <td>...</td>\n",
       "      <td>...</td>\n",
       "      <td>...</td>\n",
       "      <td>...</td>\n",
       "      <td>...</td>\n",
       "      <td>...</td>\n",
       "      <td>...</td>\n",
       "      <td>...</td>\n",
       "      <td>...</td>\n",
       "      <td>...</td>\n",
       "      <td>...</td>\n",
       "      <td>...</td>\n",
       "      <td>...</td>\n",
       "      <td>...</td>\n",
       "      <td>...</td>\n",
       "      <td>...</td>\n",
       "      <td>...</td>\n",
       "      <td>...</td>\n",
       "      <td>...</td>\n",
       "      <td>...</td>\n",
       "    </tr>\n",
       "    <tr>\n",
       "      <th>64</th>\n",
       "      <td>0.240662</td>\n",
       "      <td>1.000000</td>\n",
       "      <td>0.490320</td>\n",
       "      <td>0.677269</td>\n",
       "      <td>0.814236</td>\n",
       "      <td>0.883053</td>\n",
       "      <td>1.000000</td>\n",
       "      <td>0.576657</td>\n",
       "      <td>0.506243</td>\n",
       "      <td>0.934930</td>\n",
       "      <td>...</td>\n",
       "      <td>1.000000</td>\n",
       "      <td>0.617032</td>\n",
       "      <td>0.446417</td>\n",
       "      <td>0.139160</td>\n",
       "      <td>1.000000</td>\n",
       "      <td>0.511668</td>\n",
       "      <td>0.226505</td>\n",
       "      <td>0.857271</td>\n",
       "      <td>0.370725</td>\n",
       "      <td>0.340804</td>\n",
       "    </tr>\n",
       "    <tr>\n",
       "      <th>65</th>\n",
       "      <td>1.000000</td>\n",
       "      <td>1.000000</td>\n",
       "      <td>0.644755</td>\n",
       "      <td>0.924399</td>\n",
       "      <td>0.809545</td>\n",
       "      <td>0.903125</td>\n",
       "      <td>1.000000</td>\n",
       "      <td>1.000000</td>\n",
       "      <td>0.825258</td>\n",
       "      <td>0.676587</td>\n",
       "      <td>...</td>\n",
       "      <td>1.000000</td>\n",
       "      <td>0.871578</td>\n",
       "      <td>0.576143</td>\n",
       "      <td>1.000000</td>\n",
       "      <td>1.000000</td>\n",
       "      <td>0.522563</td>\n",
       "      <td>0.429727</td>\n",
       "      <td>1.000000</td>\n",
       "      <td>0.455178</td>\n",
       "      <td>0.426704</td>\n",
       "    </tr>\n",
       "    <tr>\n",
       "      <th>66</th>\n",
       "      <td>1.000000</td>\n",
       "      <td>0.420539</td>\n",
       "      <td>0.145467</td>\n",
       "      <td>0.868719</td>\n",
       "      <td>0.526835</td>\n",
       "      <td>0.657603</td>\n",
       "      <td>0.385620</td>\n",
       "      <td>0.724813</td>\n",
       "      <td>0.861512</td>\n",
       "      <td>0.363158</td>\n",
       "      <td>...</td>\n",
       "      <td>1.000000</td>\n",
       "      <td>0.459799</td>\n",
       "      <td>0.442317</td>\n",
       "      <td>0.253785</td>\n",
       "      <td>1.000000</td>\n",
       "      <td>0.345766</td>\n",
       "      <td>0.430853</td>\n",
       "      <td>0.980343</td>\n",
       "      <td>0.225343</td>\n",
       "      <td>0.266746</td>\n",
       "    </tr>\n",
       "    <tr>\n",
       "      <th>67</th>\n",
       "      <td>0.586467</td>\n",
       "      <td>0.759147</td>\n",
       "      <td>0.973194</td>\n",
       "      <td>0.425172</td>\n",
       "      <td>0.830787</td>\n",
       "      <td>0.315155</td>\n",
       "      <td>0.282486</td>\n",
       "      <td>0.152595</td>\n",
       "      <td>0.200936</td>\n",
       "      <td>0.403594</td>\n",
       "      <td>...</td>\n",
       "      <td>0.407359</td>\n",
       "      <td>0.535144</td>\n",
       "      <td>0.194889</td>\n",
       "      <td>0.107092</td>\n",
       "      <td>0.498513</td>\n",
       "      <td>0.705148</td>\n",
       "      <td>0.000000</td>\n",
       "      <td>0.752669</td>\n",
       "      <td>0.301267</td>\n",
       "      <td>0.491578</td>\n",
       "    </tr>\n",
       "    <tr>\n",
       "      <th>68</th>\n",
       "      <td>0.337979</td>\n",
       "      <td>1.000000</td>\n",
       "      <td>0.269798</td>\n",
       "      <td>0.370433</td>\n",
       "      <td>1.000000</td>\n",
       "      <td>0.443644</td>\n",
       "      <td>0.478228</td>\n",
       "      <td>0.462901</td>\n",
       "      <td>0.438503</td>\n",
       "      <td>0.303088</td>\n",
       "      <td>...</td>\n",
       "      <td>0.917454</td>\n",
       "      <td>0.376763</td>\n",
       "      <td>0.190794</td>\n",
       "      <td>0.163166</td>\n",
       "      <td>1.000000</td>\n",
       "      <td>0.389084</td>\n",
       "      <td>0.544269</td>\n",
       "      <td>1.000000</td>\n",
       "      <td>0.357433</td>\n",
       "      <td>0.164084</td>\n",
       "    </tr>\n",
       "  </tbody>\n",
       "</table>\n",
       "<p>69 rows × 30 columns</p>\n",
       "</div>"
      ],
      "text/plain": [
       "    V00594_s_at  X02152_at  HG1980-HT2023_at  HG417-HT417_s_at  \\\n",
       "0      1.000000   1.000000          0.828061          0.752406   \n",
       "1      1.000000   1.000000          1.000000          0.288101   \n",
       "2      0.058685   0.019089          0.042403          0.060960   \n",
       "3      0.216997   0.277815          0.827671          0.086342   \n",
       "4      1.000000   0.049680          0.324496          0.182256   \n",
       "..          ...        ...               ...               ...   \n",
       "64     0.240662   1.000000          0.490320          0.677269   \n",
       "65     1.000000   1.000000          0.644755          0.924399   \n",
       "66     1.000000   0.420539          0.145467          0.868719   \n",
       "67     0.586467   0.759147          0.973194          0.425172   \n",
       "68     0.337979   1.000000          0.269798          0.370433   \n",
       "\n",
       "    L19686_rna1_at  L17131_rna1_at  M14328_s_at  M12529_at  M63138_at  \\\n",
       "0         1.000000        0.991763     1.000000   1.000000   0.998112   \n",
       "1         1.000000        1.000000     0.683400   1.000000   0.548810   \n",
       "2         0.026697        0.066679     0.135126   0.158123   0.136720   \n",
       "3         0.430369        0.506240     0.412093   0.197989   0.336507   \n",
       "4         0.721804        1.000000     0.697173   0.465615   0.294635   \n",
       "..             ...             ...          ...        ...        ...   \n",
       "64        0.814236        0.883053     1.000000   0.576657   0.506243   \n",
       "65        0.809545        0.903125     1.000000   1.000000   0.825258   \n",
       "66        0.526835        0.657603     0.385620   0.724813   0.861512   \n",
       "67        0.830787        0.315155     0.282486   0.152595   0.200936   \n",
       "68        1.000000        0.443644     0.478228   0.462901   0.438503   \n",
       "\n",
       "    X67951_at  ...  J03077_s_at  X12447_at  M22382_at  S73591_at  X03689_s_at  \\\n",
       "0    0.718530  ...     1.000000   1.000000   0.363660   0.455596     0.840345   \n",
       "1    0.807287  ...     1.000000   0.709532   0.428277   0.129399     0.006165   \n",
       "2    0.028592  ...     0.284656   0.084042   0.038237   0.333973     0.775318   \n",
       "3    0.240327  ...     0.276247   0.172731   0.382276   0.095212     0.169300   \n",
       "4    0.410083  ...     0.725839   0.437863   0.459592   0.514286     0.248187   \n",
       "..        ...  ...          ...        ...        ...        ...          ...   \n",
       "64   0.934930  ...     1.000000   0.617032   0.446417   0.139160     1.000000   \n",
       "65   0.676587  ...     1.000000   0.871578   0.576143   1.000000     1.000000   \n",
       "66   0.363158  ...     1.000000   0.459799   0.442317   0.253785     1.000000   \n",
       "67   0.403594  ...     0.407359   0.535144   0.194889   0.107092     0.498513   \n",
       "68   0.303088  ...     0.917454   0.376763   0.190794   0.163166     1.000000   \n",
       "\n",
       "    X17567_s_at  X72755_at  S82297_at  D45248_at  M20471_at  \n",
       "0      1.000000   0.042301   1.000000   0.825777   0.672473  \n",
       "1      0.794603   0.035128   0.110198   0.487037   1.000000  \n",
       "2      0.090121   0.159661   0.731588   0.066735   0.000000  \n",
       "3      0.215698   0.076766   0.020018   0.214247   0.257607  \n",
       "4      0.329392   0.130747   0.171814   0.312593   0.344082  \n",
       "..          ...        ...        ...        ...        ...  \n",
       "64     0.511668   0.226505   0.857271   0.370725   0.340804  \n",
       "65     0.522563   0.429727   1.000000   0.455178   0.426704  \n",
       "66     0.345766   0.430853   0.980343   0.225343   0.266746  \n",
       "67     0.705148   0.000000   0.752669   0.301267   0.491578  \n",
       "68     0.389084   0.544269   1.000000   0.357433   0.164084  \n",
       "\n",
       "[69 rows x 30 columns]"
      ]
     },
     "execution_count": 51,
     "metadata": {},
     "output_type": "execute_result"
    }
   ],
   "source": [
    "train0_norm"
   ]
  },
  {
   "cell_type": "code",
   "execution_count": 15,
   "id": "6568ac01-e4a7-42b8-9337-7ecad73ae784",
   "metadata": {
    "tags": []
   },
   "outputs": [
    {
     "data": {
      "image/png": "[encoded data removed]",
      "text/plain": [
       "<Figure size 576x432 with 2 Axes>"
      ]
     },
     "metadata": {
      "needs_background": "light"
     },
     "output_type": "display_data"
    }
   ],
   "source": [
    "# observe covariance matrix\n",
    "cov_matrix = covariance_matrix(train0)\n",
    "\n",
    "fig, ax = plt.subplots(figsize=(8,6))\n",
    "sns.heatmap(cov_matrix, annot=False, ax=ax)\n",
    "\n",
    "plt.show()"
   ]
  },
  {
   "cell_type": "code",
   "execution_count": 12,
   "id": "43a8077a-95c3-4fe7-80bc-8ad6177880f1",
   "metadata": {},
   "outputs": [
    {
     "name": "stdout",
     "output_type": "stream",
     "text": [
      "eigenvalues:\n",
      " [1.58734546 0.33517337 0.23352505 0.13771123 0.09838634 0.05696695\n",
      " 0.04681292 0.04334209 0.03438136 0.03067583 0.02502512 0.0243667\n",
      " 0.02145534 0.0204136  0.01956306 0.01787193 0.01607407 0.01286363\n",
      " 0.0117904  0.00922551 0.00801145 0.00672167 0.00616826 0.00536429\n",
      " 0.00413827 0.00357632 0.00323753 0.00281967 0.00267843 0.00221911]\n"
     ]
    },
    {
     "data": {
      "text/html": [
       "<div>\n",
       "<style scoped>\n",
       "    .dataframe tbody tr th:only-of-type {\n",
       "        vertical-align: middle;\n",
       "    }\n",
       "\n",
       "    .dataframe tbody tr th {\n",
       "        vertical-align: top;\n",
       "    }\n",
       "\n",
       "    .dataframe thead th {\n",
       "        text-align: right;\n",
       "    }\n",
       "</style>\n",
       "<table border=\"1\" class=\"dataframe\">\n",
       "  <thead>\n",
       "    <tr style=\"text-align: right;\">\n",
       "      <th></th>\n",
       "      <th>PC1</th>\n",
       "      <th>PC2</th>\n",
       "      <th>class</th>\n",
       "    </tr>\n",
       "  </thead>\n",
       "  <tbody>\n",
       "    <tr>\n",
       "      <th>0</th>\n",
       "      <td>2.138723</td>\n",
       "      <td>-0.327405</td>\n",
       "      <td>diffuse</td>\n",
       "    </tr>\n",
       "    <tr>\n",
       "      <th>1</th>\n",
       "      <td>1.682994</td>\n",
       "      <td>0.990256</td>\n",
       "      <td>diffuse</td>\n",
       "    </tr>\n",
       "    <tr>\n",
       "      <th>2</th>\n",
       "      <td>-1.903203</td>\n",
       "      <td>0.044920</td>\n",
       "      <td>follicular</td>\n",
       "    </tr>\n",
       "    <tr>\n",
       "      <th>3</th>\n",
       "      <td>-0.767122</td>\n",
       "      <td>1.131461</td>\n",
       "      <td>diffuse</td>\n",
       "    </tr>\n",
       "    <tr>\n",
       "      <th>4</th>\n",
       "      <td>0.264659</td>\n",
       "      <td>0.591953</td>\n",
       "      <td>diffuse</td>\n",
       "    </tr>\n",
       "    <tr>\n",
       "      <th>...</th>\n",
       "      <td>...</td>\n",
       "      <td>...</td>\n",
       "      <td>...</td>\n",
       "    </tr>\n",
       "    <tr>\n",
       "      <th>64</th>\n",
       "      <td>0.991231</td>\n",
       "      <td>-0.270941</td>\n",
       "      <td>diffuse</td>\n",
       "    </tr>\n",
       "    <tr>\n",
       "      <th>65</th>\n",
       "      <td>1.453373</td>\n",
       "      <td>-0.624513</td>\n",
       "      <td>diffuse</td>\n",
       "    </tr>\n",
       "    <tr>\n",
       "      <th>66</th>\n",
       "      <td>0.486517</td>\n",
       "      <td>-0.447785</td>\n",
       "      <td>diffuse</td>\n",
       "    </tr>\n",
       "    <tr>\n",
       "      <th>67</th>\n",
       "      <td>0.068312</td>\n",
       "      <td>0.451331</td>\n",
       "      <td>diffuse</td>\n",
       "    </tr>\n",
       "    <tr>\n",
       "      <th>68</th>\n",
       "      <td>0.072263</td>\n",
       "      <td>-0.483623</td>\n",
       "      <td>diffuse</td>\n",
       "    </tr>\n",
       "  </tbody>\n",
       "</table>\n",
       "<p>69 rows × 3 columns</p>\n",
       "</div>"
      ],
      "text/plain": [
       "         PC1       PC2       class\n",
       "0   2.138723 -0.327405     diffuse\n",
       "1   1.682994  0.990256     diffuse\n",
       "2  -1.903203  0.044920  follicular\n",
       "3  -0.767122  1.131461     diffuse\n",
       "4   0.264659  0.591953     diffuse\n",
       "..       ...       ...         ...\n",
       "64  0.991231 -0.270941     diffuse\n",
       "65  1.453373 -0.624513     diffuse\n",
       "66  0.486517 -0.447785     diffuse\n",
       "67  0.068312  0.451331     diffuse\n",
       "68  0.072263 -0.483623     diffuse\n",
       "\n",
       "[69 rows x 3 columns]"
      ]
     },
     "execution_count": 12,
     "metadata": {},
     "output_type": "execute_result"
    }
   ],
   "source": [
    "# PCA: 2 components\n",
    "data_PCA2, eigenvalues, eigenvectors = PCA(train0, 2)\n",
    "\n",
    "df_PCA2 = pd.DataFrame(data_PCA2, columns=['PC1','PC2'])\n",
    "df_PCA2 = pd.concat([df_PCA2, train0_class], axis=1)\n",
    "\n",
    "# observe sorted eigenvalues\n",
    "print('eigenvalues:\\n', eigenvalues)\n",
    "\n",
    "# observe reduced data\n",
    "df_PCA2"
   ]
  },
  {
   "cell_type": "code",
   "execution_count": 52,
   "id": "1c687dca-55f9-48ed-a627-b9e28c2935d5",
   "metadata": {},
   "outputs": [],
   "source": [
    "def scatter(df_, f0, f1, labelpad=0, title=''):\n",
    "    df = df_.copy()\n",
    "    \n",
    "    # separate samples by class label\n",
    "    class0 = df[df['class'] == 'follicular']\n",
    "    class1 = df[df['class'] == 'diffuse']\n",
    "    \n",
    "    plt.scatter(class0[f0], class0[f1], color='deeppink', alpha=0.7, s=50)\n",
    "    plt.scatter(class1[f0], class1[f1], color='deepskyblue', alpha=0.7, s=50)\n",
    "    \n",
    "    plt.xlabel(f0, labelpad=labelpad)\n",
    "    plt.ylabel(f1, labelpad=labelpad, rotation='horizontal')\n",
    "    plt.legend(['follicular', 'diffuse'])\n",
    "    plt.title('Microarray (2 PC):\\nOriginal Training Data w/ Assigned Labels')\n",
    "    \n",
    "    plt.savefig('aa.png')"
   ]
  },
  {
   "cell_type": "code",
   "execution_count": 53,
   "id": "a58d6c64-2ffc-4913-a44e-e526385527d0",
   "metadata": {},
   "outputs": [
    {
     "data": {
      "image/png": "[encoded data removed]",
      "text/plain": [
       "<Figure size 432x288 with 1 Axes>"
      ]
     },
     "metadata": {
      "needs_background": "light"
     },
     "output_type": "display_data"
    }
   ],
   "source": [
    "# observe samples in reduced dimension\n",
    "scatter(df_PCA2, 'PC1', 'PC2', 10)\n",
    "plt.show()"
   ]
  },
  {
   "cell_type": "markdown",
   "id": "b7a9748b-c712-440e-84ed-c58b6cbf43a7",
   "metadata": {},
   "source": [
    "##### data_PCA3, eigenvalues_PCA3, eignvectors_PCA3 = PCA(train0, 3)\n",
    "\n",
    "df_PCA3 = pd.DataFrame(data_PCA3, columns=['PC1','PC2', 'PC3'])\n",
    "df_PCA3 = pd.concat([df_PCA3, train0_class], axis=1)\n",
    "\n",
    "df_PCA3"
   ]
  },
  {
   "cell_type": "code",
   "execution_count": 20,
   "id": "4fcc00df-6b55-4d0f-9497-f9ac8f3edb64",
   "metadata": {},
   "outputs": [],
   "source": [
    "c1 = df_PCA3[df_PCA3['class'] == 'follicular']\n",
    "c2 = df_PCA3[df_PCA3['class'] == 'diffuse']"
   ]
  },
  {
   "cell_type": "code",
   "execution_count": 82,
   "id": "53df5c81-3378-4f47-bd32-e8615d93d675",
   "metadata": {},
   "outputs": [
    {
     "data": {
      "image/png": "[encoded data removed]",
      "text/plain": [
       "<Figure size 720x504 with 1 Axes>"
      ]
     },
     "metadata": {
      "needs_background": "light"
     },
     "output_type": "display_data"
    }
   ],
   "source": [
    "fig = plt.figure(figsize = (10, 7))\n",
    "ax = plt.axes(projection =\"3d\")\n",
    "\n",
    "ax.scatter3D(c1['PC1'], c1['PC2'], c1['PC3'], color = \"deeppink\")\n",
    "ax.scatter3D(c2['PC1'], c2['PC2'], c2['PC3'], color = \"deepskyblue\")\n",
    "plt.title('Microarray (3 PC):\\nOriginal Training Data w/ Assigned Labels')\n",
    "\n",
    "#plt.savefig('b.png')\n",
    "plt.show()"
   ]
  },
  {
   "cell_type": "markdown",
   "id": "e89935b8-f156-4760-a945-ddd25eb2fad5",
   "metadata": {},
   "source": [
    "# K-Means Clustering"
   ]
  },
  {
   "cell_type": "code",
   "execution_count": 22,
   "id": "4d514e88-c348-4823-b8fd-0c4ad3750697",
   "metadata": {},
   "outputs": [],
   "source": [
    "class KMeans:\n",
    "    \n",
    "    def __init__(self, k=2, tol=0.001, max_iter=300):\n",
    "        self.k = k\n",
    "        self.tol = tol\n",
    "        self.max_iter = max_iter\n",
    "    \n",
    "    def fit(self, data):\n",
    "        # initialize dictionary to keep track of centroid class for each sample\n",
    "        # will use this to compare labeled vs predicted class later\n",
    "        self.samples_class = {}\n",
    "        \n",
    "        # initialize centroid list\n",
    "        self.centroids = {}\n",
    "        \n",
    "        # initialize k random points to be centroids \n",
    "        #for i in range(self.k):\n",
    "        #    rand_index = np.random.randint(0, data.shape[0]+1)\n",
    "        #    self.centroids[i] = data[rand_index]\n",
    "\n",
    "        for i in range(self.k):\n",
    "            self.centroids[i] = np.random.uniform(-2,2,[1,2])\n",
    "        \n",
    "        # run k-means\n",
    "        for i in range(self.max_iter):\n",
    "            # dictionary that holds samples based on their associated cluster\n",
    "            self.classifications = {}\n",
    "            \n",
    "            # create dictionary for k classes; each class (key) contains a list (value) that holds samples belonging to that class\n",
    "            for class_ in range(self.k):\n",
    "                self.classifications[class_] = []\n",
    "            \n",
    "            # determine centroid class for each sample in data\n",
    "            for sample in range(len(data)):\n",
    "                # calculate distance between k centroids and current sample\n",
    "                distances = [np.linalg.norm(data[sample] - self.centroids[centroid]) for centroid in self.centroids]\n",
    "                \n",
    "                # find closest centroid and label sample\n",
    "                class_ = distances.index(min(distances))\n",
    "                self.classifications[class_].append(data[sample])\n",
    "                self.samples_class[sample] = class_\n",
    "            \n",
    "            prev_centroids = dict(self.centroids)\n",
    "            \n",
    "            # update centroids\n",
    "            for class_ in self.classifications:\n",
    "                self.centroids[class_] = np.average(self.classifications[class_], axis=0)\n",
    "                \n",
    "            '''# check if k-means requires further iteration\n",
    "            optimized = True\n",
    "            for c in self.centroids:\n",
    "                original_centroid = prev_centroids[c]\n",
    "                current_centroid = self.centroids[c]\n",
    "                if np.sum((current_centroid - original_centroid) / original_centroid * 100) > self.tol:\n",
    "                    optimized = False\n",
    "            \n",
    "            if optimized:\n",
    "                # reformat for later use\n",
    "                self.samples_class = np.array(list(self.samples_class.values()))\n",
    "                \n",
    "                print(f'K-means optimized after {i} iterations')\n",
    "                break'''\n",
    "        self.samples_class = np.array(list(self.samples_class.values()))\n",
    "    \n",
    "    def test(self, test_data):\n",
    "        self.test_samples_class = {}\n",
    "        \n",
    "        self.test_classifications = {}\n",
    "        for class_ in range(self.k):\n",
    "            self.test_classifications[class_] = []\n",
    "        \n",
    "        for sample in range(len(test_data)):\n",
    "            distances = [np.linalg.norm(test_data[sample] - self.centroids[centroid]) for centroid in self.centroids]\n",
    "            \n",
    "            # find closest centroid and label sample\n",
    "            class_ = distances.index(min(distances))\n",
    "            self.test_classifications[class_].append(test_data[sample])\n",
    "            self.test_samples_class[sample] = class_\n",
    "        \n",
    "        self.test_samples_class = np.array(list(self.test_samples_class.values()))\n",
    "        \n",
    "        return self.test_samples_class"
   ]
  },
  {
   "cell_type": "code",
   "execution_count": 30,
   "id": "78848b61-c33a-4240-8cb2-2dc1256b8630",
   "metadata": {},
   "outputs": [],
   "source": [
    "# run K-means on reduced data\n",
    "model = KMeans()\n",
    "model.fit(data_PCA2)"
   ]
  },
  {
   "cell_type": "markdown",
   "id": "e1d0d137-b0ac-475e-bca4-0a30a776f67a",
   "metadata": {},
   "source": [
    "## Observe K-Means Clusters"
   ]
  },
  {
   "cell_type": "code",
   "execution_count": 31,
   "id": "93228fe3-32a7-4702-bbd9-238850c0ed82",
   "metadata": {},
   "outputs": [
    {
     "name": "stdout",
     "output_type": "stream",
     "text": [
      "{0: array([-1.07101598,  0.01196153]), 1: array([ 1.10251645, -0.01231334])}\n"
     ]
    }
   ],
   "source": [
    "# get centroids\n",
    "centroids = model.centroids\n",
    "print(centroids)"
   ]
  },
  {
   "cell_type": "code",
   "execution_count": 32,
   "id": "d058a522-b958-4e77-8bcb-e903b44553c6",
   "metadata": {},
   "outputs": [
    {
     "name": "stdout",
     "output_type": "stream",
     "text": [
      "cluster0: 35 samples\n",
      "cluster1: 34 samples\n"
     ]
    }
   ],
   "source": [
    "# get samples for each cluster\n",
    "cluster0 = model.classifications[0]\n",
    "cluster1 = model.classifications[1]\n",
    "\n",
    "print(f'cluster0: {len(cluster0)} samples\\ncluster1: {len(cluster1)} samples')"
   ]
  },
  {
   "cell_type": "code",
   "execution_count": 88,
   "id": "f3e5060a-24a3-47b7-9b0b-db45e5f328f9",
   "metadata": {},
   "outputs": [
    {
     "data": {
      "image/png": "[encoded data removed]",
      "text/plain": [
       "<Figure size 432x288 with 1 Axes>"
      ]
     },
     "metadata": {
      "needs_background": "light"
     },
     "output_type": "display_data"
    }
   ],
   "source": [
    "# plot samples grouped with their cluster\n",
    "plt.scatter([x[0] for x in cluster0], [y[1] for y in cluster0], color='deeppink', alpha=0.7, s=50)\n",
    "plt.scatter([x[0] for x in cluster1], [y[1] for y in cluster1], color='deepskyblue', alpha=0.7, s=50)\n",
    "\n",
    "plt.scatter(centroids[0][0], centroids[0][1], color='pink', edgecolors='black', s=150)\n",
    "plt.scatter(centroids[1][0], centroids[1][1], color='royalblue', edgecolors='black', s=150)\n",
    "\n",
    "plt.xlabel('PC1', labelpad=10)\n",
    "plt.ylabel('PC2', rotation='horizontal', labelpad=12)\n",
    "plt.legend(['follicular', 'diffuse'])\n",
    "plt.title('Microarray (2 PC):\\nK-means Clustered')\n",
    "\n",
    "#plt.savefig('c.png')\n",
    "plt.show()"
   ]
  },
  {
   "cell_type": "markdown",
   "id": "eb76f9cd-159a-4adb-aa5a-8f0103a7a2cc",
   "metadata": {
    "tags": []
   },
   "source": [
    "## Assess Model Accuracy Using Training Data Labels"
   ]
  },
  {
   "cell_type": "code",
   "execution_count": 34,
   "id": "24e1e127-4e04-4173-80a5-d10c6cd61161",
   "metadata": {},
   "outputs": [],
   "source": [
    "# reformat categorical labels to binary for accuracy comparison\n",
    "def reformat_labels(data_):\n",
    "    data = data_.copy()\n",
    "    \n",
    "    df = pd.DataFrame(data_)\n",
    "    df['class'] = df['class'].map({'follicular':0,\n",
    "                                   'diffuse':1})\n",
    "    \n",
    "    return df"
   ]
  },
  {
   "cell_type": "code",
   "execution_count": 35,
   "id": "bd8040de-c534-4b99-9859-fbfedde3d3aa",
   "metadata": {},
   "outputs": [],
   "source": [
    "# get training data & predicted labels\n",
    "train_labels = reformat_labels(train0_class)\n",
    "predicted_train_labels = model.samples_class"
   ]
  },
  {
   "cell_type": "code",
   "execution_count": 36,
   "id": "bd0bb43e-5378-43e2-a3f9-eb045b9c796c",
   "metadata": {},
   "outputs": [
    {
     "name": "stdout",
     "output_type": "stream",
     "text": [
      "training data accuracy: 76.81%\n"
     ]
    }
   ],
   "source": [
    "# accuracy score on training data\n",
    "print(f'training data accuracy: {accuracy_score(train_labels, predicted_train_labels) * 100:.2f}%')"
   ]
  },
  {
   "cell_type": "markdown",
   "id": "cf3fa0e7-9204-4576-adca-db0112a2577e",
   "metadata": {},
   "source": [
    "## Test Model On Unseen Microarray Samples"
   ]
  },
  {
   "cell_type": "code",
   "execution_count": 37,
   "id": "d98a7b46-ea25-4d7e-a452-6568581f5dbb",
   "metadata": {},
   "outputs": [],
   "source": [
    "# prepare test set\n",
    "test0 = df_test0.iloc[:,:-1].values\n",
    "test0_class = df_test0.iloc[:,-1]\n",
    "\n",
    "# normalize\n",
    "test0 = normalize(test0)\n",
    "\n",
    "# PCA\n",
    "test_data_PCA2, test_eigenvalues, test_eigenvectors = PCA(test0, 2)"
   ]
  },
  {
   "cell_type": "code",
   "execution_count": 89,
   "id": "4fa86345-12b3-4879-8789-3e0082fc460f",
   "metadata": {},
   "outputs": [
    {
     "data": {
      "image/png": "[encoded data removed]",
      "text/plain": [
       "<Figure size 432x288 with 1 Axes>"
      ]
     },
     "metadata": {
      "needs_background": "light"
     },
     "output_type": "display_data"
    }
   ],
   "source": [
    "# observe test data with predicted centroids\n",
    "df_test_PCA2 = pd.DataFrame(test_data_PCA2, columns=['PC1', 'PC2'])\n",
    "df_test_PCA2['class'] = test0_class\n",
    "\n",
    "scatter(df_test_PCA2, 'PC1', 'PC2')\n",
    "\n",
    "plt.scatter(centroids[0][0], centroids[0][1], color='pink', edgecolors='black', s=150)\n",
    "plt.scatter(centroids[1][0], centroids[1][1], color='royalblue', edgecolors='black', s=150)\n",
    "\n",
    "plt.xlabel('PC1', labelpad=10)\n",
    "plt.ylabel('PC2', rotation='horizontal', labelpad=12)\n",
    "plt.legend(['follicular', 'diffuse'])\n",
    "plt.title('Microarray (2 PC):\\nTest Data w/ K-Means Centroids')\n",
    "\n",
    "#plt.savefig('d.png')\n",
    "plt.show()"
   ]
  },
  {
   "cell_type": "code",
   "execution_count": 39,
   "id": "36618f97-5958-4d4e-8680-3b6e8be85397",
   "metadata": {},
   "outputs": [],
   "source": [
    "# use model to predict on test set\n",
    "predicted_test_labels = model.test(test_data_PCA2)"
   ]
  },
  {
   "cell_type": "code",
   "execution_count": 40,
   "id": "2d0ed9b1-f525-4fd5-8f11-105778d7253d",
   "metadata": {},
   "outputs": [],
   "source": [
    "# get training data & predicted labels\n",
    "test_labels = reformat_labels(test0_class)"
   ]
  },
  {
   "cell_type": "code",
   "execution_count": 41,
   "id": "26d2f9e0-2cb2-41d9-b22d-440a0a33b70f",
   "metadata": {},
   "outputs": [
    {
     "name": "stdout",
     "output_type": "stream",
     "text": [
      "test data accuracy: 50.00%\n"
     ]
    }
   ],
   "source": [
    "# accuracy score on test data\n",
    "print(f'test data accuracy: {accuracy_score(test_labels, predicted_test_labels) * 100:.2f}%')"
   ]
  },
  {
   "cell_type": "markdown",
   "id": "491e4ed0-9f11-4b19-aeb8-43a0d023aee9",
   "metadata": {},
   "source": [
    "# Improve K-Means Model By Removing Outliers"
   ]
  },
  {
   "cell_type": "code",
   "execution_count": 42,
   "id": "0164cb18-7a17-49b3-a38c-d8fb3bd84665",
   "metadata": {},
   "outputs": [
    {
     "data": {
      "text/html": [
       "<div>\n",
       "<style scoped>\n",
       "    .dataframe tbody tr th:only-of-type {\n",
       "        vertical-align: middle;\n",
       "    }\n",
       "\n",
       "    .dataframe tbody tr th {\n",
       "        vertical-align: top;\n",
       "    }\n",
       "\n",
       "    .dataframe thead th {\n",
       "        text-align: right;\n",
       "    }\n",
       "</style>\n",
       "<table border=\"1\" class=\"dataframe\">\n",
       "  <thead>\n",
       "    <tr style=\"text-align: right;\">\n",
       "      <th></th>\n",
       "      <th>PC1</th>\n",
       "      <th>PC2</th>\n",
       "      <th>class</th>\n",
       "    </tr>\n",
       "  </thead>\n",
       "  <tbody>\n",
       "    <tr>\n",
       "      <th>0</th>\n",
       "      <td>2.138723</td>\n",
       "      <td>-0.327405</td>\n",
       "      <td>diffuse</td>\n",
       "    </tr>\n",
       "    <tr>\n",
       "      <th>1</th>\n",
       "      <td>1.682994</td>\n",
       "      <td>0.990256</td>\n",
       "      <td>diffuse</td>\n",
       "    </tr>\n",
       "    <tr>\n",
       "      <th>2</th>\n",
       "      <td>-1.903203</td>\n",
       "      <td>0.044920</td>\n",
       "      <td>follicular</td>\n",
       "    </tr>\n",
       "    <tr>\n",
       "      <th>3</th>\n",
       "      <td>-0.767122</td>\n",
       "      <td>1.131461</td>\n",
       "      <td>diffuse</td>\n",
       "    </tr>\n",
       "    <tr>\n",
       "      <th>4</th>\n",
       "      <td>0.264659</td>\n",
       "      <td>0.591953</td>\n",
       "      <td>diffuse</td>\n",
       "    </tr>\n",
       "    <tr>\n",
       "      <th>...</th>\n",
       "      <td>...</td>\n",
       "      <td>...</td>\n",
       "      <td>...</td>\n",
       "    </tr>\n",
       "    <tr>\n",
       "      <th>64</th>\n",
       "      <td>0.991231</td>\n",
       "      <td>-0.270941</td>\n",
       "      <td>diffuse</td>\n",
       "    </tr>\n",
       "    <tr>\n",
       "      <th>65</th>\n",
       "      <td>1.453373</td>\n",
       "      <td>-0.624513</td>\n",
       "      <td>diffuse</td>\n",
       "    </tr>\n",
       "    <tr>\n",
       "      <th>66</th>\n",
       "      <td>0.486517</td>\n",
       "      <td>-0.447785</td>\n",
       "      <td>diffuse</td>\n",
       "    </tr>\n",
       "    <tr>\n",
       "      <th>67</th>\n",
       "      <td>0.068312</td>\n",
       "      <td>0.451331</td>\n",
       "      <td>diffuse</td>\n",
       "    </tr>\n",
       "    <tr>\n",
       "      <th>68</th>\n",
       "      <td>0.072263</td>\n",
       "      <td>-0.483623</td>\n",
       "      <td>diffuse</td>\n",
       "    </tr>\n",
       "  </tbody>\n",
       "</table>\n",
       "<p>69 rows × 3 columns</p>\n",
       "</div>"
      ],
      "text/plain": [
       "         PC1       PC2       class\n",
       "0   2.138723 -0.327405     diffuse\n",
       "1   1.682994  0.990256     diffuse\n",
       "2  -1.903203  0.044920  follicular\n",
       "3  -0.767122  1.131461     diffuse\n",
       "4   0.264659  0.591953     diffuse\n",
       "..       ...       ...         ...\n",
       "64  0.991231 -0.270941     diffuse\n",
       "65  1.453373 -0.624513     diffuse\n",
       "66  0.486517 -0.447785     diffuse\n",
       "67  0.068312  0.451331     diffuse\n",
       "68  0.072263 -0.483623     diffuse\n",
       "\n",
       "[69 rows x 3 columns]"
      ]
     },
     "execution_count": 42,
     "metadata": {},
     "output_type": "execute_result"
    }
   ],
   "source": [
    "# original microarray training data\n",
    "df_PCA2"
   ]
  },
  {
   "cell_type": "code",
   "execution_count": 43,
   "id": "4ab11bb8-888d-4392-ab11-2a36d7211726",
   "metadata": {},
   "outputs": [],
   "source": [
    "# separate samples by class\n",
    "class0 = df_PCA2[df_PCA2['class'] == 'follicular'].iloc[:,:-1].values\n",
    "class1 = df_PCA2[df_PCA2['class'] == 'diffuse'].iloc[:,:-1].values"
   ]
  },
  {
   "cell_type": "code",
   "execution_count": 44,
   "id": "2e281f25-c862-42ab-8b05-3b44121555c3",
   "metadata": {},
   "outputs": [],
   "source": [
    "# calculate centroids based on given training labels\n",
    "centroid0 = np.average(class0, axis=0)\n",
    "centroid1 = np.average(class1, axis=0)"
   ]
  },
  {
   "cell_type": "code",
   "execution_count": 45,
   "id": "50606e07-870d-4436-acce-717840cb4c06",
   "metadata": {},
   "outputs": [
    {
     "data": {
      "image/png": "[encoded data removed]",
      "text/plain": [
       "<Figure size 432x288 with 1 Axes>"
      ]
     },
     "metadata": {
      "needs_background": "light"
     },
     "output_type": "display_data"
    }
   ],
   "source": [
    "# plot original training data\n",
    "plt.scatter(class0[:,0], class0[:,1], color='deeppink', alpha=0.7, s=50)\n",
    "plt.scatter(class1[:,0], class1[:,1], color='deepskyblue', alpha=0.7, s=50)\n",
    "\n",
    "# centroids shown are determined based on training labels\n",
    "plt.scatter(centroid0[0], centroid0[1], color='pink', edgecolors='black', s=150)\n",
    "plt.scatter(centroid1[0], centroid1[1], color='royalblue', edgecolors='black', s=150)\n",
    "\n",
    "plt.xlabel('PC1', labelpad=12)\n",
    "plt.ylabel('PC2', rotation='horizontal', labelpad=12)\n",
    "plt.legend(['follicular', 'diffuse'])\n",
    "plt.title('Microarray (2 PC):  Original Training Data\\nGround Truth Clusters')\n",
    "\n",
    "plt.show()"
   ]
  },
  {
   "cell_type": "code",
   "execution_count": 46,
   "id": "8a39a06c-2b77-42a9-829c-4413119803a4",
   "metadata": {},
   "outputs": [],
   "source": [
    "def median_absolute_deviation(data, median, scaling_factor=1.4826):\n",
    "    \n",
    "    # subtract median from all samples\n",
    "    diff = data - median\n",
    "    \n",
    "    # get absolute values\n",
    "    diff = np.absolute(diff)\n",
    "    \n",
    "    # find median of abs(diff)\n",
    "    mad = np.median(diff) * scaling_factor\n",
    "    \n",
    "    return mad"
   ]
  },
  {
   "cell_type": "code",
   "execution_count": 47,
   "id": "117ecfc9-f7fd-4d45-95c2-caf897a5d18f",
   "metadata": {},
   "outputs": [],
   "source": [
    "# remove outliers in training data\n",
    "# use Median Absolute Deviation\n",
    "def remove_outliers(df_PCA, deviations=3):\n",
    "    data = df_PCA.copy()\n",
    "    \n",
    "    # holds outliers\n",
    "    outliers = []\n",
    "    \n",
    "    # holds distance from sample to centroid for each class\n",
    "    samples_dist0 = {}\n",
    "    samples_dist1 = {}\n",
    "    \n",
    "    # group samples by class\n",
    "    df_class0 = data[data['class'] == 'follicular']\n",
    "    df_class1 = data[data['class'] == 'diffuse']\n",
    "    \n",
    "    # calculate centroids\n",
    "    centroid0 = np.average(df_class0.iloc[:,:-1].values, axis=0)\n",
    "    centroid1 = np.average(df_class1.iloc[:,:-1].values, axis=0)\n",
    "    \n",
    "    # calculate distances from sample to respective centroid\n",
    "    for i in range(len(df_class0)):\n",
    "        dist = np.linalg.norm(df_class0.iloc[i,:-1].values - centroid0)\n",
    "        samples_dist0[df_class0.index[i]] = dist\n",
    "    \n",
    "    for i in range(len(df_class1)):\n",
    "        dist = np.linalg.norm(df_class1.iloc[i,:-1].values - centroid1)\n",
    "        samples_dist1[df_class1.index[i]] = dist\n",
    "    \n",
    "    # get median distance for each cluster\n",
    "    median0 = np.median(list(samples_dist0.values()))\n",
    "    median1 = np.median(list(samples_dist1.values()))\n",
    "    \n",
    "    # get median-absolute-deviation for each cluster\n",
    "    mad0 = median_absolute_deviation(list(samples_dist0.values()), median0, 1)\n",
    "    mad1 = median_absolute_deviation(list(samples_dist1.values()), median1, 1)\n",
    "    \n",
    "    # identify outliers (samples' centroid distances that is greater than 3 median-absolute-deviations)\n",
    "    for i in samples_dist0:\n",
    "        if samples_dist0[i] < (median0 - (deviations * mad0)) or samples_dist0[i] > (median0 + (deviations * mad0)):\n",
    "            outliers.append(i)\n",
    "    \n",
    "    for i in samples_dist1:\n",
    "        if samples_dist1[i] < (median1 - (deviations * mad1)) or samples_dist1[i] > (median1 + (deviations * mad1)):\n",
    "            outliers.append(i)\n",
    "    \n",
    "    # remove outliers\n",
    "    new_data = data.drop(outliers)\n",
    "    \n",
    "    return new_data, (median0, mad0), (median1, mad1), outliers"
   ]
  },
  {
   "cell_type": "code",
   "execution_count": 48,
   "id": "fa220db0-4d76-41f4-994b-44a583124b92",
   "metadata": {},
   "outputs": [],
   "source": [
    "df_no_outliers, (median0, mad0), (median1, mad1), outliers = remove_outliers(df_PCA2, deviations=3)"
   ]
  },
  {
   "cell_type": "code",
   "execution_count": 49,
   "id": "68adf82e-724f-47ab-bbce-0852eeb67d19",
   "metadata": {},
   "outputs": [
    {
     "data": {
      "text/plain": [
       "[20, 53]"
      ]
     },
     "execution_count": 49,
     "metadata": {},
     "output_type": "execute_result"
    }
   ],
   "source": [
    "outliers"
   ]
  },
  {
   "cell_type": "code",
   "execution_count": 91,
   "id": "e884122d-cf12-4d42-b7ea-e5158dd04823",
   "metadata": {},
   "outputs": [
    {
     "data": {
      "image/png": "[encoded data removed]",
      "text/plain": [
       "<Figure size 432x288 with 1 Axes>"
      ]
     },
     "metadata": {
      "needs_background": "light"
     },
     "output_type": "display_data"
    }
   ],
   "source": [
    "# observe outliers\n",
    "plt.scatter(class0[:,0], class0[:,1], color='deeppink', alpha=0.7, s=50)\n",
    "plt.scatter(class1[:,0], class1[:,1], color='deepskyblue', alpha=0.7, s=50)\n",
    "\n",
    "plt.scatter(centroid0[0], centroid0[1], color='pink', edgecolors='black', s=150)\n",
    "plt.scatter(centroid1[0], centroid1[1], color='royalblue', edgecolors='black', s=150)\n",
    "\n",
    "# plot outliers\n",
    "plt.scatter(df_PCA2.loc[20][:2].values[0], df_PCA2.loc[20][:2].values[1], color='deepskyblue', edgecolors='black', alpha=1, s=150)\n",
    "plt.scatter(df_PCA2.loc[53][:2].values[0], df_PCA2.loc[53][:2].values[1], color='deepskyblue', edgecolors='black', alpha=1, s=150)\n",
    "\n",
    "plt.xlabel('PC1', labelpad=10)\n",
    "plt.ylabel('PC2', rotation='horizontal', labelpad=12)\n",
    "plt.legend(['follicular', 'diffuse'])\n",
    "plt.title('Microarray (2 PC):  Original Training Data\\nOutliers Identified')\n",
    "\n",
    "plt.savefig('e.png')\n",
    "plt.show()"
   ]
  },
  {
   "cell_type": "code",
   "execution_count": 51,
   "id": "15909654-4369-420e-bad7-f90c2d8a5320",
   "metadata": {
    "tags": []
   },
   "outputs": [
    {
     "data": {
      "image/png": "[encoded data removed]",
      "text/plain": [
       "<Figure size 432x288 with 1 Axes>"
      ]
     },
     "metadata": {
      "needs_background": "light"
     },
     "output_type": "display_data"
    }
   ],
   "source": [
    "### observe training data (no outliers)\n",
    "class0_out = df_no_outliers[df_no_outliers['class'] == 'follicular'].iloc[:,:-1].values\n",
    "class1_out = df_no_outliers[df_no_outliers['class'] == 'diffuse'].iloc[:,:-1].values\n",
    "\n",
    "# get centroids based on training labels\n",
    "centroid0_out = np.average(class0_out, axis=0)\n",
    "centroid1_out = np.average(class1_out, axis=0)\n",
    "\n",
    "plt.scatter(class0_out[:,0], class0_out[:,1], color='deeppink', alpha=0.7, s=50)\n",
    "plt.scatter(class1_out[:,0], class1_out[:,1], color='deepskyblue', alpha=0.7, s=50)\n",
    "\n",
    "plt.scatter(centroid0_out[0], centroid0_out[1], color='pink', edgecolors='black', s=150)\n",
    "plt.scatter(centroid1_out[0], centroid1_out[1], color='royalblue', edgecolors='black', s=150)\n",
    "\n",
    "plt.xlabel('PC1', labelpad=12)\n",
    "plt.ylabel('PC2', rotation='horizontal', labelpad=12)\n",
    "plt.legend(['follicular', 'diffuse'])\n",
    "plt.title('Microarray (2 PC):  Original Training Data\\nOutliers Removed')\n",
    "\n",
    "plt.show()"
   ]
  },
  {
   "cell_type": "markdown",
   "id": "91dc546a-6037-4629-86ce-19a93d52d5d7",
   "metadata": {},
   "source": [
    "## Observe K-Means Performance Using Training Data Without Outliers"
   ]
  },
  {
   "cell_type": "code",
   "execution_count": 52,
   "id": "a2b8cedd-25a0-4a46-9a51-9c619baae7ae",
   "metadata": {},
   "outputs": [],
   "source": [
    "# drop outliers from class labels\n",
    "train_labels_out = train_labels.drop(outliers)"
   ]
  },
  {
   "cell_type": "code",
   "execution_count": 53,
   "id": "f971d5c5-a71e-4374-a34a-4b9a6e6e3f65",
   "metadata": {},
   "outputs": [],
   "source": [
    "model2 = KMeans()\n",
    "model2.fit(df_no_outliers.iloc[:,:-1].values)"
   ]
  },
  {
   "cell_type": "code",
   "execution_count": 54,
   "id": "81649290-d349-488f-b97d-6a56b78b08b2",
   "metadata": {},
   "outputs": [
    {
     "name": "stdout",
     "output_type": "stream",
     "text": [
      "training data accuracy: 79.10%\n"
     ]
    }
   ],
   "source": [
    "# accuracy score on training data (no outliers)\n",
    "predicted_train_labels_out = model2.samples_class\n",
    "print(f'training data accuracy: {accuracy_score(train_labels_out, predicted_train_labels_out) * 100:.2f}%')"
   ]
  },
  {
   "cell_type": "code",
   "execution_count": 55,
   "id": "6cea2d75-b042-417f-a8f0-3ba6c1961bea",
   "metadata": {},
   "outputs": [
    {
     "name": "stdout",
     "output_type": "stream",
     "text": [
      "{0: array([-1.03388285, -0.01820366]), 1: array([ 1.10251645, -0.01231334])}\n"
     ]
    }
   ],
   "source": [
    "# get centroids\n",
    "centroids_out = model2.centroids\n",
    "print(centroids_out)"
   ]
  },
  {
   "cell_type": "code",
   "execution_count": 56,
   "id": "e35f646a-d679-462c-a942-a8798deb0c79",
   "metadata": {},
   "outputs": [
    {
     "name": "stdout",
     "output_type": "stream",
     "text": [
      "cluster0: 33 samples\n",
      "cluster1: 34 samples\n"
     ]
    }
   ],
   "source": [
    "# get samples for each cluster\n",
    "cluster0_out = model2.classifications[0]\n",
    "cluster1_out = model2.classifications[1]\n",
    "\n",
    "print(f'cluster0: {len(cluster0_out)} samples\\ncluster1: {len(cluster1_out)} samples')"
   ]
  },
  {
   "cell_type": "code",
   "execution_count": 57,
   "id": "8347b49b-5b8a-4d3b-9a6c-71ffda5b6705",
   "metadata": {},
   "outputs": [
    {
     "data": {
      "image/png": "[encoded data removed]",
      "text/plain": [
       "<Figure size 432x288 with 1 Axes>"
      ]
     },
     "metadata": {
      "needs_background": "light"
     },
     "output_type": "display_data"
    }
   ],
   "source": [
    "# plot samples grouped with their cluster\n",
    "plt.scatter([x[0] for x in cluster0_out], [y[1] for y in cluster0_out], color='deeppink', alpha=0.7, s=50)\n",
    "plt.scatter([x[0] for x in cluster1_out], [y[1] for y in cluster1_out], color='deepskyblue', alpha=0.7, s=50)\n",
    "\n",
    "plt.scatter(centroids_out[0][0], centroids_out[0][1], color='pink', edgecolors='black', s=150)\n",
    "plt.scatter(centroids_out[1][0], centroids_out[1][1], color='royalblue', edgecolors='black', s=150)\n",
    "\n",
    "plt.xlabel('PC1', labelpad=12)\n",
    "plt.ylabel('PC2', rotation='horizontal', labelpad=12)\n",
    "plt.legend(['follicular', 'diffuse'])\n",
    "plt.title('Microarray (2 PC):\\nK-Means Clustered (Outliers Removed)')\n",
    "\n",
    "plt.show()"
   ]
  },
  {
   "cell_type": "markdown",
   "id": "c0851506-2fab-4c85-ab18-ccc483da0054",
   "metadata": {
    "tags": []
   },
   "source": [
    "## Test Model On Unseen Microarray Samples"
   ]
  },
  {
   "cell_type": "code",
   "execution_count": 58,
   "id": "557953c6-811b-4581-9894-7d42bd222673",
   "metadata": {},
   "outputs": [],
   "source": [
    "# use model to predict on test set\n",
    "predicted_test_labels_out = model2.test(test_data_PCA2)"
   ]
  },
  {
   "cell_type": "code",
   "execution_count": 59,
   "id": "a71a6eef-7e3e-4b33-94d3-782dad9a10ff",
   "metadata": {
    "tags": []
   },
   "outputs": [
    {
     "name": "stdout",
     "output_type": "stream",
     "text": [
      "test data accuracy: 50.00%\n"
     ]
    }
   ],
   "source": [
    "# accuracy score on test data\n",
    "print(f'test data accuracy: {accuracy_score(test_labels, predicted_test_labels_out) * 100:.2f}%')"
   ]
  },
  {
   "cell_type": "code",
   "execution_count": 60,
   "id": "15341c24-5a10-46b9-8b9c-51f20425cfe3",
   "metadata": {},
   "outputs": [
    {
     "data": {
      "image/png": "[encoded data removed]",
      "text/plain": [
       "<Figure size 432x288 with 1 Axes>"
      ]
     },
     "metadata": {
      "needs_background": "light"
     },
     "output_type": "display_data"
    }
   ],
   "source": [
    "# observe test data with new centroids (outliers removed)\n",
    "scatter(df_test_PCA2, 'PC1', 'PC2')\n",
    "\n",
    "plt.scatter(centroids[0][0], centroids[0][1], color='pink', edgecolors='black', s=150)\n",
    "plt.scatter(centroids[1][0], centroids[1][1], color='royalblue', edgecolors='black', s=150)\n",
    "\n",
    "plt.xlabel('PC1', labelpad=12)\n",
    "plt.ylabel('PC2', rotation='horizontal', labelpad=12)\n",
    "plt.legend(['follicular', 'diffuse'])\n",
    "plt.title('Microarray (2 PC):\\nTest Data w/ K-Means Centroids (Outliers Removed)')\n",
    "\n",
    "plt.show()"
   ]
  },
  {
   "cell_type": "markdown",
   "id": "de8344cf-711f-4589-8fa8-3da174f4e137",
   "metadata": {},
   "source": [
    "# Analyze Microarray With Other Algorithms"
   ]
  },
  {
   "cell_type": "markdown",
   "id": "73861e08-99f2-4c40-8533-bb2f7c142aaf",
   "metadata": {},
   "source": [
    "## SVM (Support Vector Machine)"
   ]
  },
  {
   "cell_type": "code",
   "execution_count": 61,
   "id": "503305a4-f874-41b0-acc7-ffdad4666022",
   "metadata": {},
   "outputs": [],
   "source": [
    "from sklearn import svm"
   ]
  },
  {
   "cell_type": "code",
   "execution_count": 62,
   "id": "a4be722a-5a19-413e-a691-ad5b00ff1260",
   "metadata": {},
   "outputs": [
    {
     "data": {
      "text/plain": [
       "SVC()"
      ]
     },
     "execution_count": 62,
     "metadata": {},
     "output_type": "execute_result"
    }
   ],
   "source": [
    "model3 =  svm.SVC()\n",
    "model3.fit(df_no_outliers.iloc[:,:-1].values, train_labels_out.values.reshape(len(train_labels_out),))"
   ]
  },
  {
   "cell_type": "code",
   "execution_count": 63,
   "id": "774a27d3-1b5b-4f5f-8d9a-0496950f1855",
   "metadata": {},
   "outputs": [
    {
     "name": "stdout",
     "output_type": "stream",
     "text": [
      "training data accuracy: 95.52%\n"
     ]
    }
   ],
   "source": [
    "print(f'training data accuracy: {model3.score(df_no_outliers.iloc[:,:-1].values, train_labels_out) * 100:.2f}%')"
   ]
  },
  {
   "cell_type": "code",
   "execution_count": 64,
   "id": "fe6a12fc-4a3c-40a6-b15e-24e5ea44f86d",
   "metadata": {},
   "outputs": [
    {
     "name": "stdout",
     "output_type": "stream",
     "text": [
      "testing data accuracy: 87.50%\n"
     ]
    }
   ],
   "source": [
    "print(f'testing data accuracy: {model3.score(test_data_PCA2, test_labels) * 100:.2f}%')"
   ]
  },
  {
   "cell_type": "code",
   "execution_count": null,
   "id": "37c35502-80f9-4621-a619-3e302e5498e5",
   "metadata": {},
   "outputs": [],
   "source": []
  },
  {
   "cell_type": "code",
   "execution_count": null,
   "id": "2bcab307-8011-42f9-a724-073f9ca415fb",
   "metadata": {},
   "outputs": [],
   "source": []
  },
  {
   "cell_type": "code",
   "execution_count": null,
   "id": "3594eb04-b33a-4df5-b088-9d0c1a675673",
   "metadata": {},
   "outputs": [],
   "source": []
  },
  {
   "cell_type": "markdown",
   "id": "a8582537-54e1-48a1-9df5-77bbe220975a",
   "metadata": {},
   "source": [
    "# Misc."
   ]
  },
  {
   "cell_type": "code",
   "execution_count": 67,
   "id": "b18c0cd1-87c1-44e9-b25a-129e3a0d5fed",
   "metadata": {},
   "outputs": [],
   "source": [
    "# PCA: All 30 components\n",
    "data30 = train0.copy()\n",
    "data30 = data30 - np.mean(data30, axis=0)\n",
    "cov_matrix30 = covariance_matrix(data30)\n",
    "eigen_values30, eigen_vectors30 = np.linalg.eigh(cov_matrix30)"
   ]
  },
  {
   "cell_type": "code",
   "execution_count": 68,
   "id": "f4ceff15-5696-4e8b-8025-3f08632d2aeb",
   "metadata": {},
   "outputs": [
    {
     "data": {
      "text/plain": [
       "array([0.00221911, 0.00267843, 0.00281967, 0.00323753, 0.00357632,\n",
       "       0.00413827, 0.00536429, 0.00616826, 0.00672167, 0.00801145,\n",
       "       0.00922551, 0.0117904 , 0.01286363, 0.01607407, 0.01787193,\n",
       "       0.01956306, 0.0204136 , 0.02145534, 0.0243667 , 0.02502512,\n",
       "       0.03067583, 0.03438136, 0.04334209, 0.04681292, 0.05696695,\n",
       "       0.09838634, 0.13771123, 0.23352505, 0.33517337, 1.58734546])"
      ]
     },
     "execution_count": 68,
     "metadata": {},
     "output_type": "execute_result"
    }
   ],
   "source": [
    "eigen_values30"
   ]
  },
  {
   "cell_type": "code",
   "execution_count": null,
   "id": "6666a953-2598-434e-b9bf-4b2c3ebf1646",
   "metadata": {},
   "outputs": [],
   "source": []
  },
  {
   "cell_type": "code",
   "execution_count": 43,
   "id": "59944ef3-7719-4dc4-a0cb-8c963868e98a",
   "metadata": {},
   "outputs": [
    {
     "data": {
      "image/png": "[encoded data removed]",
      "text/plain": [
       "<Figure size 720x432 with 1 Axes>"
      ]
     },
     "metadata": {
      "needs_background": "light"
     },
     "output_type": "display_data"
    }
   ],
   "source": [
    "# observe PC1 variance\n",
    "plt.figure(figsize=(10,6))\n",
    "plt.scatter(df_PCA2['PC1'], np.zeros(len(train0)), color='deepskyblue', facecolor='white')\n",
    "\n",
    "plt.xlabel('PC1 Value', labelpad=10)\n",
    "plt.xticks(np.arange(-2.2,2.2))\n",
    "plt.yticks([])\n",
    "plt.title('Samples Projected On PC1')\n",
    "\n",
    "plt.savefig('f')\n",
    "plt.show()"
   ]
  },
  {
   "cell_type": "code",
   "execution_count": 44,
   "id": "45d34a54-25c7-474d-8856-b18ce880f969",
   "metadata": {},
   "outputs": [
    {
     "data": {
      "image/png": "[encoded data removed]",
      "text/plain": [
       "<Figure size 720x432 with 1 Axes>"
      ]
     },
     "metadata": {
      "needs_background": "light"
     },
     "output_type": "display_data"
    }
   ],
   "source": [
    "# observe PC2 variance\n",
    "plt.figure(figsize=(10,6))\n",
    "plt.scatter(df_PCA2['PC2'], np.zeros(len(train0)), color='deeppink', facecolor='white')\n",
    "\n",
    "plt.xlabel('PC2 Value', labelpad=10)\n",
    "plt.xticks(np.arange(-2.2,2.2))\n",
    "plt.yticks([])\n",
    "plt.title('Samples Projected On PC2')\n",
    "\n",
    "plt.savefig('g')\n",
    "plt.show()"
   ]
  },
  {
   "cell_type": "code",
   "execution_count": null,
   "id": "b13c08ec-c908-4765-9282-c2bb2d657412",
   "metadata": {},
   "outputs": [],
   "source": []
  }
 ],
 "metadata": {
  "kernelspec": {
   "display_name": "Python 3 (ipykernel)",
   "language": "python",
   "name": "python3"
  },
  "language_info": {
   "codemirror_mode": {
    "name": "ipython",
    "version": 3
   },
   "file_extension": ".py",
   "mimetype": "text/x-python",
   "name": "python",
   "nbconvert_exporter": "python",
   "pygments_lexer": "ipython3",
   "version": "3.8.9"
  }
 },
 "nbformat": 4,
 "nbformat_minor": 5
}
