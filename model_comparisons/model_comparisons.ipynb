{
 "cells": [
  {
   "cell_type": "markdown",
   "id": "7f286eb3",
   "metadata": {},
   "source": [
    "# Problem #1"
   ]
  },
  {
   "cell_type": "markdown",
   "id": "87061599",
   "metadata": {},
   "source": [
    "Perceptron, Support Vector Machine (SVM), Decision Tree, Random Forest are all types of classifying models. The method of determining decision boundaries varies among classifiers.\n",
    "\n",
    "For the perceptron, we optimize feature weights via minimalizing a loss function (a function of the weights) through gradient descent. The perceptron's predicted value is the weighted sum of an instance's features. This value is passed through an activation function, that determines an instance's class based on a numerical threshold. The decision boundary is a hyperplane.\n",
    "\n",
    "SVM utilizes special instances in the feature space as references (the support vectors) to determine the decision boundaries. These boundaries can be linear and non-linear depending on the kernel method utilized. Tuning hyperparameters allow for how sensitive to draw the support vectors. This aids in preventing under/overfitting. Ideally, the support vectors are trying to maximize their distance from the boundary, while minimizing the misclassificaiton rate.\n",
    "\n",
    "Decision Trees rely on determining a threshold for each feature. This continuous splitting of feature values aims to gain the most information from the data observing the decrease in entropy. A decision tree can split for all or some selected features. Eventually, an instance can be classified by traversing the decision tree's cut off values of the selected features.\n",
    "\n",
    "A random forest is similar to a decision tree, in that it utilizes mulitple decision trees. Each decision tree only splits on a number of random features. Through this method, it helps prevent overfitting.\n",
    "\n",
    "\n",
    "For a first run at classification for a particular dataset, I would want a fast and non-memory-intensive algorithm. Thus, I would choose the basic perceptron with stochastic gradient descent. SVM requires to considering all data points when finding the support vectors and drawing the decision boundary. Also, non-linear kernels add to the extra memory required to calculate. Decision trees and random forrests can be more complicated in finding the optimal splits especially dealing with datasets in high dimensions. Therefore, the preceptron is the fastest and most simple as we just need to optimize the weights and reduce the loss with 1 instance each iteration of gradient descent"
   ]
  },
  {
   "cell_type": "markdown",
   "id": "d693c90a",
   "metadata": {},
   "source": [
    "# Problem #2"
   ]
  },
  {
   "cell_type": "markdown",
   "id": "863c2572",
   "metadata": {},
   "source": [
    "**Numerical**: This represents any number value. Integers are of *int* type while decimals are *float*\n",
    "- 4, 5.6\n",
    "\n",
    "**Nominal**: This is data that are represented as *string* type. They are strings that have a descriptive value\n",
    "- \"cat\", \"blue\"\n",
    "\n",
    "**Date**: Represents a specific date and time. The exact data type is **datetime**. The specific format of the datetime value can be formated by the user.\n",
    "- March 14, 2014\n",
    "\n",
    "**Text**: A series of strings. A feature for a dataset can be \"Documents\", where for each instance, a document contains text with an appropriate description. An example can be document text for a patient's medical history.\n",
    "- \"Diabetes Type 1. Past surgeries present: None\"\n",
    "\n",
    "**Image**: A pictorial representation. We can represent an image as an array of rgb values. The r channel is one array containing arrays representing the spatial rows of the picture. Within each row array are the r values for each column of the picture. For rgb, we would have 3 channels of the same structure.\n",
    "\n",
    "```python\n",
    "img = [[[1,1,1],[1,1,1]],\n",
    "       [[2,2,2],[2,2,2]],\n",
    "       [[3,3,3],[3,3,3]]]\n",
    "```\n",
    "Above is an image array with rgb channels. If each pixel has a value, then this imageis 3x2 pixels\n",
    "\n",
    "**Dependent Variable**: The variable that we are trying to predict. For classification, it would be the class of an instance. For a regression problem, it would be a numerical value. The dependent variable is an output dependent on the values of the other features in the dataset.\n",
    "- \"survived / not survived\"  titantic dataset: status of passengers\n",
    "- $4.50  predicted stock price"
   ]
  },
  {
   "cell_type": "markdown",
   "id": "9f861e64",
   "metadata": {},
   "source": [
    "# Problem #3"
   ]
  },
  {
   "cell_type": "markdown",
   "id": "e0cdc94c",
   "metadata": {},
   "source": [
    "TP: True Positive\n",
    "FP: False Positive\n",
    "TN: True Negative\n",
    "FN: False Negative\n",
    "\n",
    "**Recall**: TP / (TP + FN)\n",
    "\n",
    "**Precision**: TP / (TP + FP)\n",
    "\n",
    "Above are 2 common classification metrics in addition to accuracy. Recall measures how much of one class the model was able to classify correctly out of all the actual instances belonging to that class. A model has poor recall if it cannot detect its desired class consistently.\n",
    "\n",
    "Precision means that out of all the instances was was labeled a certain class, what proportion of those actually belonged to that class. A model's precision tests whether it can be correct in its classification or not."
   ]
  },
  {
   "cell_type": "markdown",
   "id": "c55c9108",
   "metadata": {},
   "source": [
    "# Problem #4"
   ]
  },
  {
   "cell_type": "code",
   "execution_count": 1,
   "id": "93afeb57",
   "metadata": {},
   "outputs": [],
   "source": [
    "import math\n",
    "import pandas as pd\n",
    "import numpy as np\n",
    "import matplotlib.pyplot as plt\n",
    "import seaborn as sns"
   ]
  },
  {
   "cell_type": "code",
   "execution_count": 2,
   "id": "f32f2673",
   "metadata": {},
   "outputs": [],
   "source": [
    "df = pd.read_csv('Admission_Predict.csv')"
   ]
  },
  {
   "cell_type": "code",
   "execution_count": 3,
   "id": "04887206",
   "metadata": {},
   "outputs": [
    {
     "data": {
      "text/html": [
       "<div>\n",
       "<style scoped>\n",
       "    .dataframe tbody tr th:only-of-type {\n",
       "        vertical-align: middle;\n",
       "    }\n",
       "\n",
       "    .dataframe tbody tr th {\n",
       "        vertical-align: top;\n",
       "    }\n",
       "\n",
       "    .dataframe thead th {\n",
       "        text-align: right;\n",
       "    }\n",
       "</style>\n",
       "<table border=\"1\" class=\"dataframe\">\n",
       "  <thead>\n",
       "    <tr style=\"text-align: right;\">\n",
       "      <th></th>\n",
       "      <th>Serial No.</th>\n",
       "      <th>GRE Score</th>\n",
       "      <th>TOEFL Score</th>\n",
       "      <th>University Rating</th>\n",
       "      <th>SOP</th>\n",
       "      <th>LOR</th>\n",
       "      <th>CGPA</th>\n",
       "      <th>Research</th>\n",
       "      <th>Chance of Admit</th>\n",
       "    </tr>\n",
       "  </thead>\n",
       "  <tbody>\n",
       "    <tr>\n",
       "      <th>0</th>\n",
       "      <td>1</td>\n",
       "      <td>337</td>\n",
       "      <td>118</td>\n",
       "      <td>4</td>\n",
       "      <td>4.5</td>\n",
       "      <td>4.5</td>\n",
       "      <td>9.65</td>\n",
       "      <td>1</td>\n",
       "      <td>0.92</td>\n",
       "    </tr>\n",
       "    <tr>\n",
       "      <th>1</th>\n",
       "      <td>2</td>\n",
       "      <td>324</td>\n",
       "      <td>107</td>\n",
       "      <td>4</td>\n",
       "      <td>4.0</td>\n",
       "      <td>4.5</td>\n",
       "      <td>8.87</td>\n",
       "      <td>1</td>\n",
       "      <td>0.76</td>\n",
       "    </tr>\n",
       "    <tr>\n",
       "      <th>2</th>\n",
       "      <td>3</td>\n",
       "      <td>316</td>\n",
       "      <td>104</td>\n",
       "      <td>3</td>\n",
       "      <td>3.0</td>\n",
       "      <td>3.5</td>\n",
       "      <td>8.00</td>\n",
       "      <td>1</td>\n",
       "      <td>0.72</td>\n",
       "    </tr>\n",
       "    <tr>\n",
       "      <th>3</th>\n",
       "      <td>4</td>\n",
       "      <td>322</td>\n",
       "      <td>110</td>\n",
       "      <td>3</td>\n",
       "      <td>3.5</td>\n",
       "      <td>2.5</td>\n",
       "      <td>8.67</td>\n",
       "      <td>1</td>\n",
       "      <td>0.80</td>\n",
       "    </tr>\n",
       "    <tr>\n",
       "      <th>4</th>\n",
       "      <td>5</td>\n",
       "      <td>314</td>\n",
       "      <td>103</td>\n",
       "      <td>2</td>\n",
       "      <td>2.0</td>\n",
       "      <td>3.0</td>\n",
       "      <td>8.21</td>\n",
       "      <td>0</td>\n",
       "      <td>0.65</td>\n",
       "    </tr>\n",
       "  </tbody>\n",
       "</table>\n",
       "</div>"
      ],
      "text/plain": [
       "   Serial No.  GRE Score  TOEFL Score  University Rating  SOP  LOR   CGPA  \\\n",
       "0           1        337          118                  4  4.5   4.5  9.65   \n",
       "1           2        324          107                  4  4.0   4.5  8.87   \n",
       "2           3        316          104                  3  3.0   3.5  8.00   \n",
       "3           4        322          110                  3  3.5   2.5  8.67   \n",
       "4           5        314          103                  2  2.0   3.0  8.21   \n",
       "\n",
       "   Research  Chance of Admit   \n",
       "0         1              0.92  \n",
       "1         1              0.76  \n",
       "2         1              0.72  \n",
       "3         1              0.80  \n",
       "4         0              0.65  "
      ]
     },
     "metadata": {},
     "output_type": "display_data"
    },
    {
     "name": "stdout",
     "output_type": "stream",
     "text": [
      "(400, 9)\n"
     ]
    }
   ],
   "source": [
    "display(df.head())\n",
    "print(df.shape)"
   ]
  },
  {
   "cell_type": "code",
   "execution_count": 4,
   "id": "3eca13dc",
   "metadata": {
    "scrolled": true
   },
   "outputs": [
    {
     "data": {
      "text/plain": [
       "Index(['Serial No.', 'GRE Score', 'TOEFL Score', 'University Rating', 'SOP',\n",
       "       'LOR ', 'CGPA', 'Research', 'Chance of Admit '],\n",
       "      dtype='object')"
      ]
     },
     "execution_count": 4,
     "metadata": {},
     "output_type": "execute_result"
    }
   ],
   "source": [
    "df.columns"
   ]
  },
  {
   "cell_type": "markdown",
   "id": "743de516",
   "metadata": {},
   "source": [
    "Correlation between 2 features is calculated by: Covariance(F1, F2) / (SD1 * SD2)\n",
    "\n",
    "That is, it is the division the features' covariance by the product of their standard deviations.\n",
    "\n",
    "We do not need Serial No. feature as it is a derived feature with no inherent effect on any of the other features."
   ]
  },
  {
   "cell_type": "code",
   "execution_count": 5,
   "id": "9c77719f",
   "metadata": {},
   "outputs": [
    {
     "data": {
      "text/html": [
       "<div>\n",
       "<style scoped>\n",
       "    .dataframe tbody tr th:only-of-type {\n",
       "        vertical-align: middle;\n",
       "    }\n",
       "\n",
       "    .dataframe tbody tr th {\n",
       "        vertical-align: top;\n",
       "    }\n",
       "\n",
       "    .dataframe thead th {\n",
       "        text-align: right;\n",
       "    }\n",
       "</style>\n",
       "<table border=\"1\" class=\"dataframe\">\n",
       "  <thead>\n",
       "    <tr style=\"text-align: right;\">\n",
       "      <th></th>\n",
       "      <th>GRE Score</th>\n",
       "      <th>TOEFL Score</th>\n",
       "      <th>University Rating</th>\n",
       "      <th>SOP</th>\n",
       "      <th>LOR</th>\n",
       "      <th>CGPA</th>\n",
       "      <th>Research</th>\n",
       "      <th>Chance of Admit</th>\n",
       "    </tr>\n",
       "  </thead>\n",
       "  <tbody>\n",
       "    <tr>\n",
       "      <th>0</th>\n",
       "      <td>337</td>\n",
       "      <td>118</td>\n",
       "      <td>4</td>\n",
       "      <td>4.5</td>\n",
       "      <td>4.5</td>\n",
       "      <td>9.65</td>\n",
       "      <td>1</td>\n",
       "      <td>0.92</td>\n",
       "    </tr>\n",
       "    <tr>\n",
       "      <th>1</th>\n",
       "      <td>324</td>\n",
       "      <td>107</td>\n",
       "      <td>4</td>\n",
       "      <td>4.0</td>\n",
       "      <td>4.5</td>\n",
       "      <td>8.87</td>\n",
       "      <td>1</td>\n",
       "      <td>0.76</td>\n",
       "    </tr>\n",
       "    <tr>\n",
       "      <th>2</th>\n",
       "      <td>316</td>\n",
       "      <td>104</td>\n",
       "      <td>3</td>\n",
       "      <td>3.0</td>\n",
       "      <td>3.5</td>\n",
       "      <td>8.00</td>\n",
       "      <td>1</td>\n",
       "      <td>0.72</td>\n",
       "    </tr>\n",
       "    <tr>\n",
       "      <th>3</th>\n",
       "      <td>322</td>\n",
       "      <td>110</td>\n",
       "      <td>3</td>\n",
       "      <td>3.5</td>\n",
       "      <td>2.5</td>\n",
       "      <td>8.67</td>\n",
       "      <td>1</td>\n",
       "      <td>0.80</td>\n",
       "    </tr>\n",
       "    <tr>\n",
       "      <th>4</th>\n",
       "      <td>314</td>\n",
       "      <td>103</td>\n",
       "      <td>2</td>\n",
       "      <td>2.0</td>\n",
       "      <td>3.0</td>\n",
       "      <td>8.21</td>\n",
       "      <td>0</td>\n",
       "      <td>0.65</td>\n",
       "    </tr>\n",
       "  </tbody>\n",
       "</table>\n",
       "</div>"
      ],
      "text/plain": [
       "   GRE Score  TOEFL Score  University Rating  SOP  LOR  CGPA  Research  \\\n",
       "0        337          118                  4  4.5  4.5  9.65         1   \n",
       "1        324          107                  4  4.0  4.5  8.87         1   \n",
       "2        316          104                  3  3.0  3.5  8.00         1   \n",
       "3        322          110                  3  3.5  2.5  8.67         1   \n",
       "4        314          103                  2  2.0  3.0  8.21         0   \n",
       "\n",
       "   Chance of Admit   \n",
       "0              0.92  \n",
       "1              0.76  \n",
       "2              0.72  \n",
       "3              0.80  \n",
       "4              0.65  "
      ]
     },
     "metadata": {},
     "output_type": "display_data"
    }
   ],
   "source": [
    "# drop 'Serial No.'\n",
    "df.drop(['Serial No.'], axis=1, inplace=True)\n",
    "\n",
    "# fix 'LOR ' column name to 'LOR'\n",
    "df.rename(columns={'LOR ':'LOR'}, inplace=True)\n",
    "\n",
    "display(df.head())"
   ]
  },
  {
   "cell_type": "code",
   "execution_count": 6,
   "id": "1425724c",
   "metadata": {},
   "outputs": [],
   "source": [
    "def mean(feature_col):\n",
    "    n = len(feature_col)\n",
    "    \n",
    "    tot = 0\n",
    "    \n",
    "    for i in range(n):\n",
    "        tot = tot + feature_col[i]\n",
    "        \n",
    "    return tot / n"
   ]
  },
  {
   "cell_type": "code",
   "execution_count": 7,
   "id": "037c18fe",
   "metadata": {},
   "outputs": [],
   "source": [
    "def std(feature_col):\n",
    "    n = len(feature_col)\n",
    "    \n",
    "    tot = 0\n",
    "    \n",
    "    avg = mean(feature_col)\n",
    "    \n",
    "    for i in range(n):\n",
    "        tot = tot + ((feature_col[i] - avg)**2)\n",
    "    \n",
    "    s = math.sqrt((1/(n-1)) * tot)\n",
    "    \n",
    "    return s"
   ]
  },
  {
   "cell_type": "code",
   "execution_count": 8,
   "id": "a635edf3",
   "metadata": {},
   "outputs": [],
   "source": [
    "def covariance_std(f1, f2):\n",
    "    avg1 = mean(f1)\n",
    "    avg2 = mean(f2)\n",
    "    \n",
    "    cov = 0\n",
    "    \n",
    "    for i in range(len(f1)):\n",
    "        cov = cov + ((f1.iloc[i] - avg1) * (f2.iloc[i] - avg2))\n",
    "    \n",
    "    cov = cov / (len(f1) - 1)\n",
    "    \n",
    "    std1 = std(f1)\n",
    "    std2 = std(f2)\n",
    "    \n",
    "    return cov, std1, std2"
   ]
  },
  {
   "cell_type": "code",
   "execution_count": 9,
   "id": "4420f36a",
   "metadata": {},
   "outputs": [],
   "source": [
    "def corr_matrix(df):\n",
    "    dim = df.shape[1]\n",
    "    \n",
    "    matrix = np.zeros((dim,dim))\n",
    "    \n",
    "    col = 0\n",
    "    \n",
    "    for i in range(dim):\n",
    "        for j in range(col, dim):\n",
    "            cov, std1, std2 = covariance_std(df.iloc[:,i], df.iloc[:,j])\n",
    "            \n",
    "            corr = cov / (std1 * std2)\n",
    "            \n",
    "            matrix[i,j] = corr\n",
    "        \n",
    "        col = col + 1\n",
    "    \n",
    "    return matrix"
   ]
  },
  {
   "cell_type": "code",
   "execution_count": 10,
   "id": "327a6241",
   "metadata": {},
   "outputs": [
    {
     "data": {
      "text/plain": [
       "<AxesSubplot:>"
      ]
     },
     "execution_count": 10,
     "metadata": {},
     "output_type": "execute_result"
    },
    {
     "data": {
      "image/png": "[encoded data removed]",
      "text/plain": [
       "<Figure size 432x288 with 2 Axes>"
      ]
     },
     "metadata": {
      "needs_background": "light"
     },
     "output_type": "display_data"
    }
   ],
   "source": [
    "# generate correlation matrix\n",
    "matrix = corr_matrix(df)\n",
    "\n",
    "# convert matrix array to dataframe to get feature headers\n",
    "matrix_df = pd.DataFrame(matrix, columns=df.columns)\n",
    "\n",
    "# display correlation matrix\n",
    "# note x-axis has feature names, while y-axis has the feature number. They both mean the same thing\n",
    "sns.heatmap(matrix_df, annot=True)"
   ]
  },
  {
   "cell_type": "code",
   "execution_count": 11,
   "id": "594987cc",
   "metadata": {},
   "outputs": [
    {
     "data": {
      "text/plain": [
       "<AxesSubplot:>"
      ]
     },
     "execution_count": 11,
     "metadata": {},
     "output_type": "execute_result"
    },
    {
     "data": {
      "image/png": "[encoded data removed]",
      "text/plain": [
       "<Figure size 432x288 with 2 Axes>"
      ]
     },
     "metadata": {
      "needs_background": "light"
     },
     "output_type": "display_data"
    }
   ],
   "source": [
    "# verify using pandas\n",
    "sns.heatmap(df.corr(), annot=True)"
   ]
  },
  {
   "cell_type": "markdown",
   "id": "f7d3fe68",
   "metadata": {},
   "source": [
    "We see from above that the manual implementation matches with the pandas correlation method.\n",
    "\n",
    "The diagonal of 1's represents each feature's correlation with itself. A feature will always correlate perfectly with itself, hence the 1. \n",
    "\n",
    "We observe that 'GRE Score' and 'TOEFL Score' has the highest correlation among the independent features at 0.84. This means that perhaps there is collinearity occuring and we can drop one of these two features. This is more the case since both the features correlate with the dependent variable 'Chance of Admission' closely around 0.8 and 0.79 respectively.\n",
    "\n",
    "The most important variable would be the one with the highest correlation to the dependent variable. In this case, it is 'CGPA' at 0.87"
   ]
  },
  {
   "cell_type": "code",
   "execution_count": null,
   "id": "2b79de72",
   "metadata": {},
   "outputs": [],
   "source": []
  }
 ],
 "metadata": {
  "kernelspec": {
   "display_name": "Python 3 (ipykernel)",
   "language": "python",
   "name": "python3"
  },
  "language_info": {
   "codemirror_mode": {
    "name": "ipython",
    "version": 3
   },
   "file_extension": ".py",
   "mimetype": "text/x-python",
   "name": "python",
   "nbconvert_exporter": "python",
   "pygments_lexer": "ipython3",
   "version": "3.8.9"
  }
 },
 "nbformat": 4,
 "nbformat_minor": 5
}
