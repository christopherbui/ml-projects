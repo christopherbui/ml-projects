{
 "cells": [
  {
   "cell_type": "code",
   "execution_count": 1,
   "id": "8c463667-376f-4d60-b059-d8d5a885200f",
   "metadata": {},
   "outputs": [],
   "source": [
    "import pandas as pd\n",
    "import numpy as np\n",
    "import os"
   ]
  },
  {
   "cell_type": "markdown",
   "id": "a59fc307-7bf2-4e1e-a285-6c185e7293ff",
   "metadata": {},
   "source": [
    "# Problem #1"
   ]
  },
  {
   "cell_type": "code",
   "execution_count": 2,
   "id": "dd41b711-dceb-43f2-992e-c89ed0d6381d",
   "metadata": {},
   "outputs": [
    {
     "data": {
      "text/plain": [
       "['Friday-WorkingHours-Afternoon-DDos.pcap_ISCX.csv',\n",
       " 'Friday-WorkingHours-Morning.pcap_ISCX.csv',\n",
       " 'Monday-WorkingHours.pcap_ISCX.csv',\n",
       " 'Thursday-WorkingHours-Morning-WebAttacks.pcap_ISCX.csv',\n",
       " 'Friday-WorkingHours-Afternoon-PortScan.pcap_ISCX.csv',\n",
       " 'Tuesday-WorkingHours.pcap_ISCX.csv',\n",
       " 'Thursday-WorkingHours-Afternoon-Infilteration.pcap_ISCX.csv',\n",
       " 'Wednesday-workingHours.pcap_ISCX.csv']"
      ]
     },
     "execution_count": 2,
     "metadata": {},
     "output_type": "execute_result"
    }
   ],
   "source": [
    "# list datasets\n",
    "os.listdir('/home/stella/Desktop/MachineLearningCVE/')"
   ]
  },
  {
   "cell_type": "markdown",
   "id": "0fe07507-d0f6-49e8-a51b-b1a6d5ec1932",
   "metadata": {
    "tags": []
   },
   "source": [
    "# Problem #2"
   ]
  },
  {
   "cell_type": "code",
   "execution_count": 3,
   "id": "0e96bce6-6c06-4fe9-91b3-2778dee347a5",
   "metadata": {},
   "outputs": [],
   "source": [
    "# function to trim trailing whitespace left & right of column names\n",
    "def trim_spaces(df):\n",
    "    columns = df.columns\n",
    "    new_columns = []\n",
    "    for col in columns:\n",
    "        temp = col.strip()\n",
    "        new_columns.append(temp)\n",
    "    df.columns = new_columns"
   ]
  },
  {
   "cell_type": "code",
   "execution_count": 4,
   "id": "e3fb8e2c-66cf-4fe7-89af-d5f8197ac450",
   "metadata": {},
   "outputs": [],
   "source": [
    "# load the first dataset: Friday-WorkingHours-Afternoon-DDos.pcap_ISCX.csv\n",
    "df1 = pd.read_csv('/home/stella/Desktop/MachineLearningCVE/Friday-WorkingHours-Afternoon-DDos.pcap_ISCX.csv')"
   ]
  },
  {
   "cell_type": "code",
   "execution_count": 5,
   "id": "f6dfaaec-7bc7-48ff-a7b0-b165285880b4",
   "metadata": {},
   "outputs": [
    {
     "name": "stdout",
     "output_type": "stream",
     "text": [
      "shape: (225745, 79)\n"
     ]
    }
   ],
   "source": [
    "print(f'shape: {df1.shape}')"
   ]
  },
  {
   "cell_type": "code",
   "execution_count": 6,
   "id": "dbcf92ae-82f7-4cc1-b25f-c8db9afb658a",
   "metadata": {},
   "outputs": [],
   "source": [
    "# clean up column names\n",
    "trim_spaces(df1)"
   ]
  },
  {
   "cell_type": "code",
   "execution_count": 7,
   "id": "fc378458-0a5f-40aa-a49c-7dc87845afa6",
   "metadata": {
    "tags": []
   },
   "outputs": [
    {
     "data": {
      "text/plain": [
       "Index(['Destination Port', 'Flow Duration', 'Total Fwd Packets',\n",
       "       'Total Backward Packets', 'Total Length of Fwd Packets',\n",
       "       'Total Length of Bwd Packets', 'Fwd Packet Length Max',\n",
       "       'Fwd Packet Length Min', 'Fwd Packet Length Mean',\n",
       "       'Fwd Packet Length Std', 'Bwd Packet Length Max',\n",
       "       'Bwd Packet Length Min', 'Bwd Packet Length Mean',\n",
       "       'Bwd Packet Length Std', 'Flow Bytes/s', 'Flow Packets/s',\n",
       "       'Flow IAT Mean', 'Flow IAT Std', 'Flow IAT Max', 'Flow IAT Min',\n",
       "       'Fwd IAT Total', 'Fwd IAT Mean', 'Fwd IAT Std', 'Fwd IAT Max',\n",
       "       'Fwd IAT Min', 'Bwd IAT Total', 'Bwd IAT Mean', 'Bwd IAT Std',\n",
       "       'Bwd IAT Max', 'Bwd IAT Min', 'Fwd PSH Flags', 'Bwd PSH Flags',\n",
       "       'Fwd URG Flags', 'Bwd URG Flags', 'Fwd Header Length',\n",
       "       'Bwd Header Length', 'Fwd Packets/s', 'Bwd Packets/s',\n",
       "       'Min Packet Length', 'Max Packet Length', 'Packet Length Mean',\n",
       "       'Packet Length Std', 'Packet Length Variance', 'FIN Flag Count',\n",
       "       'SYN Flag Count', 'RST Flag Count', 'PSH Flag Count', 'ACK Flag Count',\n",
       "       'URG Flag Count', 'CWE Flag Count', 'ECE Flag Count', 'Down/Up Ratio',\n",
       "       'Average Packet Size', 'Avg Fwd Segment Size', 'Avg Bwd Segment Size',\n",
       "       'Fwd Header Length.1', 'Fwd Avg Bytes/Bulk', 'Fwd Avg Packets/Bulk',\n",
       "       'Fwd Avg Bulk Rate', 'Bwd Avg Bytes/Bulk', 'Bwd Avg Packets/Bulk',\n",
       "       'Bwd Avg Bulk Rate', 'Subflow Fwd Packets', 'Subflow Fwd Bytes',\n",
       "       'Subflow Bwd Packets', 'Subflow Bwd Bytes', 'Init_Win_bytes_forward',\n",
       "       'Init_Win_bytes_backward', 'act_data_pkt_fwd', 'min_seg_size_forward',\n",
       "       'Active Mean', 'Active Std', 'Active Max', 'Active Min', 'Idle Mean',\n",
       "       'Idle Std', 'Idle Max', 'Idle Min', 'Label'],\n",
       "      dtype='object')"
      ]
     },
     "execution_count": 7,
     "metadata": {},
     "output_type": "execute_result"
    }
   ],
   "source": [
    "# 78 features & label column\n",
    "df1.columns"
   ]
  },
  {
   "cell_type": "code",
   "execution_count": 8,
   "id": "0058ee23-e54f-4773-9e58-477361178708",
   "metadata": {},
   "outputs": [
    {
     "data": {
      "text/html": [
       "<div>\n",
       "<style scoped>\n",
       "    .dataframe tbody tr th:only-of-type {\n",
       "        vertical-align: middle;\n",
       "    }\n",
       "\n",
       "    .dataframe tbody tr th {\n",
       "        vertical-align: top;\n",
       "    }\n",
       "\n",
       "    .dataframe thead th {\n",
       "        text-align: right;\n",
       "    }\n",
       "</style>\n",
       "<table border=\"1\" class=\"dataframe\">\n",
       "  <thead>\n",
       "    <tr style=\"text-align: right;\">\n",
       "      <th></th>\n",
       "      <th>Destination Port</th>\n",
       "      <th>Flow Duration</th>\n",
       "      <th>Total Fwd Packets</th>\n",
       "      <th>Total Backward Packets</th>\n",
       "      <th>Total Length of Fwd Packets</th>\n",
       "      <th>Total Length of Bwd Packets</th>\n",
       "      <th>Fwd Packet Length Max</th>\n",
       "      <th>Fwd Packet Length Min</th>\n",
       "      <th>Fwd Packet Length Mean</th>\n",
       "      <th>Fwd Packet Length Std</th>\n",
       "      <th>...</th>\n",
       "      <th>min_seg_size_forward</th>\n",
       "      <th>Active Mean</th>\n",
       "      <th>Active Std</th>\n",
       "      <th>Active Max</th>\n",
       "      <th>Active Min</th>\n",
       "      <th>Idle Mean</th>\n",
       "      <th>Idle Std</th>\n",
       "      <th>Idle Max</th>\n",
       "      <th>Idle Min</th>\n",
       "      <th>Label</th>\n",
       "    </tr>\n",
       "  </thead>\n",
       "  <tbody>\n",
       "    <tr>\n",
       "      <th>0</th>\n",
       "      <td>54865</td>\n",
       "      <td>3</td>\n",
       "      <td>2</td>\n",
       "      <td>0</td>\n",
       "      <td>12</td>\n",
       "      <td>0</td>\n",
       "      <td>6</td>\n",
       "      <td>6</td>\n",
       "      <td>6.0</td>\n",
       "      <td>0.0</td>\n",
       "      <td>...</td>\n",
       "      <td>20</td>\n",
       "      <td>0.0</td>\n",
       "      <td>0.0</td>\n",
       "      <td>0</td>\n",
       "      <td>0</td>\n",
       "      <td>0.0</td>\n",
       "      <td>0.0</td>\n",
       "      <td>0</td>\n",
       "      <td>0</td>\n",
       "      <td>BENIGN</td>\n",
       "    </tr>\n",
       "    <tr>\n",
       "      <th>1</th>\n",
       "      <td>55054</td>\n",
       "      <td>109</td>\n",
       "      <td>1</td>\n",
       "      <td>1</td>\n",
       "      <td>6</td>\n",
       "      <td>6</td>\n",
       "      <td>6</td>\n",
       "      <td>6</td>\n",
       "      <td>6.0</td>\n",
       "      <td>0.0</td>\n",
       "      <td>...</td>\n",
       "      <td>20</td>\n",
       "      <td>0.0</td>\n",
       "      <td>0.0</td>\n",
       "      <td>0</td>\n",
       "      <td>0</td>\n",
       "      <td>0.0</td>\n",
       "      <td>0.0</td>\n",
       "      <td>0</td>\n",
       "      <td>0</td>\n",
       "      <td>BENIGN</td>\n",
       "    </tr>\n",
       "    <tr>\n",
       "      <th>2</th>\n",
       "      <td>55055</td>\n",
       "      <td>52</td>\n",
       "      <td>1</td>\n",
       "      <td>1</td>\n",
       "      <td>6</td>\n",
       "      <td>6</td>\n",
       "      <td>6</td>\n",
       "      <td>6</td>\n",
       "      <td>6.0</td>\n",
       "      <td>0.0</td>\n",
       "      <td>...</td>\n",
       "      <td>20</td>\n",
       "      <td>0.0</td>\n",
       "      <td>0.0</td>\n",
       "      <td>0</td>\n",
       "      <td>0</td>\n",
       "      <td>0.0</td>\n",
       "      <td>0.0</td>\n",
       "      <td>0</td>\n",
       "      <td>0</td>\n",
       "      <td>BENIGN</td>\n",
       "    </tr>\n",
       "    <tr>\n",
       "      <th>3</th>\n",
       "      <td>46236</td>\n",
       "      <td>34</td>\n",
       "      <td>1</td>\n",
       "      <td>1</td>\n",
       "      <td>6</td>\n",
       "      <td>6</td>\n",
       "      <td>6</td>\n",
       "      <td>6</td>\n",
       "      <td>6.0</td>\n",
       "      <td>0.0</td>\n",
       "      <td>...</td>\n",
       "      <td>20</td>\n",
       "      <td>0.0</td>\n",
       "      <td>0.0</td>\n",
       "      <td>0</td>\n",
       "      <td>0</td>\n",
       "      <td>0.0</td>\n",
       "      <td>0.0</td>\n",
       "      <td>0</td>\n",
       "      <td>0</td>\n",
       "      <td>BENIGN</td>\n",
       "    </tr>\n",
       "    <tr>\n",
       "      <th>4</th>\n",
       "      <td>54863</td>\n",
       "      <td>3</td>\n",
       "      <td>2</td>\n",
       "      <td>0</td>\n",
       "      <td>12</td>\n",
       "      <td>0</td>\n",
       "      <td>6</td>\n",
       "      <td>6</td>\n",
       "      <td>6.0</td>\n",
       "      <td>0.0</td>\n",
       "      <td>...</td>\n",
       "      <td>20</td>\n",
       "      <td>0.0</td>\n",
       "      <td>0.0</td>\n",
       "      <td>0</td>\n",
       "      <td>0</td>\n",
       "      <td>0.0</td>\n",
       "      <td>0.0</td>\n",
       "      <td>0</td>\n",
       "      <td>0</td>\n",
       "      <td>BENIGN</td>\n",
       "    </tr>\n",
       "  </tbody>\n",
       "</table>\n",
       "<p>5 rows × 79 columns</p>\n",
       "</div>"
      ],
      "text/plain": [
       "   Destination Port  Flow Duration  Total Fwd Packets  Total Backward Packets  \\\n",
       "0             54865              3                  2                       0   \n",
       "1             55054            109                  1                       1   \n",
       "2             55055             52                  1                       1   \n",
       "3             46236             34                  1                       1   \n",
       "4             54863              3                  2                       0   \n",
       "\n",
       "   Total Length of Fwd Packets  Total Length of Bwd Packets  \\\n",
       "0                           12                            0   \n",
       "1                            6                            6   \n",
       "2                            6                            6   \n",
       "3                            6                            6   \n",
       "4                           12                            0   \n",
       "\n",
       "   Fwd Packet Length Max  Fwd Packet Length Min  Fwd Packet Length Mean  \\\n",
       "0                      6                      6                     6.0   \n",
       "1                      6                      6                     6.0   \n",
       "2                      6                      6                     6.0   \n",
       "3                      6                      6                     6.0   \n",
       "4                      6                      6                     6.0   \n",
       "\n",
       "   Fwd Packet Length Std  ...  min_seg_size_forward  Active Mean  Active Std  \\\n",
       "0                    0.0  ...                    20          0.0         0.0   \n",
       "1                    0.0  ...                    20          0.0         0.0   \n",
       "2                    0.0  ...                    20          0.0         0.0   \n",
       "3                    0.0  ...                    20          0.0         0.0   \n",
       "4                    0.0  ...                    20          0.0         0.0   \n",
       "\n",
       "   Active Max  Active Min  Idle Mean  Idle Std  Idle Max  Idle Min   Label  \n",
       "0           0           0        0.0       0.0         0         0  BENIGN  \n",
       "1           0           0        0.0       0.0         0         0  BENIGN  \n",
       "2           0           0        0.0       0.0         0         0  BENIGN  \n",
       "3           0           0        0.0       0.0         0         0  BENIGN  \n",
       "4           0           0        0.0       0.0         0         0  BENIGN  \n",
       "\n",
       "[5 rows x 79 columns]"
      ]
     },
     "execution_count": 8,
     "metadata": {},
     "output_type": "execute_result"
    }
   ],
   "source": [
    "# observe\n",
    "df1.head()"
   ]
  },
  {
   "cell_type": "code",
   "execution_count": 9,
   "id": "963c2eda-6070-4b2f-9893-b602b915b1de",
   "metadata": {},
   "outputs": [
    {
     "data": {
      "text/plain": [
       "array(['BENIGN', 'DDoS'], dtype=object)"
      ]
     },
     "execution_count": 9,
     "metadata": {},
     "output_type": "execute_result"
    }
   ],
   "source": [
    "# check class labels\n",
    "df1['Label'].unique()"
   ]
  },
  {
   "cell_type": "markdown",
   "id": "d85bfb8b-b2f0-4a38-9233-cd87a445faf5",
   "metadata": {},
   "source": [
    "# Problem #3"
   ]
  },
  {
   "cell_type": "markdown",
   "id": "d5347ea4-561b-4555-bcdc-6c6c5cd6984e",
   "metadata": {},
   "source": [
    "The dependent variable is the 'Label' column which contains the class of each instance in the dataset as either *BENIGN* or *DDoS*. Therefore, the machine learning methodology we would have to use is a **classification** algorithm.\n",
    "\n",
    "Since we are dealing with binary class labels, in this case I suggest utilizing logistic regression as the argmax output will be either 0 or 1. This is a nice representation of the predicted class labels that we are trying to achieve."
   ]
  },
  {
   "cell_type": "markdown",
   "id": "0c7ebd76-db08-4b5c-aa7d-b41e958718b1",
   "metadata": {},
   "source": [
    "# Problem #4"
   ]
  },
  {
   "cell_type": "code",
   "execution_count": 10,
   "id": "45c1deb5-b61b-4371-bb4a-63185207616d",
   "metadata": {},
   "outputs": [],
   "source": [
    "# function to binarize the class labels\n",
    "def binarize(x):\n",
    "    if x == 'BENIGN':\n",
    "        return 0\n",
    "    else:\n",
    "        return 1"
   ]
  },
  {
   "cell_type": "code",
   "execution_count": 11,
   "id": "7500fdb7-ad0d-42ae-9433-03054b60c774",
   "metadata": {},
   "outputs": [],
   "source": [
    "# binarize class labels\n",
    "df1['Label'] = df1['Label'].apply(binarize)"
   ]
  },
  {
   "cell_type": "code",
   "execution_count": 12,
   "id": "6e526f8f-dab0-4e72-a030-1118937e9b9a",
   "metadata": {},
   "outputs": [
    {
     "name": "stdout",
     "output_type": "stream",
     "text": [
      "1    128027\n",
      "0     97718\n",
      "Name: Label, dtype: int64\n"
     ]
    }
   ],
   "source": [
    "# check class balance\n",
    "class_counts = df1['Label'].value_counts()\n",
    "print(class_counts)"
   ]
  },
  {
   "cell_type": "code",
   "execution_count": 13,
   "id": "673c2210-cb83-448a-8523-0ab09f896fd3",
   "metadata": {},
   "outputs": [
    {
     "name": "stdout",
     "output_type": "stream",
     "text": [
      "BENIGN %: 56.71\n",
      "DDoS %: 43.29\n"
     ]
    }
   ],
   "source": [
    "print(f'BENIGN %: {round(class_counts[1] / df1.shape[0] * 100, 2)}')\n",
    "print(f'DDoS %: {100 - round(class_counts[1] / df1.shape[0] * 100, 2)}')"
   ]
  },
  {
   "cell_type": "markdown",
   "id": "28184fe8-6188-4868-afa3-ebaa64bceece",
   "metadata": {},
   "source": [
    "Above we see that majority of instances are labeled *BENIGN*. However, looking at the percentages, we can consider this to be an adequately balanced dataset."
   ]
  },
  {
   "cell_type": "markdown",
   "id": "ce33086b-3805-425e-9d9b-154f9189904f",
   "metadata": {},
   "source": [
    "# Problem #5"
   ]
  },
  {
   "cell_type": "code",
   "execution_count": 14,
   "id": "a76e83d6-28cb-4f00-8e17-fe8119d1e4e8",
   "metadata": {},
   "outputs": [],
   "source": [
    "pd.options.display.max_rows = 100"
   ]
  },
  {
   "cell_type": "code",
   "execution_count": 15,
   "id": "70763e47-ab29-49e5-b734-b297e10c0b92",
   "metadata": {},
   "outputs": [
    {
     "name": "stdout",
     "output_type": "stream",
     "text": [
      "Flow Bytes/s: 34 nulls\n",
      "Flow Packets/s: 34 nulls\n"
     ]
    }
   ],
   "source": [
    "# check features for null values & any infinites as we are dealing with numerical data\n",
    "# even after applying .dropna(), infinity values still persist. Hence, we need to utilize .drop() shown below.\n",
    "nulls = df1.isin([-1*np.inf, np.inf, None]).sum()\n",
    "for i in range(len(nulls)):\n",
    "    if nulls[i] > 0:\n",
    "        print(f'{nulls.index[i]}: {nulls[i]} nulls')"
   ]
  },
  {
   "cell_type": "code",
   "execution_count": 16,
   "id": "a8914ec6-fd4e-4d54-a7bf-4beca90ef351",
   "metadata": {},
   "outputs": [],
   "source": [
    "# drop NaN\n",
    "df1.dropna(axis=0, inplace=True)\n",
    "\n",
    "# drop infinity\n",
    "inf_indices = df1[(df1['Flow Packets/s'] == np.inf)].index\n",
    "df1.drop(inf_indices, inplace=True)"
   ]
  },
  {
   "cell_type": "code",
   "execution_count": 17,
   "id": "e575209a-b665-4a1a-9a5e-07b364c98738",
   "metadata": {},
   "outputs": [
    {
     "name": "stdout",
     "output_type": "stream",
     "text": [
      "Number of Unique Ports: 23944\n"
     ]
    }
   ],
   "source": [
    "# observe number of unique 'Destination Ports'\n",
    "n_ports = len(df1['Destination Port'].unique())\n",
    "print(f'Number of Unique Ports: {n_ports}')"
   ]
  },
  {
   "cell_type": "code",
   "execution_count": 18,
   "id": "ee7c52a6-0d7a-4981-a580-6991d8f8f42d",
   "metadata": {},
   "outputs": [],
   "source": [
    "# These are the top 20 ports based on their counts. After this, the counts for other ports drop to single digits.\n",
    "common_ports_counts = df1['Destination Port'].value_counts()[:30]"
   ]
  },
  {
   "cell_type": "code",
   "execution_count": 19,
   "id": "0ea25a6f-7cd0-4905-9b94-6107a9f5aa31",
   "metadata": {},
   "outputs": [
    {
     "data": {
      "text/plain": [
       "80       136946\n",
       "53        31950\n",
       "443       13480\n",
       "8080        510\n",
       "123         362\n",
       "22          342\n",
       "137         274\n",
       "389         259\n",
       "88          173\n",
       "21          167\n",
       "465         147\n",
       "139         100\n",
       "3268         91\n",
       "0            54\n",
       "138          53\n",
       "445          48\n",
       "135          23\n",
       "49666        23\n",
       "5353         16\n",
       "49671        12\n",
       "55200         8\n",
       "59871         8\n",
       "57844         8\n",
       "55202         8\n",
       "53675         8\n",
       "55706         7\n",
       "58135         7\n",
       "58130         7\n",
       "56873         7\n",
       "61012         7\n",
       "Name: Destination Port, dtype: int64"
      ]
     },
     "execution_count": 19,
     "metadata": {},
     "output_type": "execute_result"
    }
   ],
   "source": [
    "common_ports_counts"
   ]
  },
  {
   "cell_type": "code",
   "execution_count": 20,
   "id": "b6d2e891-a992-4343-84a6-be04267849c7",
   "metadata": {},
   "outputs": [],
   "source": [
    "common_ports = list(common_ports_counts.index)"
   ]
  },
  {
   "cell_type": "code",
   "execution_count": 21,
   "id": "502540b8-2a11-4fc7-9473-3a7fd1bd54ff",
   "metadata": {},
   "outputs": [
    {
     "name": "stdout",
     "output_type": "stream",
     "text": [
      "80\t53\t443\t8080\t123\n",
      "22\t137\t389\t88\t21\n",
      "465\t139\t3268\t0\t138\n",
      "445\t135\t49666\t5353\t49671\n"
     ]
    }
   ],
   "source": [
    "# Observe the common ports we will be using. Other ports will be renamed to 'other_ports'\n",
    "a, b, c, d, e = 0, 1, 2, 3, 4\n",
    "for i in range(4):\n",
    "    print(common_ports[a], common_ports[b], common_ports[c], common_ports[d], common_ports[e], sep='\\t')\n",
    "    a +=5\n",
    "    b += 5\n",
    "    c += 5\n",
    "    d += 5\n",
    "    e += 5"
   ]
  },
  {
   "cell_type": "markdown",
   "id": "b23a4ab6-751b-4c27-9a22-f18a42f8254b",
   "metadata": {},
   "source": [
    "**Reference**: https://hostpapasupport.com/commonly-used-ports/\n",
    "\n",
    "We see that popular prots are 80, 22, 21, 443 which are some of most frequent in our datset. Upon further research, we will not use port 0 as it is not an official port. Also, we will not use  the last 3 ports shown as they are uncommon. Therefore we will use 16/20 of the ports shown above. The other ports will be renamed 'other_ports'."
   ]
  },
  {
   "cell_type": "code",
   "execution_count": 22,
   "id": "d1023856-0306-48e5-8d26-970a0e5fd9d9",
   "metadata": {},
   "outputs": [],
   "source": [
    "# update common ports\n",
    "bad = [0, 49666, 5353, 49671]\n",
    "common_ports = [str(i) for i in common_ports[:20] if i not in bad]"
   ]
  },
  {
   "cell_type": "code",
   "execution_count": 23,
   "id": "85a9a75c-ffe5-41bd-8358-e40544c771aa",
   "metadata": {},
   "outputs": [
    {
     "data": {
      "text/plain": [
       "['80',\n",
       " '53',\n",
       " '443',\n",
       " '8080',\n",
       " '123',\n",
       " '22',\n",
       " '137',\n",
       " '389',\n",
       " '88',\n",
       " '21',\n",
       " '465',\n",
       " '139',\n",
       " '3268',\n",
       " '138',\n",
       " '445',\n",
       " '135']"
      ]
     },
     "execution_count": 23,
     "metadata": {},
     "output_type": "execute_result"
    }
   ],
   "source": [
    "common_ports"
   ]
  },
  {
   "cell_type": "code",
   "execution_count": 24,
   "id": "f0a0417b-ff1f-4984-a69a-d743fd53325a",
   "metadata": {},
   "outputs": [],
   "source": [
    "# create port dictionary\n",
    "port_names = {'80': 'HTTP',\n",
    "              '53': 'DNS',\n",
    "              '443': 'HTTP_OVER_SSL',\n",
    "              '8080': 'HHTP_PROXY',\n",
    "              '123': 'NETBUS',\n",
    "              '22': 'SSH/SCP',\n",
    "              '137': 'NetBIOS_A',\n",
    "              '389': 'LDAP_A',\n",
    "              '88': 'KERBEROS',\n",
    "              '21': 'FTP',\n",
    "              '465': 'SMT_OVER_SSL',\n",
    "              '139': 'NetBIOS_B',\n",
    "              '3268': 'LDAP_B',\n",
    "              '138': 'NetBIOS_C',\n",
    "              '445': 'Microsoft DS',\n",
    "              '135': 'Microsoft RPC',\n",
    "             }"
   ]
  },
  {
   "cell_type": "code",
   "execution_count": 25,
   "id": "b2a0e140-3e3e-4e60-b905-9fef46064ef0",
   "metadata": {},
   "outputs": [],
   "source": [
    "# function to convert ports to string\n",
    "def str_port(x):\n",
    "    return str(x)"
   ]
  },
  {
   "cell_type": "code",
   "execution_count": 26,
   "id": "b4ed6814-5475-4a9d-9346-e02b89f12c10",
   "metadata": {},
   "outputs": [],
   "source": [
    "def rename(x):\n",
    "    if x in port_names.keys():\n",
    "        return x\n",
    "    else:\n",
    "        return 'other_ports'"
   ]
  },
  {
   "cell_type": "code",
   "execution_count": 27,
   "id": "3a722a20-bafa-4787-a509-de4b16ab7389",
   "metadata": {},
   "outputs": [],
   "source": [
    "# convert port numbers to string\n",
    "df1['Destination Port'] = df1['Destination Port'].apply(str_port)"
   ]
  },
  {
   "cell_type": "code",
   "execution_count": 28,
   "id": "81737e10-d708-408a-a215-93c1df32b4ac",
   "metadata": {},
   "outputs": [],
   "source": [
    "# rename unpopular ports to 'other_ports'\n",
    "df1['Destination Port'] = df1['Destination Port'].apply(rename)"
   ]
  },
  {
   "cell_type": "code",
   "execution_count": 29,
   "id": "41b34a5c-7f8c-4332-bba9-0c585b1a2658",
   "metadata": {},
   "outputs": [
    {
     "data": {
      "text/plain": [
       "80             136946\n",
       "other_ports     40786\n",
       "53              31950\n",
       "443             13480\n",
       "8080              510\n",
       "123               362\n",
       "22                342\n",
       "137               274\n",
       "389               259\n",
       "88                173\n",
       "21                167\n",
       "465               147\n",
       "139               100\n",
       "3268               91\n",
       "138                53\n",
       "445                48\n",
       "135                23\n",
       "Name: Destination Port, dtype: int64"
      ]
     },
     "execution_count": 29,
     "metadata": {},
     "output_type": "execute_result"
    }
   ],
   "source": [
    "df1['Destination Port'].value_counts()"
   ]
  },
  {
   "cell_type": "markdown",
   "id": "de5ab2b3-692b-49d8-9036-dbe29dead105",
   "metadata": {},
   "source": [
    "**Note**: We will one-hot-encode the ports feature and standardize the remaining features after plotting the histograms for convenience"
   ]
  },
  {
   "cell_type": "markdown",
   "id": "7ae9920b-5570-49ca-80ff-6a34163d442d",
   "metadata": {},
   "source": [
    "# Problem #6"
   ]
  },
  {
   "cell_type": "code",
   "execution_count": 30,
   "id": "ad980b1b-f306-4158-ab52-63859206ecae",
   "metadata": {},
   "outputs": [],
   "source": [
    "import matplotlib.pyplot as plt"
   ]
  },
  {
   "cell_type": "markdown",
   "id": "d81a2339-7444-4781-88f3-c7c97bec5855",
   "metadata": {},
   "source": [
    "**Note**: For the histograms displayed, the ranges had to be restricted as counts are highly skewed"
   ]
  },
  {
   "cell_type": "code",
   "execution_count": 31,
   "id": "b534e629-3460-4042-a885-71353c08167b",
   "metadata": {},
   "outputs": [
    {
     "data": {
      "image/png": "[encoded data removed]",
      "text/plain": [
       "<Figure size 432x288 with 1 Axes>"
      ]
     },
     "metadata": {
      "needs_background": "light"
     },
     "output_type": "display_data"
    }
   ],
   "source": [
    "plt.hist(df1['Flow Bytes/s'], bins=20, range=(0,50), rwidth=5, color='g')\n",
    "plt.title('Flow Bytes/s - Histogram')\n",
    "plt.xlabel('Packets', labelpad=10)\n",
    "plt.ylabel('Counts', rotation='horizontal', labelpad=30)\n",
    "plt.show()"
   ]
  },
  {
   "cell_type": "code",
   "execution_count": 32,
   "id": "4206f779-6f94-4361-b429-ed9f6951cb41",
   "metadata": {},
   "outputs": [
    {
     "data": {
      "image/png": "[encoded data removed]",
      "text/plain": [
       "<Figure size 432x288 with 1 Axes>"
      ]
     },
     "metadata": {
      "needs_background": "light"
     },
     "output_type": "display_data"
    }
   ],
   "source": [
    "plt.hist(df1['Total Fwd Packets'], bins=20, range=(0,50), rwidth=5, color='g')\n",
    "plt.title('Total Fwd Packets - Histogram')\n",
    "plt.xlabel('Packets', labelpad=10)\n",
    "plt.ylabel('Counts', rotation='horizontal', labelpad=30)\n",
    "plt.show()"
   ]
  },
  {
   "cell_type": "code",
   "execution_count": 33,
   "id": "6c2edcbd-8fad-4bc4-9ce3-16a035aca002",
   "metadata": {},
   "outputs": [
    {
     "data": {
      "image/png": "[encoded data removed]",
      "text/plain": [
       "<Figure size 432x288 with 1 Axes>"
      ]
     },
     "metadata": {
      "needs_background": "light"
     },
     "output_type": "display_data"
    }
   ],
   "source": [
    "plt.hist(df1['Total Backward Packets'], bins=20, range=(0,50), rwidth=5, color='g')\n",
    "plt.title('Total Backward Packets - Histogram')\n",
    "plt.xlabel('Packets', labelpad=10)\n",
    "plt.ylabel('Counts', rotation='horizontal', labelpad=30)\n",
    "plt.show()"
   ]
  },
  {
   "cell_type": "code",
   "execution_count": 34,
   "id": "9a13bfbd-2b87-44a7-8627-9970aabaa421",
   "metadata": {},
   "outputs": [
    {
     "data": {
      "image/png": "[encoded data removed]",
      "text/plain": [
       "<Figure size 432x288 with 1 Axes>"
      ]
     },
     "metadata": {
      "needs_background": "light"
     },
     "output_type": "display_data"
    }
   ],
   "source": [
    "plt.hist(df1['Destination Port'], color='g')\n",
    "plt.title('Destination Port - Histogram')\n",
    "plt.xlabel('Port', labelpad=10)\n",
    "plt.ylabel('Counts', rotation='horizontal', labelpad=30)\n",
    "plt.xticks(rotation=45)\n",
    "plt.show()"
   ]
  },
  {
   "cell_type": "code",
   "execution_count": 35,
   "id": "dafd3260-8454-4cbc-88fd-c6949936a1f0",
   "metadata": {},
   "outputs": [
    {
     "data": {
      "image/png": "[encoded data removed]",
      "text/plain": [
       "<Figure size 432x288 with 1 Axes>"
      ]
     },
     "metadata": {
      "needs_background": "light"
     },
     "output_type": "display_data"
    }
   ],
   "source": [
    "plt.hist(df1['Flow Duration'], bins=20, range=(0,1000), rwidth=5, color='g')\n",
    "plt.title('Flow Duration - Histogram')\n",
    "plt.xlabel('Flow Duration', labelpad=10)\n",
    "plt.ylabel('Counts', rotation='horizontal', labelpad=30)\n",
    "plt.show()"
   ]
  },
  {
   "cell_type": "code",
   "execution_count": 36,
   "id": "dd193338-0b18-4239-8e52-4302c44b8340",
   "metadata": {},
   "outputs": [],
   "source": [
    "from sklearn.preprocessing import StandardScaler"
   ]
  },
  {
   "cell_type": "code",
   "execution_count": 37,
   "id": "de0f2eb4-c4cc-4eef-ab56-64afebc3a07d",
   "metadata": {},
   "outputs": [
    {
     "data": {
      "text/html": [
       "<div>\n",
       "<style scoped>\n",
       "    .dataframe tbody tr th:only-of-type {\n",
       "        vertical-align: middle;\n",
       "    }\n",
       "\n",
       "    .dataframe tbody tr th {\n",
       "        vertical-align: top;\n",
       "    }\n",
       "\n",
       "    .dataframe thead th {\n",
       "        text-align: right;\n",
       "    }\n",
       "</style>\n",
       "<table border=\"1\" class=\"dataframe\">\n",
       "  <thead>\n",
       "    <tr style=\"text-align: right;\">\n",
       "      <th></th>\n",
       "      <th>135</th>\n",
       "      <th>137</th>\n",
       "      <th>138</th>\n",
       "      <th>139</th>\n",
       "      <th>21</th>\n",
       "      <th>22</th>\n",
       "      <th>3268</th>\n",
       "      <th>389</th>\n",
       "      <th>443</th>\n",
       "      <th>445</th>\n",
       "      <th>465</th>\n",
       "      <th>53</th>\n",
       "      <th>80</th>\n",
       "      <th>8080</th>\n",
       "      <th>88</th>\n",
       "      <th>other_ports</th>\n",
       "    </tr>\n",
       "  </thead>\n",
       "  <tbody>\n",
       "    <tr>\n",
       "      <th>0</th>\n",
       "      <td>0</td>\n",
       "      <td>0</td>\n",
       "      <td>0</td>\n",
       "      <td>0</td>\n",
       "      <td>0</td>\n",
       "      <td>0</td>\n",
       "      <td>0</td>\n",
       "      <td>0</td>\n",
       "      <td>0</td>\n",
       "      <td>0</td>\n",
       "      <td>0</td>\n",
       "      <td>0</td>\n",
       "      <td>0</td>\n",
       "      <td>0</td>\n",
       "      <td>0</td>\n",
       "      <td>1</td>\n",
       "    </tr>\n",
       "    <tr>\n",
       "      <th>1</th>\n",
       "      <td>0</td>\n",
       "      <td>0</td>\n",
       "      <td>0</td>\n",
       "      <td>0</td>\n",
       "      <td>0</td>\n",
       "      <td>0</td>\n",
       "      <td>0</td>\n",
       "      <td>0</td>\n",
       "      <td>0</td>\n",
       "      <td>0</td>\n",
       "      <td>0</td>\n",
       "      <td>0</td>\n",
       "      <td>0</td>\n",
       "      <td>0</td>\n",
       "      <td>0</td>\n",
       "      <td>1</td>\n",
       "    </tr>\n",
       "    <tr>\n",
       "      <th>2</th>\n",
       "      <td>0</td>\n",
       "      <td>0</td>\n",
       "      <td>0</td>\n",
       "      <td>0</td>\n",
       "      <td>0</td>\n",
       "      <td>0</td>\n",
       "      <td>0</td>\n",
       "      <td>0</td>\n",
       "      <td>0</td>\n",
       "      <td>0</td>\n",
       "      <td>0</td>\n",
       "      <td>0</td>\n",
       "      <td>0</td>\n",
       "      <td>0</td>\n",
       "      <td>0</td>\n",
       "      <td>1</td>\n",
       "    </tr>\n",
       "    <tr>\n",
       "      <th>3</th>\n",
       "      <td>0</td>\n",
       "      <td>0</td>\n",
       "      <td>0</td>\n",
       "      <td>0</td>\n",
       "      <td>0</td>\n",
       "      <td>0</td>\n",
       "      <td>0</td>\n",
       "      <td>0</td>\n",
       "      <td>0</td>\n",
       "      <td>0</td>\n",
       "      <td>0</td>\n",
       "      <td>0</td>\n",
       "      <td>0</td>\n",
       "      <td>0</td>\n",
       "      <td>0</td>\n",
       "      <td>1</td>\n",
       "    </tr>\n",
       "    <tr>\n",
       "      <th>4</th>\n",
       "      <td>0</td>\n",
       "      <td>0</td>\n",
       "      <td>0</td>\n",
       "      <td>0</td>\n",
       "      <td>0</td>\n",
       "      <td>0</td>\n",
       "      <td>0</td>\n",
       "      <td>0</td>\n",
       "      <td>0</td>\n",
       "      <td>0</td>\n",
       "      <td>0</td>\n",
       "      <td>0</td>\n",
       "      <td>0</td>\n",
       "      <td>0</td>\n",
       "      <td>0</td>\n",
       "      <td>1</td>\n",
       "    </tr>\n",
       "  </tbody>\n",
       "</table>\n",
       "</div>"
      ],
      "text/plain": [
       "   135  137  138  139  21  22  3268  389  443  445  465  53  80  8080  88  \\\n",
       "0    0    0    0    0   0   0     0    0    0    0    0   0   0     0   0   \n",
       "1    0    0    0    0   0   0     0    0    0    0    0   0   0     0   0   \n",
       "2    0    0    0    0   0   0     0    0    0    0    0   0   0     0   0   \n",
       "3    0    0    0    0   0   0     0    0    0    0    0   0   0     0   0   \n",
       "4    0    0    0    0   0   0     0    0    0    0    0   0   0     0   0   \n",
       "\n",
       "   other_ports  \n",
       "0            1  \n",
       "1            1  \n",
       "2            1  \n",
       "3            1  \n",
       "4            1  "
      ]
     },
     "execution_count": 37,
     "metadata": {},
     "output_type": "execute_result"
    }
   ],
   "source": [
    "# one hot encode 'Destination Port'\n",
    "one_hot_df = pd.get_dummies(df1['Destination Port'], drop_first=True)\n",
    "one_hot_df.head()"
   ]
  },
  {
   "cell_type": "code",
   "execution_count": 38,
   "id": "4e0c5a8a-ad87-4854-9aed-7329662acd1a",
   "metadata": {},
   "outputs": [],
   "source": [
    "# save labels column\n",
    "df1_labels = df1.iloc[:,-1]\n",
    "\n",
    "# save column names\n",
    "one_hot_cols = list(one_hot_df.columns)\n",
    "df1_columns = list(df1.columns)[1:]"
   ]
  },
  {
   "cell_type": "code",
   "execution_count": 39,
   "id": "a87035d0-3113-4e35-99ed-19a45f0a4d88",
   "metadata": {},
   "outputs": [],
   "source": [
    "# drop 'Destination Port' for the one_hot_encoded features\n",
    "df1.drop(['Destination Port'], axis=1, inplace=True)"
   ]
  },
  {
   "cell_type": "code",
   "execution_count": 40,
   "id": "99c9ccbb-8c3c-4d70-b415-af2d6e315043",
   "metadata": {},
   "outputs": [],
   "source": [
    "# standardize numerical features\n",
    "scaler = StandardScaler()\n",
    "df1_scaled = pd.DataFrame(scaler.fit_transform(df1.iloc[:,0:-1]), columns=list(df1.columns)[:-1])"
   ]
  },
  {
   "cell_type": "code",
   "execution_count": 41,
   "id": "713f7f3e-17f4-41bb-933a-60d08fdb8c4b",
   "metadata": {},
   "outputs": [],
   "source": [
    "# concatenate one_hot_encoded features, standardized features, labels\n",
    "df1 = pd.concat([one_hot_df, df1_scaled], axis=1, ignore_index=True)\n",
    "df1 = pd.concat([df1, df1_labels], axis=1, ignore_index=True)\n",
    "\n",
    "df1_cols = one_hot_cols + df1_columns\n",
    "df1.columns = df1_cols"
   ]
  },
  {
   "cell_type": "code",
   "execution_count": 42,
   "id": "667a5c08-cf42-4348-bae5-3858f3e6b338",
   "metadata": {},
   "outputs": [
    {
     "data": {
      "text/html": [
       "<div>\n",
       "<style scoped>\n",
       "    .dataframe tbody tr th:only-of-type {\n",
       "        vertical-align: middle;\n",
       "    }\n",
       "\n",
       "    .dataframe tbody tr th {\n",
       "        vertical-align: top;\n",
       "    }\n",
       "\n",
       "    .dataframe thead th {\n",
       "        text-align: right;\n",
       "    }\n",
       "</style>\n",
       "<table border=\"1\" class=\"dataframe\">\n",
       "  <thead>\n",
       "    <tr style=\"text-align: right;\">\n",
       "      <th></th>\n",
       "      <th>135</th>\n",
       "      <th>137</th>\n",
       "      <th>138</th>\n",
       "      <th>139</th>\n",
       "      <th>21</th>\n",
       "      <th>22</th>\n",
       "      <th>3268</th>\n",
       "      <th>389</th>\n",
       "      <th>443</th>\n",
       "      <th>445</th>\n",
       "      <th>...</th>\n",
       "      <th>min_seg_size_forward</th>\n",
       "      <th>Active Mean</th>\n",
       "      <th>Active Std</th>\n",
       "      <th>Active Max</th>\n",
       "      <th>Active Min</th>\n",
       "      <th>Idle Mean</th>\n",
       "      <th>Idle Std</th>\n",
       "      <th>Idle Max</th>\n",
       "      <th>Idle Min</th>\n",
       "      <th>Label</th>\n",
       "    </tr>\n",
       "  </thead>\n",
       "  <tbody>\n",
       "    <tr>\n",
       "      <th>0</th>\n",
       "      <td>0.0</td>\n",
       "      <td>0.0</td>\n",
       "      <td>0.0</td>\n",
       "      <td>0.0</td>\n",
       "      <td>0.0</td>\n",
       "      <td>0.0</td>\n",
       "      <td>0.0</td>\n",
       "      <td>0.0</td>\n",
       "      <td>0.0</td>\n",
       "      <td>0.0</td>\n",
       "      <td>...</td>\n",
       "      <td>-0.355799</td>\n",
       "      <td>-0.231652</td>\n",
       "      <td>-0.061517</td>\n",
       "      <td>-0.231164</td>\n",
       "      <td>-0.226499</td>\n",
       "      <td>-0.472388</td>\n",
       "      <td>-0.28316</td>\n",
       "      <td>-0.478408</td>\n",
       "      <td>-0.391105</td>\n",
       "      <td>0.0</td>\n",
       "    </tr>\n",
       "    <tr>\n",
       "      <th>1</th>\n",
       "      <td>0.0</td>\n",
       "      <td>0.0</td>\n",
       "      <td>0.0</td>\n",
       "      <td>0.0</td>\n",
       "      <td>0.0</td>\n",
       "      <td>0.0</td>\n",
       "      <td>0.0</td>\n",
       "      <td>0.0</td>\n",
       "      <td>0.0</td>\n",
       "      <td>0.0</td>\n",
       "      <td>...</td>\n",
       "      <td>-0.355799</td>\n",
       "      <td>-0.231652</td>\n",
       "      <td>-0.061517</td>\n",
       "      <td>-0.231164</td>\n",
       "      <td>-0.226499</td>\n",
       "      <td>-0.472388</td>\n",
       "      <td>-0.28316</td>\n",
       "      <td>-0.478408</td>\n",
       "      <td>-0.391105</td>\n",
       "      <td>0.0</td>\n",
       "    </tr>\n",
       "    <tr>\n",
       "      <th>2</th>\n",
       "      <td>0.0</td>\n",
       "      <td>0.0</td>\n",
       "      <td>0.0</td>\n",
       "      <td>0.0</td>\n",
       "      <td>0.0</td>\n",
       "      <td>0.0</td>\n",
       "      <td>0.0</td>\n",
       "      <td>0.0</td>\n",
       "      <td>0.0</td>\n",
       "      <td>0.0</td>\n",
       "      <td>...</td>\n",
       "      <td>-0.355799</td>\n",
       "      <td>-0.231652</td>\n",
       "      <td>-0.061517</td>\n",
       "      <td>-0.231164</td>\n",
       "      <td>-0.226499</td>\n",
       "      <td>-0.472388</td>\n",
       "      <td>-0.28316</td>\n",
       "      <td>-0.478408</td>\n",
       "      <td>-0.391105</td>\n",
       "      <td>0.0</td>\n",
       "    </tr>\n",
       "    <tr>\n",
       "      <th>3</th>\n",
       "      <td>0.0</td>\n",
       "      <td>0.0</td>\n",
       "      <td>0.0</td>\n",
       "      <td>0.0</td>\n",
       "      <td>0.0</td>\n",
       "      <td>0.0</td>\n",
       "      <td>0.0</td>\n",
       "      <td>0.0</td>\n",
       "      <td>0.0</td>\n",
       "      <td>0.0</td>\n",
       "      <td>...</td>\n",
       "      <td>-0.355799</td>\n",
       "      <td>-0.231652</td>\n",
       "      <td>-0.061517</td>\n",
       "      <td>-0.231164</td>\n",
       "      <td>-0.226499</td>\n",
       "      <td>-0.472388</td>\n",
       "      <td>-0.28316</td>\n",
       "      <td>-0.478408</td>\n",
       "      <td>-0.391105</td>\n",
       "      <td>0.0</td>\n",
       "    </tr>\n",
       "    <tr>\n",
       "      <th>4</th>\n",
       "      <td>0.0</td>\n",
       "      <td>0.0</td>\n",
       "      <td>0.0</td>\n",
       "      <td>0.0</td>\n",
       "      <td>0.0</td>\n",
       "      <td>0.0</td>\n",
       "      <td>0.0</td>\n",
       "      <td>0.0</td>\n",
       "      <td>0.0</td>\n",
       "      <td>0.0</td>\n",
       "      <td>...</td>\n",
       "      <td>-0.355799</td>\n",
       "      <td>-0.231652</td>\n",
       "      <td>-0.061517</td>\n",
       "      <td>-0.231164</td>\n",
       "      <td>-0.226499</td>\n",
       "      <td>-0.472388</td>\n",
       "      <td>-0.28316</td>\n",
       "      <td>-0.478408</td>\n",
       "      <td>-0.391105</td>\n",
       "      <td>0.0</td>\n",
       "    </tr>\n",
       "  </tbody>\n",
       "</table>\n",
       "<p>5 rows × 94 columns</p>\n",
       "</div>"
      ],
      "text/plain": [
       "   135  137  138  139   21   22  3268  389  443  445  ...  \\\n",
       "0  0.0  0.0  0.0  0.0  0.0  0.0   0.0  0.0  0.0  0.0  ...   \n",
       "1  0.0  0.0  0.0  0.0  0.0  0.0   0.0  0.0  0.0  0.0  ...   \n",
       "2  0.0  0.0  0.0  0.0  0.0  0.0   0.0  0.0  0.0  0.0  ...   \n",
       "3  0.0  0.0  0.0  0.0  0.0  0.0   0.0  0.0  0.0  0.0  ...   \n",
       "4  0.0  0.0  0.0  0.0  0.0  0.0   0.0  0.0  0.0  0.0  ...   \n",
       "\n",
       "   min_seg_size_forward  Active Mean  Active Std  Active Max  Active Min  \\\n",
       "0             -0.355799    -0.231652   -0.061517   -0.231164   -0.226499   \n",
       "1             -0.355799    -0.231652   -0.061517   -0.231164   -0.226499   \n",
       "2             -0.355799    -0.231652   -0.061517   -0.231164   -0.226499   \n",
       "3             -0.355799    -0.231652   -0.061517   -0.231164   -0.226499   \n",
       "4             -0.355799    -0.231652   -0.061517   -0.231164   -0.226499   \n",
       "\n",
       "   Idle Mean  Idle Std  Idle Max  Idle Min  Label  \n",
       "0  -0.472388  -0.28316 -0.478408 -0.391105    0.0  \n",
       "1  -0.472388  -0.28316 -0.478408 -0.391105    0.0  \n",
       "2  -0.472388  -0.28316 -0.478408 -0.391105    0.0  \n",
       "3  -0.472388  -0.28316 -0.478408 -0.391105    0.0  \n",
       "4  -0.472388  -0.28316 -0.478408 -0.391105    0.0  \n",
       "\n",
       "[5 rows x 94 columns]"
      ]
     },
     "metadata": {},
     "output_type": "display_data"
    },
    {
     "data": {
      "text/plain": [
       "(225677, 94)"
      ]
     },
     "execution_count": 42,
     "metadata": {},
     "output_type": "execute_result"
    }
   ],
   "source": [
    "# sanity check\n",
    "display(df1.head())\n",
    "df1.dropna(axis=0, inplace=True)\n",
    "df1.shape"
   ]
  },
  {
   "cell_type": "markdown",
   "id": "e1c319fe-e7b3-4ba8-a6c0-4a767104b526",
   "metadata": {},
   "source": [
    "# Problem #7"
   ]
  },
  {
   "cell_type": "code",
   "execution_count": 43,
   "id": "d8706fbd-e8b6-4add-815b-a1d715591075",
   "metadata": {},
   "outputs": [],
   "source": [
    "from sklearn.model_selection import cross_val_score, KFold\n",
    "from sklearn.naive_bayes import GaussianNB\n",
    "from sklearn.neighbors import KNeighborsClassifier\n",
    "from sklearn.linear_model import LogisticRegression\n",
    "from sklearn.tree import DecisionTreeClassifier"
   ]
  },
  {
   "cell_type": "code",
   "execution_count": 44,
   "id": "3ff44c2d-a31a-4f0d-bf26-d80ab8c40173",
   "metadata": {},
   "outputs": [],
   "source": [
    "# list of models\n",
    "models = [GaussianNB(), LogisticRegression(max_iter=200, n_jobs=-2), DecisionTreeClassifier(max_depth=35)]"
   ]
  },
  {
   "cell_type": "code",
   "execution_count": 45,
   "id": "d518a44b-b362-457d-a53f-68b310206c7a",
   "metadata": {
    "tags": []
   },
   "outputs": [],
   "source": [
    "def run_models(df, models):\n",
    "    kfold = KFold(n_splits=10)\n",
    "    \n",
    "    X = df.iloc[:,:-1].values\n",
    "    y = df.iloc[:,-1].values\n",
    "    \n",
    "    for model in models:\n",
    "        scores = cross_val_score(model, X, y, cv=kfold, scoring='accuracy', n_jobs=-2)\n",
    "        print(model)\n",
    "        print(f'Accuracy Scores: {scores}\\n')"
   ]
  },
  {
   "cell_type": "code",
   "execution_count": 46,
   "id": "40aa58da-7043-42e1-9eb7-e27e8c88ab1e",
   "metadata": {},
   "outputs": [
    {
     "name": "stdout",
     "output_type": "stream",
     "text": [
      "GaussianNB()\n",
      "Accuracy Scores: [0.98130096 0.99725275 0.99645516 0.99676533 0.9974743  0.99694257\n",
      " 0.99481567 0.99499269 0.98706075 0.97164001]\n",
      "\n",
      "LogisticRegression(max_iter=200, n_jobs=-2)\n",
      "Accuracy Scores: [0.9886565  0.99822758 0.99840482 0.99800603 0.99796172 0.99871499\n",
      " 0.9974743  0.99742988 0.99153631 0.98683919]\n",
      "\n",
      "DecisionTreeClassifier(max_depth=35)\n",
      "Accuracy Scores: [0.99805034 0.99937965 0.99973414 0.99884793 0.99836051 0.99960121\n",
      " 0.99898086 0.99924669 0.99898081 0.99534719]\n",
      "\n"
     ]
    }
   ],
   "source": [
    "run_models(df1, models)"
   ]
  },
  {
   "cell_type": "markdown",
   "id": "7bcca458-cbe7-4f84-a677-b06027fa9ca2",
   "metadata": {
    "tags": []
   },
   "source": [
    "# Problem #8"
   ]
  },
  {
   "cell_type": "code",
   "execution_count": 47,
   "id": "9cbb2aa2-8b2b-4cc5-9a87-cc311cc23465",
   "metadata": {},
   "outputs": [
    {
     "data": {
      "text/plain": [
       "['Friday-WorkingHours-Afternoon-DDos.pcap_ISCX.csv',\n",
       " 'Friday-WorkingHours-Morning.pcap_ISCX.csv',\n",
       " 'Monday-WorkingHours.pcap_ISCX.csv',\n",
       " 'Thursday-WorkingHours-Morning-WebAttacks.pcap_ISCX.csv',\n",
       " 'Friday-WorkingHours-Afternoon-PortScan.pcap_ISCX.csv',\n",
       " 'Tuesday-WorkingHours.pcap_ISCX.csv',\n",
       " 'Thursday-WorkingHours-Afternoon-Infilteration.pcap_ISCX.csv',\n",
       " 'Wednesday-workingHours.pcap_ISCX.csv']"
      ]
     },
     "metadata": {},
     "output_type": "display_data"
    }
   ],
   "source": [
    "remaining_datasets = os.listdir('../../../Desktop/MachineLearningCVE/')\n",
    "display(remaining_datasets)"
   ]
  },
  {
   "cell_type": "code",
   "execution_count": 48,
   "id": "1aed3818-51f7-4354-b7bb-bb7f41139922",
   "metadata": {},
   "outputs": [],
   "source": [
    "def read_data(datasets):\n",
    "    prefix = '~/Desktop/MachineLearningCVE/'\n",
    "    dataframes = []\n",
    "    \n",
    "    for i in datasets:\n",
    "        path = prefix + i\n",
    "        df = pd.read_csv(path)\n",
    "        dataframes.append(df)\n",
    "    \n",
    "    return dataframes"
   ]
  },
  {
   "cell_type": "code",
   "execution_count": 49,
   "id": "a362de64-2bfe-4cc1-9ba9-ee5c3388a049",
   "metadata": {},
   "outputs": [],
   "source": [
    "def preprocess(_df):\n",
    "    # remove trailing white space from feature column names\n",
    "    df = _df.copy()\n",
    "    trim_spaces(df)\n",
    "\n",
    "    # binarize class labels\n",
    "    df['Label'] = df['Label'].apply(binarize)\n",
    "    \n",
    "    # remove null values\n",
    "    df.dropna(axis=0, inplace=True)\n",
    "    \n",
    "    # drop infinity\n",
    "    inf_indices = df[(df['Flow Packets/s'] == np.inf)].index\n",
    "    df.drop(inf_indices, inplace=True)\n",
    "    \n",
    "    # convert port numbers to string\n",
    "    df['Destination Port'] = df['Destination Port'].apply(str_port)\n",
    "    \n",
    "    # rename unpopular ports to 'other_ports'\n",
    "    df['Destination Port'] = df['Destination Port'].apply(rename)\n",
    "    \n",
    "    # one hot encode 'Destination Port'\n",
    "    one_hot_df = pd.get_dummies(df['Destination Port'], drop_first=True)\n",
    "    \n",
    "    # save labels column\n",
    "    df_labels = df.iloc[:,-1]\n",
    "    \n",
    "    # save column names\n",
    "    one_hot_cols = list(one_hot_df.columns)\n",
    "    df_columns = list(df.columns)[1:]\n",
    "    \n",
    "    # drop 'Destination Port' for the one_hot_encoded features\n",
    "    df.drop(['Destination Port'], axis=1, inplace=True)\n",
    "    \n",
    "    # standardize numerical features\n",
    "    scaler = StandardScaler()\n",
    "    df_scaled = pd.DataFrame(scaler.fit_transform(df.iloc[:,0:-1]), columns=list(df.columns)[:-1])\n",
    "    \n",
    "    # concatenate one_hot_encoded features, standardized features, labels\n",
    "    df = pd.concat([one_hot_df, df_scaled], axis=1, ignore_index=True)\n",
    "    df = pd.concat([df, df_labels], axis=1, ignore_index=True)\n",
    "    \n",
    "    df_cols = one_hot_cols + df1_columns\n",
    "    df.columns = df1_cols\n",
    "    \n",
    "    # sanity check\n",
    "    df.dropna(axis=0, inplace=True)\n",
    "    \n",
    "    return df"
   ]
  },
  {
   "cell_type": "code",
   "execution_count": 50,
   "id": "5892d82e-930b-42a0-8b4c-acdbd19a5be4",
   "metadata": {},
   "outputs": [],
   "source": [
    "# read in remaining datasets\n",
    "dataframes = read_data(remaining_datasets[1:])"
   ]
  },
  {
   "cell_type": "code",
   "execution_count": 51,
   "id": "bdac98ad-75d2-4c69-938b-26a7507974d9",
   "metadata": {},
   "outputs": [],
   "source": [
    "# preprocess dataframes\n",
    "final_dataframes = [preprocess(i) for i in dataframes]"
   ]
  },
  {
   "cell_type": "code",
   "execution_count": 52,
   "id": "f171565a-5cf3-427c-a329-3ecba9d332fe",
   "metadata": {},
   "outputs": [
    {
     "name": "stdout",
     "output_type": "stream",
     "text": [
      "Dataset 2 Labels\n",
      "0.0    188842\n",
      "1.0      1947\n",
      "Name: Label, dtype: int64 \n",
      "\n",
      "Dataset 3 Labels\n",
      "0.0    529044\n",
      "Name: Label, dtype: int64 \n",
      "\n",
      "Dataset 4 Labels\n",
      "0.0    167916\n",
      "1.0      2180\n",
      "Name: Label, dtype: int64 \n",
      "\n",
      "Dataset 5 Labels\n",
      "1.0    158804\n",
      "0.0    126922\n",
      "Name: Label, dtype: int64 \n",
      "\n",
      "Dataset 6 Labels\n",
      "0.0    431555\n",
      "1.0     13826\n",
      "Name: Label, dtype: int64 \n",
      "\n",
      "Dataset 7 Labels\n",
      "0.0    288152\n",
      "1.0        36\n",
      "Name: Label, dtype: int64 \n",
      "\n",
      "Dataset 8 Labels\n",
      "0.0    438446\n",
      "1.0    251663\n",
      "Name: Label, dtype: int64 \n",
      "\n"
     ]
    }
   ],
   "source": [
    "# observe labels of dataset 2 through 8\n",
    "# note that dataset 3 (2nd one shown below) only has 1 class label\n",
    "names = [2,3,4,5,6,7,8]\n",
    "\n",
    "for i in range(len(final_dataframes)):\n",
    "    print(f'Dataset {names[i]} Labels')\n",
    "    print(final_dataframes[i].iloc[:,-1].value_counts(),'\\n')"
   ]
  },
  {
   "cell_type": "markdown",
   "id": "3a41388c-0a65-4413-badc-1971de290eab",
   "metadata": {},
   "source": [
    "# Problem #9"
   ]
  },
  {
   "cell_type": "markdown",
   "id": "d23b140d-5ebf-4b64-bf70-b85f337ca79b",
   "metadata": {},
   "source": [
    "I will apply the **Decision Tree** classifier to the remaining datasets"
   ]
  },
  {
   "cell_type": "code",
   "execution_count": 53,
   "id": "2553087e-123c-4337-b910-62e4e1302b0b",
   "metadata": {},
   "outputs": [],
   "source": [
    "# let's apply a max depth for the decision tree to better generalize and faster learning"
   ]
  },
  {
   "cell_type": "code",
   "execution_count": 54,
   "id": "bbe06ae7-5b1b-4f46-9368-8e486527e4d6",
   "metadata": {},
   "outputs": [],
   "source": [
    "# list of models\n",
    "models2 = [DecisionTreeClassifier(max_depth=35)]"
   ]
  },
  {
   "cell_type": "code",
   "execution_count": 55,
   "id": "272f1d6b-5a0f-4499-aec7-9ac8509e55ba",
   "metadata": {},
   "outputs": [
    {
     "name": "stdout",
     "output_type": "stream",
     "text": [
      "Dataset 2\n",
      "DecisionTreeClassifier(max_depth=35)\n",
      "Accuracy Scores: [0.99669794 0.99685518 0.99585932 0.99114209 0.99108968 0.97405524\n",
      " 0.99145658 0.99633104 0.99528277 0.99612119]\n",
      "\n",
      "Dataset 3\n",
      "DecisionTreeClassifier(max_depth=35)\n",
      "Accuracy Scores: [1. 1. 1. 1. 1. 1. 1. 1. 1. 1.]\n",
      "\n",
      "Dataset 4\n",
      "DecisionTreeClassifier(max_depth=35)\n",
      "Accuracy Scores: [0.98677249 0.96049383 0.9600823  0.97031158 0.96072898 0.98412698\n",
      " 0.98959374 0.9875948  0.99188665 0.98959374]\n",
      "\n",
      "Dataset 5\n",
      "DecisionTreeClassifier(max_depth=35)\n",
      "Accuracy Scores: [0.945543   0.94298814 0.93973331 0.98152102 0.98313093 0.95723235\n",
      " 0.97788044 0.96157077 0.88957721 0.88583228]\n",
      "\n",
      "Dataset 6\n",
      "DecisionTreeClassifier(max_depth=35)\n",
      "Accuracy Scores: [0.97893981 0.98284611 0.98801024 0.98704477 0.96977862 0.99324173\n",
      " 0.99681171 0.99660964 0.99613813 0.99645247]\n",
      "\n",
      "Dataset 7\n",
      "DecisionTreeClassifier(max_depth=35)\n",
      "Accuracy Scores: [1.         0.9998265  0.99947951 0.9998265  0.9998612  0.99961831\n",
      " 0.9997571  0.9997571  0.9999653  0.9998959 ]\n",
      "\n",
      "Dataset 8\n",
      "DecisionTreeClassifier(max_depth=35)\n",
      "Accuracy Scores: [0.90284158 0.93924157 0.96674443 0.95251482 0.88283027 0.9554274\n",
      " 0.93583632 0.96065845 0.95864427 0.9587596 ]\n",
      "\n"
     ]
    }
   ],
   "source": [
    "# run decision tree on datasets 2 through 8\n",
    "for dataset in range(len(final_dataframes)):\n",
    "    print(f'Dataset {names[dataset]}')\n",
    "    run_models(final_dataframes[dataset], models2)"
   ]
  },
  {
   "cell_type": "markdown",
   "id": "841d6b58-82c8-4e37-89c7-bad30fd75e50",
   "metadata": {},
   "source": [
    "Above we see that dataset 3 has 100% accuracy for each fold due to that fact that there is only 1 class label present in the dataset. Regardless of the independent features, the predicted will always be *BENIGN* based on the training data. Overall, the decision tree ran pretty well on all of the other datasets from the high 80-99% accuracy range."
   ]
  },
  {
   "cell_type": "markdown",
   "id": "285eb3b3-3f1f-4e25-876e-5b6d27262412",
   "metadata": {},
   "source": [
    "## K-Means For Dataset #3"
   ]
  },
  {
   "cell_type": "code",
   "execution_count": 56,
   "id": "3f031bf3-499c-44d7-b1d9-edddb3143d1f",
   "metadata": {},
   "outputs": [],
   "source": [
    "from sklearn.cluster import KMeans"
   ]
  },
  {
   "cell_type": "code",
   "execution_count": 57,
   "id": "635d9ba2-e5fc-4dec-856c-a112694c76e0",
   "metadata": {},
   "outputs": [
    {
     "data": {
      "text/html": [
       "<div>\n",
       "<style scoped>\n",
       "    .dataframe tbody tr th:only-of-type {\n",
       "        vertical-align: middle;\n",
       "    }\n",
       "\n",
       "    .dataframe tbody tr th {\n",
       "        vertical-align: top;\n",
       "    }\n",
       "\n",
       "    .dataframe thead th {\n",
       "        text-align: right;\n",
       "    }\n",
       "</style>\n",
       "<table border=\"1\" class=\"dataframe\">\n",
       "  <thead>\n",
       "    <tr style=\"text-align: right;\">\n",
       "      <th></th>\n",
       "      <th>135</th>\n",
       "      <th>137</th>\n",
       "      <th>138</th>\n",
       "      <th>139</th>\n",
       "      <th>21</th>\n",
       "      <th>22</th>\n",
       "      <th>3268</th>\n",
       "      <th>389</th>\n",
       "      <th>443</th>\n",
       "      <th>445</th>\n",
       "      <th>...</th>\n",
       "      <th>act_data_pkt_fwd</th>\n",
       "      <th>min_seg_size_forward</th>\n",
       "      <th>Active Mean</th>\n",
       "      <th>Active Std</th>\n",
       "      <th>Active Max</th>\n",
       "      <th>Active Min</th>\n",
       "      <th>Idle Mean</th>\n",
       "      <th>Idle Std</th>\n",
       "      <th>Idle Max</th>\n",
       "      <th>Idle Min</th>\n",
       "    </tr>\n",
       "  </thead>\n",
       "  <tbody>\n",
       "    <tr>\n",
       "      <th>0</th>\n",
       "      <td>0.0</td>\n",
       "      <td>0.0</td>\n",
       "      <td>0.0</td>\n",
       "      <td>0.0</td>\n",
       "      <td>0.0</td>\n",
       "      <td>0.0</td>\n",
       "      <td>0.0</td>\n",
       "      <td>0.0</td>\n",
       "      <td>0.0</td>\n",
       "      <td>0.0</td>\n",
       "      <td>...</td>\n",
       "      <td>-0.007532</td>\n",
       "      <td>0.00658</td>\n",
       "      <td>-0.116587</td>\n",
       "      <td>-0.10887</td>\n",
       "      <td>-0.141407</td>\n",
       "      <td>-0.087755</td>\n",
       "      <td>-0.267178</td>\n",
       "      <td>-0.093323</td>\n",
       "      <td>-0.270187</td>\n",
       "      <td>-0.257263</td>\n",
       "    </tr>\n",
       "    <tr>\n",
       "      <th>1</th>\n",
       "      <td>0.0</td>\n",
       "      <td>0.0</td>\n",
       "      <td>0.0</td>\n",
       "      <td>0.0</td>\n",
       "      <td>0.0</td>\n",
       "      <td>0.0</td>\n",
       "      <td>0.0</td>\n",
       "      <td>0.0</td>\n",
       "      <td>0.0</td>\n",
       "      <td>0.0</td>\n",
       "      <td>...</td>\n",
       "      <td>-0.007532</td>\n",
       "      <td>0.00658</td>\n",
       "      <td>-0.116587</td>\n",
       "      <td>-0.10887</td>\n",
       "      <td>-0.141407</td>\n",
       "      <td>-0.087755</td>\n",
       "      <td>-0.267178</td>\n",
       "      <td>-0.093323</td>\n",
       "      <td>-0.270187</td>\n",
       "      <td>-0.257263</td>\n",
       "    </tr>\n",
       "    <tr>\n",
       "      <th>2</th>\n",
       "      <td>0.0</td>\n",
       "      <td>0.0</td>\n",
       "      <td>0.0</td>\n",
       "      <td>0.0</td>\n",
       "      <td>0.0</td>\n",
       "      <td>0.0</td>\n",
       "      <td>0.0</td>\n",
       "      <td>0.0</td>\n",
       "      <td>0.0</td>\n",
       "      <td>0.0</td>\n",
       "      <td>...</td>\n",
       "      <td>-0.007532</td>\n",
       "      <td>0.00658</td>\n",
       "      <td>-0.116587</td>\n",
       "      <td>-0.10887</td>\n",
       "      <td>-0.141407</td>\n",
       "      <td>-0.087755</td>\n",
       "      <td>-0.267178</td>\n",
       "      <td>-0.093323</td>\n",
       "      <td>-0.270187</td>\n",
       "      <td>-0.257263</td>\n",
       "    </tr>\n",
       "    <tr>\n",
       "      <th>3</th>\n",
       "      <td>0.0</td>\n",
       "      <td>0.0</td>\n",
       "      <td>0.0</td>\n",
       "      <td>0.0</td>\n",
       "      <td>0.0</td>\n",
       "      <td>0.0</td>\n",
       "      <td>0.0</td>\n",
       "      <td>0.0</td>\n",
       "      <td>0.0</td>\n",
       "      <td>0.0</td>\n",
       "      <td>...</td>\n",
       "      <td>-0.007532</td>\n",
       "      <td>0.00658</td>\n",
       "      <td>-0.116587</td>\n",
       "      <td>-0.10887</td>\n",
       "      <td>-0.141407</td>\n",
       "      <td>-0.087755</td>\n",
       "      <td>-0.267178</td>\n",
       "      <td>-0.093323</td>\n",
       "      <td>-0.270187</td>\n",
       "      <td>-0.257263</td>\n",
       "    </tr>\n",
       "    <tr>\n",
       "      <th>4</th>\n",
       "      <td>0.0</td>\n",
       "      <td>0.0</td>\n",
       "      <td>0.0</td>\n",
       "      <td>0.0</td>\n",
       "      <td>0.0</td>\n",
       "      <td>0.0</td>\n",
       "      <td>0.0</td>\n",
       "      <td>0.0</td>\n",
       "      <td>0.0</td>\n",
       "      <td>0.0</td>\n",
       "      <td>...</td>\n",
       "      <td>-0.007532</td>\n",
       "      <td>0.00658</td>\n",
       "      <td>-0.116587</td>\n",
       "      <td>-0.10887</td>\n",
       "      <td>-0.141407</td>\n",
       "      <td>-0.087755</td>\n",
       "      <td>-0.267178</td>\n",
       "      <td>-0.093323</td>\n",
       "      <td>-0.270187</td>\n",
       "      <td>-0.257263</td>\n",
       "    </tr>\n",
       "  </tbody>\n",
       "</table>\n",
       "<p>5 rows × 93 columns</p>\n",
       "</div>"
      ],
      "text/plain": [
       "   135  137  138  139   21   22  3268  389  443  445  ...  act_data_pkt_fwd  \\\n",
       "0  0.0  0.0  0.0  0.0  0.0  0.0   0.0  0.0  0.0  0.0  ...         -0.007532   \n",
       "1  0.0  0.0  0.0  0.0  0.0  0.0   0.0  0.0  0.0  0.0  ...         -0.007532   \n",
       "2  0.0  0.0  0.0  0.0  0.0  0.0   0.0  0.0  0.0  0.0  ...         -0.007532   \n",
       "3  0.0  0.0  0.0  0.0  0.0  0.0   0.0  0.0  0.0  0.0  ...         -0.007532   \n",
       "4  0.0  0.0  0.0  0.0  0.0  0.0   0.0  0.0  0.0  0.0  ...         -0.007532   \n",
       "\n",
       "   min_seg_size_forward  Active Mean  Active Std  Active Max  Active Min  \\\n",
       "0               0.00658    -0.116587    -0.10887   -0.141407   -0.087755   \n",
       "1               0.00658    -0.116587    -0.10887   -0.141407   -0.087755   \n",
       "2               0.00658    -0.116587    -0.10887   -0.141407   -0.087755   \n",
       "3               0.00658    -0.116587    -0.10887   -0.141407   -0.087755   \n",
       "4               0.00658    -0.116587    -0.10887   -0.141407   -0.087755   \n",
       "\n",
       "   Idle Mean  Idle Std  Idle Max  Idle Min  \n",
       "0  -0.267178 -0.093323 -0.270187 -0.257263  \n",
       "1  -0.267178 -0.093323 -0.270187 -0.257263  \n",
       "2  -0.267178 -0.093323 -0.270187 -0.257263  \n",
       "3  -0.267178 -0.093323 -0.270187 -0.257263  \n",
       "4  -0.267178 -0.093323 -0.270187 -0.257263  \n",
       "\n",
       "[5 rows x 93 columns]"
      ]
     },
     "execution_count": 57,
     "metadata": {},
     "output_type": "execute_result"
    }
   ],
   "source": [
    "df3 = final_dataframes[1].drop(['Label'], axis=1)\n",
    "df3.head()"
   ]
  },
  {
   "cell_type": "code",
   "execution_count": 58,
   "id": "708143f2-b386-4f37-8f31-18842517a8ca",
   "metadata": {},
   "outputs": [],
   "source": [
    "clusters = [1,2,3,4,5,6,7,8,9,10]\n",
    "predictions = []\n",
    "scores = []\n",
    "\n",
    "for i in clusters:\n",
    "    # train\n",
    "    model = KMeans(n_clusters=i, random_state=0)\n",
    "    model.fit(df3.values)\n",
    "    \n",
    "    # predict\n",
    "    pred = model.predict(df3.values)\n",
    "    \n",
    "    # observe score\n",
    "    score = model.score(df3.values)\n",
    "    \n",
    "    predictions.append(pred)\n",
    "    scores.append(-1 * score)"
   ]
  },
  {
   "cell_type": "code",
   "execution_count": 59,
   "id": "876f091d-25bc-4fa4-a1a7-ce00b3c25a2c",
   "metadata": {},
   "outputs": [
    {
     "data": {
      "image/png": "[encoded data removed]",
      "text/plain": [
       "<Figure size 432x288 with 1 Axes>"
      ]
     },
     "metadata": {
      "needs_background": "light"
     },
     "output_type": "display_data"
    }
   ],
   "source": [
    "# elbow plot\n",
    "plt.plot(clusters, scores, color='g')\n",
    "plt.grid(True, alpha=0.6)\n",
    "plt.title('Elbow Plot - KMeans - Dataset 3')\n",
    "plt.xlabel('n_clusters', labelpad=10)\n",
    "plt.ylabel('Error', labelpad=30, rotation='horizontal')\n",
    "plt.xticks(range(1,11))\n",
    "plt.show()"
   ]
  },
  {
   "cell_type": "markdown",
   "id": "e1711964-2f79-42be-a597-e7ca9a3760bf",
   "metadata": {},
   "source": [
    "Since dataset 3 has a sinlge class label, I decided to utilize unsupervised KMeans approach. Training on various number of clusters, we can see in the elbow plot that there is most likely 4 different class labels for this dataset. In the previous datasets, we had binary labels as either *BENIGN* or not. However, this was because we had binarize the labels ourselves.\n",
    "\n",
    "Upon manual inspection of the raw dataset, some datasets has *BENIGN* along with multiple classes of cybersecurity threats. Thus, in utilziing KMeans, sticking to 2 clusters would not be sufficient as the feature space would not allow for a clean grouping of data points to only 2 clusters. In dataset 3, most likely there is the class *BENIGN* and 3 other types of security threats."
   ]
  },
  {
   "cell_type": "markdown",
   "id": "e1b65902-d87e-4946-96ed-349452146a99",
   "metadata": {},
   "source": [
    "# Problem #10"
   ]
  },
  {
   "cell_type": "markdown",
   "id": "3922861e-667b-41cf-a98c-ae52f3ae6644",
   "metadata": {},
   "source": [
    "The hardest part I would imagine would be understanding the important values of certain features as I am not a subject matter expert. In this case, needing to know the important Destination Ports in order to simplify the feature would be something only a subject matter expert would know. Not knowing how to filter out bad values and simplifying the dataset can lead to more complicated training and hidner model generalizability.\n",
    "\n",
    "Of course, we can always observe correlation heatmaps to see how specific features correlate with the label feature to gain better insight. Also, perhaps some values are a clear indicator of a cybersecurity  intrusion such as 'Flow Bytes/s' = infinity. Since these appeared only 34 times in dataset 1, they were simply removed since infinity was treated as NaN. But again, this is something only a SME would know.\n",
    "\n",
    "Where we lack domain knowledge, we can make it up with statistical analysis of the features and the predicted variables as mentioned above. Then, after filtering for a robust dataset based on our hypothesis, we can apply our machine learning models and observe their performances."
   ]
  },
  {
   "cell_type": "code",
   "execution_count": null,
   "id": "20fac7c0-1158-40e1-afa8-3de1b43cba8c",
   "metadata": {},
   "outputs": [],
   "source": []
  },
  {
   "cell_type": "code",
   "execution_count": null,
   "id": "4b8c62d1-3ef9-4128-ad2b-24fa37862712",
   "metadata": {},
   "outputs": [],
   "source": []
  },
  {
   "cell_type": "code",
   "execution_count": null,
   "id": "9f5e313d-d401-487a-9428-f376eb2d03fe",
   "metadata": {},
   "outputs": [],
   "source": []
  }
 ],
 "metadata": {
  "kernelspec": {
   "display_name": "Python 3 (ipykernel)",
   "language": "python",
   "name": "python3"
  },
  "language_info": {
   "codemirror_mode": {
    "name": "ipython",
    "version": 3
   },
   "file_extension": ".py",
   "mimetype": "text/x-python",
   "name": "python",
   "nbconvert_exporter": "python",
   "pygments_lexer": "ipython3",
   "version": "3.8.9"
  }
 },
 "nbformat": 4,
 "nbformat_minor": 5
}
