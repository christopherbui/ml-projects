{
 "cells": [
  {
   "cell_type": "code",
   "execution_count": 1,
   "id": "1754df12-40ff-4d0e-a22d-d51948c0a787",
   "metadata": {},
   "outputs": [],
   "source": [
    "import pandas as pd\n",
    "import numpy as np\n",
    "import matplotlib.pyplot as plt"
   ]
  },
  {
   "cell_type": "markdown",
   "id": "89db0579-73d0-42bc-844a-68cb423dfee2",
   "metadata": {},
   "source": [
    "# Data Preprocessing"
   ]
  },
  {
   "cell_type": "code",
   "execution_count": 2,
   "id": "50617b51-edb8-489e-825c-27ef9b83faed",
   "metadata": {},
   "outputs": [
    {
     "name": "stdout",
     "output_type": "stream",
     "text": [
      "#rows: 27820   #columns: 12\n"
     ]
    }
   ],
   "source": [
    "# read in dataset\n",
    "df = pd.read_csv(\"suicide_rates.csv\")\n",
    "print(f'#rows: {len(df)}   #columns: {len(df.columns)}')"
   ]
  },
  {
   "cell_type": "code",
   "execution_count": 3,
   "id": "0953620d-51a1-4e52-9de4-0834675ea60a",
   "metadata": {},
   "outputs": [
    {
     "data": {
      "text/plain": [
       "Index(['country', 'year', 'sex', 'age', 'suicides_no', 'population',\n",
       "       'suicides/100k pop', 'country-year', 'HDI for year',\n",
       "       ' gdp_for_year ($) ', 'gdp_per_capita ($)', 'generation'],\n",
       "      dtype='object')"
      ]
     },
     "execution_count": 3,
     "metadata": {},
     "output_type": "execute_result"
    }
   ],
   "source": [
    "# check columns\n",
    "df.columns"
   ]
  },
  {
   "cell_type": "code",
   "execution_count": 4,
   "id": "8b03d2ab-352b-42b9-b9c4-b6de565ae3d9",
   "metadata": {},
   "outputs": [
    {
     "data": {
      "text/plain": [
       "country                object\n",
       "year                    int64\n",
       "sex                    object\n",
       "age                    object\n",
       "suicides_no             int64\n",
       "population              int64\n",
       "suicides/100k pop     float64\n",
       "country-year           object\n",
       "HDI for year          float64\n",
       " gdp_for_year ($)      object\n",
       "gdp_per_capita ($)      int64\n",
       "generation             object\n",
       "dtype: object"
      ]
     },
     "execution_count": 4,
     "metadata": {},
     "output_type": "execute_result"
    }
   ],
   "source": [
    "# check data types\n",
    "df.dtypes"
   ]
  },
  {
   "cell_type": "code",
   "execution_count": 5,
   "id": "5d8633ef-c8fe-4a4f-b0bd-1f734ef43e37",
   "metadata": {},
   "outputs": [
    {
     "data": {
      "text/html": [
       "<div>\n",
       "<style scoped>\n",
       "    .dataframe tbody tr th:only-of-type {\n",
       "        vertical-align: middle;\n",
       "    }\n",
       "\n",
       "    .dataframe tbody tr th {\n",
       "        vertical-align: top;\n",
       "    }\n",
       "\n",
       "    .dataframe thead th {\n",
       "        text-align: right;\n",
       "    }\n",
       "</style>\n",
       "<table border=\"1\" class=\"dataframe\">\n",
       "  <thead>\n",
       "    <tr style=\"text-align: right;\">\n",
       "      <th></th>\n",
       "      <th>country</th>\n",
       "      <th>year</th>\n",
       "      <th>sex</th>\n",
       "      <th>age</th>\n",
       "      <th>suicides_no</th>\n",
       "      <th>population</th>\n",
       "      <th>suicides/100k pop</th>\n",
       "      <th>country-year</th>\n",
       "      <th>HDI for year</th>\n",
       "      <th>gdp_for_year ($)</th>\n",
       "      <th>gdp_per_capita ($)</th>\n",
       "      <th>generation</th>\n",
       "    </tr>\n",
       "  </thead>\n",
       "  <tbody>\n",
       "    <tr>\n",
       "      <th>0</th>\n",
       "      <td>Albania</td>\n",
       "      <td>1987</td>\n",
       "      <td>male</td>\n",
       "      <td>15-24 years</td>\n",
       "      <td>21</td>\n",
       "      <td>312900</td>\n",
       "      <td>6.71</td>\n",
       "      <td>Albania1987</td>\n",
       "      <td>NaN</td>\n",
       "      <td>2,156,624,900</td>\n",
       "      <td>796</td>\n",
       "      <td>Generation X</td>\n",
       "    </tr>\n",
       "    <tr>\n",
       "      <th>1</th>\n",
       "      <td>Albania</td>\n",
       "      <td>1987</td>\n",
       "      <td>male</td>\n",
       "      <td>35-54 years</td>\n",
       "      <td>16</td>\n",
       "      <td>308000</td>\n",
       "      <td>5.19</td>\n",
       "      <td>Albania1987</td>\n",
       "      <td>NaN</td>\n",
       "      <td>2,156,624,900</td>\n",
       "      <td>796</td>\n",
       "      <td>Silent</td>\n",
       "    </tr>\n",
       "    <tr>\n",
       "      <th>2</th>\n",
       "      <td>Albania</td>\n",
       "      <td>1987</td>\n",
       "      <td>female</td>\n",
       "      <td>15-24 years</td>\n",
       "      <td>14</td>\n",
       "      <td>289700</td>\n",
       "      <td>4.83</td>\n",
       "      <td>Albania1987</td>\n",
       "      <td>NaN</td>\n",
       "      <td>2,156,624,900</td>\n",
       "      <td>796</td>\n",
       "      <td>Generation X</td>\n",
       "    </tr>\n",
       "    <tr>\n",
       "      <th>3</th>\n",
       "      <td>Albania</td>\n",
       "      <td>1987</td>\n",
       "      <td>male</td>\n",
       "      <td>75+ years</td>\n",
       "      <td>1</td>\n",
       "      <td>21800</td>\n",
       "      <td>4.59</td>\n",
       "      <td>Albania1987</td>\n",
       "      <td>NaN</td>\n",
       "      <td>2,156,624,900</td>\n",
       "      <td>796</td>\n",
       "      <td>G.I. Generation</td>\n",
       "    </tr>\n",
       "    <tr>\n",
       "      <th>4</th>\n",
       "      <td>Albania</td>\n",
       "      <td>1987</td>\n",
       "      <td>male</td>\n",
       "      <td>25-34 years</td>\n",
       "      <td>9</td>\n",
       "      <td>274300</td>\n",
       "      <td>3.28</td>\n",
       "      <td>Albania1987</td>\n",
       "      <td>NaN</td>\n",
       "      <td>2,156,624,900</td>\n",
       "      <td>796</td>\n",
       "      <td>Boomers</td>\n",
       "    </tr>\n",
       "  </tbody>\n",
       "</table>\n",
       "</div>"
      ],
      "text/plain": [
       "   country  year     sex          age  suicides_no  population  \\\n",
       "0  Albania  1987    male  15-24 years           21      312900   \n",
       "1  Albania  1987    male  35-54 years           16      308000   \n",
       "2  Albania  1987  female  15-24 years           14      289700   \n",
       "3  Albania  1987    male    75+ years            1       21800   \n",
       "4  Albania  1987    male  25-34 years            9      274300   \n",
       "\n",
       "   suicides/100k pop country-year  HDI for year  gdp_for_year ($)   \\\n",
       "0               6.71  Albania1987           NaN      2,156,624,900   \n",
       "1               5.19  Albania1987           NaN      2,156,624,900   \n",
       "2               4.83  Albania1987           NaN      2,156,624,900   \n",
       "3               4.59  Albania1987           NaN      2,156,624,900   \n",
       "4               3.28  Albania1987           NaN      2,156,624,900   \n",
       "\n",
       "   gdp_per_capita ($)       generation  \n",
       "0                 796     Generation X  \n",
       "1                 796           Silent  \n",
       "2                 796     Generation X  \n",
       "3                 796  G.I. Generation  \n",
       "4                 796          Boomers  "
      ]
     },
     "execution_count": 5,
     "metadata": {},
     "output_type": "execute_result"
    }
   ],
   "source": [
    "df.head()"
   ]
  },
  {
   "cell_type": "code",
   "execution_count": 6,
   "id": "52d24270-6cd9-4ded-bf4e-4bb9d02a0846",
   "metadata": {},
   "outputs": [
    {
     "data": {
      "text/plain": [
       "country                   0\n",
       "year                      0\n",
       "sex                       0\n",
       "age                       0\n",
       "suicides_no               0\n",
       "population                0\n",
       "suicides/100k pop         0\n",
       "country-year              0\n",
       "HDI for year          19456\n",
       " gdp_for_year ($)         0\n",
       "gdp_per_capita ($)        0\n",
       "generation                0\n",
       "dtype: int64"
      ]
     },
     "execution_count": 6,
     "metadata": {},
     "output_type": "execute_result"
    }
   ],
   "source": [
    "# check NaN\n",
    "df.isnull().sum()"
   ]
  },
  {
   "cell_type": "code",
   "execution_count": 7,
   "id": "b6a43c75-003f-48f8-9e05-7da526b1ceaa",
   "metadata": {},
   "outputs": [],
   "source": [
    "# drop 'HDI for year' since 19,456 / 27,820 instancs have NaN. This results in a sparse dataset.\n",
    "# Imputing a mean for the missing values would most likely be inaccurate as this dataset spans a variety of dates and demographics\n",
    "\n",
    "# also drop 'country-year' because it is a derived feature and does not add to the training performance\n",
    "df.drop(columns=['HDI for year', 'country-year'], inplace=True)"
   ]
  },
  {
   "cell_type": "code",
   "execution_count": 8,
   "id": "0552be8c-a3d7-4b3b-9b17-f397bcb1dcee",
   "metadata": {},
   "outputs": [],
   "source": [
    "# remove leading space from ' gdp_for_year ($)' feature title\n",
    "# convert 'gdp_for_year ($)' from string to numerical integer\n",
    "def to_int(x):\n",
    "    x = x.replace(',','')\n",
    "    return int(x)\n",
    "\n",
    "df.rename(columns={' gdp_for_year ($) ':'gdp_for_year ($)'}, inplace=True)\n",
    "\n",
    "df['gdp_for_year ($)'] = df['gdp_for_year ($)'].apply(to_int)"
   ]
  },
  {
   "cell_type": "code",
   "execution_count": 9,
   "id": "e8e3389a-4fca-42bd-8c25-a23ce30a827f",
   "metadata": {
    "tags": []
   },
   "outputs": [],
   "source": [
    "# one-hot-encode nominal features\n",
    "_df = pd.get_dummies(df, prefix='', prefix_sep='')"
   ]
  },
  {
   "cell_type": "code",
   "execution_count": 10,
   "id": "6976ef49-c8b2-4a55-822f-17d6417fd585",
   "metadata": {},
   "outputs": [
    {
     "data": {
      "text/html": [
       "<div>\n",
       "<style scoped>\n",
       "    .dataframe tbody tr th:only-of-type {\n",
       "        vertical-align: middle;\n",
       "    }\n",
       "\n",
       "    .dataframe tbody tr th {\n",
       "        vertical-align: top;\n",
       "    }\n",
       "\n",
       "    .dataframe thead th {\n",
       "        text-align: right;\n",
       "    }\n",
       "</style>\n",
       "<table border=\"1\" class=\"dataframe\">\n",
       "  <thead>\n",
       "    <tr style=\"text-align: right;\">\n",
       "      <th></th>\n",
       "      <th>year</th>\n",
       "      <th>suicides_no</th>\n",
       "      <th>population</th>\n",
       "      <th>suicides/100k pop</th>\n",
       "      <th>gdp_for_year ($)</th>\n",
       "      <th>gdp_per_capita ($)</th>\n",
       "      <th>Albania</th>\n",
       "      <th>Antigua and Barbuda</th>\n",
       "      <th>Argentina</th>\n",
       "      <th>Armenia</th>\n",
       "      <th>...</th>\n",
       "      <th>35-54 years</th>\n",
       "      <th>5-14 years</th>\n",
       "      <th>55-74 years</th>\n",
       "      <th>75+ years</th>\n",
       "      <th>Boomers</th>\n",
       "      <th>G.I. Generation</th>\n",
       "      <th>Generation X</th>\n",
       "      <th>Generation Z</th>\n",
       "      <th>Millenials</th>\n",
       "      <th>Silent</th>\n",
       "    </tr>\n",
       "  </thead>\n",
       "  <tbody>\n",
       "    <tr>\n",
       "      <th>0</th>\n",
       "      <td>1987</td>\n",
       "      <td>21</td>\n",
       "      <td>312900</td>\n",
       "      <td>6.71</td>\n",
       "      <td>2156624900</td>\n",
       "      <td>796</td>\n",
       "      <td>1</td>\n",
       "      <td>0</td>\n",
       "      <td>0</td>\n",
       "      <td>0</td>\n",
       "      <td>...</td>\n",
       "      <td>0</td>\n",
       "      <td>0</td>\n",
       "      <td>0</td>\n",
       "      <td>0</td>\n",
       "      <td>0</td>\n",
       "      <td>0</td>\n",
       "      <td>1</td>\n",
       "      <td>0</td>\n",
       "      <td>0</td>\n",
       "      <td>0</td>\n",
       "    </tr>\n",
       "    <tr>\n",
       "      <th>1</th>\n",
       "      <td>1987</td>\n",
       "      <td>16</td>\n",
       "      <td>308000</td>\n",
       "      <td>5.19</td>\n",
       "      <td>2156624900</td>\n",
       "      <td>796</td>\n",
       "      <td>1</td>\n",
       "      <td>0</td>\n",
       "      <td>0</td>\n",
       "      <td>0</td>\n",
       "      <td>...</td>\n",
       "      <td>1</td>\n",
       "      <td>0</td>\n",
       "      <td>0</td>\n",
       "      <td>0</td>\n",
       "      <td>0</td>\n",
       "      <td>0</td>\n",
       "      <td>0</td>\n",
       "      <td>0</td>\n",
       "      <td>0</td>\n",
       "      <td>1</td>\n",
       "    </tr>\n",
       "    <tr>\n",
       "      <th>2</th>\n",
       "      <td>1987</td>\n",
       "      <td>14</td>\n",
       "      <td>289700</td>\n",
       "      <td>4.83</td>\n",
       "      <td>2156624900</td>\n",
       "      <td>796</td>\n",
       "      <td>1</td>\n",
       "      <td>0</td>\n",
       "      <td>0</td>\n",
       "      <td>0</td>\n",
       "      <td>...</td>\n",
       "      <td>0</td>\n",
       "      <td>0</td>\n",
       "      <td>0</td>\n",
       "      <td>0</td>\n",
       "      <td>0</td>\n",
       "      <td>0</td>\n",
       "      <td>1</td>\n",
       "      <td>0</td>\n",
       "      <td>0</td>\n",
       "      <td>0</td>\n",
       "    </tr>\n",
       "    <tr>\n",
       "      <th>3</th>\n",
       "      <td>1987</td>\n",
       "      <td>1</td>\n",
       "      <td>21800</td>\n",
       "      <td>4.59</td>\n",
       "      <td>2156624900</td>\n",
       "      <td>796</td>\n",
       "      <td>1</td>\n",
       "      <td>0</td>\n",
       "      <td>0</td>\n",
       "      <td>0</td>\n",
       "      <td>...</td>\n",
       "      <td>0</td>\n",
       "      <td>0</td>\n",
       "      <td>0</td>\n",
       "      <td>1</td>\n",
       "      <td>0</td>\n",
       "      <td>1</td>\n",
       "      <td>0</td>\n",
       "      <td>0</td>\n",
       "      <td>0</td>\n",
       "      <td>0</td>\n",
       "    </tr>\n",
       "    <tr>\n",
       "      <th>4</th>\n",
       "      <td>1987</td>\n",
       "      <td>9</td>\n",
       "      <td>274300</td>\n",
       "      <td>3.28</td>\n",
       "      <td>2156624900</td>\n",
       "      <td>796</td>\n",
       "      <td>1</td>\n",
       "      <td>0</td>\n",
       "      <td>0</td>\n",
       "      <td>0</td>\n",
       "      <td>...</td>\n",
       "      <td>0</td>\n",
       "      <td>0</td>\n",
       "      <td>0</td>\n",
       "      <td>0</td>\n",
       "      <td>1</td>\n",
       "      <td>0</td>\n",
       "      <td>0</td>\n",
       "      <td>0</td>\n",
       "      <td>0</td>\n",
       "      <td>0</td>\n",
       "    </tr>\n",
       "  </tbody>\n",
       "</table>\n",
       "<p>5 rows × 121 columns</p>\n",
       "</div>"
      ],
      "text/plain": [
       "   year  suicides_no  population  suicides/100k pop  gdp_for_year ($)  \\\n",
       "0  1987           21      312900               6.71        2156624900   \n",
       "1  1987           16      308000               5.19        2156624900   \n",
       "2  1987           14      289700               4.83        2156624900   \n",
       "3  1987            1       21800               4.59        2156624900   \n",
       "4  1987            9      274300               3.28        2156624900   \n",
       "\n",
       "   gdp_per_capita ($)  Albania  Antigua and Barbuda  Argentina  Armenia  ...  \\\n",
       "0                 796        1                    0          0        0  ...   \n",
       "1                 796        1                    0          0        0  ...   \n",
       "2                 796        1                    0          0        0  ...   \n",
       "3                 796        1                    0          0        0  ...   \n",
       "4                 796        1                    0          0        0  ...   \n",
       "\n",
       "   35-54 years  5-14 years  55-74 years  75+ years  Boomers  G.I. Generation  \\\n",
       "0            0           0            0          0        0                0   \n",
       "1            1           0            0          0        0                0   \n",
       "2            0           0            0          0        0                0   \n",
       "3            0           0            0          1        0                1   \n",
       "4            0           0            0          0        1                0   \n",
       "\n",
       "   Generation X  Generation Z  Millenials  Silent  \n",
       "0             1             0           0       0  \n",
       "1             0             0           0       1  \n",
       "2             1             0           0       0  \n",
       "3             0             0           0       0  \n",
       "4             0             0           0       0  \n",
       "\n",
       "[5 rows x 121 columns]"
      ]
     },
     "execution_count": 10,
     "metadata": {},
     "output_type": "execute_result"
    }
   ],
   "source": [
    "_df.head()"
   ]
  },
  {
   "cell_type": "code",
   "execution_count": 11,
   "id": "2780ce77-4467-4f73-8cd3-ba31fa325050",
   "metadata": {},
   "outputs": [],
   "source": [
    "# shift column order with dependent variable as first column\n",
    "dependent = _df.pop('suicides/100k pop')\n",
    "_df['suicides/100k pop'] = dependent\n",
    "\n",
    "dependent = df.pop('suicides/100k pop')\n",
    "df['suicides/100k pop'] = dependent"
   ]
  },
  {
   "cell_type": "code",
   "execution_count": 12,
   "id": "2f3ba792-7817-41b6-b010-1534ebe782e9",
   "metadata": {},
   "outputs": [],
   "source": [
    "# scale the data\n",
    "from sklearn.preprocessing import MinMaxScaler, StandardScaler"
   ]
  },
  {
   "cell_type": "code",
   "execution_count": 13,
   "id": "9a8642a3-4987-475b-861f-cf0d02ab1b43",
   "metadata": {},
   "outputs": [],
   "source": [
    "#scaler = MinMaxScaler()\n",
    "scaler = MinMaxScaler()\n",
    "_df = pd.DataFrame(scaler.fit_transform(_df), columns=_df.columns)"
   ]
  },
  {
   "cell_type": "code",
   "execution_count": 14,
   "id": "6000666d-2d11-402b-a73d-950e48eb7fd4",
   "metadata": {},
   "outputs": [],
   "source": [
    "for col in _df.columns:\n",
    "    _df[col] = _df[col].astype('float')"
   ]
  },
  {
   "cell_type": "code",
   "execution_count": 15,
   "id": "6aac1293-680b-42df-9d97-6b36948d1d7c",
   "metadata": {},
   "outputs": [
    {
     "data": {
      "text/plain": [
       "year                  float64\n",
       "suicides_no           float64\n",
       "population            float64\n",
       "gdp_for_year ($)      float64\n",
       "gdp_per_capita ($)    float64\n",
       "                       ...   \n",
       "Generation X          float64\n",
       "Generation Z          float64\n",
       "Millenials            float64\n",
       "Silent                float64\n",
       "suicides/100k pop     float64\n",
       "Length: 121, dtype: object"
      ]
     },
     "execution_count": 15,
     "metadata": {},
     "output_type": "execute_result"
    }
   ],
   "source": [
    "# confirm preprocessed dtypes are all numerical\n",
    "_df.dtypes"
   ]
  },
  {
   "cell_type": "code",
   "execution_count": 16,
   "id": "ab7b2fc8-b9da-42f4-afe8-c21b6b799b17",
   "metadata": {},
   "outputs": [
    {
     "data": {
      "text/html": [
       "<div>\n",
       "<style scoped>\n",
       "    .dataframe tbody tr th:only-of-type {\n",
       "        vertical-align: middle;\n",
       "    }\n",
       "\n",
       "    .dataframe tbody tr th {\n",
       "        vertical-align: top;\n",
       "    }\n",
       "\n",
       "    .dataframe thead th {\n",
       "        text-align: right;\n",
       "    }\n",
       "</style>\n",
       "<table border=\"1\" class=\"dataframe\">\n",
       "  <thead>\n",
       "    <tr style=\"text-align: right;\">\n",
       "      <th></th>\n",
       "      <th>year</th>\n",
       "      <th>suicides_no</th>\n",
       "      <th>population</th>\n",
       "      <th>gdp_for_year ($)</th>\n",
       "      <th>gdp_per_capita ($)</th>\n",
       "      <th>Albania</th>\n",
       "      <th>Antigua and Barbuda</th>\n",
       "      <th>Argentina</th>\n",
       "      <th>Armenia</th>\n",
       "      <th>Aruba</th>\n",
       "      <th>...</th>\n",
       "      <th>5-14 years</th>\n",
       "      <th>55-74 years</th>\n",
       "      <th>75+ years</th>\n",
       "      <th>Boomers</th>\n",
       "      <th>G.I. Generation</th>\n",
       "      <th>Generation X</th>\n",
       "      <th>Generation Z</th>\n",
       "      <th>Millenials</th>\n",
       "      <th>Silent</th>\n",
       "      <th>suicides/100k pop</th>\n",
       "    </tr>\n",
       "  </thead>\n",
       "  <tbody>\n",
       "    <tr>\n",
       "      <th>0</th>\n",
       "      <td>0.064516</td>\n",
       "      <td>0.000940</td>\n",
       "      <td>0.007137</td>\n",
       "      <td>0.000116</td>\n",
       "      <td>0.004322</td>\n",
       "      <td>1.0</td>\n",
       "      <td>0.0</td>\n",
       "      <td>0.0</td>\n",
       "      <td>0.0</td>\n",
       "      <td>0.0</td>\n",
       "      <td>...</td>\n",
       "      <td>0.0</td>\n",
       "      <td>0.0</td>\n",
       "      <td>0.0</td>\n",
       "      <td>0.0</td>\n",
       "      <td>0.0</td>\n",
       "      <td>1.0</td>\n",
       "      <td>0.0</td>\n",
       "      <td>0.0</td>\n",
       "      <td>0.0</td>\n",
       "      <td>0.029826</td>\n",
       "    </tr>\n",
       "    <tr>\n",
       "      <th>1</th>\n",
       "      <td>0.064516</td>\n",
       "      <td>0.000716</td>\n",
       "      <td>0.007025</td>\n",
       "      <td>0.000116</td>\n",
       "      <td>0.004322</td>\n",
       "      <td>1.0</td>\n",
       "      <td>0.0</td>\n",
       "      <td>0.0</td>\n",
       "      <td>0.0</td>\n",
       "      <td>0.0</td>\n",
       "      <td>...</td>\n",
       "      <td>0.0</td>\n",
       "      <td>0.0</td>\n",
       "      <td>0.0</td>\n",
       "      <td>0.0</td>\n",
       "      <td>0.0</td>\n",
       "      <td>0.0</td>\n",
       "      <td>0.0</td>\n",
       "      <td>0.0</td>\n",
       "      <td>1.0</td>\n",
       "      <td>0.023070</td>\n",
       "    </tr>\n",
       "  </tbody>\n",
       "</table>\n",
       "<p>2 rows × 121 columns</p>\n",
       "</div>"
      ],
      "text/plain": [
       "       year  suicides_no  population  gdp_for_year ($)  gdp_per_capita ($)  \\\n",
       "0  0.064516     0.000940    0.007137          0.000116            0.004322   \n",
       "1  0.064516     0.000716    0.007025          0.000116            0.004322   \n",
       "\n",
       "   Albania  Antigua and Barbuda  Argentina  Armenia  Aruba  ...  5-14 years  \\\n",
       "0      1.0                  0.0        0.0      0.0    0.0  ...         0.0   \n",
       "1      1.0                  0.0        0.0      0.0    0.0  ...         0.0   \n",
       "\n",
       "   55-74 years  75+ years  Boomers  G.I. Generation  Generation X  \\\n",
       "0          0.0        0.0      0.0              0.0           1.0   \n",
       "1          0.0        0.0      0.0              0.0           0.0   \n",
       "\n",
       "   Generation Z  Millenials  Silent  suicides/100k pop  \n",
       "0           0.0         0.0     0.0           0.029826  \n",
       "1           0.0         0.0     1.0           0.023070  \n",
       "\n",
       "[2 rows x 121 columns]"
      ]
     },
     "execution_count": 16,
     "metadata": {},
     "output_type": "execute_result"
    }
   ],
   "source": [
    "_df.head(2)"
   ]
  },
  {
   "cell_type": "markdown",
   "id": "be8b8025-a383-4d9c-88ad-b7c394607f30",
   "metadata": {},
   "source": [
    "# Problem #1"
   ]
  },
  {
   "cell_type": "code",
   "execution_count": 17,
   "id": "3ca35a20-9db1-4a63-b744-ce287d8feb73",
   "metadata": {},
   "outputs": [],
   "source": [
    "# get predictors and dependent variable\n",
    "X = _df.iloc[:,:-1].values\n",
    "y = _df.iloc[:,-1].values"
   ]
  },
  {
   "cell_type": "code",
   "execution_count": 18,
   "id": "600f740c-cb6b-4bff-83d9-609b767a7cb1",
   "metadata": {},
   "outputs": [],
   "source": [
    "import random\n",
    "from sklearn.model_selection import KFold"
   ]
  },
  {
   "cell_type": "code",
   "execution_count": 19,
   "id": "fffa52a2-1e7a-42a9-96bb-78aa3f8cb745",
   "metadata": {},
   "outputs": [],
   "source": [
    "# Linear Regression Model\n",
    "\n",
    "class LinearRegression():\n",
    "    \n",
    "    def __init__(self, learning_rate=0.001, n_iter=20):\n",
    "        self.learning_rate = learning_rate\n",
    "        self.n_iter = n_iter\n",
    "        self.weights = []\n",
    "        \n",
    "    \n",
    "    def fit(self, _X, _y):\n",
    "        # initialize random weights\n",
    "        self.weights = np.array([round(random.random(), 3) for i in range(1 + _X.shape[1])])\n",
    "\n",
    "        self.costs = []\n",
    "        \n",
    "        for i in range(self.n_iter):\n",
    "            # calculate y_pred for all instances\n",
    "            y_preds = self.net_input(_X)\n",
    "            \n",
    "            # calculate error\n",
    "            errors = _y - y_preds\n",
    "            \n",
    "            # update weights via batch gradient descent\n",
    "            self.weights[1:] += self.learning_rate * _X.T.dot(errors)\n",
    "            self.weights[0] += self.learning_rate * errors.sum()\n",
    "            \n",
    "            # calculate MSE\n",
    "            # MSE = 0.5 * ((errors**2).sum()) / _X.shape[0]\n",
    "            # self.costs.append(MSE)\n",
    "            \n",
    "            # calculate SSE\n",
    "            # SSE = (errors**2).sum() / 2\n",
    "            # self.costs.append(SSE)\n",
    "            \n",
    "            # calculate MAE\n",
    "            MAE = (np.abs(errors)).sum() / _X.shape[0]\n",
    "            self.costs.append(MAE)\n",
    "            \n",
    "    \n",
    "    def net_input(self, _X):\n",
    "        # calculate y_pred for all instances in _X\n",
    "        return np.dot(_X, self.weights[1:]) + self.weights[0]\n",
    "\n",
    "    \n",
    "    def predict(self, _X):\n",
    "        return self.net_input(_X)\n",
    "    \n",
    "    \n",
    "    def get_weights(self):\n",
    "        return self.weights"
   ]
  },
  {
   "cell_type": "code",
   "execution_count": 20,
   "id": "df25dc93-9a65-4c1c-bf6a-b91e539402cb",
   "metadata": {},
   "outputs": [],
   "source": [
    "# 10-fold CV Linear Regression\n",
    "\n",
    "def LinearRegressionCV(_X, _y, model):\n",
    "    kf = KFold(n_splits=10, shuffle=True)\n",
    "    \n",
    "    costs = []\n",
    "    \n",
    "    # initiate 10-fold CV\n",
    "    for train_index, test_index in kf.split(_X):\n",
    "        x_train = _X[train_index]\n",
    "        y_train = _y[train_index]\n",
    "        \n",
    "        x_test = _X[test_index]\n",
    "        y_test = _y[test_index]\n",
    "        \n",
    "        # train model\n",
    "        lr = model\n",
    "        lr.fit(x_train, y_train)\n",
    "        \n",
    "        # predict on validation set\n",
    "        y_pred = lr.predict(x_test)\n",
    "        \n",
    "        # calculate Mean Absolute Error\n",
    "        MAE = np.abs(y_test - y_pred).sum() / y_test.shape[0]\n",
    "        \n",
    "        costs.append(MAE)\n",
    "    \n",
    "    print(f'Average MAE: {np.mean(costs):.3f} {chr(177)} {np.std(costs):.3f}')"
   ]
  },
  {
   "cell_type": "code",
   "execution_count": 21,
   "id": "4638a381-ff3c-4973-bd5c-3c85cb60d256",
   "metadata": {},
   "outputs": [],
   "source": [
    "def MAE(y_pred, y):\n",
    "    return np.abs(y - y_pred).sum() / y.shape[0]"
   ]
  },
  {
   "cell_type": "code",
   "execution_count": 22,
   "id": "fc32d0d7-d2a5-49cf-a421-6b7dbb7b0514",
   "metadata": {},
   "outputs": [],
   "source": [
    "def MSE(y_pred, y):\n",
    "    return 0.5 * ((y_pred - y)**2).sum() / y.shape[0]"
   ]
  },
  {
   "cell_type": "code",
   "execution_count": 23,
   "id": "4cbe7304-4578-4a7a-9548-be147403328a",
   "metadata": {},
   "outputs": [
    {
     "name": "stdout",
     "output_type": "stream",
     "text": [
      "Average MAE: 0.322 ± 0.016\n"
     ]
    }
   ],
   "source": [
    "# observe 10-fold CV Performance\n",
    "LinearRegressionCV(X, y, LinearRegression(learning_rate=0.00001, n_iter=10))"
   ]
  },
  {
   "cell_type": "code",
   "execution_count": 24,
   "id": "e3988459-4214-4505-a602-a8c3cfbc178e",
   "metadata": {},
   "outputs": [
    {
     "data": {
      "image/png": "[encoded data removed]",
      "text/plain": [
       "<Figure size 432x288 with 1 Axes>"
      ]
     },
     "metadata": {
      "needs_background": "light"
     },
     "output_type": "display_data"
    }
   ],
   "source": [
    "# train linear regression model\n",
    "lr = LinearRegression(learning_rate=0.00001, n_iter=10)\n",
    "\n",
    "lr.fit(X,y)\n",
    "\n",
    "# observe cost per iteration of batch gradient descent\n",
    "plt.plot(range(len(lr.costs)), lr.costs, color='deepskyblue')\n",
    "\n",
    "plt.title('Mean Absolute Error Per Iteration: (Linear Regression)')\n",
    "plt.xlabel('n_iter', labelpad=15)\n",
    "plt.ylabel('MAE', rotation='horizontal', labelpad=30)\n",
    "\n",
    "plt.show()"
   ]
  },
  {
   "cell_type": "code",
   "execution_count": 25,
   "id": "4a1c86d0-3db0-48d8-bcfd-61bedb8cf310",
   "metadata": {},
   "outputs": [],
   "source": [
    "# filter dataset for: 'age'=20, 'male', 'generation X'\n",
    "_df1 = _df[(_df['15-24 years']==1) & (_df['male']==1) & (_df['Generation X']==1)]\n",
    "\n",
    "X = _df1.iloc[:,:-1]\n",
    "y = _df1.iloc[:,-1]"
   ]
  },
  {
   "cell_type": "code",
   "execution_count": 26,
   "id": "444d982a-9de5-4102-8e54-6543b6332790",
   "metadata": {},
   "outputs": [
    {
     "data": {
      "text/plain": [
       "(1057, 120)"
      ]
     },
     "execution_count": 26,
     "metadata": {},
     "output_type": "execute_result"
    }
   ],
   "source": [
    "X.shape"
   ]
  },
  {
   "cell_type": "code",
   "execution_count": 27,
   "id": "e89673df-d0b7-4b02-b27e-39257a971e31",
   "metadata": {},
   "outputs": [],
   "source": [
    "# predict on selected data\n",
    "y_pred = lr.predict(X)"
   ]
  },
  {
   "cell_type": "code",
   "execution_count": 28,
   "id": "ff58546c-9fa8-4cd1-bdbc-0256ac7f1d3c",
   "metadata": {},
   "outputs": [
    {
     "name": "stdout",
     "output_type": "stream",
     "text": [
      "MAE for 20 years, male, Gen X: 0.268\n"
     ]
    }
   ],
   "source": [
    "# calculate MAE\n",
    "error = MAE(y, y_pred)\n",
    "print(f'MAE for 20 years, male, Gen X: {error:.3f}')"
   ]
  },
  {
   "cell_type": "code",
   "execution_count": 29,
   "id": "a9f72334-4ded-4839-bb13-e897f9364b2b",
   "metadata": {},
   "outputs": [
    {
     "data": {
      "text/plain": [
       "121"
      ]
     },
     "execution_count": 29,
     "metadata": {},
     "output_type": "execute_result"
    }
   ],
   "source": [
    "# coefficients\n",
    "coef = lr.get_weights()\n",
    "len(coef)"
   ]
  },
  {
   "cell_type": "markdown",
   "id": "7ec5336c-80da-42c4-908b-828dddf62c9b",
   "metadata": {},
   "source": [
    "Including the bias term, there are **121 coefficients**, 120 which each corresponds to a feature in the dataset after one-hot-encoding"
   ]
  },
  {
   "cell_type": "markdown",
   "id": "ef9aee10-b023-4823-bfa4-f7049f7ff7ff",
   "metadata": {},
   "source": [
    "# Problem #2"
   ]
  },
  {
   "cell_type": "code",
   "execution_count": 30,
   "id": "0d60eb34-bfa2-46cb-8e8e-2f3818cf7fba",
   "metadata": {},
   "outputs": [
    {
     "data": {
      "text/html": [
       "<div>\n",
       "<style scoped>\n",
       "    .dataframe tbody tr th:only-of-type {\n",
       "        vertical-align: middle;\n",
       "    }\n",
       "\n",
       "    .dataframe tbody tr th {\n",
       "        vertical-align: top;\n",
       "    }\n",
       "\n",
       "    .dataframe thead th {\n",
       "        text-align: right;\n",
       "    }\n",
       "</style>\n",
       "<table border=\"1\" class=\"dataframe\">\n",
       "  <thead>\n",
       "    <tr style=\"text-align: right;\">\n",
       "      <th></th>\n",
       "      <th>country</th>\n",
       "      <th>year</th>\n",
       "      <th>sex</th>\n",
       "      <th>age</th>\n",
       "      <th>suicides_no</th>\n",
       "      <th>population</th>\n",
       "      <th>gdp_for_year ($)</th>\n",
       "      <th>gdp_per_capita ($)</th>\n",
       "      <th>generation</th>\n",
       "      <th>suicides/100k pop</th>\n",
       "    </tr>\n",
       "  </thead>\n",
       "  <tbody>\n",
       "    <tr>\n",
       "      <th>0</th>\n",
       "      <td>Albania</td>\n",
       "      <td>1987</td>\n",
       "      <td>male</td>\n",
       "      <td>15-24 years</td>\n",
       "      <td>21</td>\n",
       "      <td>312900</td>\n",
       "      <td>2156624900</td>\n",
       "      <td>796</td>\n",
       "      <td>Generation X</td>\n",
       "      <td>6.71</td>\n",
       "    </tr>\n",
       "    <tr>\n",
       "      <th>1</th>\n",
       "      <td>Albania</td>\n",
       "      <td>1987</td>\n",
       "      <td>male</td>\n",
       "      <td>35-54 years</td>\n",
       "      <td>16</td>\n",
       "      <td>308000</td>\n",
       "      <td>2156624900</td>\n",
       "      <td>796</td>\n",
       "      <td>Silent</td>\n",
       "      <td>5.19</td>\n",
       "    </tr>\n",
       "    <tr>\n",
       "      <th>2</th>\n",
       "      <td>Albania</td>\n",
       "      <td>1987</td>\n",
       "      <td>female</td>\n",
       "      <td>15-24 years</td>\n",
       "      <td>14</td>\n",
       "      <td>289700</td>\n",
       "      <td>2156624900</td>\n",
       "      <td>796</td>\n",
       "      <td>Generation X</td>\n",
       "      <td>4.83</td>\n",
       "    </tr>\n",
       "    <tr>\n",
       "      <th>3</th>\n",
       "      <td>Albania</td>\n",
       "      <td>1987</td>\n",
       "      <td>male</td>\n",
       "      <td>75+ years</td>\n",
       "      <td>1</td>\n",
       "      <td>21800</td>\n",
       "      <td>2156624900</td>\n",
       "      <td>796</td>\n",
       "      <td>G.I. Generation</td>\n",
       "      <td>4.59</td>\n",
       "    </tr>\n",
       "    <tr>\n",
       "      <th>4</th>\n",
       "      <td>Albania</td>\n",
       "      <td>1987</td>\n",
       "      <td>male</td>\n",
       "      <td>25-34 years</td>\n",
       "      <td>9</td>\n",
       "      <td>274300</td>\n",
       "      <td>2156624900</td>\n",
       "      <td>796</td>\n",
       "      <td>Boomers</td>\n",
       "      <td>3.28</td>\n",
       "    </tr>\n",
       "  </tbody>\n",
       "</table>\n",
       "</div>"
      ],
      "text/plain": [
       "   country  year     sex          age  suicides_no  population  \\\n",
       "0  Albania  1987    male  15-24 years           21      312900   \n",
       "1  Albania  1987    male  35-54 years           16      308000   \n",
       "2  Albania  1987  female  15-24 years           14      289700   \n",
       "3  Albania  1987    male    75+ years            1       21800   \n",
       "4  Albania  1987    male  25-34 years            9      274300   \n",
       "\n",
       "   gdp_for_year ($)  gdp_per_capita ($)       generation  suicides/100k pop  \n",
       "0        2156624900                 796     Generation X               6.71  \n",
       "1        2156624900                 796           Silent               5.19  \n",
       "2        2156624900                 796     Generation X               4.83  \n",
       "3        2156624900                 796  G.I. Generation               4.59  \n",
       "4        2156624900                 796          Boomers               3.28  "
      ]
     },
     "execution_count": 30,
     "metadata": {},
     "output_type": "execute_result"
    }
   ],
   "source": [
    "df.head()"
   ]
  },
  {
   "cell_type": "code",
   "execution_count": 31,
   "id": "e72f53c6-3ae0-4e66-816a-72f9eeadedf8",
   "metadata": {},
   "outputs": [
    {
     "data": {
      "text/plain": [
       "country                object\n",
       "year                    int64\n",
       "sex                    object\n",
       "age                    object\n",
       "suicides_no             int64\n",
       "population              int64\n",
       "gdp_for_year ($)        int64\n",
       "gdp_per_capita ($)      int64\n",
       "generation             object\n",
       "suicides/100k pop     float64\n",
       "dtype: object"
      ]
     },
     "execution_count": 31,
     "metadata": {},
     "output_type": "execute_result"
    }
   ],
   "source": [
    "# check data types\n",
    "df.dtypes"
   ]
  },
  {
   "cell_type": "code",
   "execution_count": 32,
   "id": "bc6b218d-8271-4730-8743-c586ead65ccc",
   "metadata": {},
   "outputs": [],
   "source": [
    "__df = df.copy()"
   ]
  },
  {
   "cell_type": "code",
   "execution_count": 33,
   "id": "8e580cab-97d5-4e48-bfac-2a3c4561220e",
   "metadata": {},
   "outputs": [],
   "source": [
    "# Numerically encode nominal features\n",
    "def to_numerical(df):\n",
    "    # iterate each column\n",
    "    for col in df.columns:\n",
    "        # check if column is non-numerical\n",
    "        if df[col].dtype == np.object:\n",
    "            \n",
    "            # get list of all unique values in column\n",
    "            unique_list = df[col].unique()\n",
    "            \n",
    "            # encode based on value's index in unique_list\n",
    "            for i in range(len(unique_list)):\n",
    "                df[col] = df[col].replace(unique_list[i], i)"
   ]
  },
  {
   "cell_type": "code",
   "execution_count": 34,
   "id": "2cad2d4f-8791-4f1d-a776-d95d99f80dfc",
   "metadata": {},
   "outputs": [
    {
     "name": "stdout",
     "output_type": "stream",
     "text": [
      "age: ['15-24 years', '35-54 years', '75+ years', '25-34 years', '55-74 years', '5-14 years']\n",
      "sex: ['male', 'female']\n",
      "generation: ['Generation X', 'Silent', 'G.I. Generation', 'Boomers', 'Millenials', 'Generation Z']\n"
     ]
    }
   ],
   "source": [
    "# observe feature values' index position when calling df[col].unique()\n",
    "# indices of feature values will be used to filtering out isntances in later part of problem\n",
    "\n",
    "print(f'age: {list(__df[\"age\"].unique())}')\n",
    "print(f'sex: {list(__df[\"sex\"].unique())}')\n",
    "print(f'generation: {list(__df[\"generation\"].unique())}')"
   ]
  },
  {
   "cell_type": "code",
   "execution_count": 35,
   "id": "7c53df03-caf8-48fa-afe0-d0a83fc0c3a4",
   "metadata": {},
   "outputs": [],
   "source": [
    "# convert data\n",
    "to_numerical(__df)"
   ]
  },
  {
   "cell_type": "code",
   "execution_count": 36,
   "id": "e02758af-33ba-4c39-811b-6497cdd56417",
   "metadata": {},
   "outputs": [
    {
     "data": {
      "text/html": [
       "<div>\n",
       "<style scoped>\n",
       "    .dataframe tbody tr th:only-of-type {\n",
       "        vertical-align: middle;\n",
       "    }\n",
       "\n",
       "    .dataframe tbody tr th {\n",
       "        vertical-align: top;\n",
       "    }\n",
       "\n",
       "    .dataframe thead th {\n",
       "        text-align: right;\n",
       "    }\n",
       "</style>\n",
       "<table border=\"1\" class=\"dataframe\">\n",
       "  <thead>\n",
       "    <tr style=\"text-align: right;\">\n",
       "      <th></th>\n",
       "      <th>country</th>\n",
       "      <th>year</th>\n",
       "      <th>sex</th>\n",
       "      <th>age</th>\n",
       "      <th>suicides_no</th>\n",
       "      <th>population</th>\n",
       "      <th>gdp_for_year ($)</th>\n",
       "      <th>gdp_per_capita ($)</th>\n",
       "      <th>generation</th>\n",
       "      <th>suicides/100k pop</th>\n",
       "    </tr>\n",
       "  </thead>\n",
       "  <tbody>\n",
       "    <tr>\n",
       "      <th>0</th>\n",
       "      <td>0</td>\n",
       "      <td>1987</td>\n",
       "      <td>0</td>\n",
       "      <td>0</td>\n",
       "      <td>21</td>\n",
       "      <td>312900</td>\n",
       "      <td>2156624900</td>\n",
       "      <td>796</td>\n",
       "      <td>0</td>\n",
       "      <td>6.71</td>\n",
       "    </tr>\n",
       "    <tr>\n",
       "      <th>1</th>\n",
       "      <td>0</td>\n",
       "      <td>1987</td>\n",
       "      <td>0</td>\n",
       "      <td>1</td>\n",
       "      <td>16</td>\n",
       "      <td>308000</td>\n",
       "      <td>2156624900</td>\n",
       "      <td>796</td>\n",
       "      <td>1</td>\n",
       "      <td>5.19</td>\n",
       "    </tr>\n",
       "    <tr>\n",
       "      <th>2</th>\n",
       "      <td>0</td>\n",
       "      <td>1987</td>\n",
       "      <td>1</td>\n",
       "      <td>0</td>\n",
       "      <td>14</td>\n",
       "      <td>289700</td>\n",
       "      <td>2156624900</td>\n",
       "      <td>796</td>\n",
       "      <td>0</td>\n",
       "      <td>4.83</td>\n",
       "    </tr>\n",
       "    <tr>\n",
       "      <th>3</th>\n",
       "      <td>0</td>\n",
       "      <td>1987</td>\n",
       "      <td>0</td>\n",
       "      <td>2</td>\n",
       "      <td>1</td>\n",
       "      <td>21800</td>\n",
       "      <td>2156624900</td>\n",
       "      <td>796</td>\n",
       "      <td>2</td>\n",
       "      <td>4.59</td>\n",
       "    </tr>\n",
       "    <tr>\n",
       "      <th>4</th>\n",
       "      <td>0</td>\n",
       "      <td>1987</td>\n",
       "      <td>0</td>\n",
       "      <td>3</td>\n",
       "      <td>9</td>\n",
       "      <td>274300</td>\n",
       "      <td>2156624900</td>\n",
       "      <td>796</td>\n",
       "      <td>3</td>\n",
       "      <td>3.28</td>\n",
       "    </tr>\n",
       "  </tbody>\n",
       "</table>\n",
       "</div>"
      ],
      "text/plain": [
       "   country  year  sex  age  suicides_no  population  gdp_for_year ($)  \\\n",
       "0        0  1987    0    0           21      312900        2156624900   \n",
       "1        0  1987    0    1           16      308000        2156624900   \n",
       "2        0  1987    1    0           14      289700        2156624900   \n",
       "3        0  1987    0    2            1       21800        2156624900   \n",
       "4        0  1987    0    3            9      274300        2156624900   \n",
       "\n",
       "   gdp_per_capita ($)  generation  suicides/100k pop  \n",
       "0                 796           0               6.71  \n",
       "1                 796           1               5.19  \n",
       "2                 796           0               4.83  \n",
       "3                 796           2               4.59  \n",
       "4                 796           3               3.28  "
      ]
     },
     "execution_count": 36,
     "metadata": {},
     "output_type": "execute_result"
    }
   ],
   "source": [
    "# see new dataset\n",
    "__df.head()"
   ]
  },
  {
   "cell_type": "code",
   "execution_count": 37,
   "id": "ab4efd3d-6457-4c51-8e3a-f6bc6f41bc83",
   "metadata": {},
   "outputs": [],
   "source": [
    "# rescale some features\n",
    "\n",
    "__df['gdp_for_year ($)'] = __df['gdp_for_year ($)'] / 100000000\n",
    "__df['gdp_per_capita ($)'] = __df['gdp_per_capita ($)'] / 10\n",
    "__df['population'] = __df['population'] / 10000"
   ]
  },
  {
   "cell_type": "code",
   "execution_count": 38,
   "id": "7f309d7e-8855-4172-9993-d5eba1e999fb",
   "metadata": {},
   "outputs": [
    {
     "data": {
      "text/html": [
       "<div>\n",
       "<style scoped>\n",
       "    .dataframe tbody tr th:only-of-type {\n",
       "        vertical-align: middle;\n",
       "    }\n",
       "\n",
       "    .dataframe tbody tr th {\n",
       "        vertical-align: top;\n",
       "    }\n",
       "\n",
       "    .dataframe thead th {\n",
       "        text-align: right;\n",
       "    }\n",
       "</style>\n",
       "<table border=\"1\" class=\"dataframe\">\n",
       "  <thead>\n",
       "    <tr style=\"text-align: right;\">\n",
       "      <th></th>\n",
       "      <th>country</th>\n",
       "      <th>year</th>\n",
       "      <th>sex</th>\n",
       "      <th>age</th>\n",
       "      <th>suicides_no</th>\n",
       "      <th>population</th>\n",
       "      <th>gdp_for_year ($)</th>\n",
       "      <th>gdp_per_capita ($)</th>\n",
       "      <th>generation</th>\n",
       "      <th>suicides/100k pop</th>\n",
       "    </tr>\n",
       "  </thead>\n",
       "  <tbody>\n",
       "    <tr>\n",
       "      <th>0</th>\n",
       "      <td>0</td>\n",
       "      <td>1987</td>\n",
       "      <td>0</td>\n",
       "      <td>0</td>\n",
       "      <td>21</td>\n",
       "      <td>31.29</td>\n",
       "      <td>21.566249</td>\n",
       "      <td>79.6</td>\n",
       "      <td>0</td>\n",
       "      <td>6.71</td>\n",
       "    </tr>\n",
       "    <tr>\n",
       "      <th>1</th>\n",
       "      <td>0</td>\n",
       "      <td>1987</td>\n",
       "      <td>0</td>\n",
       "      <td>1</td>\n",
       "      <td>16</td>\n",
       "      <td>30.80</td>\n",
       "      <td>21.566249</td>\n",
       "      <td>79.6</td>\n",
       "      <td>1</td>\n",
       "      <td>5.19</td>\n",
       "    </tr>\n",
       "  </tbody>\n",
       "</table>\n",
       "</div>"
      ],
      "text/plain": [
       "   country  year  sex  age  suicides_no  population  gdp_for_year ($)  \\\n",
       "0        0  1987    0    0           21       31.29         21.566249   \n",
       "1        0  1987    0    1           16       30.80         21.566249   \n",
       "\n",
       "   gdp_per_capita ($)  generation  suicides/100k pop  \n",
       "0                79.6           0               6.71  \n",
       "1                79.6           1               5.19  "
      ]
     },
     "execution_count": 38,
     "metadata": {},
     "output_type": "execute_result"
    }
   ],
   "source": [
    "__df.head(2)"
   ]
  },
  {
   "cell_type": "code",
   "execution_count": 39,
   "id": "acf649ca-2567-46c2-a527-77bbc683c29e",
   "metadata": {},
   "outputs": [],
   "source": [
    "X = __df.iloc[:,:-1].values\n",
    "y = __df.iloc[:,-1].values"
   ]
  },
  {
   "cell_type": "code",
   "execution_count": 40,
   "id": "5919f7be-df32-45d8-a443-01b88b4b85cd",
   "metadata": {},
   "outputs": [],
   "source": [
    "# train new regression model\n",
    "lr = LinearRegression(learning_rate=0.00001, n_iter=10)\n",
    "\n",
    "lr.fit(X, y)"
   ]
  },
  {
   "cell_type": "code",
   "execution_count": 41,
   "id": "63b501eb-bd80-4e7e-8a6a-8b8228e02adf",
   "metadata": {},
   "outputs": [
    {
     "data": {
      "image/png": "[encoded data removed]",
      "text/plain": [
       "<Figure size 432x288 with 1 Axes>"
      ]
     },
     "metadata": {
      "needs_background": "light"
     },
     "output_type": "display_data"
    }
   ],
   "source": [
    "# plot MAE error per iteration\n",
    "plt.plot(range(len(lr.costs)), lr.costs, color='r')\n",
    "\n",
    "plt.title('MAE Error Per Gradient Descent Iteration: (Linear Regression)', pad=30)\n",
    "plt.xlabel('n_iter', labelpad=15)\n",
    "plt.ylabel('MAE', rotation='horizontal', labelpad=30)\n",
    "\n",
    "plt.show()"
   ]
  },
  {
   "cell_type": "markdown",
   "id": "1164760c-0b53-418a-9a6f-eb910f4fce33",
   "metadata": {},
   "source": [
    "Using the same **learning_rate=0.00001** and **n_iter=10**, we see that gradient descent optimization of the error does not converge. This occurs because the learning rate is too small in addition with too few iterations for this version of the dataset.\n",
    "\n",
    "Per the directions, we did not one-hot-encode the nominal features, but simply converted them to numerical values. Furthermore, I kept the dataset unnormalized, except for reducing 'gdp_per_capita', 'gdp_for_year', and 'population' by several factors of 10 so that the gradient descent algorithm would have a chance of converging with the given learning rate as the other features' values are only on the order of 10-100.\n",
    "\n",
    "With the model as is, predicting on the desired values will yield an extremely high error. This is shown below:"
   ]
  },
  {
   "cell_type": "code",
   "execution_count": 42,
   "id": "decb4ff0-e9f5-4bf5-b211-6a1262f3f9cb",
   "metadata": {},
   "outputs": [],
   "source": [
    "# filter dataset for: 'age'=20, 'male', 'generation X'\n",
    "_df2 = __df[(__df['age']==0) & (__df['sex']==0) & (__df['generation']==0)]\n",
    "\n",
    "X = _df2.iloc[:,:-1]\n",
    "y = _df2.iloc[:,-1]"
   ]
  },
  {
   "cell_type": "code",
   "execution_count": 43,
   "id": "3f948d59-574f-4422-be01-06959abdbacc",
   "metadata": {},
   "outputs": [],
   "source": [
    "# predict on selected data\n",
    "y_pred = lr.predict(X)"
   ]
  },
  {
   "cell_type": "code",
   "execution_count": 44,
   "id": "3207aaf3-2147-44f5-a45c-4bab78cf7c45",
   "metadata": {},
   "outputs": [
    {
     "name": "stdout",
     "output_type": "stream",
     "text": [
      "MAE for 20 years, male, Gen X: 786534992004895195261523986743741704561617844022958483006810261440079052054462464.000\n"
     ]
    }
   ],
   "source": [
    "# calculate MAE\n",
    "error = MAE(y, y_pred)\n",
    "print(f'MAE for 20 years, male, Gen X: {error:.3f}')"
   ]
  },
  {
   "cell_type": "markdown",
   "id": "4fbc1023-757b-4a7d-8e49-970863811c19",
   "metadata": {},
   "source": [
    "As expected, we get an enormous error. By not scaling the dataset across all features, it is hard for converge on coefficients that would minimize the error. In addition, numerically encoding the nominal features vs one-hot-encoding adds error the training in that it gives a false ordinality to the nominal values. However, a potential positive in witholding one-hot-encoding is that the feature space is kept to a minimum."
   ]
  },
  {
   "cell_type": "code",
   "execution_count": 45,
   "id": "2f02a902-44e4-44cc-9e4c-5f5d4a881767",
   "metadata": {},
   "outputs": [],
   "source": [
    "# scale dataset across all features with numerically transformed nominal features\n",
    "scaler = MinMaxScaler()\n",
    "_df2 = pd.DataFrame(scaler.fit_transform(_df2), columns=_df2.columns)"
   ]
  },
  {
   "cell_type": "code",
   "execution_count": 46,
   "id": "e471f1d9-0b01-4584-9f30-2e65191a4434",
   "metadata": {},
   "outputs": [
    {
     "data": {
      "text/html": [
       "<div>\n",
       "<style scoped>\n",
       "    .dataframe tbody tr th:only-of-type {\n",
       "        vertical-align: middle;\n",
       "    }\n",
       "\n",
       "    .dataframe tbody tr th {\n",
       "        vertical-align: top;\n",
       "    }\n",
       "\n",
       "    .dataframe thead th {\n",
       "        text-align: right;\n",
       "    }\n",
       "</style>\n",
       "<table border=\"1\" class=\"dataframe\">\n",
       "  <thead>\n",
       "    <tr style=\"text-align: right;\">\n",
       "      <th></th>\n",
       "      <th>country</th>\n",
       "      <th>year</th>\n",
       "      <th>sex</th>\n",
       "      <th>age</th>\n",
       "      <th>suicides_no</th>\n",
       "      <th>population</th>\n",
       "      <th>gdp_for_year ($)</th>\n",
       "      <th>gdp_per_capita ($)</th>\n",
       "      <th>generation</th>\n",
       "      <th>suicides/100k pop</th>\n",
       "    </tr>\n",
       "  </thead>\n",
       "  <tbody>\n",
       "    <tr>\n",
       "      <th>0</th>\n",
       "      <td>0.0</td>\n",
       "      <td>0.133333</td>\n",
       "      <td>0.0</td>\n",
       "      <td>0.0</td>\n",
       "      <td>0.003192</td>\n",
       "      <td>0.015514</td>\n",
       "      <td>0.000205</td>\n",
       "      <td>0.009689</td>\n",
       "      <td>0.0</td>\n",
       "      <td>0.078397</td>\n",
       "    </tr>\n",
       "    <tr>\n",
       "      <th>1</th>\n",
       "      <td>0.0</td>\n",
       "      <td>0.200000</td>\n",
       "      <td>0.0</td>\n",
       "      <td>0.0</td>\n",
       "      <td>0.002584</td>\n",
       "      <td>0.015828</td>\n",
       "      <td>0.000202</td>\n",
       "      <td>0.009209</td>\n",
       "      <td>0.0</td>\n",
       "      <td>0.062274</td>\n",
       "    </tr>\n",
       "  </tbody>\n",
       "</table>\n",
       "</div>"
      ],
      "text/plain": [
       "   country      year  sex  age  suicides_no  population  gdp_for_year ($)  \\\n",
       "0      0.0  0.133333  0.0  0.0     0.003192    0.015514          0.000205   \n",
       "1      0.0  0.200000  0.0  0.0     0.002584    0.015828          0.000202   \n",
       "\n",
       "   gdp_per_capita ($)  generation  suicides/100k pop  \n",
       "0            0.009689         0.0           0.078397  \n",
       "1            0.009209         0.0           0.062274  "
      ]
     },
     "execution_count": 46,
     "metadata": {},
     "output_type": "execute_result"
    }
   ],
   "source": [
    "# observe new dataset\n",
    "_df2.head(2)"
   ]
  },
  {
   "cell_type": "code",
   "execution_count": 47,
   "id": "07c55d54-6ec6-4cd5-9e42-b16b983a9c50",
   "metadata": {},
   "outputs": [],
   "source": [
    "# train on new data\n",
    "lr = LinearRegression(learning_rate=0.00001, n_iter=10)\n",
    "\n",
    "lr.fit(X, y)"
   ]
  },
  {
   "cell_type": "code",
   "execution_count": 48,
   "id": "a6387e68-3d07-453b-a67e-d04787505406",
   "metadata": {},
   "outputs": [
    {
     "data": {
      "image/png": "[encoded data removed]",
      "text/plain": [
       "<Figure size 432x288 with 1 Axes>"
      ]
     },
     "metadata": {
      "needs_background": "light"
     },
     "output_type": "display_data"
    }
   ],
   "source": [
    "# plot MAE error per iteration\n",
    "plt.plot(range(len(lr.costs)), lr.costs, color='orange')\n",
    "\n",
    "plt.title('MAE Error Per Gradient Descent Iteration: (Linear Regression)', pad=30)\n",
    "plt.xlabel('n_iter', labelpad=15)\n",
    "plt.ylabel('MAE', rotation='horizontal', labelpad=30)\n",
    "\n",
    "plt.show()"
   ]
  },
  {
   "cell_type": "markdown",
   "id": "66c9839d-e92d-4a6f-9864-7cc067a5f7db",
   "metadata": {},
   "source": [
    "Even after scaling all features, with the same **learning_rate** and **n_iter**, the resulting weights fail to cause the error to converge on a minimum. The difference between this training instance and that in Problem #1 is that the nominal features were numerically transformed (obtaining an ordinal nature) vs one-hot-encoding. Thus, it is for this reason that we observe such error."
   ]
  },
  {
   "cell_type": "code",
   "execution_count": 49,
   "id": "394112e9-ac18-4f6d-8900-1c3ed6f0f9da",
   "metadata": {},
   "outputs": [
    {
     "data": {
      "text/plain": [
       "10"
      ]
     },
     "execution_count": 49,
     "metadata": {},
     "output_type": "execute_result"
    }
   ],
   "source": [
    "# coefficients\n",
    "coef = lr.get_weights()\n",
    "len(coef)"
   ]
  },
  {
   "cell_type": "markdown",
   "id": "e75f577d-eb51-42ad-9182-00a2e368aa9f",
   "metadata": {},
   "source": [
    "Including the bias term, there are **10 coefficients**, 9 which each corresponds to a feature in the dataset after one-hot-encoding"
   ]
  },
  {
   "cell_type": "markdown",
   "id": "b0f32feb-74d3-4ade-ba3e-1c2e2ba89abb",
   "metadata": {},
   "source": [
    "# Problem #3"
   ]
  },
  {
   "cell_type": "markdown",
   "id": "f70ba6c1-d7d4-47b2-8fc6-86e00d74d1de",
   "metadata": {},
   "source": [
    "As mentioned in the comments above, the model in problem #2 performed much worse than that in problem #1. Numerically transforming the nominal features rather than one-hot-encode increases the range of values for the affected features in the feature space. With or without scaling all features, the error cannot converge unless an extremely small learning step is implemented along with a high number of iterations.\n",
    "\n",
    "It is important to note that the metric used for gradient descent implementation of linear regression was MAE. If a different metric was used, then perhaps a difference in performance can be observed."
   ]
  },
  {
   "cell_type": "markdown",
   "id": "8b80addd-baba-4745-be6e-35cd34752d0b",
   "metadata": {},
   "source": [
    "# Problem #4"
   ]
  },
  {
   "cell_type": "code",
   "execution_count": 50,
   "id": "b2cbdb41-24ea-49ae-a1a0-50a757146bd0",
   "metadata": {},
   "outputs": [
    {
     "name": "stdout",
     "output_type": "stream",
     "text": [
      "#rows: 27820   #columns: 12\n"
     ]
    }
   ],
   "source": [
    "# read in dataset\n",
    "df = pd.read_csv(\"suicide_rates.csv\")\n",
    "print(f'#rows: {len(df)}   #columns: {len(df.columns)}')"
   ]
  },
  {
   "cell_type": "code",
   "execution_count": 51,
   "id": "5b6bb501-aa17-4be5-b637-24cefe76841f",
   "metadata": {},
   "outputs": [
    {
     "name": "stdout",
     "output_type": "stream",
     "text": [
      "Generations: ['Generation X' 'Silent' 'G.I. Generation' 'Boomers' 'Millenials'\n",
      " 'Generation Z']\n"
     ]
    },
    {
     "data": {
      "text/plain": [
       "False"
      ]
     },
     "execution_count": 51,
     "metadata": {},
     "output_type": "execute_result"
    }
   ],
   "source": [
    "# filter dataset for: 'age'=33, 'male', 'generation Alpha'\n",
    "print(f'Generations: {df.generation.unique()}')\n",
    "\n",
    "df.generation.isin(['Alpha', 'A']).any()"
   ]
  },
  {
   "cell_type": "markdown",
   "id": "7dcfec0c-3f49-4d59-9d1b-bbb07977f12c",
   "metadata": {},
   "source": [
    "For the feature *'generation'*, the value *'Alpha'* does not exist in the original dataset. Since we one-hot-encoded the *'generation'* feature, the model won't recognize the 'Alpha' generation value since it was not part of the encoding process. Thus, predicting on an instance with this feature value is not possible as the computer cannot understand it.\n",
    "\n",
    "We can add the instance to the training data and retrain the model after re-encoding the 'generation' feature. However, we would only have 1 instance among all the other training samples with the 'Alpha' value. This would still allow the model to predict for any instances of 'Alpha' class, but it would not generalize well as there was only 1 instance in the training data."
   ]
  },
  {
   "cell_type": "markdown",
   "id": "338a7f92-b431-401f-82db-388707c7a31d",
   "metadata": {},
   "source": [
    "# Problem #5"
   ]
  },
  {
   "cell_type": "markdown",
   "id": "99b3eff5-c58d-46d1-927c-11cde306b009",
   "metadata": {},
   "source": [
    "Regression does not have a restriction on weather feature values are continuous, binary, or discrete. The values of a feature is easily interpretable in relation to that feature's weight. For example, assuming all M-1 weights are the same, then any values of feature M can be understood to change proprotional to M's weight value."
   ]
  },
  {
   "cell_type": "markdown",
   "id": "d4c996d3-5593-41bd-983a-fc5f29be352c",
   "metadata": {},
   "source": [
    "# Problem #6"
   ]
  },
  {
   "cell_type": "markdown",
   "id": "b2ab2cac-53a1-4dfa-97d0-4f97028bf17e",
   "metadata": {},
   "source": [
    "Numerical values may be better representative of nominal features have have ordinality to them. For example, Kings > Queen > Jacks : 3 > 2 > 1.\n",
    "\n",
    "Furthermore, one-hot-encoding causes an increase in feature space. For a feature with a large number of classes, one-hot-encoding can cause the feature space to grow too large, leading to to the curse of dimensionality. Optimization problems in a large feature space becomes increasingly difficult in such a case."
   ]
  },
  {
   "cell_type": "markdown",
   "id": "d96da057-2ca9-4dcb-9952-6c8aec47e43c",
   "metadata": {},
   "source": [
    "# Problem #7"
   ]
  },
  {
   "cell_type": "markdown",
   "id": "bbd54178-434f-4839-bc3f-7dabaa0f1729",
   "metadata": {},
   "source": [
    "Maintaining that the dependent variable is still the numerical 'suicides/100k pop', I would suggest regression. The values for this feature are not strictly discrete, unlike that of a feature with class labels.\n",
    "\n",
    "The values of 'suicides/100k pop' are continuous, and thus regression would be better suited."
   ]
  },
  {
   "cell_type": "code",
   "execution_count": null,
   "id": "bebd1aa1-7911-477d-811f-5129dbcea0d7",
   "metadata": {},
   "outputs": [],
   "source": []
  }
 ],
 "metadata": {
  "kernelspec": {
   "display_name": "Python 3",
   "language": "python",
   "name": "python3"
  },
  "language_info": {
   "codemirror_mode": {
    "name": "ipython",
    "version": 3
   },
   "file_extension": ".py",
   "mimetype": "text/x-python",
   "name": "python",
   "nbconvert_exporter": "python",
   "pygments_lexer": "ipython3",
   "version": "3.9.5"
  }
 },
 "nbformat": 4,
 "nbformat_minor": 5
}
