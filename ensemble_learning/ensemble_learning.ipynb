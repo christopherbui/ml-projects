{
 "cells": [
  {
   "cell_type": "code",
   "execution_count": 1,
   "id": "38445c0d-9804-43a6-872c-5d3daae5d099",
   "metadata": {},
   "outputs": [],
   "source": [
    "import numpy as np\n",
    "import pandas as pd"
   ]
  },
  {
   "cell_type": "markdown",
   "id": "930ded8b-81b6-4812-b083-bac35a83287c",
   "metadata": {},
   "source": [
    "# Preprocessing"
   ]
  },
  {
   "cell_type": "code",
   "execution_count": 2,
   "id": "9b4b2cdb-ce2e-4b1b-9850-57103928f7f0",
   "metadata": {},
   "outputs": [],
   "source": [
    "# read in csv file\n",
    "df = pd.read_csv(\"assignment5s_mushroom_dataset.csv\")"
   ]
  },
  {
   "cell_type": "code",
   "execution_count": 3,
   "id": "9950db23-ea61-4431-9211-9acf48923890",
   "metadata": {},
   "outputs": [
    {
     "name": "stdout",
     "output_type": "stream",
     "text": [
      "shape:  (8124, 23) \n",
      "\n",
      "columns:  Index(['class', 'cap-shape', 'cap-surface', 'cap-color', 'bruises', 'odor',\n",
      "       'gill-attachment', 'gill-spacing', 'gill-size', 'gill-color',\n",
      "       'stalk-shape', 'stalk-root', 'stalk-surface-above-ring',\n",
      "       'stalk-surface-below-ring', 'stalk-color-above-ring',\n",
      "       'stalk-color-below-ring', 'veil-type', 'veil-color', 'ring-number',\n",
      "       'ring-type', 'spore-print-color', 'population', 'habitat    '],\n",
      "      dtype='object') \n",
      "\n"
     ]
    },
    {
     "data": {
      "text/html": [
       "<div>\n",
       "<style scoped>\n",
       "    .dataframe tbody tr th:only-of-type {\n",
       "        vertical-align: middle;\n",
       "    }\n",
       "\n",
       "    .dataframe tbody tr th {\n",
       "        vertical-align: top;\n",
       "    }\n",
       "\n",
       "    .dataframe thead th {\n",
       "        text-align: right;\n",
       "    }\n",
       "</style>\n",
       "<table border=\"1\" class=\"dataframe\">\n",
       "  <thead>\n",
       "    <tr style=\"text-align: right;\">\n",
       "      <th></th>\n",
       "      <th>class</th>\n",
       "      <th>cap-shape</th>\n",
       "      <th>cap-surface</th>\n",
       "      <th>cap-color</th>\n",
       "      <th>bruises</th>\n",
       "      <th>odor</th>\n",
       "      <th>gill-attachment</th>\n",
       "      <th>gill-spacing</th>\n",
       "      <th>gill-size</th>\n",
       "      <th>gill-color</th>\n",
       "      <th>...</th>\n",
       "      <th>stalk-surface-below-ring</th>\n",
       "      <th>stalk-color-above-ring</th>\n",
       "      <th>stalk-color-below-ring</th>\n",
       "      <th>veil-type</th>\n",
       "      <th>veil-color</th>\n",
       "      <th>ring-number</th>\n",
       "      <th>ring-type</th>\n",
       "      <th>spore-print-color</th>\n",
       "      <th>population</th>\n",
       "      <th>habitat</th>\n",
       "    </tr>\n",
       "  </thead>\n",
       "  <tbody>\n",
       "    <tr>\n",
       "      <th>0</th>\n",
       "      <td>p</td>\n",
       "      <td>x</td>\n",
       "      <td>s</td>\n",
       "      <td>n</td>\n",
       "      <td>t</td>\n",
       "      <td>p</td>\n",
       "      <td>f</td>\n",
       "      <td>c</td>\n",
       "      <td>n</td>\n",
       "      <td>k</td>\n",
       "      <td>...</td>\n",
       "      <td>s</td>\n",
       "      <td>w</td>\n",
       "      <td>w</td>\n",
       "      <td>p</td>\n",
       "      <td>w</td>\n",
       "      <td>o</td>\n",
       "      <td>p</td>\n",
       "      <td>k</td>\n",
       "      <td>s</td>\n",
       "      <td>u</td>\n",
       "    </tr>\n",
       "    <tr>\n",
       "      <th>1</th>\n",
       "      <td>e</td>\n",
       "      <td>x</td>\n",
       "      <td>s</td>\n",
       "      <td>y</td>\n",
       "      <td>t</td>\n",
       "      <td>a</td>\n",
       "      <td>f</td>\n",
       "      <td>c</td>\n",
       "      <td>b</td>\n",
       "      <td>k</td>\n",
       "      <td>...</td>\n",
       "      <td>s</td>\n",
       "      <td>w</td>\n",
       "      <td>w</td>\n",
       "      <td>p</td>\n",
       "      <td>w</td>\n",
       "      <td>o</td>\n",
       "      <td>p</td>\n",
       "      <td>n</td>\n",
       "      <td>n</td>\n",
       "      <td>g</td>\n",
       "    </tr>\n",
       "    <tr>\n",
       "      <th>2</th>\n",
       "      <td>e</td>\n",
       "      <td>b</td>\n",
       "      <td>s</td>\n",
       "      <td>w</td>\n",
       "      <td>t</td>\n",
       "      <td>l</td>\n",
       "      <td>f</td>\n",
       "      <td>c</td>\n",
       "      <td>b</td>\n",
       "      <td>n</td>\n",
       "      <td>...</td>\n",
       "      <td>s</td>\n",
       "      <td>w</td>\n",
       "      <td>w</td>\n",
       "      <td>p</td>\n",
       "      <td>w</td>\n",
       "      <td>o</td>\n",
       "      <td>p</td>\n",
       "      <td>n</td>\n",
       "      <td>n</td>\n",
       "      <td>m</td>\n",
       "    </tr>\n",
       "    <tr>\n",
       "      <th>3</th>\n",
       "      <td>p</td>\n",
       "      <td>x</td>\n",
       "      <td>y</td>\n",
       "      <td>w</td>\n",
       "      <td>t</td>\n",
       "      <td>p</td>\n",
       "      <td>f</td>\n",
       "      <td>c</td>\n",
       "      <td>n</td>\n",
       "      <td>n</td>\n",
       "      <td>...</td>\n",
       "      <td>s</td>\n",
       "      <td>w</td>\n",
       "      <td>w</td>\n",
       "      <td>p</td>\n",
       "      <td>w</td>\n",
       "      <td>o</td>\n",
       "      <td>p</td>\n",
       "      <td>k</td>\n",
       "      <td>s</td>\n",
       "      <td>u</td>\n",
       "    </tr>\n",
       "    <tr>\n",
       "      <th>4</th>\n",
       "      <td>e</td>\n",
       "      <td>x</td>\n",
       "      <td>s</td>\n",
       "      <td>g</td>\n",
       "      <td>f</td>\n",
       "      <td>n</td>\n",
       "      <td>f</td>\n",
       "      <td>w</td>\n",
       "      <td>b</td>\n",
       "      <td>k</td>\n",
       "      <td>...</td>\n",
       "      <td>s</td>\n",
       "      <td>w</td>\n",
       "      <td>w</td>\n",
       "      <td>p</td>\n",
       "      <td>w</td>\n",
       "      <td>o</td>\n",
       "      <td>e</td>\n",
       "      <td>n</td>\n",
       "      <td>a</td>\n",
       "      <td>g</td>\n",
       "    </tr>\n",
       "  </tbody>\n",
       "</table>\n",
       "<p>5 rows × 23 columns</p>\n",
       "</div>"
      ],
      "text/plain": [
       "  class cap-shape cap-surface cap-color bruises odor gill-attachment  \\\n",
       "0     p         x           s         n       t    p               f   \n",
       "1     e         x           s         y       t    a               f   \n",
       "2     e         b           s         w       t    l               f   \n",
       "3     p         x           y         w       t    p               f   \n",
       "4     e         x           s         g       f    n               f   \n",
       "\n",
       "  gill-spacing gill-size gill-color  ... stalk-surface-below-ring  \\\n",
       "0            c         n          k  ...                        s   \n",
       "1            c         b          k  ...                        s   \n",
       "2            c         b          n  ...                        s   \n",
       "3            c         n          n  ...                        s   \n",
       "4            w         b          k  ...                        s   \n",
       "\n",
       "  stalk-color-above-ring stalk-color-below-ring veil-type veil-color  \\\n",
       "0                      w                      w         p          w   \n",
       "1                      w                      w         p          w   \n",
       "2                      w                      w         p          w   \n",
       "3                      w                      w         p          w   \n",
       "4                      w                      w         p          w   \n",
       "\n",
       "  ring-number ring-type spore-print-color population habitat      \n",
       "0           o         p                 k          s           u  \n",
       "1           o         p                 n          n           g  \n",
       "2           o         p                 n          n           m  \n",
       "3           o         p                 k          s           u  \n",
       "4           o         e                 n          a           g  \n",
       "\n",
       "[5 rows x 23 columns]"
      ]
     },
     "metadata": {},
     "output_type": "display_data"
    }
   ],
   "source": [
    "# get info\n",
    "print(\"shape: \", df.shape, '\\n')\n",
    "\n",
    "print(\"columns: \", df.columns, '\\n')\n",
    "\n",
    "display(df.head())"
   ]
  },
  {
   "cell_type": "code",
   "execution_count": 4,
   "id": "3f4f1cf3-fd43-477c-89c6-5cc74b6aecff",
   "metadata": {},
   "outputs": [
    {
     "name": "stdout",
     "output_type": "stream",
     "text": [
      "class                       object\n",
      "cap-shape                   object\n",
      "cap-surface                 object\n",
      "cap-color                   object\n",
      "bruises                     object\n",
      "odor                        object\n",
      "gill-attachment             object\n",
      "gill-spacing                object\n",
      "gill-size                   object\n",
      "gill-color                  object\n",
      "stalk-shape                 object\n",
      "stalk-root                  object\n",
      "stalk-surface-above-ring    object\n",
      "stalk-surface-below-ring    object\n",
      "stalk-color-above-ring      object\n",
      "stalk-color-below-ring      object\n",
      "veil-type                   object\n",
      "veil-color                  object\n",
      "ring-number                 object\n",
      "ring-type                   object\n",
      "spore-print-color           object\n",
      "population                  object\n",
      "habitat                     object\n",
      "dtype: object\n"
     ]
    }
   ],
   "source": [
    "print(df.dtypes)"
   ]
  },
  {
   "cell_type": "code",
   "execution_count": 5,
   "id": "8c275767-139e-48c8-a174-fc47d1662b23",
   "metadata": {},
   "outputs": [
    {
     "data": {
      "text/plain": [
       "class                       0\n",
       "cap-shape                   0\n",
       "cap-surface                 0\n",
       "cap-color                   0\n",
       "bruises                     0\n",
       "odor                        0\n",
       "gill-attachment             0\n",
       "gill-spacing                0\n",
       "gill-size                   0\n",
       "gill-color                  0\n",
       "stalk-shape                 0\n",
       "stalk-root                  0\n",
       "stalk-surface-above-ring    0\n",
       "stalk-surface-below-ring    0\n",
       "stalk-color-above-ring      0\n",
       "stalk-color-below-ring      0\n",
       "veil-type                   0\n",
       "veil-color                  0\n",
       "ring-number                 0\n",
       "ring-type                   0\n",
       "spore-print-color           0\n",
       "population                  0\n",
       "habitat                     0\n",
       "dtype: int64"
      ]
     },
     "execution_count": 5,
     "metadata": {},
     "output_type": "execute_result"
    }
   ],
   "source": [
    "# check for empty cells\n",
    "df.isnull().sum()"
   ]
  },
  {
   "cell_type": "code",
   "execution_count": 6,
   "id": "e54b320f-615b-4d15-af8b-693dcd8a0be6",
   "metadata": {},
   "outputs": [],
   "source": [
    "# one-hot-encode nominal data\n",
    "df = pd.get_dummies(df, drop_first=True)"
   ]
  },
  {
   "cell_type": "code",
   "execution_count": 7,
   "id": "3258984a-8d15-414f-87a3-e7bef2c95047",
   "metadata": {},
   "outputs": [
    {
     "data": {
      "text/html": [
       "<div>\n",
       "<style scoped>\n",
       "    .dataframe tbody tr th:only-of-type {\n",
       "        vertical-align: middle;\n",
       "    }\n",
       "\n",
       "    .dataframe tbody tr th {\n",
       "        vertical-align: top;\n",
       "    }\n",
       "\n",
       "    .dataframe thead th {\n",
       "        text-align: right;\n",
       "    }\n",
       "</style>\n",
       "<table border=\"1\" class=\"dataframe\">\n",
       "  <thead>\n",
       "    <tr style=\"text-align: right;\">\n",
       "      <th></th>\n",
       "      <th>class_p</th>\n",
       "      <th>cap-shape_c</th>\n",
       "      <th>cap-shape_f</th>\n",
       "      <th>cap-shape_k</th>\n",
       "      <th>cap-shape_s</th>\n",
       "      <th>cap-shape_x</th>\n",
       "      <th>cap-surface_g</th>\n",
       "      <th>cap-surface_s</th>\n",
       "      <th>cap-surface_y</th>\n",
       "      <th>cap-color_c</th>\n",
       "      <th>...</th>\n",
       "      <th>population_n</th>\n",
       "      <th>population_s</th>\n",
       "      <th>population_v</th>\n",
       "      <th>population_y</th>\n",
       "      <th>habitat    _g</th>\n",
       "      <th>habitat    _l</th>\n",
       "      <th>habitat    _m</th>\n",
       "      <th>habitat    _p</th>\n",
       "      <th>habitat    _u</th>\n",
       "      <th>habitat    _w</th>\n",
       "    </tr>\n",
       "  </thead>\n",
       "  <tbody>\n",
       "    <tr>\n",
       "      <th>0</th>\n",
       "      <td>1</td>\n",
       "      <td>0</td>\n",
       "      <td>0</td>\n",
       "      <td>0</td>\n",
       "      <td>0</td>\n",
       "      <td>1</td>\n",
       "      <td>0</td>\n",
       "      <td>1</td>\n",
       "      <td>0</td>\n",
       "      <td>0</td>\n",
       "      <td>...</td>\n",
       "      <td>0</td>\n",
       "      <td>1</td>\n",
       "      <td>0</td>\n",
       "      <td>0</td>\n",
       "      <td>0</td>\n",
       "      <td>0</td>\n",
       "      <td>0</td>\n",
       "      <td>0</td>\n",
       "      <td>1</td>\n",
       "      <td>0</td>\n",
       "    </tr>\n",
       "    <tr>\n",
       "      <th>1</th>\n",
       "      <td>0</td>\n",
       "      <td>0</td>\n",
       "      <td>0</td>\n",
       "      <td>0</td>\n",
       "      <td>0</td>\n",
       "      <td>1</td>\n",
       "      <td>0</td>\n",
       "      <td>1</td>\n",
       "      <td>0</td>\n",
       "      <td>0</td>\n",
       "      <td>...</td>\n",
       "      <td>1</td>\n",
       "      <td>0</td>\n",
       "      <td>0</td>\n",
       "      <td>0</td>\n",
       "      <td>1</td>\n",
       "      <td>0</td>\n",
       "      <td>0</td>\n",
       "      <td>0</td>\n",
       "      <td>0</td>\n",
       "      <td>0</td>\n",
       "    </tr>\n",
       "    <tr>\n",
       "      <th>2</th>\n",
       "      <td>0</td>\n",
       "      <td>0</td>\n",
       "      <td>0</td>\n",
       "      <td>0</td>\n",
       "      <td>0</td>\n",
       "      <td>0</td>\n",
       "      <td>0</td>\n",
       "      <td>1</td>\n",
       "      <td>0</td>\n",
       "      <td>0</td>\n",
       "      <td>...</td>\n",
       "      <td>1</td>\n",
       "      <td>0</td>\n",
       "      <td>0</td>\n",
       "      <td>0</td>\n",
       "      <td>0</td>\n",
       "      <td>0</td>\n",
       "      <td>1</td>\n",
       "      <td>0</td>\n",
       "      <td>0</td>\n",
       "      <td>0</td>\n",
       "    </tr>\n",
       "    <tr>\n",
       "      <th>3</th>\n",
       "      <td>1</td>\n",
       "      <td>0</td>\n",
       "      <td>0</td>\n",
       "      <td>0</td>\n",
       "      <td>0</td>\n",
       "      <td>1</td>\n",
       "      <td>0</td>\n",
       "      <td>0</td>\n",
       "      <td>1</td>\n",
       "      <td>0</td>\n",
       "      <td>...</td>\n",
       "      <td>0</td>\n",
       "      <td>1</td>\n",
       "      <td>0</td>\n",
       "      <td>0</td>\n",
       "      <td>0</td>\n",
       "      <td>0</td>\n",
       "      <td>0</td>\n",
       "      <td>0</td>\n",
       "      <td>1</td>\n",
       "      <td>0</td>\n",
       "    </tr>\n",
       "    <tr>\n",
       "      <th>4</th>\n",
       "      <td>0</td>\n",
       "      <td>0</td>\n",
       "      <td>0</td>\n",
       "      <td>0</td>\n",
       "      <td>0</td>\n",
       "      <td>1</td>\n",
       "      <td>0</td>\n",
       "      <td>1</td>\n",
       "      <td>0</td>\n",
       "      <td>0</td>\n",
       "      <td>...</td>\n",
       "      <td>0</td>\n",
       "      <td>0</td>\n",
       "      <td>0</td>\n",
       "      <td>0</td>\n",
       "      <td>1</td>\n",
       "      <td>0</td>\n",
       "      <td>0</td>\n",
       "      <td>0</td>\n",
       "      <td>0</td>\n",
       "      <td>0</td>\n",
       "    </tr>\n",
       "  </tbody>\n",
       "</table>\n",
       "<p>5 rows × 96 columns</p>\n",
       "</div>"
      ],
      "text/plain": [
       "   class_p  cap-shape_c  cap-shape_f  cap-shape_k  cap-shape_s  cap-shape_x  \\\n",
       "0        1            0            0            0            0            1   \n",
       "1        0            0            0            0            0            1   \n",
       "2        0            0            0            0            0            0   \n",
       "3        1            0            0            0            0            1   \n",
       "4        0            0            0            0            0            1   \n",
       "\n",
       "   cap-surface_g  cap-surface_s  cap-surface_y  cap-color_c  ...  \\\n",
       "0              0              1              0            0  ...   \n",
       "1              0              1              0            0  ...   \n",
       "2              0              1              0            0  ...   \n",
       "3              0              0              1            0  ...   \n",
       "4              0              1              0            0  ...   \n",
       "\n",
       "   population_n  population_s  population_v  population_y  habitat    _g  \\\n",
       "0             0             1             0             0              0   \n",
       "1             1             0             0             0              1   \n",
       "2             1             0             0             0              0   \n",
       "3             0             1             0             0              0   \n",
       "4             0             0             0             0              1   \n",
       "\n",
       "   habitat    _l  habitat    _m  habitat    _p  habitat    _u  habitat    _w  \n",
       "0              0              0              0              1              0  \n",
       "1              0              0              0              0              0  \n",
       "2              0              1              0              0              0  \n",
       "3              0              0              0              1              0  \n",
       "4              0              0              0              0              0  \n",
       "\n",
       "[5 rows x 96 columns]"
      ]
     },
     "execution_count": 7,
     "metadata": {},
     "output_type": "execute_result"
    }
   ],
   "source": [
    "df.head()"
   ]
  },
  {
   "cell_type": "code",
   "execution_count": 8,
   "id": "022bf0ca-6e8b-491b-a73c-7f88c3301ae9",
   "metadata": {},
   "outputs": [],
   "source": [
    "# get predictors and independent variable\n",
    "X = df.iloc[:,1:].values\n",
    "y = df.iloc[:,0].values"
   ]
  },
  {
   "cell_type": "markdown",
   "id": "b7c347b2-8c4e-461e-9d15-952dc5fa6756",
   "metadata": {},
   "source": [
    "# Problem #1"
   ]
  },
  {
   "cell_type": "code",
   "execution_count": 9,
   "id": "5b990a1f-e15e-4a24-9ddc-5b3156794d86",
   "metadata": {},
   "outputs": [],
   "source": [
    "from sklearn.model_selection import StratifiedKFold\n",
    "from sklearn.metrics import accuracy_score\n",
    "\n",
    "from sklearn.naive_bayes import GaussianNB\n",
    "from sklearn.svm import SVC\n",
    "from sklearn.neural_network import MLPClassifier\n",
    "from sklearn.tree import DecisionTreeClassifier\n",
    "from sklearn.ensemble import RandomForestClassifier"
   ]
  },
  {
   "cell_type": "code",
   "execution_count": 10,
   "id": "f312f427-ea87-4b19-9a1f-dc0764411d09",
   "metadata": {},
   "outputs": [],
   "source": [
    "# 10-fold cross-validation for classifier\n",
    "def eval_classifier(_clf, _X, _y):\n",
    "    acc = []\n",
    "    kf = StratifiedKFold(n_splits=10, shuffle=False)\n",
    "    for train_index, test_index in kf.split(_X, _y):\n",
    "        _clf.fit(_X[train_index], _y[train_index])\n",
    "        y_pred = _clf.predict(_X[test_index])\n",
    "        acc.append(accuracy_score(_y[test_index], y_pred))\n",
    "    \n",
    "    return np.array(acc)"
   ]
  },
  {
   "cell_type": "code",
   "execution_count": 11,
   "id": "a7e0fcfc-29e1-4d8e-9461-f289f3248b34",
   "metadata": {},
   "outputs": [
    {
     "name": "stdout",
     "output_type": "stream",
     "text": [
      "GaussianNB 10-Fold Accuracy: 0.888 ± 0.082\n"
     ]
    }
   ],
   "source": [
    "# GaussianNB\n",
    "acc = eval_classifier(GaussianNB(), X, y)\n",
    "print(f'GaussianNB 10-Fold Accuracy: {np.mean(acc):.3f} {chr(177)} {np.std(acc):.3f}')"
   ]
  },
  {
   "cell_type": "code",
   "execution_count": 12,
   "id": "5d5369f6-854e-44f8-be4a-61c093e3097a",
   "metadata": {},
   "outputs": [
    {
     "name": "stdout",
     "output_type": "stream",
     "text": [
      "LinearSVC 10-Fold Accuracy: 0.967 ± 0.094\n"
     ]
    }
   ],
   "source": [
    "# LinearSVC\n",
    "acc = eval_classifier(SVC(kernel='linear', probability=True), X, y)\n",
    "print(f'LinearSVC 10-Fold Accuracy: {np.mean(acc):.3f} {chr(177)} {np.std(acc):.3f}')"
   ]
  },
  {
   "cell_type": "code",
   "execution_count": 13,
   "id": "02cffe5f-5a76-4e01-a214-56ac5b4edd99",
   "metadata": {},
   "outputs": [
    {
     "name": "stdout",
     "output_type": "stream",
     "text": [
      "MLPClassifier 10-Fold Accuracy: 0.962 ± 0.094\n"
     ]
    }
   ],
   "source": [
    "# MLPClassifier\n",
    "acc = eval_classifier(MLPClassifier(), X, y)\n",
    "print(f'MLPClassifier 10-Fold Accuracy: {np.mean(acc):.3f} {chr(177)} {np.std(acc):.3f}')"
   ]
  },
  {
   "cell_type": "code",
   "execution_count": 14,
   "id": "194ad2b2-d115-470f-a1ff-7f56d41b774c",
   "metadata": {},
   "outputs": [
    {
     "name": "stdout",
     "output_type": "stream",
     "text": [
      "Decision Tree 10-Fold Accuracy: 0.9685116851168513 ± 0.094\n"
     ]
    }
   ],
   "source": [
    "# Decision Tree Classifier\n",
    "acc = eval_classifier(DecisionTreeClassifier(), X, y)\n",
    "print(f'Decision Tree 10-Fold Accuracy: {np.mean(acc)} {chr(177)} {np.std(acc):.3f}')"
   ]
  },
  {
   "cell_type": "code",
   "execution_count": 15,
   "id": "47b3beeb-455c-4184-8dd0-fbcba6a4309f",
   "metadata": {},
   "outputs": [
    {
     "name": "stdout",
     "output_type": "stream",
     "text": [
      "Random Forest 10-Fold Accuracy: 0.9660486309296591 ± 0.094\n"
     ]
    }
   ],
   "source": [
    "# Random Forest\n",
    "acc = eval_classifier(RandomForestClassifier(), X, y)\n",
    "print(f'Random Forest 10-Fold Accuracy: {np.mean(acc)} {chr(177)} {np.std(acc):.3f}')"
   ]
  },
  {
   "cell_type": "markdown",
   "id": "dcd1cf05-9eb0-48f1-8ba1-da75ddda7235",
   "metadata": {},
   "source": [
    "# Problem #2"
   ]
  },
  {
   "cell_type": "code",
   "execution_count": 16,
   "id": "6b80063f-114e-4d87-b10c-0c1b5e6ad889",
   "metadata": {},
   "outputs": [],
   "source": [
    "# generate 100 ensembles for each classifier\n",
    "def generate_100(_clf1, _clf2, _clf3, _clf4):\n",
    "    GaussianNB = []\n",
    "    LinearSVC = []\n",
    "    MLPClassifier = []\n",
    "    DecisionTree = []\n",
    "    \n",
    "    # generate GaussianNB\n",
    "    for i in range(100):\n",
    "        GaussianNB.append(_clf1)\n",
    "        LinearSVC.append(_clf2)\n",
    "        MLPClassifier.append(_clf3)\n",
    "        DecisionTree.append(_clf4)\n",
    "    \n",
    "    return GaussianNB, LinearSVC, MLPClassifier, DecisionTree"
   ]
  },
  {
   "cell_type": "code",
   "execution_count": 17,
   "id": "068e295c-b49b-4a68-85ef-6bb06e0867f6",
   "metadata": {},
   "outputs": [],
   "source": [
    "# returns ensemble lists of their respective individual classifiers\n",
    "GaussianNB_Ensemble, LinearSVC_Ensemble, MLPClassifier_Ensemble, DecisionTree_Ensemble = generate_100(GaussianNB(),\n",
    "                                                                                                      SVC(kernel='linear', probability=True),\n",
    "                                                                                                      MLPClassifier(hidden_layer_sizes=(3,3), max_iter=30, tol=1*10**-1),\n",
    "                                                                                                      DecisionTreeClassifier(max_depth=5, max_features=5)\n",
    "                                                                                                      )"
   ]
  },
  {
   "cell_type": "markdown",
   "id": "8194ad9c-b3cc-4938-ab19-d3999feef4d7",
   "metadata": {},
   "source": [
    "# Problem #3"
   ]
  },
  {
   "cell_type": "code",
   "execution_count": 18,
   "id": "9d5a9556-5d42-4454-b933-f8657ac475f8",
   "metadata": {},
   "outputs": [],
   "source": [
    "from random import sample\n",
    "from sklearn.model_selection import train_test_split"
   ]
  },
  {
   "cell_type": "code",
   "execution_count": 19,
   "id": "7757beb5-3ba8-428c-8c7c-8e72737f407e",
   "metadata": {},
   "outputs": [],
   "source": [
    "def ensemble_fit(_ensemble, _X, _y, _subset_size):\n",
    "    for i in range(len(_ensemble)):\n",
    "        # get data subset\n",
    "        subset_indices = sample(range(len(_X)), int(len(_X) * _subset_size))\n",
    "        X_subset = _X[subset_indices]\n",
    "        y_subset = _y[subset_indices]\n",
    "        \n",
    "        # train on subset\n",
    "        _ensemble[i] = _ensemble[i].fit(X_subset, y_subset)"
   ]
  },
  {
   "cell_type": "markdown",
   "id": "9fd296e4-f990-47d0-a845-00bfc0c2d82a",
   "metadata": {},
   "source": [
    "# Problem #4"
   ]
  },
  {
   "cell_type": "code",
   "execution_count": 20,
   "id": "971afa18-91fd-48e6-a573-165f8d79e58e",
   "metadata": {},
   "outputs": [],
   "source": [
    "def ensemble_predict(_ensemble, _X, _y):\n",
    "    y_pred_counts = [0,0]\n",
    "    \n",
    "    # predict for each classifier in ensemble\n",
    "    for i in len(_ensemble):\n",
    "        y_pred = np.argmax(_ensemble[i].predict_proba(_X))\n",
    "        \n",
    "        y_pred_counts[y_pred] += 1\n",
    "    \n",
    "    # return argmax of prediction counts\n",
    "    return np.argmax(y_pred_counts)"
   ]
  },
  {
   "cell_type": "markdown",
   "id": "902d79e7-414f-49b2-a37b-ed9c1a1aa38b",
   "metadata": {},
   "source": [
    "# Problem #5"
   ]
  },
  {
   "cell_type": "code",
   "execution_count": 21,
   "id": "23c072bb-3745-4d4b-9bdc-2f79f1c9a6a4",
   "metadata": {},
   "outputs": [],
   "source": [
    "def ensemble_CV(_ensemble, _X, _y, _subset_size):\n",
    "    \n",
    "    acc = []\n",
    "    \n",
    "    # iterate for each classifier in ensemble\n",
    "    for i in range(len(_ensemble)):\n",
    "        # get data subset\n",
    "        subset_indices = sample(range(len(_X)), int(len(_X) * _subset_size))\n",
    "        X_subset = _X[subset_indices]\n",
    "        y_subset = _y[subset_indices]\n",
    "        \n",
    "        clf_acc = []\n",
    "        \n",
    "        # if subsample ratio results in subset length < 10, return 0 accuracy\n",
    "        if len(X_subset) < 10:\n",
    "            return [0]\n",
    "        \n",
    "        # 10-fold CV train on subset\n",
    "        else:\n",
    "            kf = StratifiedKFold(n_splits=10, shuffle=False)\n",
    "            for train_index, test_index in kf.split(X_subset, y_subset):\n",
    "                _ensemble[i].fit(X_subset[train_index], y_subset[train_index])\n",
    "                y_pred = _ensemble[i].predict(X_subset[test_index])\n",
    "                clf_acc.append(accuracy_score(y_subset[test_index], y_pred))\n",
    "        \n",
    "        # get average accuracy of individual classifier\n",
    "        acc.append(np.mean(clf_acc))\n",
    "    \n",
    "    \n",
    "    # return list of classifiers' accuracy\n",
    "    return acc"
   ]
  },
  {
   "cell_type": "markdown",
   "id": "5270ddf1-dd69-48e9-94c5-0112557dd525",
   "metadata": {},
   "source": [
    "## Subsample ratio = 0.1"
   ]
  },
  {
   "cell_type": "code",
   "execution_count": 22,
   "id": "50912daa-c05e-4c9c-81f3-6b33e9d46391",
   "metadata": {},
   "outputs": [
    {
     "name": "stdout",
     "output_type": "stream",
     "text": [
      "GaussianNB Ensemble 10-fold Accuracy: 0.864 ± 0.069\n"
     ]
    }
   ],
   "source": [
    "# GaussianNB Ensemble\n",
    "acc = ensemble_CV(GaussianNB_Ensemble, X, y, 0.1)\n",
    "print(f'GaussianNB Ensemble 10-fold Accuracy: {np.mean(acc):.3f} {chr(177)} {np.std(acc):.3f}')"
   ]
  },
  {
   "cell_type": "code",
   "execution_count": 23,
   "id": "66016ca9-4fda-408a-9569-2e71d0826711",
   "metadata": {},
   "outputs": [
    {
     "name": "stdout",
     "output_type": "stream",
     "text": [
      "LinearSVC Ensemble 10-fold Accuracy: 0.998 ± 0.002\n"
     ]
    }
   ],
   "source": [
    "# LinearSVC Ensemble\n",
    "acc = ensemble_CV(LinearSVC_Ensemble, X, y, 0.1)\n",
    "print(f'LinearSVC Ensemble 10-fold Accuracy: {np.mean(acc):.3f} {chr(177)} {np.std(acc):.3f}')"
   ]
  },
  {
   "cell_type": "code",
   "execution_count": 24,
   "id": "cc11855c-d943-474f-8478-8f6a521e2906",
   "metadata": {},
   "outputs": [
    {
     "name": "stdout",
     "output_type": "stream",
     "text": [
      "MLPClassifier Ensemble 10-fold Accuracy: 0.594 ± 0.039\n"
     ]
    }
   ],
   "source": [
    "# MLPClassifier Ensemble\n",
    "acc = ensemble_CV(MLPClassifier_Ensemble, X, y, 0.1)\n",
    "print(f'MLPClassifier Ensemble 10-fold Accuracy: {np.mean(acc):.3f} {chr(177)} {np.std(acc):.3f}')"
   ]
  },
  {
   "cell_type": "code",
   "execution_count": 25,
   "id": "b3a759ed-f047-459f-a373-50a489d6439a",
   "metadata": {},
   "outputs": [
    {
     "name": "stdout",
     "output_type": "stream",
     "text": [
      "DecisionTree Ensemble 10-fold Accuracy: 0.891 ± 0.021\n"
     ]
    }
   ],
   "source": [
    "# DecisionTree Ensemble\n",
    "acc = ensemble_CV(DecisionTree_Ensemble, X, y, 0.1)\n",
    "print(f'DecisionTree Ensemble 10-fold Accuracy: {np.mean(acc):.3f} {chr(177)} {np.std(acc):.3f}')"
   ]
  },
  {
   "cell_type": "code",
   "execution_count": 26,
   "id": "0be50784-bda8-4dca-a431-5127709b2962",
   "metadata": {},
   "outputs": [
    {
     "name": "stdout",
     "output_type": "stream",
     "text": [
      "Regular DecisionTree 10-fold Accuracy: 0.915 ± 0.042\n"
     ]
    }
   ],
   "source": [
    "# Regular Decision Tree\n",
    "acc = []\n",
    "\n",
    "# get data subset\n",
    "subset_indices = sample(range(len(X)), int(len(X) * 0.1))\n",
    "X_subset = X[subset_indices]\n",
    "y_subset = y[subset_indices]\n",
    "\n",
    "tree = DecisionTreeClassifier(max_depth=5, max_features=5)\n",
    "kf = StratifiedKFold(n_splits=10, shuffle=False)\n",
    "for train_index, test_index in kf.split(X_subset, y_subset):\n",
    "    tree.fit(X_subset[train_index], y_subset[train_index])\n",
    "    y_pred = tree.predict(X_subset[test_index])\n",
    "    acc.append(accuracy_score(y_subset[test_index], y_pred))\n",
    "\n",
    "print(f'Regular DecisionTree 10-fold Accuracy: {np.mean(acc):.3f} {chr(177)} {np.std(acc):.3f}')"
   ]
  },
  {
   "cell_type": "markdown",
   "id": "1812048a-bbc6-4f41-975d-4ebfedb76e12",
   "metadata": {},
   "source": [
    "## Subsample ratio = 0.001"
   ]
  },
  {
   "cell_type": "code",
   "execution_count": 27,
   "id": "9003f9c8-88e3-4a1b-bab7-c048cc00ce23",
   "metadata": {},
   "outputs": [],
   "source": [
    "import warnings\n",
    "warnings.filterwarnings('ignore')"
   ]
  },
  {
   "cell_type": "code",
   "execution_count": 28,
   "id": "b21ebb4c-88bf-458b-9e85-25a22147613a",
   "metadata": {},
   "outputs": [
    {
     "name": "stdout",
     "output_type": "stream",
     "text": [
      "GaussianNB Ensemble 10-fold Accuracy: 0.000 ± 0.000\n"
     ]
    }
   ],
   "source": [
    "# GaussianNB Ensemble\n",
    "acc = ensemble_CV(GaussianNB_Ensemble, X, y, 0.001)\n",
    "print(f'GaussianNB Ensemble 10-fold Accuracy: {np.mean(acc):.3f} {chr(177)} {np.std(acc):.3f}')"
   ]
  },
  {
   "cell_type": "code",
   "execution_count": 29,
   "id": "9e91d4de-be80-48e0-ad2b-3c671a30137b",
   "metadata": {},
   "outputs": [
    {
     "name": "stdout",
     "output_type": "stream",
     "text": [
      "LinearSVC Ensemble 10-fold Accuracy: 0.000 ± 0.000\n"
     ]
    }
   ],
   "source": [
    "# LinearSVC Ensemble\n",
    "acc = ensemble_CV(LinearSVC_Ensemble, X, y, 0.001)\n",
    "print(f'LinearSVC Ensemble 10-fold Accuracy: {np.mean(acc):.3f} {chr(177)} {np.std(acc):.3f}')"
   ]
  },
  {
   "cell_type": "code",
   "execution_count": 30,
   "id": "eba8f100-66ec-4fdf-a903-cbc20f85c195",
   "metadata": {},
   "outputs": [
    {
     "name": "stdout",
     "output_type": "stream",
     "text": [
      "MLPClassifier Ensemble 10-fold Accuracy: 0.000 ± 0.000\n"
     ]
    }
   ],
   "source": [
    "# MLPClassifier Ensemble\n",
    "acc = ensemble_CV(MLPClassifier_Ensemble, X, y, 0.001)\n",
    "print(f'MLPClassifier Ensemble 10-fold Accuracy: {np.mean(acc):.3f} {chr(177)} {np.std(acc):.3f}')"
   ]
  },
  {
   "cell_type": "code",
   "execution_count": 31,
   "id": "f43e1db1-a91f-4635-a983-3d2223dcc6e1",
   "metadata": {},
   "outputs": [
    {
     "name": "stdout",
     "output_type": "stream",
     "text": [
      "DecisionTree Ensemble 10-fold Accuracy: 0.000 ± 0.000\n"
     ]
    }
   ],
   "source": [
    "# DecisionTree Ensemble\n",
    "acc = ensemble_CV(DecisionTree_Ensemble, X, y, 0.001)\n",
    "print(f'DecisionTree Ensemble 10-fold Accuracy: {np.mean(acc):.3f} {chr(177)} {np.std(acc):.3f}')"
   ]
  },
  {
   "cell_type": "code",
   "execution_count": 33,
   "id": "732c1508-d836-417c-b7bb-e73d0310667b",
   "metadata": {},
   "outputs": [
    {
     "name": "stdout",
     "output_type": "stream",
     "text": [
      "Regular DecisionTree 10-fold Accuracy: 0.400 ± 0.374\n"
     ]
    }
   ],
   "source": [
    "# Regular Decision Tree\n",
    "acc = []\n",
    "\n",
    "# get data subset\n",
    "subset_indices = sample(range(len(X)), int(len(X) * 0.001))\n",
    "X_subset = X[subset_indices]\n",
    "y_subset = y[subset_indices]\n",
    "\n",
    "tree = DecisionTreeClassifier(max_depth=5, max_features=5)\n",
    "kf = StratifiedKFold(n_splits=len(X_subset)-3, shuffle=False)\n",
    "for train_index, test_index in kf.split(X_subset, y_subset):\n",
    "    tree.fit(X_subset[train_index], y_subset[train_index])\n",
    "    y_pred = tree.predict(X_subset[test_index])\n",
    "    acc.append(accuracy_score(y_subset[test_index], y_pred))\n",
    "\n",
    "print(f'Regular DecisionTree 10-fold Accuracy: {np.mean(acc):.3f} {chr(177)} {np.std(acc):.3f}')"
   ]
  },
  {
   "cell_type": "markdown",
   "id": "669115f3-9e65-4899-b14b-3d6b2fbdf62a",
   "metadata": {},
   "source": [
    "# Problem #6"
   ]
  },
  {
   "cell_type": "code",
   "execution_count": 34,
   "id": "3c2b5fa8-7d44-40c8-a621-81046d1bb4f7",
   "metadata": {},
   "outputs": [],
   "source": [
    "import matplotlib.pyplot as plt"
   ]
  },
  {
   "cell_type": "code",
   "execution_count": 35,
   "id": "ff1b5156-7dc9-43c9-8821-7f54494d6b4e",
   "metadata": {},
   "outputs": [],
   "source": [
    "Gaussian_Acc = []\n",
    "LinearSVC_Acc = []\n",
    "MLPClassifier_Acc = []\n",
    "DecisionTree_Acc = []\n",
    "\n",
    "ratios = [0.0005, 0.001, 0.005, 0.01, 0.03, 0.05, 0.1]"
   ]
  },
  {
   "cell_type": "code",
   "execution_count": 36,
   "id": "2b14e06d-909f-4592-9fc4-98163867a54f",
   "metadata": {},
   "outputs": [],
   "source": [
    "# GaussianNB Ensemble\n",
    "for ratio in ratios:\n",
    "    acc = ensemble_CV(GaussianNB_Ensemble, X, y, ratio)\n",
    "    Gaussian_Acc.append(np.mean(acc))"
   ]
  },
  {
   "cell_type": "code",
   "execution_count": 37,
   "id": "0f992f2d-cde1-4101-8e56-6d48bfb30ec8",
   "metadata": {},
   "outputs": [],
   "source": [
    "# LinearSVC Ensemble\n",
    "for ratio in ratios:\n",
    "    acc = ensemble_CV(LinearSVC_Ensemble, X, y, ratio)\n",
    "    LinearSVC_Acc.append(np.mean(acc))"
   ]
  },
  {
   "cell_type": "code",
   "execution_count": 38,
   "id": "d88ee7ea-b977-46a9-9201-27fedabb32f1",
   "metadata": {},
   "outputs": [],
   "source": [
    "# MLPClassifier Ensemble\n",
    "for ratio in ratios:\n",
    "    acc = ensemble_CV(MLPClassifier_Ensemble, X, y, ratio)\n",
    "    MLPClassifier_Acc.append(np.mean(acc))"
   ]
  },
  {
   "cell_type": "code",
   "execution_count": 39,
   "id": "3fa308d0-8111-4638-9f4b-52e8211cef34",
   "metadata": {},
   "outputs": [],
   "source": [
    "# Decision Tree Ensemble\n",
    "for ratio in ratios:\n",
    "    acc = ensemble_CV(DecisionTree_Ensemble, X, y, ratio)\n",
    "    DecisionTree_Acc.append(np.mean(acc))"
   ]
  },
  {
   "cell_type": "code",
   "execution_count": 40,
   "id": "d2612029-05dd-471a-ac1c-2cc8f7adf40b",
   "metadata": {},
   "outputs": [
    {
     "data": {
      "image/png": "[encoded data removed]",
      "text/plain": [
       "<Figure size 432x288 with 1 Axes>"
      ]
     },
     "metadata": {
      "needs_background": "light"
     },
     "output_type": "display_data"
    }
   ],
   "source": [
    "plt.plot(ratios, Gaussian_Acc, label='GaussianNB')\n",
    "plt.plot(ratios, LinearSVC_Acc, label='LinearSVC')\n",
    "plt.plot(ratios, MLPClassifier_Acc, label='MLPClassifer')\n",
    "plt.plot(ratios, DecisionTree_Acc, label='DecisionTree')\n",
    "\n",
    "plt.legend()\n",
    "plt.title('Ensemble Accuracy For Various Subsample Ratios')\n",
    "\n",
    "plt.xlabel('Subsample Ratio', labelpad=10)\n",
    "plt.ylabel('Accuracy', rotation='horizontal', labelpad=30)\n",
    "\n",
    "plt.show()"
   ]
  },
  {
   "cell_type": "markdown",
   "id": "6efd5811-f049-425c-9379-0d8af2bf4a2a",
   "metadata": {},
   "source": [
    "Above we observe that the overall trend for all ensembles is that with an increase in subsample ratio, the accuracy increases. This is expected as more samples from the training data in this case will allow the ensemble to learn better.\n",
    "\n",
    "The lowest performing of the bunch as the MLPClassifier neural network.\n",
    "\n",
    "It is notable to point out that for GaussianNB, performance gradually decreased after a peak with the increase of the subsample ratios."
   ]
  },
  {
   "cell_type": "code",
   "execution_count": null,
   "id": "b1cc84fd-32ca-4428-ae2d-1d4c10790cf4",
   "metadata": {},
   "outputs": [],
   "source": []
  },
  {
   "cell_type": "code",
   "execution_count": null,
   "id": "33d12236-b453-4aa3-9f45-3d5c166f540a",
   "metadata": {},
   "outputs": [],
   "source": []
  }
 ],
 "metadata": {
  "kernelspec": {
   "display_name": "Python 3",
   "language": "python",
   "name": "python3"
  },
  "language_info": {
   "codemirror_mode": {
    "name": "ipython",
    "version": 3
   },
   "file_extension": ".py",
   "mimetype": "text/x-python",
   "name": "python",
   "nbconvert_exporter": "python",
   "pygments_lexer": "ipython3",
   "version": "3.9.5"
  }
 },
 "nbformat": 4,
 "nbformat_minor": 5
}
