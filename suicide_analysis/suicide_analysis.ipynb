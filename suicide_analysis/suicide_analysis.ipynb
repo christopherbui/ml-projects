{
 "cells": [
  {
   "cell_type": "code",
   "execution_count": 1,
   "id": "40dec170",
   "metadata": {},
   "outputs": [],
   "source": [
    "import pandas as pd\n",
    "import numpy as np\n",
    "import matplotlib.pyplot as plt"
   ]
  },
  {
   "cell_type": "markdown",
   "id": "fe3b4118",
   "metadata": {},
   "source": [
    "# Read In Dataseet"
   ]
  },
  {
   "cell_type": "code",
   "execution_count": 2,
   "id": "37a68213",
   "metadata": {},
   "outputs": [],
   "source": [
    "df = pd.read_csv('suicide_rates.csv')"
   ]
  },
  {
   "cell_type": "code",
   "execution_count": 3,
   "id": "ec00a2d3",
   "metadata": {},
   "outputs": [
    {
     "data": {
      "text/plain": [
       "(27820, 12)"
      ]
     },
     "execution_count": 3,
     "metadata": {},
     "output_type": "execute_result"
    }
   ],
   "source": [
    "df.shape"
   ]
  },
  {
   "cell_type": "code",
   "execution_count": 4,
   "id": "fe5f8a95",
   "metadata": {},
   "outputs": [
    {
     "data": {
      "text/html": [
       "<div>\n",
       "<style scoped>\n",
       "    .dataframe tbody tr th:only-of-type {\n",
       "        vertical-align: middle;\n",
       "    }\n",
       "\n",
       "    .dataframe tbody tr th {\n",
       "        vertical-align: top;\n",
       "    }\n",
       "\n",
       "    .dataframe thead th {\n",
       "        text-align: right;\n",
       "    }\n",
       "</style>\n",
       "<table border=\"1\" class=\"dataframe\">\n",
       "  <thead>\n",
       "    <tr style=\"text-align: right;\">\n",
       "      <th></th>\n",
       "      <th>country</th>\n",
       "      <th>year</th>\n",
       "      <th>sex</th>\n",
       "      <th>age</th>\n",
       "      <th>suicides_no</th>\n",
       "      <th>population</th>\n",
       "      <th>suicides/100k pop</th>\n",
       "      <th>country-year</th>\n",
       "      <th>HDI for year</th>\n",
       "      <th>gdp_for_year ($)</th>\n",
       "      <th>gdp_per_capita ($)</th>\n",
       "      <th>generation</th>\n",
       "    </tr>\n",
       "  </thead>\n",
       "  <tbody>\n",
       "    <tr>\n",
       "      <th>0</th>\n",
       "      <td>Albania</td>\n",
       "      <td>1987</td>\n",
       "      <td>male</td>\n",
       "      <td>15-24 years</td>\n",
       "      <td>21</td>\n",
       "      <td>312900</td>\n",
       "      <td>6.71</td>\n",
       "      <td>Albania1987</td>\n",
       "      <td>NaN</td>\n",
       "      <td>2,156,624,900</td>\n",
       "      <td>796</td>\n",
       "      <td>Generation X</td>\n",
       "    </tr>\n",
       "    <tr>\n",
       "      <th>1</th>\n",
       "      <td>Albania</td>\n",
       "      <td>1987</td>\n",
       "      <td>male</td>\n",
       "      <td>35-54 years</td>\n",
       "      <td>16</td>\n",
       "      <td>308000</td>\n",
       "      <td>5.19</td>\n",
       "      <td>Albania1987</td>\n",
       "      <td>NaN</td>\n",
       "      <td>2,156,624,900</td>\n",
       "      <td>796</td>\n",
       "      <td>Silent</td>\n",
       "    </tr>\n",
       "    <tr>\n",
       "      <th>2</th>\n",
       "      <td>Albania</td>\n",
       "      <td>1987</td>\n",
       "      <td>female</td>\n",
       "      <td>15-24 years</td>\n",
       "      <td>14</td>\n",
       "      <td>289700</td>\n",
       "      <td>4.83</td>\n",
       "      <td>Albania1987</td>\n",
       "      <td>NaN</td>\n",
       "      <td>2,156,624,900</td>\n",
       "      <td>796</td>\n",
       "      <td>Generation X</td>\n",
       "    </tr>\n",
       "    <tr>\n",
       "      <th>3</th>\n",
       "      <td>Albania</td>\n",
       "      <td>1987</td>\n",
       "      <td>male</td>\n",
       "      <td>75+ years</td>\n",
       "      <td>1</td>\n",
       "      <td>21800</td>\n",
       "      <td>4.59</td>\n",
       "      <td>Albania1987</td>\n",
       "      <td>NaN</td>\n",
       "      <td>2,156,624,900</td>\n",
       "      <td>796</td>\n",
       "      <td>G.I. Generation</td>\n",
       "    </tr>\n",
       "    <tr>\n",
       "      <th>4</th>\n",
       "      <td>Albania</td>\n",
       "      <td>1987</td>\n",
       "      <td>male</td>\n",
       "      <td>25-34 years</td>\n",
       "      <td>9</td>\n",
       "      <td>274300</td>\n",
       "      <td>3.28</td>\n",
       "      <td>Albania1987</td>\n",
       "      <td>NaN</td>\n",
       "      <td>2,156,624,900</td>\n",
       "      <td>796</td>\n",
       "      <td>Boomers</td>\n",
       "    </tr>\n",
       "  </tbody>\n",
       "</table>\n",
       "</div>"
      ],
      "text/plain": [
       "   country  year     sex          age  suicides_no  population  \\\n",
       "0  Albania  1987    male  15-24 years           21      312900   \n",
       "1  Albania  1987    male  35-54 years           16      308000   \n",
       "2  Albania  1987  female  15-24 years           14      289700   \n",
       "3  Albania  1987    male    75+ years            1       21800   \n",
       "4  Albania  1987    male  25-34 years            9      274300   \n",
       "\n",
       "   suicides/100k pop country-year  HDI for year  gdp_for_year ($)   \\\n",
       "0               6.71  Albania1987           NaN      2,156,624,900   \n",
       "1               5.19  Albania1987           NaN      2,156,624,900   \n",
       "2               4.83  Albania1987           NaN      2,156,624,900   \n",
       "3               4.59  Albania1987           NaN      2,156,624,900   \n",
       "4               3.28  Albania1987           NaN      2,156,624,900   \n",
       "\n",
       "   gdp_per_capita ($)       generation  \n",
       "0                 796     Generation X  \n",
       "1                 796           Silent  \n",
       "2                 796     Generation X  \n",
       "3                 796  G.I. Generation  \n",
       "4                 796          Boomers  "
      ]
     },
     "execution_count": 4,
     "metadata": {},
     "output_type": "execute_result"
    }
   ],
   "source": [
    "df.head()"
   ]
  },
  {
   "cell_type": "markdown",
   "id": "7629b30d",
   "metadata": {},
   "source": [
    "# Examine Features"
   ]
  },
  {
   "cell_type": "code",
   "execution_count": 5,
   "id": "1f0ff327",
   "metadata": {},
   "outputs": [
    {
     "data": {
      "text/plain": [
       "country                object\n",
       "year                    int64\n",
       "sex                    object\n",
       "age                    object\n",
       "suicides_no             int64\n",
       "population              int64\n",
       "suicides/100k pop     float64\n",
       "country-year           object\n",
       "HDI for year          float64\n",
       " gdp_for_year ($)      object\n",
       "gdp_per_capita ($)      int64\n",
       "generation             object\n",
       "dtype: object"
      ]
     },
     "execution_count": 5,
     "metadata": {},
     "output_type": "execute_result"
    }
   ],
   "source": [
    "df.dtypes"
   ]
  },
  {
   "cell_type": "code",
   "execution_count": 6,
   "id": "c2c49db7",
   "metadata": {},
   "outputs": [
    {
     "data": {
      "text/plain": [
       "array(['Albania', 'Antigua and Barbuda', 'Argentina', 'Armenia', 'Aruba',\n",
       "       'Australia', 'Austria', 'Azerbaijan', 'Bahamas', 'Bahrain',\n",
       "       'Barbados', 'Belarus', 'Belgium', 'Belize',\n",
       "       'Bosnia and Herzegovina', 'Brazil', 'Bulgaria', 'Cabo Verde',\n",
       "       'Canada', 'Chile', 'Colombia', 'Costa Rica', 'Croatia', 'Cuba',\n",
       "       'Cyprus', 'Czech Republic', 'Denmark', 'Dominica', 'Ecuador',\n",
       "       'El Salvador', 'Estonia', 'Fiji', 'Finland', 'France', 'Georgia',\n",
       "       'Germany', 'Greece', 'Grenada', 'Guatemala', 'Guyana', 'Hungary',\n",
       "       'Iceland', 'Ireland', 'Israel', 'Italy', 'Jamaica', 'Japan',\n",
       "       'Kazakhstan', 'Kiribati', 'Kuwait', 'Kyrgyzstan', 'Latvia',\n",
       "       'Lithuania', 'Luxembourg', 'Macau', 'Maldives', 'Malta',\n",
       "       'Mauritius', 'Mexico', 'Mongolia', 'Montenegro', 'Netherlands',\n",
       "       'New Zealand', 'Nicaragua', 'Norway', 'Oman', 'Panama', 'Paraguay',\n",
       "       'Philippines', 'Poland', 'Portugal', 'Puerto Rico', 'Qatar',\n",
       "       'Republic of Korea', 'Romania', 'Russian Federation',\n",
       "       'Saint Kitts and Nevis', 'Saint Lucia',\n",
       "       'Saint Vincent and Grenadines', 'San Marino', 'Serbia',\n",
       "       'Seychelles', 'Singapore', 'Slovakia', 'Slovenia', 'South Africa',\n",
       "       'Spain', 'Sri Lanka', 'Suriname', 'Sweden', 'Switzerland',\n",
       "       'Thailand', 'Trinidad and Tobago', 'Turkey', 'Turkmenistan',\n",
       "       'Ukraine', 'United Arab Emirates', 'United Kingdom',\n",
       "       'United States', 'Uruguay', 'Uzbekistan'], dtype=object)"
      ]
     },
     "execution_count": 6,
     "metadata": {},
     "output_type": "execute_result"
    }
   ],
   "source": [
    "# Get list of countries\n",
    "df.country.unique()"
   ]
  },
  {
   "cell_type": "code",
   "execution_count": 7,
   "id": "06149b64",
   "metadata": {},
   "outputs": [
    {
     "name": "stdout",
     "output_type": "stream",
     "text": [
      "USA shape:  (372, 12)\n",
      "Albania shape:  (264, 12)\n"
     ]
    }
   ],
   "source": [
    "# Get subset of two countries\n",
    "\n",
    "df_USA = df[df.country=='United States']\n",
    "df_Albania = df[df.country=='Albania']\n",
    "\n",
    "print('USA shape: ', df_USA.shape)\n",
    "print('Albania shape: ', df_Albania.shape)"
   ]
  },
  {
   "cell_type": "code",
   "execution_count": 8,
   "id": "cc051bf9",
   "metadata": {},
   "outputs": [
    {
     "name": "stdout",
     "output_type": "stream",
     "text": [
      "252\n",
      "216\n"
     ]
    }
   ],
   "source": [
    "# Examine 'HDI for year' feature\n",
    "\n",
    "print(df_USA['HDI for year'].isnull().sum())\n",
    "print(df_Albania['HDI for year'].isnull().sum())"
   ]
  },
  {
   "cell_type": "code",
   "execution_count": 9,
   "id": "0a42c1b2",
   "metadata": {},
   "outputs": [],
   "source": [
    "# Drop 'HDI for year' feature since majority of instances are NaN for USA & Albania.\n",
    "df = df.drop('HDI for year', axis=1)"
   ]
  },
  {
   "cell_type": "markdown",
   "id": "8dd81464",
   "metadata": {},
   "source": [
    "We can assume this is the case for other countries as well. We could impute values for this feature, but since the majority is NaN, perhaps dropping the feature will not affect any model learning."
   ]
  },
  {
   "cell_type": "code",
   "execution_count": 10,
   "id": "a12a6e6b",
   "metadata": {},
   "outputs": [
    {
     "data": {
      "image/png": "[encoded data removed]",
      "text/plain": [
       "<Figure size 1440x1440 with 9 Axes>"
      ]
     },
     "metadata": {
      "needs_background": "light"
     },
     "output_type": "display_data"
    }
   ],
   "source": [
    "# histogram of 'suicides/100k pop' for various countries\n",
    "country_list = ['Albania', 'United States', 'Spain', 'Japan', 'Iceland', 'Canada', 'Colombia', 'Germany', 'South Africa']\n",
    "\n",
    "df[df.country.isin(country_list)].hist(column='suicides/100k pop',\n",
    "                                       by='country',\n",
    "                                       figsize=(20,20),\n",
    "                                       legend=True\n",
    "                                      );"
   ]
  },
  {
   "cell_type": "markdown",
   "id": "d81deb63",
   "metadata": {},
   "source": [
    "From the historgrams above, we see that some countries have a disparity in the number of suicides/100k and their frequency. For example, South Africa's highest suicide count is around 4.5 suicides/100k, while Japan's is about 75. This means that more people in Japan are committing suicide than those in South Africa, assuming that these two occur at the same rate.\n",
    "\n",
    "If we look at Iceland vs Japan however, we see that for 0-10 suicides in Iceland (about 210), occurs much more frequently than 0-10 suicides in Japan (90). However, larger numbers of suicide attempts in single years are more prevalent in Japan than in Iceland."
   ]
  },
  {
   "cell_type": "markdown",
   "id": "72fbefda",
   "metadata": {},
   "source": [
    "# Problem #1"
   ]
  },
  {
   "cell_type": "code",
   "execution_count": 11,
   "id": "f5e0c5b9",
   "metadata": {},
   "outputs": [],
   "source": [
    "# get male suicides/100k\n",
    "\n",
    "def get_suicides(df, country, sex):\n",
    "    df = df[df.country == country]\n",
    "    \n",
    "    suicides = []\n",
    "    gdp = []\n",
    "\n",
    "    years = df['year'].unique()\n",
    "    \n",
    "    # get total suicides/100k\n",
    "    for i in years:\n",
    "        total = df.loc[(df['sex'] == sex) & (df['year'] == i), 'suicides/100k pop'].sum()\n",
    "        \n",
    "        suicides.append(total)\n",
    "    \n",
    "    # get gdp per capita\n",
    "    for j in years:\n",
    "        total = df.loc[df['year'] == j, 'gdp_per_capita ($)'].unique()\n",
    "        \n",
    "        gdp.append(total)\n",
    "    \n",
    "    figure, ax = plt.subplots(1,2, figsize=(20,5))\n",
    "\n",
    "    ax[0].plot(years, suicides)\n",
    "    ax[0].set_title(f'{country} - {sex}:    suicides/100k by gender per year')\n",
    "    \n",
    "    ax[1].scatter(gdp, suicides)\n",
    "    ax[1].set_title(f'{country}:    suicides/100k vs gdp')\n",
    "    \n",
    "\n",
    "    plt.show()"
   ]
  },
  {
   "cell_type": "code",
   "execution_count": 12,
   "id": "69bc4888",
   "metadata": {},
   "outputs": [
    {
     "data": {
      "image/png": "[encoded data removed]",
      "text/plain": [
       "<Figure size 1440x360 with 2 Axes>"
      ]
     },
     "metadata": {
      "needs_background": "light"
     },
     "output_type": "display_data"
    }
   ],
   "source": [
    "get_suicides(df, 'United States', 'male')"
   ]
  },
  {
   "cell_type": "code",
   "execution_count": 13,
   "id": "098dbb99",
   "metadata": {},
   "outputs": [
    {
     "data": {
      "image/png": "[encoded data removed]",
      "text/plain": [
       "<Figure size 1440x360 with 2 Axes>"
      ]
     },
     "metadata": {
      "needs_background": "light"
     },
     "output_type": "display_data"
    }
   ],
   "source": [
    "get_suicides(df, 'United States', 'female')"
   ]
  },
  {
   "cell_type": "code",
   "execution_count": 14,
   "id": "34ca546d",
   "metadata": {},
   "outputs": [
    {
     "data": {
      "text/html": [
       "<div>\n",
       "<style scoped>\n",
       "    .dataframe tbody tr th:only-of-type {\n",
       "        vertical-align: middle;\n",
       "    }\n",
       "\n",
       "    .dataframe tbody tr th {\n",
       "        vertical-align: top;\n",
       "    }\n",
       "\n",
       "    .dataframe thead th {\n",
       "        text-align: right;\n",
       "    }\n",
       "</style>\n",
       "<table border=\"1\" class=\"dataframe\">\n",
       "  <thead>\n",
       "    <tr style=\"text-align: right;\">\n",
       "      <th></th>\n",
       "      <th>year</th>\n",
       "      <th>suicides_no</th>\n",
       "      <th>population</th>\n",
       "      <th>suicides/100k pop</th>\n",
       "      <th>HDI for year</th>\n",
       "      <th>gdp_per_capita ($)</th>\n",
       "    </tr>\n",
       "  </thead>\n",
       "  <tbody>\n",
       "    <tr>\n",
       "      <th>year</th>\n",
       "      <td>1.000000</td>\n",
       "      <td>0.106921</td>\n",
       "      <td>0.221208</td>\n",
       "      <td>-0.060746</td>\n",
       "      <td>0.994200</td>\n",
       "      <td>0.996908</td>\n",
       "    </tr>\n",
       "    <tr>\n",
       "      <th>suicides_no</th>\n",
       "      <td>0.106921</td>\n",
       "      <td>1.000000</td>\n",
       "      <td>0.549784</td>\n",
       "      <td>0.602962</td>\n",
       "      <td>0.123849</td>\n",
       "      <td>0.106406</td>\n",
       "    </tr>\n",
       "    <tr>\n",
       "      <th>population</th>\n",
       "      <td>0.221208</td>\n",
       "      <td>0.549784</td>\n",
       "      <td>1.000000</td>\n",
       "      <td>-0.170397</td>\n",
       "      <td>0.232421</td>\n",
       "      <td>0.220970</td>\n",
       "    </tr>\n",
       "    <tr>\n",
       "      <th>suicides/100k pop</th>\n",
       "      <td>-0.060746</td>\n",
       "      <td>0.602962</td>\n",
       "      <td>-0.170397</td>\n",
       "      <td>1.000000</td>\n",
       "      <td>-0.046703</td>\n",
       "      <td>-0.061157</td>\n",
       "    </tr>\n",
       "    <tr>\n",
       "      <th>HDI for year</th>\n",
       "      <td>0.994200</td>\n",
       "      <td>0.123849</td>\n",
       "      <td>0.232421</td>\n",
       "      <td>-0.046703</td>\n",
       "      <td>1.000000</td>\n",
       "      <td>0.990487</td>\n",
       "    </tr>\n",
       "    <tr>\n",
       "      <th>gdp_per_capita ($)</th>\n",
       "      <td>0.996908</td>\n",
       "      <td>0.106406</td>\n",
       "      <td>0.220970</td>\n",
       "      <td>-0.061157</td>\n",
       "      <td>0.990487</td>\n",
       "      <td>1.000000</td>\n",
       "    </tr>\n",
       "  </tbody>\n",
       "</table>\n",
       "</div>"
      ],
      "text/plain": [
       "                        year  suicides_no  population  suicides/100k pop  \\\n",
       "year                1.000000     0.106921    0.221208          -0.060746   \n",
       "suicides_no         0.106921     1.000000    0.549784           0.602962   \n",
       "population          0.221208     0.549784    1.000000          -0.170397   \n",
       "suicides/100k pop  -0.060746     0.602962   -0.170397           1.000000   \n",
       "HDI for year        0.994200     0.123849    0.232421          -0.046703   \n",
       "gdp_per_capita ($)  0.996908     0.106406    0.220970          -0.061157   \n",
       "\n",
       "                    HDI for year  gdp_per_capita ($)  \n",
       "year                    0.994200            0.996908  \n",
       "suicides_no             0.123849            0.106406  \n",
       "population              0.232421            0.220970  \n",
       "suicides/100k pop      -0.046703           -0.061157  \n",
       "HDI for year            1.000000            0.990487  \n",
       "gdp_per_capita ($)      0.990487            1.000000  "
      ]
     },
     "execution_count": 14,
     "metadata": {},
     "output_type": "execute_result"
    }
   ],
   "source": [
    "df_USA.corr()"
   ]
  },
  {
   "cell_type": "markdown",
   "id": "deb0a691",
   "metadata": {},
   "source": [
    "We'll look at the United States subset to get a general idea of the dataset nature pertaining to other countries as well. At first look, we plot the **suicides/100k pop** over time for both males and females of all age groups. We observe that for males, the downward trend of suicides continue till about 2006, whereas it's 2000 for females. After these respective points, the suicide rates increase steadily.\n",
    "\n",
    "Some may assume that there is a inverse correlation between gdp and suicide rate, but shown the in plots above, that is not the case. GDP for a big economy like the US's is usually monotonically increasing. Thus, the plot of suicides vs GDP should be similar to that of suicides vs year (year is monotonically increasing)."
   ]
  },
  {
   "cell_type": "markdown",
   "id": "a3c8003d",
   "metadata": {},
   "source": [
    "Given the available dataset, I think the most important information to learn is **suicides/100k population**. I choose this feature because the exact number of suicides doesn't give us a sense of the proportion of the suicides to population. I think this information can be learned if we have the appropriate features that show a strong correlation with the information.\n",
    "\n",
    "Also, if we could predict the suicides/100k pop for a given cohert, it could give the government and relevant organizations a better idea of where to focus resources for suicide prevention. For example, perhaps males of a certain age group was predicted to have a higher than average suicide rate. Thus, organizations could reach out to this demogrpahic earlier before any member loses their life."
   ]
  },
  {
   "cell_type": "markdown",
   "id": "b1257daa",
   "metadata": {},
   "source": [
    "# Problem #2"
   ]
  },
  {
   "cell_type": "markdown",
   "id": "99ad0131",
   "metadata": {},
   "source": [
    "In predicting an exact value for *suicides/100k pop*, it would be a regression problem. We would need to learn the weights of the selected features used for input of the regression model. Any categorical or nominal features would have to be numerically encoded for the model to understand. Specifically for regression, we could use the perceptron model covered in previous weeks.\n",
    "\n",
    "A classification problem can also be devised. If we set a threshold say anything above 3.75 suicides/100k pop is high suicide risk, then we first can add labels to each instance depending on its suicides/100k pop value (high/low risk). Then, using our selected features, we can perform various classificaiton models with information from a given cohort to determine if they are high/low risk. Since this dataset has a lot of categorical feature values, perhaps a decision tree classifier would work more ideal here. Drawing a decision boundary in with discrete values for these categorical features could be challenging.\n",
    "\n",
    "Regarding unsupervised, we could perform dimensionality reduction to 3D space by linearly grouping various features. Which features to be grouped and reduced to 3D is up to the user. After plotting, we could observe if there are 2 clusters or not (high/low risk)."
   ]
  },
  {
   "cell_type": "markdown",
   "id": "2f85dc1c",
   "metadata": {},
   "source": [
    "# Problem #3"
   ]
  },
  {
   "cell_type": "markdown",
   "id": "34c60a76",
   "metadata": {},
   "source": [
    "The dependent variable is suicides/100k pop. We are trying to predict this (if doing regression), or classifying instances as high/low risk based on a threshold we have set for the suicides/100k pop feature."
   ]
  },
  {
   "cell_type": "markdown",
   "id": "600dced6",
   "metadata": {},
   "source": [
    "# Problem #4"
   ]
  },
  {
   "cell_type": "code",
   "execution_count": 15,
   "id": "03426e6d",
   "metadata": {},
   "outputs": [],
   "source": [
    "import seaborn as sns"
   ]
  },
  {
   "cell_type": "code",
   "execution_count": 16,
   "id": "3d1c5af4",
   "metadata": {},
   "outputs": [],
   "source": [
    "def encode_onehot(_df, f):\n",
    "    _df2 = pd.get_dummies(_df[f], prefix='', prefix_sep='').max(level=0, axis=1).add_prefix(f+' - ')\n",
    "    df3 = pd.concat([_df, _df2], axis=1)\n",
    "    df3 = df3.drop([f], axis=1)\n",
    "    return df3"
   ]
  },
  {
   "cell_type": "code",
   "execution_count": 17,
   "id": "0d27e889",
   "metadata": {},
   "outputs": [],
   "source": [
    "# onehot-encode categorical/nominal features\n",
    "df_o = encode_onehot(df_USA, 'sex')\n",
    "df_USA['sex'] = df_o['sex - male']"
   ]
  },
  {
   "cell_type": "code",
   "execution_count": 18,
   "id": "1ec1b32f",
   "metadata": {},
   "outputs": [],
   "source": [
    "# numerically encode 'age' feature\n",
    "def encode_age(df):\n",
    "    ages = list(df.age.unique())\n",
    "    \n",
    "    for i in range(len(ages)):\n",
    "        df.replace(ages[i], i, inplace=True)"
   ]
  },
  {
   "cell_type": "code",
   "execution_count": 19,
   "id": "d1ddbfb2",
   "metadata": {},
   "outputs": [],
   "source": [
    "# numerically encode 'generation' feature\n",
    "def encode_generation(df):\n",
    "    gens = list(df.generation.unique())\n",
    "    \n",
    "    for i in range(len(gens)):\n",
    "        df.replace(gens[i], i, inplace=True)"
   ]
  },
  {
   "cell_type": "code",
   "execution_count": 20,
   "id": "d6924448",
   "metadata": {},
   "outputs": [],
   "source": [
    "encode_age(df_USA)"
   ]
  },
  {
   "cell_type": "code",
   "execution_count": 21,
   "id": "aa6f7a3f",
   "metadata": {},
   "outputs": [],
   "source": [
    "encode_generation(df_USA)"
   ]
  },
  {
   "cell_type": "code",
   "execution_count": 22,
   "id": "d115d29e",
   "metadata": {},
   "outputs": [
    {
     "data": {
      "text/html": [
       "<div>\n",
       "<style scoped>\n",
       "    .dataframe tbody tr th:only-of-type {\n",
       "        vertical-align: middle;\n",
       "    }\n",
       "\n",
       "    .dataframe tbody tr th {\n",
       "        vertical-align: top;\n",
       "    }\n",
       "\n",
       "    .dataframe thead th {\n",
       "        text-align: right;\n",
       "    }\n",
       "</style>\n",
       "<table border=\"1\" class=\"dataframe\">\n",
       "  <thead>\n",
       "    <tr style=\"text-align: right;\">\n",
       "      <th></th>\n",
       "      <th>country</th>\n",
       "      <th>year</th>\n",
       "      <th>sex</th>\n",
       "      <th>age</th>\n",
       "      <th>suicides_no</th>\n",
       "      <th>population</th>\n",
       "      <th>suicides/100k pop</th>\n",
       "      <th>country-year</th>\n",
       "      <th>HDI for year</th>\n",
       "      <th>gdp_for_year ($)</th>\n",
       "      <th>gdp_per_capita ($)</th>\n",
       "      <th>generation</th>\n",
       "    </tr>\n",
       "  </thead>\n",
       "  <tbody>\n",
       "    <tr>\n",
       "      <th>26848</th>\n",
       "      <td>United States</td>\n",
       "      <td>1985</td>\n",
       "      <td>1</td>\n",
       "      <td>0</td>\n",
       "      <td>2177</td>\n",
       "      <td>4064000</td>\n",
       "      <td>53.57</td>\n",
       "      <td>United States1985</td>\n",
       "      <td>0.8410</td>\n",
       "      <td>4,346,734,000,000</td>\n",
       "      <td>19693</td>\n",
       "      <td>0</td>\n",
       "    </tr>\n",
       "    <tr>\n",
       "      <th>26849</th>\n",
       "      <td>United States</td>\n",
       "      <td>1985</td>\n",
       "      <td>1</td>\n",
       "      <td>1</td>\n",
       "      <td>5302</td>\n",
       "      <td>17971000</td>\n",
       "      <td>29.50</td>\n",
       "      <td>United States1985</td>\n",
       "      <td>0.8410</td>\n",
       "      <td>4,346,734,000,000</td>\n",
       "      <td>19693</td>\n",
       "      <td>0</td>\n",
       "    </tr>\n",
       "    <tr>\n",
       "      <th>26850</th>\n",
       "      <td>United States</td>\n",
       "      <td>1985</td>\n",
       "      <td>1</td>\n",
       "      <td>2</td>\n",
       "      <td>5134</td>\n",
       "      <td>20986000</td>\n",
       "      <td>24.46</td>\n",
       "      <td>United States1985</td>\n",
       "      <td>0.8410</td>\n",
       "      <td>4,346,734,000,000</td>\n",
       "      <td>19693</td>\n",
       "      <td>1</td>\n",
       "    </tr>\n",
       "    <tr>\n",
       "      <th>26851</th>\n",
       "      <td>United States</td>\n",
       "      <td>1985</td>\n",
       "      <td>1</td>\n",
       "      <td>3</td>\n",
       "      <td>6053</td>\n",
       "      <td>26589000</td>\n",
       "      <td>22.77</td>\n",
       "      <td>United States1985</td>\n",
       "      <td>0.8410</td>\n",
       "      <td>4,346,734,000,000</td>\n",
       "      <td>19693</td>\n",
       "      <td>2</td>\n",
       "    </tr>\n",
       "    <tr>\n",
       "      <th>26852</th>\n",
       "      <td>United States</td>\n",
       "      <td>1985</td>\n",
       "      <td>1</td>\n",
       "      <td>4</td>\n",
       "      <td>4267</td>\n",
       "      <td>19962000</td>\n",
       "      <td>21.38</td>\n",
       "      <td>United States1985</td>\n",
       "      <td>0.8410</td>\n",
       "      <td>4,346,734,000,000</td>\n",
       "      <td>19693</td>\n",
       "      <td>3</td>\n",
       "    </tr>\n",
       "    <tr>\n",
       "      <th>...</th>\n",
       "      <td>...</td>\n",
       "      <td>...</td>\n",
       "      <td>...</td>\n",
       "      <td>...</td>\n",
       "      <td>...</td>\n",
       "      <td>...</td>\n",
       "      <td>...</td>\n",
       "      <td>...</td>\n",
       "      <td>...</td>\n",
       "      <td>...</td>\n",
       "      <td>...</td>\n",
       "      <td>...</td>\n",
       "    </tr>\n",
       "    <tr>\n",
       "      <th>27215</th>\n",
       "      <td>United States</td>\n",
       "      <td>2015</td>\n",
       "      <td>0</td>\n",
       "      <td>2</td>\n",
       "      <td>1444</td>\n",
       "      <td>21555712</td>\n",
       "      <td>6.70</td>\n",
       "      <td>United States2015</td>\n",
       "      <td>0.8916</td>\n",
       "      <td>18,120,714,000,000</td>\n",
       "      <td>60387</td>\n",
       "      <td>4</td>\n",
       "    </tr>\n",
       "    <tr>\n",
       "      <th>27216</th>\n",
       "      <td>United States</td>\n",
       "      <td>2015</td>\n",
       "      <td>0</td>\n",
       "      <td>4</td>\n",
       "      <td>1132</td>\n",
       "      <td>21633813</td>\n",
       "      <td>5.23</td>\n",
       "      <td>United States2015</td>\n",
       "      <td>0.8916</td>\n",
       "      <td>18,120,714,000,000</td>\n",
       "      <td>60387</td>\n",
       "      <td>4</td>\n",
       "    </tr>\n",
       "    <tr>\n",
       "      <th>27217</th>\n",
       "      <td>United States</td>\n",
       "      <td>2015</td>\n",
       "      <td>0</td>\n",
       "      <td>0</td>\n",
       "      <td>540</td>\n",
       "      <td>11778666</td>\n",
       "      <td>4.58</td>\n",
       "      <td>United States2015</td>\n",
       "      <td>0.8916</td>\n",
       "      <td>18,120,714,000,000</td>\n",
       "      <td>60387</td>\n",
       "      <td>2</td>\n",
       "    </tr>\n",
       "    <tr>\n",
       "      <th>27218</th>\n",
       "      <td>United States</td>\n",
       "      <td>2015</td>\n",
       "      <td>1</td>\n",
       "      <td>5</td>\n",
       "      <td>255</td>\n",
       "      <td>21273987</td>\n",
       "      <td>1.20</td>\n",
       "      <td>United States2015</td>\n",
       "      <td>0.8916</td>\n",
       "      <td>18,120,714,000,000</td>\n",
       "      <td>60387</td>\n",
       "      <td>5</td>\n",
       "    </tr>\n",
       "    <tr>\n",
       "      <th>27219</th>\n",
       "      <td>United States</td>\n",
       "      <td>2015</td>\n",
       "      <td>0</td>\n",
       "      <td>5</td>\n",
       "      <td>158</td>\n",
       "      <td>20342901</td>\n",
       "      <td>0.78</td>\n",
       "      <td>United States2015</td>\n",
       "      <td>0.8916</td>\n",
       "      <td>18,120,714,000,000</td>\n",
       "      <td>60387</td>\n",
       "      <td>5</td>\n",
       "    </tr>\n",
       "  </tbody>\n",
       "</table>\n",
       "<p>372 rows × 12 columns</p>\n",
       "</div>"
      ],
      "text/plain": [
       "             country  year  sex  age  suicides_no  population  \\\n",
       "26848  United States  1985    1    0         2177     4064000   \n",
       "26849  United States  1985    1    1         5302    17971000   \n",
       "26850  United States  1985    1    2         5134    20986000   \n",
       "26851  United States  1985    1    3         6053    26589000   \n",
       "26852  United States  1985    1    4         4267    19962000   \n",
       "...              ...   ...  ...  ...          ...         ...   \n",
       "27215  United States  2015    0    2         1444    21555712   \n",
       "27216  United States  2015    0    4         1132    21633813   \n",
       "27217  United States  2015    0    0          540    11778666   \n",
       "27218  United States  2015    1    5          255    21273987   \n",
       "27219  United States  2015    0    5          158    20342901   \n",
       "\n",
       "       suicides/100k pop       country-year  HDI for year   gdp_for_year ($)   \\\n",
       "26848              53.57  United States1985        0.8410   4,346,734,000,000   \n",
       "26849              29.50  United States1985        0.8410   4,346,734,000,000   \n",
       "26850              24.46  United States1985        0.8410   4,346,734,000,000   \n",
       "26851              22.77  United States1985        0.8410   4,346,734,000,000   \n",
       "26852              21.38  United States1985        0.8410   4,346,734,000,000   \n",
       "...                  ...                ...           ...                 ...   \n",
       "27215               6.70  United States2015        0.8916  18,120,714,000,000   \n",
       "27216               5.23  United States2015        0.8916  18,120,714,000,000   \n",
       "27217               4.58  United States2015        0.8916  18,120,714,000,000   \n",
       "27218               1.20  United States2015        0.8916  18,120,714,000,000   \n",
       "27219               0.78  United States2015        0.8916  18,120,714,000,000   \n",
       "\n",
       "       gdp_per_capita ($)  generation  \n",
       "26848               19693           0  \n",
       "26849               19693           0  \n",
       "26850               19693           1  \n",
       "26851               19693           2  \n",
       "26852               19693           3  \n",
       "...                   ...         ...  \n",
       "27215               60387           4  \n",
       "27216               60387           4  \n",
       "27217               60387           2  \n",
       "27218               60387           5  \n",
       "27219               60387           5  \n",
       "\n",
       "[372 rows x 12 columns]"
      ]
     },
     "execution_count": 22,
     "metadata": {},
     "output_type": "execute_result"
    }
   ],
   "source": [
    "df_USA.fillna(df_USA['HDI for year'].mean())"
   ]
  },
  {
   "cell_type": "code",
   "execution_count": 23,
   "id": "42de6fd6",
   "metadata": {},
   "outputs": [
    {
     "data": {
      "text/html": [
       "<div>\n",
       "<style scoped>\n",
       "    .dataframe tbody tr th:only-of-type {\n",
       "        vertical-align: middle;\n",
       "    }\n",
       "\n",
       "    .dataframe tbody tr th {\n",
       "        vertical-align: top;\n",
       "    }\n",
       "\n",
       "    .dataframe thead th {\n",
       "        text-align: right;\n",
       "    }\n",
       "</style>\n",
       "<table border=\"1\" class=\"dataframe\">\n",
       "  <thead>\n",
       "    <tr style=\"text-align: right;\">\n",
       "      <th></th>\n",
       "      <th>country</th>\n",
       "      <th>year</th>\n",
       "      <th>sex</th>\n",
       "      <th>age</th>\n",
       "      <th>suicides_no</th>\n",
       "      <th>population</th>\n",
       "      <th>suicides/100k pop</th>\n",
       "      <th>country-year</th>\n",
       "      <th>HDI for year</th>\n",
       "      <th>gdp_for_year ($)</th>\n",
       "      <th>gdp_per_capita ($)</th>\n",
       "      <th>generation</th>\n",
       "    </tr>\n",
       "  </thead>\n",
       "  <tbody>\n",
       "    <tr>\n",
       "      <th>26848</th>\n",
       "      <td>United States</td>\n",
       "      <td>1985</td>\n",
       "      <td>1</td>\n",
       "      <td>0</td>\n",
       "      <td>2177</td>\n",
       "      <td>4064000</td>\n",
       "      <td>53.57</td>\n",
       "      <td>United States1985</td>\n",
       "      <td>0.841</td>\n",
       "      <td>4,346,734,000,000</td>\n",
       "      <td>19693</td>\n",
       "      <td>0</td>\n",
       "    </tr>\n",
       "    <tr>\n",
       "      <th>26849</th>\n",
       "      <td>United States</td>\n",
       "      <td>1985</td>\n",
       "      <td>1</td>\n",
       "      <td>1</td>\n",
       "      <td>5302</td>\n",
       "      <td>17971000</td>\n",
       "      <td>29.50</td>\n",
       "      <td>United States1985</td>\n",
       "      <td>0.841</td>\n",
       "      <td>4,346,734,000,000</td>\n",
       "      <td>19693</td>\n",
       "      <td>0</td>\n",
       "    </tr>\n",
       "    <tr>\n",
       "      <th>26850</th>\n",
       "      <td>United States</td>\n",
       "      <td>1985</td>\n",
       "      <td>1</td>\n",
       "      <td>2</td>\n",
       "      <td>5134</td>\n",
       "      <td>20986000</td>\n",
       "      <td>24.46</td>\n",
       "      <td>United States1985</td>\n",
       "      <td>0.841</td>\n",
       "      <td>4,346,734,000,000</td>\n",
       "      <td>19693</td>\n",
       "      <td>1</td>\n",
       "    </tr>\n",
       "    <tr>\n",
       "      <th>26851</th>\n",
       "      <td>United States</td>\n",
       "      <td>1985</td>\n",
       "      <td>1</td>\n",
       "      <td>3</td>\n",
       "      <td>6053</td>\n",
       "      <td>26589000</td>\n",
       "      <td>22.77</td>\n",
       "      <td>United States1985</td>\n",
       "      <td>0.841</td>\n",
       "      <td>4,346,734,000,000</td>\n",
       "      <td>19693</td>\n",
       "      <td>2</td>\n",
       "    </tr>\n",
       "    <tr>\n",
       "      <th>26852</th>\n",
       "      <td>United States</td>\n",
       "      <td>1985</td>\n",
       "      <td>1</td>\n",
       "      <td>4</td>\n",
       "      <td>4267</td>\n",
       "      <td>19962000</td>\n",
       "      <td>21.38</td>\n",
       "      <td>United States1985</td>\n",
       "      <td>0.841</td>\n",
       "      <td>4,346,734,000,000</td>\n",
       "      <td>19693</td>\n",
       "      <td>3</td>\n",
       "    </tr>\n",
       "  </tbody>\n",
       "</table>\n",
       "</div>"
      ],
      "text/plain": [
       "             country  year  sex  age  suicides_no  population  \\\n",
       "26848  United States  1985    1    0         2177     4064000   \n",
       "26849  United States  1985    1    1         5302    17971000   \n",
       "26850  United States  1985    1    2         5134    20986000   \n",
       "26851  United States  1985    1    3         6053    26589000   \n",
       "26852  United States  1985    1    4         4267    19962000   \n",
       "\n",
       "       suicides/100k pop       country-year  HDI for year  gdp_for_year ($)   \\\n",
       "26848              53.57  United States1985         0.841  4,346,734,000,000   \n",
       "26849              29.50  United States1985         0.841  4,346,734,000,000   \n",
       "26850              24.46  United States1985         0.841  4,346,734,000,000   \n",
       "26851              22.77  United States1985         0.841  4,346,734,000,000   \n",
       "26852              21.38  United States1985         0.841  4,346,734,000,000   \n",
       "\n",
       "       gdp_per_capita ($)  generation  \n",
       "26848               19693           0  \n",
       "26849               19693           0  \n",
       "26850               19693           1  \n",
       "26851               19693           2  \n",
       "26852               19693           3  "
      ]
     },
     "execution_count": 23,
     "metadata": {},
     "output_type": "execute_result"
    }
   ],
   "source": [
    "df_USA.head()"
   ]
  },
  {
   "cell_type": "code",
   "execution_count": 24,
   "id": "dfb0749a",
   "metadata": {},
   "outputs": [],
   "source": [
    "corr_matrix = df_USA.corr()"
   ]
  },
  {
   "cell_type": "code",
   "execution_count": 25,
   "id": "e8971ccc",
   "metadata": {},
   "outputs": [
    {
     "data": {
      "text/plain": [
       "<AxesSubplot:>"
      ]
     },
     "execution_count": 25,
     "metadata": {},
     "output_type": "execute_result"
    },
    {
     "data": {
      "image/png": "[encoded data removed]",
      "text/plain": [
       "<Figure size 720x720 with 2 Axes>"
      ]
     },
     "metadata": {
      "needs_background": "light"
     },
     "output_type": "display_data"
    }
   ],
   "source": [
    "fig, ax = plt.subplots(figsize=(10,10))\n",
    "sns.heatmap(corr_matrix, annot=True)"
   ]
  },
  {
   "cell_type": "markdown",
   "id": "436a2dc5",
   "metadata": {},
   "source": [
    "Looking at the correlation map, we can rank the features from strongest to weakest relevant to the dependent variable suicides/100k pop.\n",
    "\n",
    "1. sex\n",
    "2. suicides_no\n",
    "3. HDI for year\n",
    "4. gdp_per_capita\n",
    "5. year\n",
    "6. population\n",
    "7. generation\n",
    "8. age\n",
    "\n",
    "Note that here we included the year and HDI feature just for practical purposes. As stated earlier, HDI is mostly NaN, so perhaps it is best to ommit this feature as imputing NaN values here based on the few sample values available may throw off the model training. Also, year is a derived feature and does not hold information on what specific features contribute to the dependent variable. Thus, in further preprocessing, year should be omitted as well."
   ]
  },
  {
   "cell_type": "markdown",
   "id": "b103307d",
   "metadata": {},
   "source": [
    "# Problem #5"
   ]
  },
  {
   "cell_type": "markdown",
   "id": "2989549f",
   "metadata": {},
   "source": [
    "As stated, we're working with United States subset to better manage the data. Same process applied here would be applied to subsets of other countries.\n",
    "\n",
    "Some preprocessing has already been done in the previous steps such as encoding the nominal features. Please reference the previous problem for some precoessing related to this problem."
   ]
  },
  {
   "cell_type": "code",
   "execution_count": 26,
   "id": "dbf1bdce",
   "metadata": {},
   "outputs": [
    {
     "data": {
      "text/html": [
       "<div>\n",
       "<style scoped>\n",
       "    .dataframe tbody tr th:only-of-type {\n",
       "        vertical-align: middle;\n",
       "    }\n",
       "\n",
       "    .dataframe tbody tr th {\n",
       "        vertical-align: top;\n",
       "    }\n",
       "\n",
       "    .dataframe thead th {\n",
       "        text-align: right;\n",
       "    }\n",
       "</style>\n",
       "<table border=\"1\" class=\"dataframe\">\n",
       "  <thead>\n",
       "    <tr style=\"text-align: right;\">\n",
       "      <th></th>\n",
       "      <th>country</th>\n",
       "      <th>year</th>\n",
       "      <th>sex</th>\n",
       "      <th>age</th>\n",
       "      <th>suicides_no</th>\n",
       "      <th>population</th>\n",
       "      <th>suicides/100k pop</th>\n",
       "      <th>country-year</th>\n",
       "      <th>HDI for year</th>\n",
       "      <th>gdp_for_year ($)</th>\n",
       "      <th>gdp_per_capita ($)</th>\n",
       "      <th>generation</th>\n",
       "    </tr>\n",
       "  </thead>\n",
       "  <tbody>\n",
       "    <tr>\n",
       "      <th>26848</th>\n",
       "      <td>United States</td>\n",
       "      <td>1985</td>\n",
       "      <td>1</td>\n",
       "      <td>0</td>\n",
       "      <td>2177</td>\n",
       "      <td>4064000</td>\n",
       "      <td>53.57</td>\n",
       "      <td>United States1985</td>\n",
       "      <td>0.841</td>\n",
       "      <td>4,346,734,000,000</td>\n",
       "      <td>19693</td>\n",
       "      <td>0</td>\n",
       "    </tr>\n",
       "  </tbody>\n",
       "</table>\n",
       "</div>"
      ],
      "text/plain": [
       "             country  year  sex  age  suicides_no  population  \\\n",
       "26848  United States  1985    1    0         2177     4064000   \n",
       "\n",
       "       suicides/100k pop       country-year  HDI for year  gdp_for_year ($)   \\\n",
       "26848              53.57  United States1985         0.841  4,346,734,000,000   \n",
       "\n",
       "       gdp_per_capita ($)  generation  \n",
       "26848               19693           0  "
      ]
     },
     "execution_count": 26,
     "metadata": {},
     "output_type": "execute_result"
    }
   ],
   "source": [
    "df_USA.head(1)"
   ]
  },
  {
   "cell_type": "code",
   "execution_count": 27,
   "id": "1182703b",
   "metadata": {},
   "outputs": [],
   "source": [
    "# drop unnecessary features\n",
    "df_USA.drop(['country', 'year', 'country-year'], axis=1, inplace=True)"
   ]
  },
  {
   "cell_type": "code",
   "execution_count": 28,
   "id": "7f7042b2",
   "metadata": {},
   "outputs": [
    {
     "data": {
      "text/plain": [
       "sex                     uint8\n",
       "age                     int64\n",
       "suicides_no             int64\n",
       "population              int64\n",
       "suicides/100k pop     float64\n",
       "HDI for year          float64\n",
       " gdp_for_year ($)      object\n",
       "gdp_per_capita ($)      int64\n",
       "generation              int64\n",
       "dtype: object"
      ]
     },
     "execution_count": 28,
     "metadata": {},
     "output_type": "execute_result"
    }
   ],
   "source": [
    "df_USA.dtypes"
   ]
  },
  {
   "cell_type": "code",
   "execution_count": 29,
   "id": "5972d6ba",
   "metadata": {},
   "outputs": [],
   "source": [
    "# convert gdp_for_year to integer\n",
    "df_USA[' gdp_for_year ($) '] = df_USA[' gdp_for_year ($) '].str.replace(',', '').astype(int)"
   ]
  },
  {
   "cell_type": "code",
   "execution_count": 30,
   "id": "db11757c",
   "metadata": {},
   "outputs": [
    {
     "data": {
      "text/html": [
       "<div>\n",
       "<style scoped>\n",
       "    .dataframe tbody tr th:only-of-type {\n",
       "        vertical-align: middle;\n",
       "    }\n",
       "\n",
       "    .dataframe tbody tr th {\n",
       "        vertical-align: top;\n",
       "    }\n",
       "\n",
       "    .dataframe thead th {\n",
       "        text-align: right;\n",
       "    }\n",
       "</style>\n",
       "<table border=\"1\" class=\"dataframe\">\n",
       "  <thead>\n",
       "    <tr style=\"text-align: right;\">\n",
       "      <th></th>\n",
       "      <th>sex</th>\n",
       "      <th>age</th>\n",
       "      <th>suicides_no</th>\n",
       "      <th>population</th>\n",
       "      <th>suicides/100k pop</th>\n",
       "      <th>HDI for year</th>\n",
       "      <th>gdp_for_year ($)</th>\n",
       "      <th>gdp_per_capita ($)</th>\n",
       "      <th>generation</th>\n",
       "    </tr>\n",
       "  </thead>\n",
       "  <tbody>\n",
       "    <tr>\n",
       "      <th>26848</th>\n",
       "      <td>1</td>\n",
       "      <td>0</td>\n",
       "      <td>2177</td>\n",
       "      <td>4064000</td>\n",
       "      <td>53.57</td>\n",
       "      <td>0.841</td>\n",
       "      <td>4346734000000</td>\n",
       "      <td>19693</td>\n",
       "      <td>0</td>\n",
       "    </tr>\n",
       "    <tr>\n",
       "      <th>26849</th>\n",
       "      <td>1</td>\n",
       "      <td>1</td>\n",
       "      <td>5302</td>\n",
       "      <td>17971000</td>\n",
       "      <td>29.50</td>\n",
       "      <td>0.841</td>\n",
       "      <td>4346734000000</td>\n",
       "      <td>19693</td>\n",
       "      <td>0</td>\n",
       "    </tr>\n",
       "    <tr>\n",
       "      <th>26850</th>\n",
       "      <td>1</td>\n",
       "      <td>2</td>\n",
       "      <td>5134</td>\n",
       "      <td>20986000</td>\n",
       "      <td>24.46</td>\n",
       "      <td>0.841</td>\n",
       "      <td>4346734000000</td>\n",
       "      <td>19693</td>\n",
       "      <td>1</td>\n",
       "    </tr>\n",
       "    <tr>\n",
       "      <th>26851</th>\n",
       "      <td>1</td>\n",
       "      <td>3</td>\n",
       "      <td>6053</td>\n",
       "      <td>26589000</td>\n",
       "      <td>22.77</td>\n",
       "      <td>0.841</td>\n",
       "      <td>4346734000000</td>\n",
       "      <td>19693</td>\n",
       "      <td>2</td>\n",
       "    </tr>\n",
       "    <tr>\n",
       "      <th>26852</th>\n",
       "      <td>1</td>\n",
       "      <td>4</td>\n",
       "      <td>4267</td>\n",
       "      <td>19962000</td>\n",
       "      <td>21.38</td>\n",
       "      <td>0.841</td>\n",
       "      <td>4346734000000</td>\n",
       "      <td>19693</td>\n",
       "      <td>3</td>\n",
       "    </tr>\n",
       "  </tbody>\n",
       "</table>\n",
       "</div>"
      ],
      "text/plain": [
       "       sex  age  suicides_no  population  suicides/100k pop  HDI for year  \\\n",
       "26848    1    0         2177     4064000              53.57         0.841   \n",
       "26849    1    1         5302    17971000              29.50         0.841   \n",
       "26850    1    2         5134    20986000              24.46         0.841   \n",
       "26851    1    3         6053    26589000              22.77         0.841   \n",
       "26852    1    4         4267    19962000              21.38         0.841   \n",
       "\n",
       "        gdp_for_year ($)   gdp_per_capita ($)  generation  \n",
       "26848       4346734000000               19693           0  \n",
       "26849       4346734000000               19693           0  \n",
       "26850       4346734000000               19693           1  \n",
       "26851       4346734000000               19693           2  \n",
       "26852       4346734000000               19693           3  "
      ]
     },
     "execution_count": 30,
     "metadata": {},
     "output_type": "execute_result"
    }
   ],
   "source": [
    "df_USA.head()"
   ]
  },
  {
   "cell_type": "markdown",
   "id": "e6a87db2",
   "metadata": {},
   "source": [
    "# Problem #6"
   ]
  },
  {
   "cell_type": "markdown",
   "id": "2d87d943",
   "metadata": {},
   "source": [
    "A classification model we can use is a decision tree. We can classify a certain cohort as high/low risk for suicide based on a threshold of the dependent variable suicides/100k pop. By varying this threshold, we can get a cohort to either fall into either of the 2 labels."
   ]
  },
  {
   "cell_type": "code",
   "execution_count": null,
   "id": "837a25a2",
   "metadata": {},
   "outputs": [],
   "source": []
  }
 ],
 "metadata": {
  "kernelspec": {
   "display_name": "Python 3",
   "language": "python",
   "name": "python3"
  },
  "language_info": {
   "codemirror_mode": {
    "name": "ipython",
    "version": 3
   },
   "file_extension": ".py",
   "mimetype": "text/x-python",
   "name": "python",
   "nbconvert_exporter": "python",
   "pygments_lexer": "ipython3",
   "version": "3.9.5"
  }
 },
 "nbformat": 4,
 "nbformat_minor": 5
}
