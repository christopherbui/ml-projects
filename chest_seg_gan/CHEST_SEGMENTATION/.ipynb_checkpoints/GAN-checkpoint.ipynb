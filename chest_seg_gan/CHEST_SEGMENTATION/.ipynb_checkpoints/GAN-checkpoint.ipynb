{
 "cells": [
  {
   "cell_type": "code",
   "execution_count": 1,
   "id": "348039a8-2d72-4100-a07c-eba6dd4bf85e",
   "metadata": {},
   "outputs": [],
   "source": [
    "import os\n",
    "import glob\n",
    "import re\n",
    "import pickle\n",
    "import cv2\n",
    "import numpy as np\n",
    "import matplotlib.pyplot as plt\n",
    "\n",
    "from tensorflow.keras.preprocessing import image\n",
    "from tensorflow.keras.models import Model\n",
    "from tensorflow.keras.layers import Input, Conv2D, MaxPooling2D, Conv2DTranspose, Dropout, Dense, Flatten, Reshape, LeakyReLU\n",
    "from tensorflow.keras.optimizers import RMSprop\n",
    "\n",
    "from sklearn.model_selection import train_test_split\n",
    "from sklearn.utils import shuffle"
   ]
  },
  {
   "cell_type": "markdown",
   "id": "465574e7-0662-4ddb-b1ad-ab964c57e163",
   "metadata": {
    "tags": []
   },
   "source": [
    "# Preprocessing"
   ]
  },
  {
   "cell_type": "code",
   "execution_count": 2,
   "id": "85778dc0-ffa8-4f75-9491-c9b007986984",
   "metadata": {},
   "outputs": [],
   "source": [
    "# resizes images to desired dimensions\n",
    "def resize(img, height=256, width=256):\n",
    "    return cv2.resize(img, dsize=(height, width), interpolation=cv2.INTER_CUBIC)"
   ]
  },
  {
   "cell_type": "code",
   "execution_count": 3,
   "id": "5b5ad44c-bbaa-4740-add2-f0dffb87d3c8",
   "metadata": {},
   "outputs": [],
   "source": [
    "def get_image_names(jsrt_path='Downloads'):\n",
    "    # path to raw images\n",
    "    home = os.path.expanduser('~')\n",
    "    image_dir = os.path.join(home, jsrt_path, 'jsrt/images/images')\n",
    "    \n",
    "    # get image names\n",
    "    image_names =  os.listdir(image_dir)\n",
    "    image_names.sort()\n",
    "    \n",
    "    return image_names"
   ]
  },
  {
   "cell_type": "code",
   "execution_count": 57,
   "id": "8077631c-40b7-49ba-87a6-817cf37560ef",
   "metadata": {},
   "outputs": [],
   "source": [
    "def get_images(jsrt_path='Downloads', height=256, width=256, original_size=False):\n",
    "    if original_size:\n",
    "        height = 1024\n",
    "        width = 1024\n",
    "    \n",
    "    home = os.path.expanduser('~')\n",
    "    image_dir = os.path.join(home, jsrt_path, 'jsrt/images/images')\n",
    "    \n",
    "    # load image names\n",
    "    image_names = get_image_names()\n",
    "    \n",
    "    # create numpy array to hold image arrays\n",
    "    images = np.zeros((len(image_names), height, width, 3))\n",
    "    \n",
    "    # load iamges\n",
    "    for i in range(len(image_names)):\n",
    "        img_path = os.path.join(image_dir, image_names[i])\n",
    "        img = cv2.imread(img_path, cv2.IMREAD_UNCHANGED)\n",
    "        \n",
    "        # resize\n",
    "        img = resize(img, height, width)\n",
    "        #img = np.expand_dims(img, axis=2)\n",
    "        \n",
    "        # normalize\n",
    "        img = img / 255\n",
    "        \n",
    "        images[i] = img\n",
    "    \n",
    "    return images.astype('float32')"
   ]
  },
  {
   "cell_type": "code",
   "execution_count": 58,
   "id": "6dcee0b8-ac82-4420-9c96-a28d75e8d4ce",
   "metadata": {},
   "outputs": [],
   "source": [
    "x_train = get_images(height=32, width=32)"
   ]
  },
  {
   "cell_type": "markdown",
   "id": "62972c97-61e3-44f5-9826-3e6f317e583f",
   "metadata": {},
   "source": [
    "# Build Model"
   ]
  },
  {
   "cell_type": "code",
   "execution_count": 50,
   "id": "2781c4c7-376c-4bbb-9ebf-f1a1a9d1b313",
   "metadata": {},
   "outputs": [],
   "source": [
    "# generator\n",
    "def make_generator():\n",
    "    latent_dim = 32\n",
    "    channels = 3\n",
    "    \n",
    "    gen_input = Input(shape=(latent_dim))\n",
    "    \n",
    "    # transform input into 16x16x128 feature map\n",
    "    x = Dense(16*16*128)(gen_input)\n",
    "    x = LeakyReLU()(x)\n",
    "    x = Reshape((16,16,128))(x)\n",
    "    \n",
    "    x = Conv2D(256, 5, padding='same')(x)\n",
    "    x = LeakyReLU()(x)\n",
    "    \n",
    "    x = Conv2DTranspose(256, 4, strides=(2,2), padding='same')(x)\n",
    "    x = LeakyReLU()(x)\n",
    "    \n",
    "    x = Conv2D(256, 5, padding='same')(x)\n",
    "    x = LeakyReLU()(x)\n",
    "    x = Conv2D(256, 5, padding='same')(x)\n",
    "    x = LeakyReLU()(x)\n",
    "    \n",
    "#     x = Conv2DTranspose(256, 4, strides=(2,2), padding='same')(x)\n",
    "#     x = LeakyReLU()(x)\n",
    "    \n",
    "#     x = Conv2D(256, 5, padding='same')(x)\n",
    "#     x = LeakyReLU()(x)\n",
    "#     x = Conv2D(256, 5, padding='same')(x)\n",
    "    \n",
    "#     x = Conv2DTranspose(256, 4, strides=(2,2), padding='same')(x)\n",
    "#     x = LeakyReLU()(x)\n",
    "    \n",
    "#     x = Conv2D(256, 5, padding='same')(x)\n",
    "#     x = LeakyReLU()(x)\n",
    "#     x = Conv2D(256, 5, padding='same')(x)\n",
    "#     x = LeakyReLU()(x)\n",
    "    \n",
    "    x = Conv2D(channels, 7, activation='tanh', padding='same')(x)\n",
    "    generator = Model(gen_input, x)\n",
    "    \n",
    "    return generator"
   ]
  },
  {
   "cell_type": "code",
   "execution_count": 51,
   "id": "1c4f8c0e-a8f6-4e71-ad53-90edd8a0ac37",
   "metadata": {
    "tags": []
   },
   "outputs": [],
   "source": [
    "# discriminator\n",
    "def make_discriminator():\n",
    "    height = 32\n",
    "    width = 32\n",
    "    channels = 3\n",
    "    \n",
    "    dis_input = Input(shape=(height, width, channels))\n",
    "    \n",
    "    x = Conv2D(128, 3)(dis_input)\n",
    "    x = LeakyReLU()(x)\n",
    "    x = Conv2D(128, 4, strides=2)(x)\n",
    "    x = LeakyReLU()(x)\n",
    "    x = Conv2D(128, 4, strides=2)(x)\n",
    "    x = LeakyReLU()(x)\n",
    "    x = Conv2D(128, 4, strides=2)(x)\n",
    "    x = LeakyReLU()(x)\n",
    "    \n",
    "    x = Flatten()(x)\n",
    "    x = Dropout(0.4)(x)\n",
    "    \n",
    "    x = Dense(1, activation='sigmoid')(x)\n",
    "    \n",
    "    discriminator = Model(dis_input, x)\n",
    "    \n",
    "    optimizer = RMSprop(learning_rate=0.0008,\n",
    "                        clipvalue=1.0,\n",
    "                        decay=1e-8)\n",
    "    \n",
    "    discriminator.compile(optimizer=optimizer, loss='binary_crossentropy')\n",
    "    \n",
    "    return discriminator"
   ]
  },
  {
   "cell_type": "code",
   "execution_count": 60,
   "id": "c3ec7729-ee47-40b8-9bfa-98e385f36a03",
   "metadata": {},
   "outputs": [],
   "source": [
    "'''\n",
    "Note: For labels, 0 is real, 1 is fake\n",
    "'''\n",
    "def train_gan():\n",
    "    home = os.path.expanduser('~')\n",
    "    # create directory to save generated images\n",
    "    try:\n",
    "        os.mkdir(os.path.join(home, 'Downloads/generated'))\n",
    "    except:\n",
    "        pass\n",
    "    \n",
    "    latent_dim = 32\n",
    "    \n",
    "    generator = make_generator()\n",
    "    discriminator = make_discriminator()\n",
    "    \n",
    "    discriminator.trainable = False\n",
    "    \n",
    "    # create gan network\n",
    "    gan_input = Input(shape=(latent_dim))\n",
    "    gan_output = discriminator(generator(gan_input))\n",
    "    \n",
    "    gan = Model(gan_input, gan_output)\n",
    "    \n",
    "    # gan_optimizer = RMSprop(learning_rate=0.0004,\n",
    "    #                     clipvalue=1.0,\n",
    "    #                     decay=1e-8)\n",
    "    \n",
    "    gan_optimizer = RMSprop(learning_rate=0.0004,\n",
    "                            clipvalue=1.0,\n",
    "                            epsilon=1e-8)\n",
    "    \n",
    "    gan.compile(optimizer=gan_optimizer, loss='binary_crossentropy')\n",
    "    \n",
    "    # start training gan\n",
    "    iterations = 1200\n",
    "    batch_size = 2\n",
    "    save_dir = os.path.join(home, 'Downloads/generated')\n",
    "    \n",
    "    start = 0\n",
    "    for step in range(iterations):\n",
    "        # sample from latent space\n",
    "        random_latent_vectors = np.random.normal(size=(batch_size, latent_dim))\n",
    "        \n",
    "        # generate images\n",
    "        generated_images = generator.predict(random_latent_vectors)\n",
    "        \n",
    "        stop = start + batch_size\n",
    "        \n",
    "        real_images = x_train[start:stop]\n",
    "        combined_images = np.concatenate([generated_images, real_images])\n",
    "        \n",
    "        labels = np.concatenate([np.ones((batch_size, 1)),\n",
    "                                 np.zeros((batch_size, 1))])\n",
    "        labels += 0.05 * np.random.random(labels.shape)\n",
    "        \n",
    "        # train discriminator\n",
    "        discriminator_loss = discriminator.train_on_batch(combined_images, labels)\n",
    "        \n",
    "        # sample from latent space\n",
    "        random_latent_vectors = np.random.normal(size=(batch_size, latent_dim))\n",
    "        \n",
    "        # create \"all real\" labels for \n",
    "        fake_labels = np.zeros((batch_size, 1))\n",
    "        \n",
    "        # train generator via gan model\n",
    "        gan_loss = gan.train_on_batch(random_latent_vectors, fake_labels)\n",
    "        \n",
    "        start += batch_size\n",
    "        \n",
    "        if start > len(x_train) - batch_size:\n",
    "            start = 0\n",
    "        \n",
    "        if step % 100 == 0:\n",
    "            gan.save_weights('gan.h5')\n",
    "            \n",
    "            print('discriminator loss:', discriminator_loss)\n",
    "            print('gan loss:', gan_loss)\n",
    "            \n",
    "            img = image.array_to_img(generated_images[0] * 255., scale=False)\n",
    "            img.save(os.path.join(save_dir, 'real' + str(step) + '.png'))"
   ]
  },
  {
   "cell_type": "code",
   "execution_count": 61,
   "id": "49aff9e0-688d-4e78-98ce-3998d9521584",
   "metadata": {},
   "outputs": [
    {
     "name": "stdout",
     "output_type": "stream",
     "text": [
      "discriminator loss: 0.6663970947265625\n",
      "gan loss: 0.6287418603897095\n",
      "discriminator loss: 0.00043345242738723755\n",
      "gan loss: 5.038057804107666\n",
      "discriminator loss: 1.024544358253479\n",
      "gan loss: 7.240027904510498\n",
      "discriminator loss: 0.9704947471618652\n",
      "gan loss: 0.9545650482177734\n",
      "discriminator loss: 0.6817859411239624\n",
      "gan loss: 0.555518627166748\n",
      "discriminator loss: 0.3115854859352112\n",
      "gan loss: 2.0226218700408936\n",
      "discriminator loss: 0.25809115171432495\n",
      "gan loss: 4.746907711029053\n",
      "discriminator loss: 0.5044635534286499\n",
      "gan loss: 1.5830862522125244\n",
      "discriminator loss: 0.3373546600341797\n",
      "gan loss: 0.44949954748153687\n",
      "discriminator loss: 0.5777958631515503\n",
      "gan loss: 2.131920337677002\n",
      "discriminator loss: 0.17069999873638153\n",
      "gan loss: 2.6958794593811035\n",
      "discriminator loss: -0.06115635856986046\n",
      "gan loss: 4.319026470184326\n"
     ]
    }
   ],
   "source": [
    "train_gan()"
   ]
  },
  {
   "cell_type": "code",
   "execution_count": 16,
   "id": "893f081f-44c9-44fd-b82d-e268595d3249",
   "metadata": {},
   "outputs": [
    {
     "data": {
      "text/plain": [
       "<matplotlib.image.AxesImage at 0x7fef0507c430>"
      ]
     },
     "execution_count": 16,
     "metadata": {},
     "output_type": "execute_result"
    },
    {
     "data": {
      "image/png": "[encoded data removed]",
      "text/plain": [
       "<Figure size 432x288 with 1 Axes>"
      ]
     },
     "metadata": {
      "needs_background": "light"
     },
     "output_type": "display_data"
    }
   ],
   "source": [
    "img = plt.imread('/home/alphard/Downloads/generated/real600.png')\n",
    "plt.imshow(img)"
   ]
  },
  {
   "cell_type": "code",
   "execution_count": 31,
   "id": "af3cbc98-0792-4ddf-b7b9-53ba3017ae80",
   "metadata": {},
   "outputs": [
    {
     "data": {
      "text/plain": [
       "<matplotlib.image.AxesImage at 0x7f4accc7c6a0>"
      ]
     },
     "execution_count": 31,
     "metadata": {},
     "output_type": "execute_result"
    },
    {
     "data": {
      "image/png": "[encoded data removed]",
      "text/plain": [
       "<Figure size 432x288 with 1 Axes>"
      ]
     },
     "metadata": {
      "needs_background": "light"
     },
     "output_type": "display_data"
    }
   ],
   "source": [
    "img = plt.imread('/home/alphard/Downloads/generated/real500.png')\n",
    "plt.imshow(img)"
   ]
  },
  {
   "cell_type": "code",
   "execution_count": null,
   "id": "17374bc9-436c-44e6-a9ff-01366b77ec6f",
   "metadata": {},
   "outputs": [],
   "source": []
  }
 ],
 "metadata": {
  "kernelspec": {
   "display_name": "Python 3 (ipykernel)",
   "language": "python",
   "name": "python3"
  },
  "language_info": {
   "codemirror_mode": {
    "name": "ipython",
    "version": 3
   },
   "file_extension": ".py",
   "mimetype": "text/x-python",
   "name": "python",
   "nbconvert_exporter": "python",
   "pygments_lexer": "ipython3",
   "version": "3.9.10"
  }
 },
 "nbformat": 4,
 "nbformat_minor": 5
}
